{
 "cells": [
  {
   "cell_type": "markdown",
   "id": "78ca9780",
   "metadata": {},
   "source": [
    "#  Xác định mối quan hệ giữa các thẻ (tags) trong bộ dữ liệu"
   ]
  },
  {
   "cell_type": "markdown",
   "id": "96072451",
   "metadata": {},
   "source": [
    "## Lý do chọn câu hỏi"
   ]
  },
  {
   "cell_type": "markdown",
   "id": "6501e78f",
   "metadata": {},
   "source": [
    "Việc trả lời câu hỏi trên giúp chúng ta hiểu rõ hơn về sự phát triển của trào lưu viết sách qua các thời kỳ thông qua các điểm sau:\n",
    "\n",
    "1. **Phân loại và xếp hạng các chủ đề**:\n",
    "   - Giúp xác định những chủ đề có ảnh hưởng lớn trong văn học và nghiên cứu qua các thời kỳ, từ đó nhận diện được xu hướng phát triển của các chủ đề quan trọng.\n",
    "   - Cung cấp một thước đo định lượng cho các chủ đề hoặc thẻ (tags), từ đó hỗ trợ quá trình phân tích dữ liệu hiệu quả hơn, giúp hiểu được tầm ảnh hưởng của các chủ đề trong một bối cảnh cụ thể.\n",
    "\n",
    "2. **Tìm các cụm chủ đề liên kết**:\n",
    "   - Sử dụng mạng để phát hiện các cụm chủ đề có sự liên kết chặt chẽ với nhau, giúp nhận diện các nhóm chủ đề liên quan và sự tương tác giữa chúng.\n",
    "\n",
    "**Ý nghĩa thực tiễn**: Thông tin thu được từ việc xác định mối quan hệ giữa các chủ đề có thể là nền tảng để xây dựng các công cụ tìm kiếm hoặc hệ thống đề xuất sách, giúp người dùng dễ dàng tiếp cận các tác phẩm có liên quan hoặc phát hiện các chủ đề mới trong nghiên cứu và văn học."
   ]
  },
  {
   "cell_type": "markdown",
   "id": "b612ceea",
   "metadata": {},
   "source": [
    "## Tiền xử lý dữ liệu"
   ]
  },
  {
   "cell_type": "markdown",
   "id": "f0b758f2",
   "metadata": {},
   "source": [
    "### Thêm thư viện Python"
   ]
  },
  {
   "cell_type": "code",
   "execution_count": 110,
   "id": "170e05a1-850e-478f-aa01-a28da5038adc",
   "metadata": {},
   "outputs": [],
   "source": [
    "import pandas as pd\n",
    "import numpy as np\n",
    "\n",
    "import matplotlib.pyplot as plt\n",
    "# import seaborn as sns\n",
    "import plotly.graph_objects as go\n",
    "import networkx as nx\n",
    "\n",
    "import matplotlib.colors as mcolors\n",
    "import matplotlib.cm as cm"
   ]
  },
  {
   "cell_type": "markdown",
   "id": "88bff788",
   "metadata": {},
   "source": [
    "### Đọc bộ dữ liệu từ file"
   ]
  },
  {
   "cell_type": "code",
   "execution_count": 3,
   "id": "b8e2da8a-5f2b-42a1-8279-486c64fee58e",
   "metadata": {},
   "outputs": [
    {
     "data": {
      "text/html": [
       "<div>\n",
       "<style scoped>\n",
       "    .dataframe tbody tr th:only-of-type {\n",
       "        vertical-align: middle;\n",
       "    }\n",
       "\n",
       "    .dataframe tbody tr th {\n",
       "        vertical-align: top;\n",
       "    }\n",
       "\n",
       "    .dataframe thead th {\n",
       "        text-align: right;\n",
       "    }\n",
       "</style>\n",
       "<table border=\"1\" class=\"dataframe\">\n",
       "  <thead>\n",
       "    <tr style=\"text-align: right;\">\n",
       "      <th></th>\n",
       "      <th>title</th>\n",
       "      <th>creator</th>\n",
       "      <th>birthdate</th>\n",
       "      <th>deathdate</th>\n",
       "      <th>issued</th>\n",
       "      <th>rights</th>\n",
       "      <th>subjects</th>\n",
       "      <th>index</th>\n",
       "      <th>reading ease score</th>\n",
       "      <th>reading ease level</th>\n",
       "      <th>download count</th>\n",
       "      <th>description</th>\n",
       "    </tr>\n",
       "  </thead>\n",
       "  <tbody>\n",
       "    <tr>\n",
       "      <th>0</th>\n",
       "      <td>The Master Spirit</td>\n",
       "      <td>Magnay, William, Sir</td>\n",
       "      <td>1855</td>\n",
       "      <td>1917</td>\n",
       "      <td>2022-03-25</td>\n",
       "      <td>Public domain in the USA.</td>\n",
       "      <td>[London (England), Fiction, Love stories, Adve...</td>\n",
       "      <td>67703</td>\n",
       "      <td>71.3</td>\n",
       "      <td>7th grade</td>\n",
       "      <td>57.0</td>\n",
       "      <td>Fairly easy to read.</td>\n",
       "    </tr>\n",
       "    <tr>\n",
       "      <th>1</th>\n",
       "      <td>The Family on Wheels</td>\n",
       "      <td>Oxley, J. Macdonald (James Macdonald)</td>\n",
       "      <td>1855</td>\n",
       "      <td>1907</td>\n",
       "      <td>2017-11-05</td>\n",
       "      <td>Public domain in the USA.</td>\n",
       "      <td>[Orphans, Juvenile fiction, Siblings, Juvenile...</td>\n",
       "      <td>55891</td>\n",
       "      <td>77.9</td>\n",
       "      <td>7th grade</td>\n",
       "      <td>43.0</td>\n",
       "      <td>Fairly easy to read.</td>\n",
       "    </tr>\n",
       "    <tr>\n",
       "      <th>2</th>\n",
       "      <td>Three Good Giants\\nWhose Ancient Deeds are rec...</td>\n",
       "      <td>Rabelais, François</td>\n",
       "      <td>1835</td>\n",
       "      <td>1901</td>\n",
       "      <td>2019-04-09</td>\n",
       "      <td>Public domain in the USA.</td>\n",
       "      <td>[Fantasy fiction, Conduct of life, Juvenile fi...</td>\n",
       "      <td>59235</td>\n",
       "      <td>76.2</td>\n",
       "      <td>7th grade</td>\n",
       "      <td>105.0</td>\n",
       "      <td>Fairly easy to read.</td>\n",
       "    </tr>\n",
       "    <tr>\n",
       "      <th>3</th>\n",
       "      <td>Drake's Road Book of the Grand Junction Railwa...</td>\n",
       "      <td>Drake, James, active 1825</td>\n",
       "      <td>&lt;NA&gt;</td>\n",
       "      <td>&lt;NA&gt;</td>\n",
       "      <td>2013-07-31</td>\n",
       "      <td>Public domain in the USA.</td>\n",
       "      <td>[Grand Junction Railway Company (Great Britain...</td>\n",
       "      <td>43367</td>\n",
       "      <td>65.5</td>\n",
       "      <td>8th &amp; 9th grade</td>\n",
       "      <td>127.0</td>\n",
       "      <td>Neither easy nor difficult to read.</td>\n",
       "    </tr>\n",
       "    <tr>\n",
       "      <th>4</th>\n",
       "      <td>Facts and Speculations on the Origin and Histo...</td>\n",
       "      <td>Chatto, William Andrew</td>\n",
       "      <td>1799</td>\n",
       "      <td>1864</td>\n",
       "      <td>2014-05-04</td>\n",
       "      <td>Public domain in the USA.</td>\n",
       "      <td>[Playing cards, History, GV]</td>\n",
       "      <td>45584</td>\n",
       "      <td>62.7</td>\n",
       "      <td>8th &amp; 9th grade</td>\n",
       "      <td>158.0</td>\n",
       "      <td>Neither easy nor difficult to read.</td>\n",
       "    </tr>\n",
       "  </tbody>\n",
       "</table>\n",
       "</div>"
      ],
      "text/plain": [
       "                                               title  \\\n",
       "0                                  The Master Spirit   \n",
       "1                               The Family on Wheels   \n",
       "2  Three Good Giants\\nWhose Ancient Deeds are rec...   \n",
       "3  Drake's Road Book of the Grand Junction Railwa...   \n",
       "4  Facts and Speculations on the Origin and Histo...   \n",
       "\n",
       "                                 creator  birthdate  deathdate     issued  \\\n",
       "0                   Magnay, William, Sir       1855       1917 2022-03-25   \n",
       "1  Oxley, J. Macdonald (James Macdonald)       1855       1907 2017-11-05   \n",
       "2                     Rabelais, François       1835       1901 2019-04-09   \n",
       "3              Drake, James, active 1825       <NA>       <NA> 2013-07-31   \n",
       "4                 Chatto, William Andrew       1799       1864 2014-05-04   \n",
       "\n",
       "                      rights  \\\n",
       "0  Public domain in the USA.   \n",
       "1  Public domain in the USA.   \n",
       "2  Public domain in the USA.   \n",
       "3  Public domain in the USA.   \n",
       "4  Public domain in the USA.   \n",
       "\n",
       "                                            subjects  index  \\\n",
       "0  [London (England), Fiction, Love stories, Adve...  67703   \n",
       "1  [Orphans, Juvenile fiction, Siblings, Juvenile...  55891   \n",
       "2  [Fantasy fiction, Conduct of life, Juvenile fi...  59235   \n",
       "3  [Grand Junction Railway Company (Great Britain...  43367   \n",
       "4                       [Playing cards, History, GV]  45584   \n",
       "\n",
       "   reading ease score reading ease level  download count  \\\n",
       "0                71.3          7th grade            57.0   \n",
       "1                77.9          7th grade            43.0   \n",
       "2                76.2          7th grade           105.0   \n",
       "3                65.5    8th & 9th grade           127.0   \n",
       "4                62.7    8th & 9th grade           158.0   \n",
       "\n",
       "                            description  \n",
       "0                  Fairly easy to read.  \n",
       "1                  Fairly easy to read.  \n",
       "2                  Fairly easy to read.  \n",
       "3   Neither easy nor difficult to read.  \n",
       "4   Neither easy nor difficult to read.  "
      ]
     },
     "metadata": {},
     "output_type": "display_data"
    },
    {
     "name": "stdout",
     "output_type": "stream",
     "text": [
      "<class 'pandas.core.frame.DataFrame'>\n",
      "Int64Index: 9945 entries, 0 to 9944\n",
      "Data columns (total 12 columns):\n",
      " #   Column              Non-Null Count  Dtype         \n",
      "---  ------              --------------  -----         \n",
      " 0   title               9945 non-null   object        \n",
      " 1   creator             9929 non-null   object        \n",
      " 2   birthdate           8266 non-null   Int64         \n",
      " 3   deathdate           8117 non-null   Int64         \n",
      " 4   issued              9945 non-null   datetime64[ns]\n",
      " 5   rights              9945 non-null   object        \n",
      " 6   subjects            9945 non-null   object        \n",
      " 7   index               9945 non-null   object        \n",
      " 8   reading ease score  9945 non-null   float64       \n",
      " 9   reading ease level  9945 non-null   object        \n",
      " 10  download count      9945 non-null   float64       \n",
      " 11  description         9521 non-null   object        \n",
      "dtypes: Int64(2), datetime64[ns](1), float64(2), object(7)\n",
      "memory usage: 1.0+ MB\n",
      "None\n"
     ]
    }
   ],
   "source": [
    "df = pd.read_parquet(\"metadata_completed_v2.parquet\")\n",
    "\n",
    "display(df.head())\n",
    "print(df.info())"
   ]
  },
  {
   "cell_type": "markdown",
   "id": "291c336b",
   "metadata": {},
   "source": [
    "### Cho biết thông tin về các chủ đề có trong bộ dữ liệu"
   ]
  },
  {
   "cell_type": "markdown",
   "id": "89d7f1c3",
   "metadata": {},
   "source": [
    "#### Số lượng thẻ trong bộ dữ liệu"
   ]
  },
  {
   "cell_type": "code",
   "execution_count": null,
   "id": "8cfa8e2d-8a1a-45b5-9ec2-35f9e7a295d7",
   "metadata": {},
   "outputs": [
    {
     "name": "stdout",
     "output_type": "stream",
     "text": [
      "\n",
      "THỐNG KÊ TAG:\n",
      "      Số lượng tag khác nhau có trong bộ dữ liệu: 6975\n",
      "      Số lượng tag tổng cộng trong bộ dữ liệu: 54910\n",
      "\n"
     ]
    }
   ],
   "source": [
    "all_subjects, all_subjects_counts = np.unique(df['subjects'].explode(), return_counts=True)\n",
    "\n",
    "print(f\"\"\"\n",
    "THỐNG KÊ TAG:\n",
    "      Số lượng tag khác nhau có trong bộ dữ liệu: {all_subjects.shape[0]}\n",
    "      Số lượng tag tổng cộng trong bộ dữ liệu: {all_subjects_counts.sum()}\n",
    "\"\"\")"
   ]
  },
  {
   "cell_type": "markdown",
   "id": "676d6ff4",
   "metadata": {},
   "source": [
    "#### Thống kê thẻ theo số lượng sách có thẻ đó"
   ]
  },
  {
   "cell_type": "code",
   "execution_count": 112,
   "id": "f84cf991",
   "metadata": {},
   "outputs": [
    {
     "data": {
      "image/png": "[encoded data removed]",
      "text/plain": [
       "<Figure size 1200x600 with 1 Axes>"
      ]
     },
     "metadata": {},
     "output_type": "display_data"
    }
   ],
   "source": [
    "ranges = [\n",
    "    (1, 2), (2, 5), (5, 10), (10, 20), (20, 50), (50, 100), (100, 200), (200, 500),\n",
    "    (500, 1000), (1000, 2000), (2000, 5000), (5000, 10000)\n",
    "]\n",
    "\n",
    "count_counts = [\n",
    "    np.sum((all_subjects_counts >= a) & (all_subjects_counts < b))\n",
    "    for a, b in ranges\n",
    "]\n",
    "\n",
    "# Prepare range labels\n",
    "range_labels = [f\"{a}-{b}\" for a, b in ranges]\n",
    "\n",
    "plt.figure(figsize=(12, 6))\n",
    "bars = plt.bar(range_labels, count_counts, color='skyblue', edgecolor='black')\n",
    "\n",
    "for bar, count in zip(bars, count_counts):\n",
    "    plt.text(\n",
    "        bar.get_x() + bar.get_width() / 2,\n",
    "        bar.get_height(),\n",
    "        str(count),\n",
    "        ha='center', va='bottom', fontsize=10\n",
    "    )\n",
    "\n",
    "plt.xlabel('Số sách có thẻ', fontsize=12)\n",
    "plt.ylabel('Số thẻ', fontsize=12)\n",
    "plt.title('Thống kê thẻ theo số lượng sách có thẻ đó', fontsize=14)\n",
    "plt.xticks(rotation=45, ha='right')\n",
    "plt.tight_layout()\n",
    "plt.show()\n"
   ]
  },
  {
   "cell_type": "markdown",
   "id": "430804a0",
   "metadata": {},
   "source": [
    "Ta thấy:\n",
    "- Số lượng thẻ gắn với ít sách (1-2 sách) chiếm đa số, với 4032 thẻ, tức là phần lớn thẻ chỉ liên quan đến một hoặc hai cuốn sách.\n",
    "- Chỉ một số rất ít thẻ được liên kết với nhiều sách (ví dụ: 200-500 sách hoặc nhiều hơn). Các thẻ liên kết với trên 1000 sách trở lên là cực kỳ hiếm, chỉ có 1-2 trường hợp trong tập dữ liệu."
   ]
  },
  {
   "cell_type": "markdown",
   "id": "f89bff67",
   "metadata": {},
   "source": [
    "## Phân tích dữ liệu"
   ]
  },
  {
   "cell_type": "markdown",
   "id": "a52931cf",
   "metadata": {},
   "source": [
    "Do giới hạn về thời gian và khả năng xử lý, chúng ta chỉ xem xét các thẻ của 2000 cuốn sách có số lượt tải về cao nhất.\n",
    "\n",
    "Đồng thời, để làm cho đồ thị dễ nhìn hơn, chúng ta sẽ chỉ hiển thị các cạnh kết nối giữa hai thẻ xuất hiện cùng nhau trong hơn 5 cuốn sách.\n",
    "\n",
    "Để tăng tính tương tác cho đồ thị, ta sử dụng thư viện `plotly` trong Python."
   ]
  },
  {
   "cell_type": "markdown",
   "id": "b056932b",
   "metadata": {},
   "source": [
    "Tạo đồ thị, giảm đi số lượng cạnh và đỉnh như trên"
   ]
  },
  {
   "cell_type": "code",
   "execution_count": 104,
   "id": "6d5632f8",
   "metadata": {},
   "outputs": [],
   "source": [
    "MIN_EDGE_WEIGHT = 5\n",
    "MAX_SUBJECT_AMOUNT = 2000\n",
    "\n",
    "G = nx.Graph()\n",
    "for subjects in df['subjects'].dropna().head(MAX_SUBJECT_AMOUNT):\n",
    "    for i, subject1 in enumerate(subjects):\n",
    "        for subject2 in subjects[i + 1:]:\n",
    "            if G.has_edge(subject1, subject2):\n",
    "                G[subject1][subject2]['weight'] += 1\n",
    "            else:\n",
    "                G.add_edge(subject1, subject2, weight=1)\n",
    "\n",
    "G_filtered = nx.Graph((u, v, e) for u, v, e in G.edges(data=True) if e['weight'] > MIN_EDGE_WEIGHT)"
   ]
  },
  {
   "cell_type": "markdown",
   "id": "8915a6d5",
   "metadata": {},
   "source": [
    "Vẽ cạnh giữa các đỉnh, tô màu các cạnh theo số liên kết giữa hai đỉnh"
   ]
  },
  {
   "cell_type": "code",
   "execution_count": 105,
   "id": "f14086f8",
   "metadata": {},
   "outputs": [],
   "source": [
    "pos = nx.spring_layout(G_filtered, k=0.1, seed=42)\n",
    "\n",
    "edge_x = []\n",
    "edge_y = []\n",
    "edge_traces = []\n",
    "\n",
    "edge_weights = [G_filtered[u][v]['weight'] for u, v in G_filtered.edges()]\n",
    "min_weight, max_weight = min(edge_weights), max(edge_weights)\n",
    "\n",
    "norm = mcolors.Normalize(vmin=min_weight, vmax=max_weight)\n",
    "cmap = cm.get_cmap('Paired_r')\n",
    "\n",
    "for edge in G_filtered.edges():\n",
    "    x0, y0 = pos[edge[0]]\n",
    "    x1, y1 = pos[edge[1]]\n",
    "    weight = G_filtered[edge[0]][edge[1]]['weight']\n",
    "    color = mcolors.to_hex(cmap(norm(weight)))\n",
    "\n",
    "    edge_x = [x0, x1, None]\n",
    "    edge_y = [y0, y1, None]\n",
    "    edge_traces.append(\n",
    "        go.Scatter(\n",
    "            x=edge_x,\n",
    "            y=edge_y,\n",
    "            line=dict(width=1, color=color),\n",
    "            mode='lines',\n",
    "            hoverinfo='none'\n",
    "        )\n",
    "    )"
   ]
  },
  {
   "cell_type": "markdown",
   "id": "d4586033",
   "metadata": {},
   "source": [
    "Vẽ các đỉnh, tô màu và tăng kích thước theo só đỉnh khác mà đỉnh đó liên kết"
   ]
  },
  {
   "cell_type": "code",
   "execution_count": 106,
   "id": "68b86cb9",
   "metadata": {},
   "outputs": [],
   "source": [
    "node_x = []\n",
    "node_y = []\n",
    "node_size = []\n",
    "node_text = []\n",
    "\n",
    "for node in G_filtered.nodes():\n",
    "    x, y = pos[node]\n",
    "    node_x.append(x)\n",
    "    node_y.append(y)\n",
    "    node_size.append(G_filtered.degree[node])\n",
    "    node_text.append(f\"{node}<br>Số lượng kết nối: {G_filtered.degree[node]}\")\n",
    "\n",
    "node_color = [np.log(degree + 1) for degree in node_size]\n",
    "\n",
    "node_trace = go.Scatter(\n",
    "    x=node_x,\n",
    "    y=node_y,\n",
    "    mode='markers',\n",
    "    hoverinfo='text',\n",
    "    marker=dict(\n",
    "        showscale=True,\n",
    "        colorscale='YlGnBu',\n",
    "        size=10,\n",
    "        color=node_color,\n",
    "        colorbar=dict(\n",
    "            thickness=15,\n",
    "            title=\"Số lượng kết nối của thẻ\",\n",
    "            tickvals=[np.log(i + 1) for i in range(1, max(node_size) + 1, max(1, max(node_size) // 5))],\n",
    "            ticktext=[str(i) for i in range(1, max(node_size) + 1, max(1, max(node_size) // 5))],\n",
    "            x=1.02,\n",
    "            xanchor='left'\n",
    "        )\n",
    "    ),\n",
    "    text=node_text\n",
    ")"
   ]
  },
  {
   "cell_type": "markdown",
   "id": "5a60e6bf",
   "metadata": {},
   "source": [
    "Vẽ đồ thị"
   ]
  },
  {
   "cell_type": "code",
   "execution_count": 109,
   "id": "0b195061",
   "metadata": {},
   "outputs": [
    {
     "data": {
      "application/vnd.plotly.v1+json": {
       "config": {
        "plotlyServerURL": "https://plot.ly"
       },
       "data": [
        {
         "hoverinfo": "none",
         "line": {
          "color": "#b15928",
          "width": 1
         },
         "mode": "lines",
         "type": "scatter",
         "x": [
          -0.0168882105499506,
          0.021653084084391594,
          null
         ],
         "y": [
          0.055182792246341705,
          0.07488710433244705,
          null
         ]
        },
        {
         "hoverinfo": "none",
         "line": {
          "color": "#b15928",
          "width": 1
         },
         "mode": "lines",
         "type": "scatter",
         "x": [
          -0.0168882105499506,
          0.000025307354007964022,
          null
         ],
         "y": [
          0.055182792246341705,
          0.05855804681777954,
          null
         ]
        },
        {
         "hoverinfo": "none",
         "line": {
          "color": "#b15928",
          "width": 1
         },
         "mode": "lines",
         "type": "scatter",
         "x": [
          -0.0168882105499506,
          -0.004239080008119345,
          null
         ],
         "y": [
          0.055182792246341705,
          0.037790849804878235,
          null
         ]
        },
        {
         "hoverinfo": "none",
         "line": {
          "color": "#b15928",
          "width": 1
         },
         "mode": "lines",
         "type": "scatter",
         "x": [
          -0.0168882105499506,
          0.017234154045581818,
          null
         ],
         "y": [
          0.055182792246341705,
          0.04543225094676018,
          null
         ]
        },
        {
         "hoverinfo": "none",
         "line": {
          "color": "#b15928",
          "width": 1
         },
         "mode": "lines",
         "type": "scatter",
         "x": [
          -0.0168882105499506,
          -0.0168882105499506,
          null
         ],
         "y": [
          0.055182792246341705,
          0.055182792246341705,
          null
         ]
        },
        {
         "hoverinfo": "none",
         "line": {
          "color": "#b15928",
          "width": 1
         },
         "mode": "lines",
         "type": "scatter",
         "x": [
          -0.0168882105499506,
          -0.00674491235986352,
          null
         ],
         "y": [
          0.055182792246341705,
          0.045609381049871445,
          null
         ]
        },
        {
         "hoverinfo": "none",
         "line": {
          "color": "#b15928",
          "width": 1
         },
         "mode": "lines",
         "type": "scatter",
         "x": [
          -0.0168882105499506,
          0.04043589532375336,
          null
         ],
         "y": [
          0.055182792246341705,
          0.022377535700798035,
          null
         ]
        },
        {
         "hoverinfo": "none",
         "line": {
          "color": "#b15928",
          "width": 1
         },
         "mode": "lines",
         "type": "scatter",
         "x": [
          -0.0168882105499506,
          -0.06624762713909149,
          null
         ],
         "y": [
          0.055182792246341705,
          0.05385256186127663,
          null
         ]
        },
        {
         "hoverinfo": "none",
         "line": {
          "color": "#b15928",
          "width": 1
         },
         "mode": "lines",
         "type": "scatter",
         "x": [
          -0.0168882105499506,
          -0.037273623049259186,
          null
         ],
         "y": [
          0.055182792246341705,
          -0.0166777316480875,
          null
         ]
        },
        {
         "hoverinfo": "none",
         "line": {
          "color": "#b15928",
          "width": 1
         },
         "mode": "lines",
         "type": "scatter",
         "x": [
          -0.0168882105499506,
          -0.07729380577802658,
          null
         ],
         "y": [
          0.055182792246341705,
          0.08059502393007278,
          null
         ]
        },
        {
         "hoverinfo": "none",
         "line": {
          "color": "#b15928",
          "width": 1
         },
         "mode": "lines",
         "type": "scatter",
         "x": [
          0.021653084084391594,
          0.00866764783859253,
          null
         ],
         "y": [
          0.07488710433244705,
          0.07544486969709396,
          null
         ]
        },
        {
         "hoverinfo": "none",
         "line": {
          "color": "#b15928",
          "width": 1
         },
         "mode": "lines",
         "type": "scatter",
         "x": [
          0.021653084084391594,
          0.0031600536312907934,
          null
         ],
         "y": [
          0.07488710433244705,
          -0.017133142799139023,
          null
         ]
        },
        {
         "hoverinfo": "none",
         "line": {
          "color": "#fb9a99",
          "width": 1
         },
         "mode": "lines",
         "type": "scatter",
         "x": [
          0.021653084084391594,
          0.021653084084391594,
          null
         ],
         "y": [
          0.07488710433244705,
          0.07488710433244705,
          null
         ]
        },
        {
         "hoverinfo": "none",
         "line": {
          "color": "#6a3d9a",
          "width": 1
         },
         "mode": "lines",
         "type": "scatter",
         "x": [
          0.021653084084391594,
          0.000025307354007964022,
          null
         ],
         "y": [
          0.07488710433244705,
          0.05855804681777954,
          null
         ]
        },
        {
         "hoverinfo": "none",
         "line": {
          "color": "#b15928",
          "width": 1
         },
         "mode": "lines",
         "type": "scatter",
         "x": [
          0.021653084084391594,
          0.04377574473619461,
          null
         ],
         "y": [
          0.07488710433244705,
          0.07973743975162506,
          null
         ]
        },
        {
         "hoverinfo": "none",
         "line": {
          "color": "#b15928",
          "width": 1
         },
         "mode": "lines",
         "type": "scatter",
         "x": [
          0.021653084084391594,
          -0.02157602645456791,
          null
         ],
         "y": [
          0.07488710433244705,
          0.0981064885854721,
          null
         ]
        },
        {
         "hoverinfo": "none",
         "line": {
          "color": "#ffff99",
          "width": 1
         },
         "mode": "lines",
         "type": "scatter",
         "x": [
          0.021653084084391594,
          0.017234154045581818,
          null
         ],
         "y": [
          0.07488710433244705,
          0.04543225094676018,
          null
         ]
        },
        {
         "hoverinfo": "none",
         "line": {
          "color": "#ff7f00",
          "width": 1
         },
         "mode": "lines",
         "type": "scatter",
         "x": [
          0.021653084084391594,
          0.022681519389152527,
          null
         ],
         "y": [
          0.07488710433244705,
          0.049327507615089417,
          null
         ]
        },
        {
         "hoverinfo": "none",
         "line": {
          "color": "#b15928",
          "width": 1
         },
         "mode": "lines",
         "type": "scatter",
         "x": [
          0.021653084084391594,
          -0.061359044164419174,
          null
         ],
         "y": [
          0.07488710433244705,
          0.011634476482868195,
          null
         ]
        },
        {
         "hoverinfo": "none",
         "line": {
          "color": "#b15928",
          "width": 1
         },
         "mode": "lines",
         "type": "scatter",
         "x": [
          0.021653084084391594,
          0.04043589532375336,
          null
         ],
         "y": [
          0.07488710433244705,
          0.022377535700798035,
          null
         ]
        },
        {
         "hoverinfo": "none",
         "line": {
          "color": "#b15928",
          "width": 1
         },
         "mode": "lines",
         "type": "scatter",
         "x": [
          0.021653084084391594,
          -0.029632965102791786,
          null
         ],
         "y": [
          0.07488710433244705,
          0.14325150847434998,
          null
         ]
        },
        {
         "hoverinfo": "none",
         "line": {
          "color": "#b15928",
          "width": 1
         },
         "mode": "lines",
         "type": "scatter",
         "x": [
          0.021653084084391594,
          -0.0361969992518425,
          null
         ],
         "y": [
          0.07488710433244705,
          0.11395077407360077,
          null
         ]
        },
        {
         "hoverinfo": "none",
         "line": {
          "color": "#b15928",
          "width": 1
         },
         "mode": "lines",
         "type": "scatter",
         "x": [
          0.021653084084391594,
          -0.00552947074174881,
          null
         ],
         "y": [
          0.07488710433244705,
          0.11045962572097778,
          null
         ]
        },
        {
         "hoverinfo": "none",
         "line": {
          "color": "#ffff99",
          "width": 1
         },
         "mode": "lines",
         "type": "scatter",
         "x": [
          0.021653084084391594,
          0.02953876182436943,
          null
         ],
         "y": [
          0.07488710433244705,
          0.06267217546701431,
          null
         ]
        },
        {
         "hoverinfo": "none",
         "line": {
          "color": "#b15928",
          "width": 1
         },
         "mode": "lines",
         "type": "scatter",
         "x": [
          0.021653084084391594,
          -0.013944110833108425,
          null
         ],
         "y": [
          0.07488710433244705,
          0.13554392755031586,
          null
         ]
        },
        {
         "hoverinfo": "none",
         "line": {
          "color": "#b15928",
          "width": 1
         },
         "mode": "lines",
         "type": "scatter",
         "x": [
          0.021653084084391594,
          0.03641176223754883,
          null
         ],
         "y": [
          0.07488710433244705,
          0.09430315345525742,
          null
         ]
        },
        {
         "hoverinfo": "none",
         "line": {
          "color": "#b15928",
          "width": 1
         },
         "mode": "lines",
         "type": "scatter",
         "x": [
          0.021653084084391594,
          0.035520367324352264,
          null
         ],
         "y": [
          0.07488710433244705,
          0.07883207499980927,
          null
         ]
        },
        {
         "hoverinfo": "none",
         "line": {
          "color": "#b15928",
          "width": 1
         },
         "mode": "lines",
         "type": "scatter",
         "x": [
          0.021653084084391594,
          0.028674356639385223,
          null
         ],
         "y": [
          0.07488710433244705,
          0.14854109287261963,
          null
         ]
        },
        {
         "hoverinfo": "none",
         "line": {
          "color": "#b15928",
          "width": 1
         },
         "mode": "lines",
         "type": "scatter",
         "x": [
          0.021653084084391594,
          0.0011573305819183588,
          null
         ],
         "y": [
          0.07488710433244705,
          -0.037062641233205795,
          null
         ]
        },
        {
         "hoverinfo": "none",
         "line": {
          "color": "#ffff99",
          "width": 1
         },
         "mode": "lines",
         "type": "scatter",
         "x": [
          0.021653084084391594,
          -0.004239080008119345,
          null
         ],
         "y": [
          0.07488710433244705,
          0.037790849804878235,
          null
         ]
        },
        {
         "hoverinfo": "none",
         "line": {
          "color": "#b15928",
          "width": 1
         },
         "mode": "lines",
         "type": "scatter",
         "x": [
          0.021653084084391594,
          -0.003515766002237797,
          null
         ],
         "y": [
          0.07488710433244705,
          0.0711095780134201,
          null
         ]
        },
        {
         "hoverinfo": "none",
         "line": {
          "color": "#b15928",
          "width": 1
         },
         "mode": "lines",
         "type": "scatter",
         "x": [
          0.021653084084391594,
          -0.006279632914811373,
          null
         ],
         "y": [
          0.07488710433244705,
          -0.04403284937143326,
          null
         ]
        },
        {
         "hoverinfo": "none",
         "line": {
          "color": "#ffff99",
          "width": 1
         },
         "mode": "lines",
         "type": "scatter",
         "x": [
          0.021653084084391594,
          0.02563965879380703,
          null
         ],
         "y": [
          0.07488710433244705,
          0.06867792457342148,
          null
         ]
        },
        {
         "hoverinfo": "none",
         "line": {
          "color": "#b15928",
          "width": 1
         },
         "mode": "lines",
         "type": "scatter",
         "x": [
          0.021653084084391594,
          0.0028257581871002913,
          null
         ],
         "y": [
          0.07488710433244705,
          0.07217016816139221,
          null
         ]
        },
        {
         "hoverinfo": "none",
         "line": {
          "color": "#b15928",
          "width": 1
         },
         "mode": "lines",
         "type": "scatter",
         "x": [
          0.021653084084391594,
          0.025569748133420944,
          null
         ],
         "y": [
          0.07488710433244705,
          0.05717584490776062,
          null
         ]
        },
        {
         "hoverinfo": "none",
         "line": {
          "color": "#b15928",
          "width": 1
         },
         "mode": "lines",
         "type": "scatter",
         "x": [
          0.021653084084391594,
          0.04943536967039108,
          null
         ],
         "y": [
          0.07488710433244705,
          0.04042082652449608,
          null
         ]
        },
        {
         "hoverinfo": "none",
         "line": {
          "color": "#b15928",
          "width": 1
         },
         "mode": "lines",
         "type": "scatter",
         "x": [
          0.021653084084391594,
          0.04422885179519653,
          null
         ],
         "y": [
          0.07488710433244705,
          0.12692323327064514,
          null
         ]
        },
        {
         "hoverinfo": "none",
         "line": {
          "color": "#b15928",
          "width": 1
         },
         "mode": "lines",
         "type": "scatter",
         "x": [
          0.021653084084391594,
          -0.01699463091790676,
          null
         ],
         "y": [
          0.07488710433244705,
          0.21106354892253876,
          null
         ]
        },
        {
         "hoverinfo": "none",
         "line": {
          "color": "#b15928",
          "width": 1
         },
         "mode": "lines",
         "type": "scatter",
         "x": [
          0.021653084084391594,
          -0.005909824278205633,
          null
         ],
         "y": [
          0.07488710433244705,
          0.16580462455749512,
          null
         ]
        },
        {
         "hoverinfo": "none",
         "line": {
          "color": "#b15928",
          "width": 1
         },
         "mode": "lines",
         "type": "scatter",
         "x": [
          0.021653084084391594,
          -0.002867500064894557,
          null
         ],
         "y": [
          0.07488710433244705,
          -0.054818153381347656,
          null
         ]
        },
        {
         "hoverinfo": "none",
         "line": {
          "color": "#b15928",
          "width": 1
         },
         "mode": "lines",
         "type": "scatter",
         "x": [
          0.021653084084391594,
          0.011239961721003056,
          null
         ],
         "y": [
          0.07488710433244705,
          0.023881617933511734,
          null
         ]
        },
        {
         "hoverinfo": "none",
         "line": {
          "color": "#b15928",
          "width": 1
         },
         "mode": "lines",
         "type": "scatter",
         "x": [
          0.021653084084391594,
          -0.05761899799108505,
          null
         ],
         "y": [
          0.07488710433244705,
          -0.006080626975744963,
          null
         ]
        },
        {
         "hoverinfo": "none",
         "line": {
          "color": "#b15928",
          "width": 1
         },
         "mode": "lines",
         "type": "scatter",
         "x": [
          0.021653084084391594,
          0.0225176103413105,
          null
         ],
         "y": [
          0.07488710433244705,
          0.01783517189323902,
          null
         ]
        },
        {
         "hoverinfo": "none",
         "line": {
          "color": "#b15928",
          "width": 1
         },
         "mode": "lines",
         "type": "scatter",
         "x": [
          0.021653084084391594,
          0.0062402402982115746,
          null
         ],
         "y": [
          0.07488710433244705,
          0.019644493237137794,
          null
         ]
        },
        {
         "hoverinfo": "none",
         "line": {
          "color": "#b15928",
          "width": 1
         },
         "mode": "lines",
         "type": "scatter",
         "x": [
          0.021653084084391594,
          -0.0010009079705923796,
          null
         ],
         "y": [
          0.07488710433244705,
          -0.05243607237935066,
          null
         ]
        },
        {
         "hoverinfo": "none",
         "line": {
          "color": "#b15928",
          "width": 1
         },
         "mode": "lines",
         "type": "scatter",
         "x": [
          0.021653084084391594,
          0.094096839427948,
          null
         ],
         "y": [
          0.07488710433244705,
          0.17036554217338562,
          null
         ]
        },
        {
         "hoverinfo": "none",
         "line": {
          "color": "#b15928",
          "width": 1
         },
         "mode": "lines",
         "type": "scatter",
         "x": [
          0.021653084084391594,
          0.011151745915412903,
          null
         ],
         "y": [
          0.07488710433244705,
          0.01310962438583374,
          null
         ]
        },
        {
         "hoverinfo": "none",
         "line": {
          "color": "#b15928",
          "width": 1
         },
         "mode": "lines",
         "type": "scatter",
         "x": [
          0.021653084084391594,
          0.0008833205793052912,
          null
         ],
         "y": [
          0.07488710433244705,
          0.02273876592516899,
          null
         ]
        },
        {
         "hoverinfo": "none",
         "line": {
          "color": "#b15928",
          "width": 1
         },
         "mode": "lines",
         "type": "scatter",
         "x": [
          0.021653084084391594,
          -0.0013983951648697257,
          null
         ],
         "y": [
          0.07488710433244705,
          -0.024562468752264977,
          null
         ]
        },
        {
         "hoverinfo": "none",
         "line": {
          "color": "#b15928",
          "width": 1
         },
         "mode": "lines",
         "type": "scatter",
         "x": [
          0.021653084084391594,
          0.0590246245265007,
          null
         ],
         "y": [
          0.07488710433244705,
          0.16521517932415009,
          null
         ]
        },
        {
         "hoverinfo": "none",
         "line": {
          "color": "#b15928",
          "width": 1
         },
         "mode": "lines",
         "type": "scatter",
         "x": [
          0.021653084084391594,
          0.021003475412726402,
          null
         ],
         "y": [
          0.07488710433244705,
          0.1352868378162384,
          null
         ]
        },
        {
         "hoverinfo": "none",
         "line": {
          "color": "#b15928",
          "width": 1
         },
         "mode": "lines",
         "type": "scatter",
         "x": [
          0.021653084084391594,
          0.021972890943288803,
          null
         ],
         "y": [
          0.07488710433244705,
          0.051031600683927536,
          null
         ]
        },
        {
         "hoverinfo": "none",
         "line": {
          "color": "#b15928",
          "width": 1
         },
         "mode": "lines",
         "type": "scatter",
         "x": [
          0.021653084084391594,
          0.06620999425649643,
          null
         ],
         "y": [
          0.07488710433244705,
          0.20782865583896637,
          null
         ]
        },
        {
         "hoverinfo": "none",
         "line": {
          "color": "#b15928",
          "width": 1
         },
         "mode": "lines",
         "type": "scatter",
         "x": [
          0.021653084084391594,
          0.09673109650611877,
          null
         ],
         "y": [
          0.07488710433244705,
          0.19194041192531586,
          null
         ]
        },
        {
         "hoverinfo": "none",
         "line": {
          "color": "#b15928",
          "width": 1
         },
         "mode": "lines",
         "type": "scatter",
         "x": [
          0.021653084084391594,
          -0.02253291942179203,
          null
         ],
         "y": [
          0.07488710433244705,
          0.13980980217456818,
          null
         ]
        },
        {
         "hoverinfo": "none",
         "line": {
          "color": "#b15928",
          "width": 1
         },
         "mode": "lines",
         "type": "scatter",
         "x": [
          0.021653084084391594,
          0.05535706877708435,
          null
         ],
         "y": [
          0.07488710433244705,
          0.11502445489168167,
          null
         ]
        },
        {
         "hoverinfo": "none",
         "line": {
          "color": "#b15928",
          "width": 1
         },
         "mode": "lines",
         "type": "scatter",
         "x": [
          0.021653084084391594,
          0.023071149364113808,
          null
         ],
         "y": [
          0.07488710433244705,
          -0.03504331782460213,
          null
         ]
        },
        {
         "hoverinfo": "none",
         "line": {
          "color": "#b15928",
          "width": 1
         },
         "mode": "lines",
         "type": "scatter",
         "x": [
          0.021653084084391594,
          0.06513742357492447,
          null
         ],
         "y": [
          0.07488710433244705,
          0.13510732352733612,
          null
         ]
        },
        {
         "hoverinfo": "none",
         "line": {
          "color": "#b15928",
          "width": 1
         },
         "mode": "lines",
         "type": "scatter",
         "x": [
          0.021653084084391594,
          -0.006648545619100332,
          null
         ],
         "y": [
          0.07488710433244705,
          -0.005295836832374334,
          null
         ]
        },
        {
         "hoverinfo": "none",
         "line": {
          "color": "#b15928",
          "width": 1
         },
         "mode": "lines",
         "type": "scatter",
         "x": [
          0.021653084084391594,
          0.12849096953868866,
          null
         ],
         "y": [
          0.07488710433244705,
          0.15669827163219452,
          null
         ]
        },
        {
         "hoverinfo": "none",
         "line": {
          "color": "#b15928",
          "width": 1
         },
         "mode": "lines",
         "type": "scatter",
         "x": [
          0.021653084084391594,
          0.05179174989461899,
          null
         ],
         "y": [
          0.07488710433244705,
          0.07654814422130585,
          null
         ]
        },
        {
         "hoverinfo": "none",
         "line": {
          "color": "#b15928",
          "width": 1
         },
         "mode": "lines",
         "type": "scatter",
         "x": [
          0.021653084084391594,
          0.01881464011967182,
          null
         ],
         "y": [
          0.07488710433244705,
          0.02632642164826393,
          null
         ]
        },
        {
         "hoverinfo": "none",
         "line": {
          "color": "#b15928",
          "width": 1
         },
         "mode": "lines",
         "type": "scatter",
         "x": [
          0.021653084084391594,
          0.041951362043619156,
          null
         ],
         "y": [
          0.07488710433244705,
          0.11815120279788971,
          null
         ]
        },
        {
         "hoverinfo": "none",
         "line": {
          "color": "#b15928",
          "width": 1
         },
         "mode": "lines",
         "type": "scatter",
         "x": [
          0.021653084084391594,
          0.006448971573263407,
          null
         ],
         "y": [
          0.07488710433244705,
          -0.020283810794353485,
          null
         ]
        },
        {
         "hoverinfo": "none",
         "line": {
          "color": "#b15928",
          "width": 1
         },
         "mode": "lines",
         "type": "scatter",
         "x": [
          0.021653084084391594,
          0.07770968973636627,
          null
         ],
         "y": [
          0.07488710433244705,
          0.1822940707206726,
          null
         ]
        },
        {
         "hoverinfo": "none",
         "line": {
          "color": "#b15928",
          "width": 1
         },
         "mode": "lines",
         "type": "scatter",
         "x": [
          0.021653084084391594,
          0.013790824450552464,
          null
         ],
         "y": [
          0.07488710433244705,
          0.2033398151397705,
          null
         ]
        },
        {
         "hoverinfo": "none",
         "line": {
          "color": "#b15928",
          "width": 1
         },
         "mode": "lines",
         "type": "scatter",
         "x": [
          0.021653084084391594,
          -0.06387481093406677,
          null
         ],
         "y": [
          0.07488710433244705,
          0.15818002820014954,
          null
         ]
        },
        {
         "hoverinfo": "none",
         "line": {
          "color": "#b15928",
          "width": 1
         },
         "mode": "lines",
         "type": "scatter",
         "x": [
          0.021653084084391594,
          0.014381504617631435,
          null
         ],
         "y": [
          0.07488710433244705,
          0.14172640442848206,
          null
         ]
        },
        {
         "hoverinfo": "none",
         "line": {
          "color": "#b15928",
          "width": 1
         },
         "mode": "lines",
         "type": "scatter",
         "x": [
          0.021653084084391594,
          0.038513801991939545,
          null
         ],
         "y": [
          0.07488710433244705,
          0.19796937704086304,
          null
         ]
        },
        {
         "hoverinfo": "none",
         "line": {
          "color": "#b15928",
          "width": 1
         },
         "mode": "lines",
         "type": "scatter",
         "x": [
          0.021653084084391594,
          0.0025751106441020966,
          null
         ],
         "y": [
          0.07488710433244705,
          0.002779153874143958,
          null
         ]
        },
        {
         "hoverinfo": "none",
         "line": {
          "color": "#b15928",
          "width": 1
         },
         "mode": "lines",
         "type": "scatter",
         "x": [
          0.021653084084391594,
          0.0904674381017685,
          null
         ],
         "y": [
          0.07488710433244705,
          0.13820138573646545,
          null
         ]
        },
        {
         "hoverinfo": "none",
         "line": {
          "color": "#b15928",
          "width": 1
         },
         "mode": "lines",
         "type": "scatter",
         "x": [
          0.021653084084391594,
          0.0017238613218069077,
          null
         ],
         "y": [
          0.07488710433244705,
          0.14174416661262512,
          null
         ]
        },
        {
         "hoverinfo": "none",
         "line": {
          "color": "#b15928",
          "width": 1
         },
         "mode": "lines",
         "type": "scatter",
         "x": [
          0.021653084084391594,
          0.1122872531414032,
          null
         ],
         "y": [
          0.07488710433244705,
          0.17931142449378967,
          null
         ]
        },
        {
         "hoverinfo": "none",
         "line": {
          "color": "#b15928",
          "width": 1
         },
         "mode": "lines",
         "type": "scatter",
         "x": [
          0.021653084084391594,
          -0.016090603545308113,
          null
         ],
         "y": [
          0.07488710433244705,
          0.1665445864200592,
          null
         ]
        },
        {
         "hoverinfo": "none",
         "line": {
          "color": "#b15928",
          "width": 1
         },
         "mode": "lines",
         "type": "scatter",
         "x": [
          0.021653084084391594,
          0.06340015679597855,
          null
         ],
         "y": [
          0.07488710433244705,
          0.07013100385665894,
          null
         ]
        },
        {
         "hoverinfo": "none",
         "line": {
          "color": "#b15928",
          "width": 1
         },
         "mode": "lines",
         "type": "scatter",
         "x": [
          0.021653084084391594,
          0.009246340952813625,
          null
         ],
         "y": [
          0.07488710433244705,
          0.09573113918304443,
          null
         ]
        },
        {
         "hoverinfo": "none",
         "line": {
          "color": "#b15928",
          "width": 1
         },
         "mode": "lines",
         "type": "scatter",
         "x": [
          0.021653084084391594,
          0.0753597766160965,
          null
         ],
         "y": [
          0.07488710433244705,
          0.11813537776470184,
          null
         ]
        },
        {
         "hoverinfo": "none",
         "line": {
          "color": "#b15928",
          "width": 1
         },
         "mode": "lines",
         "type": "scatter",
         "x": [
          0.021653084084391594,
          0.0351778008043766,
          null
         ],
         "y": [
          0.07488710433244705,
          -0.023107055574655533,
          null
         ]
        },
        {
         "hoverinfo": "none",
         "line": {
          "color": "#b15928",
          "width": 1
         },
         "mode": "lines",
         "type": "scatter",
         "x": [
          0.021653084084391594,
          -0.014625443145632744,
          null
         ],
         "y": [
          0.07488710433244705,
          0.10928528010845184,
          null
         ]
        },
        {
         "hoverinfo": "none",
         "line": {
          "color": "#b15928",
          "width": 1
         },
         "mode": "lines",
         "type": "scatter",
         "x": [
          0.021653084084391594,
          -0.03900004178285599,
          null
         ],
         "y": [
          0.07488710433244705,
          0.1406976729631424,
          null
         ]
        },
        {
         "hoverinfo": "none",
         "line": {
          "color": "#b15928",
          "width": 1
         },
         "mode": "lines",
         "type": "scatter",
         "x": [
          0.021653084084391594,
          0.017320621758699417,
          null
         ],
         "y": [
          0.07488710433244705,
          -0.024066025391221046,
          null
         ]
        },
        {
         "hoverinfo": "none",
         "line": {
          "color": "#b15928",
          "width": 1
         },
         "mode": "lines",
         "type": "scatter",
         "x": [
          0.021653084084391594,
          -0.01800730638206005,
          null
         ],
         "y": [
          0.07488710433244705,
          -0.02022998407483101,
          null
         ]
        },
        {
         "hoverinfo": "none",
         "line": {
          "color": "#b15928",
          "width": 1
         },
         "mode": "lines",
         "type": "scatter",
         "x": [
          0.021653084084391594,
          -0.0012278436915948987,
          null
         ],
         "y": [
          0.07488710433244705,
          -0.06282893568277359,
          null
         ]
        },
        {
         "hoverinfo": "none",
         "line": {
          "color": "#b15928",
          "width": 1
         },
         "mode": "lines",
         "type": "scatter",
         "x": [
          0.021653084084391594,
          0.04205527901649475,
          null
         ],
         "y": [
          0.07488710433244705,
          0.1460830271244049,
          null
         ]
        },
        {
         "hoverinfo": "none",
         "line": {
          "color": "#b15928",
          "width": 1
         },
         "mode": "lines",
         "type": "scatter",
         "x": [
          0.021653084084391594,
          -0.021060362458229065,
          null
         ],
         "y": [
          0.07488710433244705,
          0.19476468861103058,
          null
         ]
        },
        {
         "hoverinfo": "none",
         "line": {
          "color": "#b15928",
          "width": 1
         },
         "mode": "lines",
         "type": "scatter",
         "x": [
          0.021653084084391594,
          -0.00489343237131834,
          null
         ],
         "y": [
          0.07488710433244705,
          0.1354905664920807,
          null
         ]
        },
        {
         "hoverinfo": "none",
         "line": {
          "color": "#b15928",
          "width": 1
         },
         "mode": "lines",
         "type": "scatter",
         "x": [
          0.021653084084391594,
          0.09869018942117691,
          null
         ],
         "y": [
          0.07488710433244705,
          0.05548538640141487,
          null
         ]
        },
        {
         "hoverinfo": "none",
         "line": {
          "color": "#b15928",
          "width": 1
         },
         "mode": "lines",
         "type": "scatter",
         "x": [
          0.021653084084391594,
          -0.05321260914206505,
          null
         ],
         "y": [
          0.07488710433244705,
          0.15128187835216522,
          null
         ]
        },
        {
         "hoverinfo": "none",
         "line": {
          "color": "#b15928",
          "width": 1
         },
         "mode": "lines",
         "type": "scatter",
         "x": [
          0.021653084084391594,
          0.12189725041389465,
          null
         ],
         "y": [
          0.07488710433244705,
          0.1279020458459854,
          null
         ]
        },
        {
         "hoverinfo": "none",
         "line": {
          "color": "#b15928",
          "width": 1
         },
         "mode": "lines",
         "type": "scatter",
         "x": [
          0.021653084084391594,
          0.05031382665038109,
          null
         ],
         "y": [
          0.07488710433244705,
          0.02585100196301937,
          null
         ]
        },
        {
         "hoverinfo": "none",
         "line": {
          "color": "#b15928",
          "width": 1
         },
         "mode": "lines",
         "type": "scatter",
         "x": [
          0.021653084084391594,
          -0.009177794679999352,
          null
         ],
         "y": [
          0.07488710433244705,
          0.10478756576776505,
          null
         ]
        },
        {
         "hoverinfo": "none",
         "line": {
          "color": "#b15928",
          "width": 1
         },
         "mode": "lines",
         "type": "scatter",
         "x": [
          0.021653084084391594,
          0.02399957738816738,
          null
         ],
         "y": [
          0.07488710433244705,
          0.10601919144392014,
          null
         ]
        },
        {
         "hoverinfo": "none",
         "line": {
          "color": "#b15928",
          "width": 1
         },
         "mode": "lines",
         "type": "scatter",
         "x": [
          0.021653084084391594,
          0.06611188501119614,
          null
         ],
         "y": [
          0.07488710433244705,
          0.011177261359989643,
          null
         ]
        },
        {
         "hoverinfo": "none",
         "line": {
          "color": "#b15928",
          "width": 1
         },
         "mode": "lines",
         "type": "scatter",
         "x": [
          0.021653084084391594,
          0.057536497712135315,
          null
         ],
         "y": [
          0.07488710433244705,
          0.03414888679981232,
          null
         ]
        },
        {
         "hoverinfo": "none",
         "line": {
          "color": "#b15928",
          "width": 1
         },
         "mode": "lines",
         "type": "scatter",
         "x": [
          0.021653084084391594,
          0.036452848464250565,
          null
         ],
         "y": [
          0.07488710433244705,
          -0.011518123559653759,
          null
         ]
        },
        {
         "hoverinfo": "none",
         "line": {
          "color": "#b15928",
          "width": 1
         },
         "mode": "lines",
         "type": "scatter",
         "x": [
          0.021653084084391594,
          0.08564112335443497,
          null
         ],
         "y": [
          0.07488710433244705,
          0.14770297706127167,
          null
         ]
        },
        {
         "hoverinfo": "none",
         "line": {
          "color": "#b15928",
          "width": 1
         },
         "mode": "lines",
         "type": "scatter",
         "x": [
          0.021653084084391594,
          -0.028187397867441177,
          null
         ],
         "y": [
          0.07488710433244705,
          0.01833406277000904,
          null
         ]
        },
        {
         "hoverinfo": "none",
         "line": {
          "color": "#b15928",
          "width": 1
         },
         "mode": "lines",
         "type": "scatter",
         "x": [
          0.021653084084391594,
          -0.013280787505209446,
          null
         ],
         "y": [
          0.07488710433244705,
          0.06461293250322342,
          null
         ]
        },
        {
         "hoverinfo": "none",
         "line": {
          "color": "#b15928",
          "width": 1
         },
         "mode": "lines",
         "type": "scatter",
         "x": [
          0.021653084084391594,
          0.009626398794353008,
          null
         ],
         "y": [
          0.07488710433244705,
          0.0010951877338811755,
          null
         ]
        },
        {
         "hoverinfo": "none",
         "line": {
          "color": "#b15928",
          "width": 1
         },
         "mode": "lines",
         "type": "scatter",
         "x": [
          0.021653084084391594,
          0.10001307725906372,
          null
         ],
         "y": [
          0.07488710433244705,
          0.1613435298204422,
          null
         ]
        },
        {
         "hoverinfo": "none",
         "line": {
          "color": "#b15928",
          "width": 1
         },
         "mode": "lines",
         "type": "scatter",
         "x": [
          0.021653084084391594,
          -0.02735120616853237,
          null
         ],
         "y": [
          0.07488710433244705,
          0.1604587435722351,
          null
         ]
        },
        {
         "hoverinfo": "none",
         "line": {
          "color": "#b15928",
          "width": 1
         },
         "mode": "lines",
         "type": "scatter",
         "x": [
          0.021653084084391594,
          0.06880080699920654,
          null
         ],
         "y": [
          0.07488710433244705,
          0.18903841078281403,
          null
         ]
        },
        {
         "hoverinfo": "none",
         "line": {
          "color": "#b15928",
          "width": 1
         },
         "mode": "lines",
         "type": "scatter",
         "x": [
          0.021653084084391594,
          0.10912542790174484,
          null
         ],
         "y": [
          0.07488710433244705,
          0.15866488218307495,
          null
         ]
        },
        {
         "hoverinfo": "none",
         "line": {
          "color": "#b15928",
          "width": 1
         },
         "mode": "lines",
         "type": "scatter",
         "x": [
          0.021653084084391594,
          0.015559826046228409,
          null
         ],
         "y": [
          0.07488710433244705,
          0.17838703095912933,
          null
         ]
        },
        {
         "hoverinfo": "none",
         "line": {
          "color": "#b15928",
          "width": 1
         },
         "mode": "lines",
         "type": "scatter",
         "x": [
          0.021653084084391594,
          0.04902796074748039,
          null
         ],
         "y": [
          0.07488710433244705,
          0.1605806201696396,
          null
         ]
        },
        {
         "hoverinfo": "none",
         "line": {
          "color": "#b15928",
          "width": 1
         },
         "mode": "lines",
         "type": "scatter",
         "x": [
          0.021653084084391594,
          -0.0060384152457118034,
          null
         ],
         "y": [
          0.07488710433244705,
          -0.0675717145204544,
          null
         ]
        },
        {
         "hoverinfo": "none",
         "line": {
          "color": "#b15928",
          "width": 1
         },
         "mode": "lines",
         "type": "scatter",
         "x": [
          0.021653084084391594,
          0.004102249629795551,
          null
         ],
         "y": [
          0.07488710433244705,
          0.16805937886238098,
          null
         ]
        },
        {
         "hoverinfo": "none",
         "line": {
          "color": "#b15928",
          "width": 1
         },
         "mode": "lines",
         "type": "scatter",
         "x": [
          0.021653084084391594,
          -0.01735714077949524,
          null
         ],
         "y": [
          0.07488710433244705,
          -0.007083676755428314,
          null
         ]
        },
        {
         "hoverinfo": "none",
         "line": {
          "color": "#b15928",
          "width": 1
         },
         "mode": "lines",
         "type": "scatter",
         "x": [
          0.021653084084391594,
          -0.029671821743249893,
          null
         ],
         "y": [
          0.07488710433244705,
          -0.022692063823342323,
          null
         ]
        },
        {
         "hoverinfo": "none",
         "line": {
          "color": "#b15928",
          "width": 1
         },
         "mode": "lines",
         "type": "scatter",
         "x": [
          0.021653084084391594,
          0.015573604963719845,
          null
         ],
         "y": [
          0.07488710433244705,
          0.11988814175128937,
          null
         ]
        },
        {
         "hoverinfo": "none",
         "line": {
          "color": "#b15928",
          "width": 1
         },
         "mode": "lines",
         "type": "scatter",
         "x": [
          0.021653084084391594,
          -0.0029857978224754333,
          null
         ],
         "y": [
          0.07488710433244705,
          0.18348848819732666,
          null
         ]
        },
        {
         "hoverinfo": "none",
         "line": {
          "color": "#b15928",
          "width": 1
         },
         "mode": "lines",
         "type": "scatter",
         "x": [
          0.021653084084391594,
          0.08337628841400146,
          null
         ],
         "y": [
          0.07488710433244705,
          0.1041904166340828,
          null
         ]
        },
        {
         "hoverinfo": "none",
         "line": {
          "color": "#b15928",
          "width": 1
         },
         "mode": "lines",
         "type": "scatter",
         "x": [
          0.021653084084391594,
          0.12034773081541061,
          null
         ],
         "y": [
          0.07488710433244705,
          0.16902606189250946,
          null
         ]
        },
        {
         "hoverinfo": "none",
         "line": {
          "color": "#b15928",
          "width": 1
         },
         "mode": "lines",
         "type": "scatter",
         "x": [
          0.021653084084391594,
          0.06364957988262177,
          null
         ],
         "y": [
          0.07488710433244705,
          0.09079373627901077,
          null
         ]
        },
        {
         "hoverinfo": "none",
         "line": {
          "color": "#b15928",
          "width": 1
         },
         "mode": "lines",
         "type": "scatter",
         "x": [
          0.021653084084391594,
          0.03171106427907944,
          null
         ],
         "y": [
          0.07488710433244705,
          0.13059236109256744,
          null
         ]
        },
        {
         "hoverinfo": "none",
         "line": {
          "color": "#b15928",
          "width": 1
         },
         "mode": "lines",
         "type": "scatter",
         "x": [
          0.021653084084391594,
          0.03639078140258789,
          null
         ],
         "y": [
          0.07488710433244705,
          0.15977177023887634,
          null
         ]
        },
        {
         "hoverinfo": "none",
         "line": {
          "color": "#b15928",
          "width": 1
         },
         "mode": "lines",
         "type": "scatter",
         "x": [
          0.021653084084391594,
          -0.010308495722711086,
          null
         ],
         "y": [
          0.07488710433244705,
          0.15263107419013977,
          null
         ]
        },
        {
         "hoverinfo": "none",
         "line": {
          "color": "#b15928",
          "width": 1
         },
         "mode": "lines",
         "type": "scatter",
         "x": [
          0.021653084084391594,
          0.01397229265421629,
          null
         ],
         "y": [
          0.07488710433244705,
          -0.0034447722136974335,
          null
         ]
        },
        {
         "hoverinfo": "none",
         "line": {
          "color": "#b15928",
          "width": 1
         },
         "mode": "lines",
         "type": "scatter",
         "x": [
          0.021653084084391594,
          0.012168542481958866,
          null
         ],
         "y": [
          0.07488710433244705,
          -0.014375898987054825,
          null
         ]
        },
        {
         "hoverinfo": "none",
         "line": {
          "color": "#b15928",
          "width": 1
         },
         "mode": "lines",
         "type": "scatter",
         "x": [
          0.021653084084391594,
          -0.040370188653469086,
          null
         ],
         "y": [
          0.07488710433244705,
          0.093656525015831,
          null
         ]
        },
        {
         "hoverinfo": "none",
         "line": {
          "color": "#b15928",
          "width": 1
         },
         "mode": "lines",
         "type": "scatter",
         "x": [
          0.021653084084391594,
          0.023454157635569572,
          null
         ],
         "y": [
          0.07488710433244705,
          -0.010296453721821308,
          null
         ]
        },
        {
         "hoverinfo": "none",
         "line": {
          "color": "#b15928",
          "width": 1
         },
         "mode": "lines",
         "type": "scatter",
         "x": [
          0.021653084084391594,
          0.05407603457570076,
          null
         ],
         "y": [
          0.07488710433244705,
          0.21155129373073578,
          null
         ]
        },
        {
         "hoverinfo": "none",
         "line": {
          "color": "#b15928",
          "width": 1
         },
         "mode": "lines",
         "type": "scatter",
         "x": [
          0.021653084084391594,
          -0.011981403455138206,
          null
         ],
         "y": [
          0.07488710433244705,
          0.19246962666511536,
          null
         ]
        },
        {
         "hoverinfo": "none",
         "line": {
          "color": "#b15928",
          "width": 1
         },
         "mode": "lines",
         "type": "scatter",
         "x": [
          0.021653084084391594,
          0.06977780163288116,
          null
         ],
         "y": [
          0.07488710433244705,
          0.04905867576599121,
          null
         ]
        },
        {
         "hoverinfo": "none",
         "line": {
          "color": "#b15928",
          "width": 1
         },
         "mode": "lines",
         "type": "scatter",
         "x": [
          0.021653084084391594,
          0.08447082340717316,
          null
         ],
         "y": [
          0.07488710433244705,
          0.053595248609781265,
          null
         ]
        },
        {
         "hoverinfo": "none",
         "line": {
          "color": "#b15928",
          "width": 1
         },
         "mode": "lines",
         "type": "scatter",
         "x": [
          0.021653084084391594,
          0.05710279569029808,
          null
         ],
         "y": [
          0.07488710433244705,
          0.09787439554929733,
          null
         ]
        },
        {
         "hoverinfo": "none",
         "line": {
          "color": "#b15928",
          "width": 1
         },
         "mode": "lines",
         "type": "scatter",
         "x": [
          0.021653084084391594,
          0.08719430863857269,
          null
         ],
         "y": [
          0.07488710433244705,
          0.19723191857337952,
          null
         ]
        },
        {
         "hoverinfo": "none",
         "line": {
          "color": "#b15928",
          "width": 1
         },
         "mode": "lines",
         "type": "scatter",
         "x": [
          0.021653084084391594,
          -0.003736877581104636,
          null
         ],
         "y": [
          0.07488710433244705,
          0.004882264882326126,
          null
         ]
        },
        {
         "hoverinfo": "none",
         "line": {
          "color": "#b15928",
          "width": 1
         },
         "mode": "lines",
         "type": "scatter",
         "x": [
          0.021653084084391594,
          0.025168217718601227,
          null
         ],
         "y": [
          0.07488710433244705,
          0.21615482866764069,
          null
         ]
        },
        {
         "hoverinfo": "none",
         "line": {
          "color": "#b15928",
          "width": 1
         },
         "mode": "lines",
         "type": "scatter",
         "x": [
          0.021653084084391594,
          0.032215092331171036,
          null
         ],
         "y": [
          0.07488710433244705,
          0.11567206680774689,
          null
         ]
        },
        {
         "hoverinfo": "none",
         "line": {
          "color": "#b15928",
          "width": 1
         },
         "mode": "lines",
         "type": "scatter",
         "x": [
          0.021653084084391594,
          0.006287303753197193,
          null
         ],
         "y": [
          0.07488710433244705,
          0.15128359198570251,
          null
         ]
        },
        {
         "hoverinfo": "none",
         "line": {
          "color": "#b15928",
          "width": 1
         },
         "mode": "lines",
         "type": "scatter",
         "x": [
          0.021653084084391594,
          0.06683623045682907,
          null
         ],
         "y": [
          0.07488710433244705,
          0.1488601714372635,
          null
         ]
        },
        {
         "hoverinfo": "none",
         "line": {
          "color": "#b15928",
          "width": 1
         },
         "mode": "lines",
         "type": "scatter",
         "x": [
          0.021653084084391594,
          -0.010500005446374416,
          null
         ],
         "y": [
          0.07488710433244705,
          -0.05525897815823555,
          null
         ]
        },
        {
         "hoverinfo": "none",
         "line": {
          "color": "#b15928",
          "width": 1
         },
         "mode": "lines",
         "type": "scatter",
         "x": [
          0.021653084084391594,
          0.06780579686164856,
          null
         ],
         "y": [
          0.07488710433244705,
          0.1266535073518753,
          null
         ]
        },
        {
         "hoverinfo": "none",
         "line": {
          "color": "#b15928",
          "width": 1
         },
         "mode": "lines",
         "type": "scatter",
         "x": [
          0.021653084084391594,
          0.009927541017532349,
          null
         ],
         "y": [
          0.07488710433244705,
          -0.045905955135822296,
          null
         ]
        },
        {
         "hoverinfo": "none",
         "line": {
          "color": "#b15928",
          "width": 1
         },
         "mode": "lines",
         "type": "scatter",
         "x": [
          0.021653084084391594,
          0.028283098712563515,
          null
         ],
         "y": [
          0.07488710433244705,
          0.0005642577889375389,
          null
         ]
        },
        {
         "hoverinfo": "none",
         "line": {
          "color": "#b15928",
          "width": 1
         },
         "mode": "lines",
         "type": "scatter",
         "x": [
          0.021653084084391594,
          -0.04614865779876709,
          null
         ],
         "y": [
          0.07488710433244705,
          0.17294743657112122,
          null
         ]
        },
        {
         "hoverinfo": "none",
         "line": {
          "color": "#b15928",
          "width": 1
         },
         "mode": "lines",
         "type": "scatter",
         "x": [
          0.021653084084391594,
          0.04816058278083801,
          null
         ],
         "y": [
          0.07488710433244705,
          0.19603411853313446,
          null
         ]
        },
        {
         "hoverinfo": "none",
         "line": {
          "color": "#b15928",
          "width": 1
         },
         "mode": "lines",
         "type": "scatter",
         "x": [
          0.021653084084391594,
          0.028408236801624298,
          null
         ],
         "y": [
          0.07488710433244705,
          0.20008818805217743,
          null
         ]
        },
        {
         "hoverinfo": "none",
         "line": {
          "color": "#b15928",
          "width": 1
         },
         "mode": "lines",
         "type": "scatter",
         "x": [
          0.021653084084391594,
          0.0453244112432003,
          null
         ],
         "y": [
          0.07488710433244705,
          0.10418864339590073,
          null
         ]
        },
        {
         "hoverinfo": "none",
         "line": {
          "color": "#b15928",
          "width": 1
         },
         "mode": "lines",
         "type": "scatter",
         "x": [
          0.021653084084391594,
          0.03297693282365799,
          null
         ],
         "y": [
          0.07488710433244705,
          0.18428556621074677,
          null
         ]
        },
        {
         "hoverinfo": "none",
         "line": {
          "color": "#b15928",
          "width": 1
         },
         "mode": "lines",
         "type": "scatter",
         "x": [
          0.021653084084391594,
          0.012980639934539795,
          null
         ],
         "y": [
          0.07488710433244705,
          0.1643255203962326,
          null
         ]
        },
        {
         "hoverinfo": "none",
         "line": {
          "color": "#b15928",
          "width": 1
         },
         "mode": "lines",
         "type": "scatter",
         "x": [
          0.021653084084391594,
          0.04054402932524681,
          null
         ],
         "y": [
          0.07488710433244705,
          0.21459001302719116,
          null
         ]
        },
        {
         "hoverinfo": "none",
         "line": {
          "color": "#b15928",
          "width": 1
         },
         "mode": "lines",
         "type": "scatter",
         "x": [
          0.021653084084391594,
          -0.023312082514166832,
          null
         ],
         "y": [
          0.07488710433244705,
          0.016025826334953308,
          null
         ]
        },
        {
         "hoverinfo": "none",
         "line": {
          "color": "#b15928",
          "width": 1
         },
         "mode": "lines",
         "type": "scatter",
         "x": [
          0.021653084084391594,
          0.029043344780802727,
          null
         ],
         "y": [
          0.07488710433244705,
          0.1691380888223648,
          null
         ]
        },
        {
         "hoverinfo": "none",
         "line": {
          "color": "#b15928",
          "width": 1
         },
         "mode": "lines",
         "type": "scatter",
         "x": [
          0.021653084084391594,
          0.07780714333057404,
          null
         ],
         "y": [
          0.07488710433244705,
          0.15579207241535187,
          null
         ]
        },
        {
         "hoverinfo": "none",
         "line": {
          "color": "#b15928",
          "width": 1
         },
         "mode": "lines",
         "type": "scatter",
         "x": [
          0.021653084084391594,
          0.11517702788114548,
          null
         ],
         "y": [
          0.07488710433244705,
          0.14798413217067719,
          null
         ]
        },
        {
         "hoverinfo": "none",
         "line": {
          "color": "#b15928",
          "width": 1
         },
         "mode": "lines",
         "type": "scatter",
         "x": [
          0.021653084084391594,
          0.05321650207042694,
          null
         ],
         "y": [
          0.07488710433244705,
          -0.02806856483221054,
          null
         ]
        },
        {
         "hoverinfo": "none",
         "line": {
          "color": "#b15928",
          "width": 1
         },
         "mode": "lines",
         "type": "scatter",
         "x": [
          0.021653084084391594,
          0.022403957322239876,
          null
         ],
         "y": [
          0.07488710433244705,
          0.15988971292972565,
          null
         ]
        },
        {
         "hoverinfo": "none",
         "line": {
          "color": "#b15928",
          "width": 1
         },
         "mode": "lines",
         "type": "scatter",
         "x": [
          0.021653084084391594,
          0.004988039843738079,
          null
         ],
         "y": [
          0.07488710433244705,
          0.2151622474193573,
          null
         ]
        },
        {
         "hoverinfo": "none",
         "line": {
          "color": "#b15928",
          "width": 1
         },
         "mode": "lines",
         "type": "scatter",
         "x": [
          0.021653084084391594,
          0.006899488158524036,
          null
         ],
         "y": [
          0.07488710433244705,
          -0.05337626859545708,
          null
         ]
        },
        {
         "hoverinfo": "none",
         "line": {
          "color": "#b15928",
          "width": 1
         },
         "mode": "lines",
         "type": "scatter",
         "x": [
          0.021653084084391594,
          0.05852070823311806,
          null
         ],
         "y": [
          0.07488710433244705,
          0.1782151609659195,
          null
         ]
        },
        {
         "hoverinfo": "none",
         "line": {
          "color": "#b15928",
          "width": 1
         },
         "mode": "lines",
         "type": "scatter",
         "x": [
          0.021653084084391594,
          -0.037056129425764084,
          null
         ],
         "y": [
          0.07488710433244705,
          0.1857951283454895,
          null
         ]
        },
        {
         "hoverinfo": "none",
         "line": {
          "color": "#b15928",
          "width": 1
         },
         "mode": "lines",
         "type": "scatter",
         "x": [
          0.021653084084391594,
          0.06870272010564804,
          null
         ],
         "y": [
          0.07488710433244705,
          0.1633482128381729,
          null
         ]
        },
        {
         "hoverinfo": "none",
         "line": {
          "color": "#b15928",
          "width": 1
         },
         "mode": "lines",
         "type": "scatter",
         "x": [
          0.021653084084391594,
          0.10819666087627411,
          null
         ],
         "y": [
          0.07488710433244705,
          0.13092924654483795,
          null
         ]
        },
        {
         "hoverinfo": "none",
         "line": {
          "color": "#b15928",
          "width": 1
         },
         "mode": "lines",
         "type": "scatter",
         "x": [
          0.021653084084391594,
          -0.033430203795433044,
          null
         ],
         "y": [
          0.07488710433244705,
          0.17339883744716644,
          null
         ]
        },
        {
         "hoverinfo": "none",
         "line": {
          "color": "#b15928",
          "width": 1
         },
         "mode": "lines",
         "type": "scatter",
         "x": [
          0.021653084084391594,
          -0.004070440772920847,
          null
         ],
         "y": [
          0.07488710433244705,
          0.20035752654075623,
          null
         ]
        },
        {
         "hoverinfo": "none",
         "line": {
          "color": "#b15928",
          "width": 1
         },
         "mode": "lines",
         "type": "scatter",
         "x": [
          0.021653084084391594,
          -0.017336739227175713,
          null
         ],
         "y": [
          0.07488710433244705,
          0.002871772740036249,
          null
         ]
        },
        {
         "hoverinfo": "none",
         "line": {
          "color": "#b15928",
          "width": 1
         },
         "mode": "lines",
         "type": "scatter",
         "x": [
          0.021653084084391594,
          0.08463793992996216,
          null
         ],
         "y": [
          0.07488710433244705,
          0.17459870874881744,
          null
         ]
        },
        {
         "hoverinfo": "none",
         "line": {
          "color": "#b15928",
          "width": 1
         },
         "mode": "lines",
         "type": "scatter",
         "x": [
          0.021653084084391594,
          0.09258591383695602,
          null
         ],
         "y": [
          0.07488710433244705,
          0.12561416625976562,
          null
         ]
        },
        {
         "hoverinfo": "none",
         "line": {
          "color": "#b15928",
          "width": 1
         },
         "mode": "lines",
         "type": "scatter",
         "x": [
          0.021653084084391594,
          0.12313637137413025,
          null
         ],
         "y": [
          0.07488710433244705,
          0.1391933262348175,
          null
         ]
        },
        {
         "hoverinfo": "none",
         "line": {
          "color": "#b15928",
          "width": 1
         },
         "mode": "lines",
         "type": "scatter",
         "x": [
          0.021653084084391594,
          -0.02715115062892437,
          null
         ],
         "y": [
          0.07488710433244705,
          0.1885957270860672,
          null
         ]
        },
        {
         "hoverinfo": "none",
         "line": {
          "color": "#b15928",
          "width": 1
         },
         "mode": "lines",
         "type": "scatter",
         "x": [
          0.021653084084391594,
          0.0577680878341198,
          null
         ],
         "y": [
          0.07488710433244705,
          0.19219496846199036,
          null
         ]
        },
        {
         "hoverinfo": "none",
         "line": {
          "color": "#b15928",
          "width": 1
         },
         "mode": "lines",
         "type": "scatter",
         "x": [
          0.021653084084391594,
          0.10190749913454056,
          null
         ],
         "y": [
          0.07488710433244705,
          0.1430470198392868,
          null
         ]
        },
        {
         "hoverinfo": "none",
         "line": {
          "color": "#b15928",
          "width": 1
         },
         "mode": "lines",
         "type": "scatter",
         "x": [
          0.021653084084391594,
          -0.04203881323337555,
          null
         ],
         "y": [
          0.07488710433244705,
          0.16134047508239746,
          null
         ]
        },
        {
         "hoverinfo": "none",
         "line": {
          "color": "#b15928",
          "width": 1
         },
         "mode": "lines",
         "type": "scatter",
         "x": [
          0.021653084084391594,
          0.052648965269327164,
          null
         ],
         "y": [
          0.07488710433244705,
          0.13834339380264282,
          null
         ]
        },
        {
         "hoverinfo": "none",
         "line": {
          "color": "#b15928",
          "width": 1
         },
         "mode": "lines",
         "type": "scatter",
         "x": [
          0.021653084084391594,
          0.026237595826387405,
          null
         ],
         "y": [
          0.07488710433244705,
          -0.041808512061834335,
          null
         ]
        },
        {
         "hoverinfo": "none",
         "line": {
          "color": "#b15928",
          "width": 1
         },
         "mode": "lines",
         "type": "scatter",
         "x": [
          0.021653084084391594,
          0.044583916664123535,
          null
         ],
         "y": [
          0.07488710433244705,
          0.17375479638576508,
          null
         ]
        },
        {
         "hoverinfo": "none",
         "line": {
          "color": "#b15928",
          "width": 1
         },
         "mode": "lines",
         "type": "scatter",
         "x": [
          0.021653084084391594,
          0.019106177613139153,
          null
         ],
         "y": [
          0.07488710433244705,
          0.19517891108989716,
          null
         ]
        },
        {
         "hoverinfo": "none",
         "line": {
          "color": "#b15928",
          "width": 1
         },
         "mode": "lines",
         "type": "scatter",
         "x": [
          0.021653084084391594,
          0.10286802053451538,
          null
         ],
         "y": [
          0.07488710433244705,
          0.18343062698841095,
          null
         ]
        },
        {
         "hoverinfo": "none",
         "line": {
          "color": "#b15928",
          "width": 1
         },
         "mode": "lines",
         "type": "scatter",
         "x": [
          0.021653084084391594,
          0.005565596278756857,
          null
         ],
         "y": [
          0.07488710433244705,
          0.1958310902118683,
          null
         ]
        },
        {
         "hoverinfo": "none",
         "line": {
          "color": "#b15928",
          "width": 1
         },
         "mode": "lines",
         "type": "scatter",
         "x": [
          0.021653084084391594,
          -0.05774930492043495,
          null
         ],
         "y": [
          0.07488710433244705,
          0.16860274970531464,
          null
         ]
        },
        {
         "hoverinfo": "none",
         "line": {
          "color": "#b15928",
          "width": 1
         },
         "mode": "lines",
         "type": "scatter",
         "x": [
          0.021653084084391594,
          -0.04784736409783363,
          null
         ],
         "y": [
          0.07488710433244705,
          0.19531641900539398,
          null
         ]
        },
        {
         "hoverinfo": "none",
         "line": {
          "color": "#b15928",
          "width": 1
         },
         "mode": "lines",
         "type": "scatter",
         "x": [
          0.021653084084391594,
          0.0773555189371109,
          null
         ],
         "y": [
          0.07488710433244705,
          0.20300719141960144,
          null
         ]
        },
        {
         "hoverinfo": "none",
         "line": {
          "color": "#b15928",
          "width": 1
         },
         "mode": "lines",
         "type": "scatter",
         "x": [
          0.000025307354007964022,
          0.00866764783859253,
          null
         ],
         "y": [
          0.05855804681777954,
          0.07544486969709396,
          null
         ]
        },
        {
         "hoverinfo": "none",
         "line": {
          "color": "#b15928",
          "width": 1
         },
         "mode": "lines",
         "type": "scatter",
         "x": [
          0.000025307354007964022,
          0.0031600536312907934,
          null
         ],
         "y": [
          0.05855804681777954,
          -0.017133142799139023,
          null
         ]
        },
        {
         "hoverinfo": "none",
         "line": {
          "color": "#b15928",
          "width": 1
         },
         "mode": "lines",
         "type": "scatter",
         "x": [
          0.000025307354007964022,
          -0.019428802654147148,
          null
         ],
         "y": [
          0.05855804681777954,
          0.08623397350311279,
          null
         ]
        },
        {
         "hoverinfo": "none",
         "line": {
          "color": "#b15928",
          "width": 1
         },
         "mode": "lines",
         "type": "scatter",
         "x": [
          0.000025307354007964022,
          -0.004239080008119345,
          null
         ],
         "y": [
          0.05855804681777954,
          0.037790849804878235,
          null
         ]
        },
        {
         "hoverinfo": "none",
         "line": {
          "color": "#b15928",
          "width": 1
         },
         "mode": "lines",
         "type": "scatter",
         "x": [
          0.000025307354007964022,
          -0.003515766002237797,
          null
         ],
         "y": [
          0.05855804681777954,
          0.0711095780134201,
          null
         ]
        },
        {
         "hoverinfo": "none",
         "line": {
          "color": "#b15928",
          "width": 1
         },
         "mode": "lines",
         "type": "scatter",
         "x": [
          0.000025307354007964022,
          -0.053003836423158646,
          null
         ],
         "y": [
          0.05855804681777954,
          0.06294642388820648,
          null
         ]
        },
        {
         "hoverinfo": "none",
         "line": {
          "color": "#b15928",
          "width": 1
         },
         "mode": "lines",
         "type": "scatter",
         "x": [
          0.000025307354007964022,
          -0.0950717031955719,
          null
         ],
         "y": [
          0.05855804681777954,
          0.12136244028806686,
          null
         ]
        },
        {
         "hoverinfo": "none",
         "line": {
          "color": "#b15928",
          "width": 1
         },
         "mode": "lines",
         "type": "scatter",
         "x": [
          0.000025307354007964022,
          0.07621454447507858,
          null
         ],
         "y": [
          0.05855804681777954,
          0.03477798402309418,
          null
         ]
        },
        {
         "hoverinfo": "none",
         "line": {
          "color": "#b15928",
          "width": 1
         },
         "mode": "lines",
         "type": "scatter",
         "x": [
          0.000025307354007964022,
          0.025569748133420944,
          null
         ],
         "y": [
          0.05855804681777954,
          0.05717584490776062,
          null
         ]
        },
        {
         "hoverinfo": "none",
         "line": {
          "color": "#b15928",
          "width": 1
         },
         "mode": "lines",
         "type": "scatter",
         "x": [
          0.000025307354007964022,
          0.04043589532375336,
          null
         ],
         "y": [
          0.05855804681777954,
          0.022377535700798035,
          null
         ]
        },
        {
         "hoverinfo": "none",
         "line": {
          "color": "#b15928",
          "width": 1
         },
         "mode": "lines",
         "type": "scatter",
         "x": [
          0.000025307354007964022,
          0.04943536967039108,
          null
         ],
         "y": [
          0.05855804681777954,
          0.04042082652449608,
          null
         ]
        },
        {
         "hoverinfo": "none",
         "line": {
          "color": "#b15928",
          "width": 1
         },
         "mode": "lines",
         "type": "scatter",
         "x": [
          0.000025307354007964022,
          -0.09629089385271072,
          null
         ],
         "y": [
          0.05855804681777954,
          0.08682266622781754,
          null
         ]
        },
        {
         "hoverinfo": "none",
         "line": {
          "color": "#b15928",
          "width": 1
         },
         "mode": "lines",
         "type": "scatter",
         "x": [
          0.000025307354007964022,
          -0.08174864202737808,
          null
         ],
         "y": [
          0.05855804681777954,
          0.11179433763027191,
          null
         ]
        },
        {
         "hoverinfo": "none",
         "line": {
          "color": "#b15928",
          "width": 1
         },
         "mode": "lines",
         "type": "scatter",
         "x": [
          0.000025307354007964022,
          0.0279057826846838,
          null
         ],
         "y": [
          0.05855804681777954,
          0.040724098682403564,
          null
         ]
        },
        {
         "hoverinfo": "none",
         "line": {
          "color": "#b15928",
          "width": 1
         },
         "mode": "lines",
         "type": "scatter",
         "x": [
          0.000025307354007964022,
          0.0008833205793052912,
          null
         ],
         "y": [
          0.05855804681777954,
          0.02273876592516899,
          null
         ]
        },
        {
         "hoverinfo": "none",
         "line": {
          "color": "#b15928",
          "width": 1
         },
         "mode": "lines",
         "type": "scatter",
         "x": [
          0.000025307354007964022,
          -0.009411833249032497,
          null
         ],
         "y": [
          0.05855804681777954,
          -0.09530764818191528,
          null
         ]
        },
        {
         "hoverinfo": "none",
         "line": {
          "color": "#b15928",
          "width": 1
         },
         "mode": "lines",
         "type": "scatter",
         "x": [
          0.000025307354007964022,
          0.017234154045581818,
          null
         ],
         "y": [
          0.05855804681777954,
          0.04543225094676018,
          null
         ]
        },
        {
         "hoverinfo": "none",
         "line": {
          "color": "#b15928",
          "width": 1
         },
         "mode": "lines",
         "type": "scatter",
         "x": [
          0.000025307354007964022,
          0.010802186094224453,
          null
         ],
         "y": [
          0.05855804681777954,
          0.08239195495843887,
          null
         ]
        },
        {
         "hoverinfo": "none",
         "line": {
          "color": "#b15928",
          "width": 1
         },
         "mode": "lines",
         "type": "scatter",
         "x": [
          0.000025307354007964022,
          0.0028257581871002913,
          null
         ],
         "y": [
          0.05855804681777954,
          0.07217016816139221,
          null
         ]
        },
        {
         "hoverinfo": "none",
         "line": {
          "color": "#b15928",
          "width": 1
         },
         "mode": "lines",
         "type": "scatter",
         "x": [
          0.000025307354007964022,
          0.02563965879380703,
          null
         ],
         "y": [
          0.05855804681777954,
          0.06867792457342148,
          null
         ]
        },
        {
         "hoverinfo": "none",
         "line": {
          "color": "#b15928",
          "width": 1
         },
         "mode": "lines",
         "type": "scatter",
         "x": [
          0.000025307354007964022,
          -0.08707798272371292,
          null
         ],
         "y": [
          0.05855804681777954,
          0.13171596825122833,
          null
         ]
        },
        {
         "hoverinfo": "none",
         "line": {
          "color": "#b15928",
          "width": 1
         },
         "mode": "lines",
         "type": "scatter",
         "x": [
          0.000025307354007964022,
          0.05031382665038109,
          null
         ],
         "y": [
          0.05855804681777954,
          0.02585100196301937,
          null
         ]
        },
        {
         "hoverinfo": "none",
         "line": {
          "color": "#b15928",
          "width": 1
         },
         "mode": "lines",
         "type": "scatter",
         "x": [
          0.000025307354007964022,
          -0.07964703440666199,
          null
         ],
         "y": [
          0.05855804681777954,
          0.1483251303434372,
          null
         ]
        },
        {
         "hoverinfo": "none",
         "line": {
          "color": "#b15928",
          "width": 1
         },
         "mode": "lines",
         "type": "scatter",
         "x": [
          0.000025307354007964022,
          -0.0010009079705923796,
          null
         ],
         "y": [
          0.05855804681777954,
          -0.05243607237935066,
          null
         ]
        },
        {
         "hoverinfo": "none",
         "line": {
          "color": "#b15928",
          "width": 1
         },
         "mode": "lines",
         "type": "scatter",
         "x": [
          0.000025307354007964022,
          -0.009177794679999352,
          null
         ],
         "y": [
          0.05855804681777954,
          0.10478756576776505,
          null
         ]
        },
        {
         "hoverinfo": "none",
         "line": {
          "color": "#b15928",
          "width": 1
         },
         "mode": "lines",
         "type": "scatter",
         "x": [
          0.000025307354007964022,
          -0.028187397867441177,
          null
         ],
         "y": [
          0.05855804681777954,
          0.01833406277000904,
          null
         ]
        },
        {
         "hoverinfo": "none",
         "line": {
          "color": "#b15928",
          "width": 1
         },
         "mode": "lines",
         "type": "scatter",
         "x": [
          0.000025307354007964022,
          -0.013280787505209446,
          null
         ],
         "y": [
          0.05855804681777954,
          0.06461293250322342,
          null
         ]
        },
        {
         "hoverinfo": "none",
         "line": {
          "color": "#b15928",
          "width": 1
         },
         "mode": "lines",
         "type": "scatter",
         "x": [
          0.000025307354007964022,
          0.014455022290349007,
          null
         ],
         "y": [
          0.05855804681777954,
          0.08197908103466034,
          null
         ]
        },
        {
         "hoverinfo": "none",
         "line": {
          "color": "#b15928",
          "width": 1
         },
         "mode": "lines",
         "type": "scatter",
         "x": [
          0.000025307354007964022,
          -0.11404864490032196,
          null
         ],
         "y": [
          0.05855804681777954,
          0.0793866515159607,
          null
         ]
        },
        {
         "hoverinfo": "none",
         "line": {
          "color": "#b15928",
          "width": 1
         },
         "mode": "lines",
         "type": "scatter",
         "x": [
          0.000025307354007964022,
          -0.017336739227175713,
          null
         ],
         "y": [
          0.05855804681777954,
          0.002871772740036249,
          null
         ]
        },
        {
         "hoverinfo": "none",
         "line": {
          "color": "#b15928",
          "width": 1
         },
         "mode": "lines",
         "type": "scatter",
         "x": [
          0.000025307354007964022,
          0.11428499966859818,
          null
         ],
         "y": [
          0.05855804681777954,
          0.06138763949275017,
          null
         ]
        },
        {
         "hoverinfo": "none",
         "line": {
          "color": "#b15928",
          "width": 1
         },
         "mode": "lines",
         "type": "scatter",
         "x": [
          0.000025307354007964022,
          0.0062402402982115746,
          null
         ],
         "y": [
          0.05855804681777954,
          0.019644493237137794,
          null
         ]
        },
        {
         "hoverinfo": "none",
         "line": {
          "color": "#b15928",
          "width": 1
         },
         "mode": "lines",
         "type": "scatter",
         "x": [
          -0.004239080008119345,
          0.00866764783859253,
          null
         ],
         "y": [
          0.037790849804878235,
          0.07544486969709396,
          null
         ]
        },
        {
         "hoverinfo": "none",
         "line": {
          "color": "#b15928",
          "width": 1
         },
         "mode": "lines",
         "type": "scatter",
         "x": [
          -0.004239080008119345,
          -0.009411833249032497,
          null
         ],
         "y": [
          0.037790849804878235,
          -0.09530764818191528,
          null
         ]
        },
        {
         "hoverinfo": "none",
         "line": {
          "color": "#b15928",
          "width": 1
         },
         "mode": "lines",
         "type": "scatter",
         "x": [
          -0.004239080008119345,
          -0.0010009079705923796,
          null
         ],
         "y": [
          0.037790849804878235,
          -0.05243607237935066,
          null
         ]
        },
        {
         "hoverinfo": "none",
         "line": {
          "color": "#b15928",
          "width": 1
         },
         "mode": "lines",
         "type": "scatter",
         "x": [
          -0.004239080008119345,
          -0.00674491235986352,
          null
         ],
         "y": [
          0.037790849804878235,
          0.045609381049871445,
          null
         ]
        },
        {
         "hoverinfo": "none",
         "line": {
          "color": "#b15928",
          "width": 1
         },
         "mode": "lines",
         "type": "scatter",
         "x": [
          -0.004239080008119345,
          0.04043589532375336,
          null
         ],
         "y": [
          0.037790849804878235,
          0.022377535700798035,
          null
         ]
        },
        {
         "hoverinfo": "none",
         "line": {
          "color": "#b15928",
          "width": 1
         },
         "mode": "lines",
         "type": "scatter",
         "x": [
          -0.004239080008119345,
          0.017234154045581818,
          null
         ],
         "y": [
          0.037790849804878235,
          0.04543225094676018,
          null
         ]
        },
        {
         "hoverinfo": "none",
         "line": {
          "color": "#b15928",
          "width": 1
         },
         "mode": "lines",
         "type": "scatter",
         "x": [
          -0.004239080008119345,
          -0.004239080008119345,
          null
         ],
         "y": [
          0.037790849804878235,
          0.037790849804878235,
          null
         ]
        },
        {
         "hoverinfo": "none",
         "line": {
          "color": "#b15928",
          "width": 1
         },
         "mode": "lines",
         "type": "scatter",
         "x": [
          -0.004239080008119345,
          -0.003515766002237797,
          null
         ],
         "y": [
          0.037790849804878235,
          0.0711095780134201,
          null
         ]
        },
        {
         "hoverinfo": "none",
         "line": {
          "color": "#b15928",
          "width": 1
         },
         "mode": "lines",
         "type": "scatter",
         "x": [
          -0.004239080008119345,
          0.04943536967039108,
          null
         ],
         "y": [
          0.037790849804878235,
          0.04042082652449608,
          null
         ]
        },
        {
         "hoverinfo": "none",
         "line": {
          "color": "#b15928",
          "width": 1
         },
         "mode": "lines",
         "type": "scatter",
         "x": [
          -0.004239080008119345,
          0.0008833205793052912,
          null
         ],
         "y": [
          0.037790849804878235,
          0.02273876592516899,
          null
         ]
        },
        {
         "hoverinfo": "none",
         "line": {
          "color": "#b15928",
          "width": 1
         },
         "mode": "lines",
         "type": "scatter",
         "x": [
          -0.004239080008119345,
          0.021972890943288803,
          null
         ],
         "y": [
          0.037790849804878235,
          0.051031600683927536,
          null
         ]
        },
        {
         "hoverinfo": "none",
         "line": {
          "color": "#b15928",
          "width": 1
         },
         "mode": "lines",
         "type": "scatter",
         "x": [
          -0.004239080008119345,
          0.0279057826846838,
          null
         ],
         "y": [
          0.037790849804878235,
          0.040724098682403564,
          null
         ]
        },
        {
         "hoverinfo": "none",
         "line": {
          "color": "#b15928",
          "width": 1
         },
         "mode": "lines",
         "type": "scatter",
         "x": [
          -0.004239080008119345,
          -0.06624762713909149,
          null
         ],
         "y": [
          0.037790849804878235,
          0.05385256186127663,
          null
         ]
        },
        {
         "hoverinfo": "none",
         "line": {
          "color": "#b15928",
          "width": 1
         },
         "mode": "lines",
         "type": "scatter",
         "x": [
          -0.004239080008119345,
          0.0028257581871002913,
          null
         ],
         "y": [
          0.037790849804878235,
          0.07217016816139221,
          null
         ]
        },
        {
         "hoverinfo": "none",
         "line": {
          "color": "#b15928",
          "width": 1
         },
         "mode": "lines",
         "type": "scatter",
         "x": [
          -0.004239080008119345,
          -0.01735714077949524,
          null
         ],
         "y": [
          0.037790849804878235,
          -0.007083676755428314,
          null
         ]
        },
        {
         "hoverinfo": "none",
         "line": {
          "color": "#b15928",
          "width": 1
         },
         "mode": "lines",
         "type": "scatter",
         "x": [
          -0.004239080008119345,
          0.11015378683805466,
          null
         ],
         "y": [
          0.037790849804878235,
          0.0816793292760849,
          null
         ]
        },
        {
         "hoverinfo": "none",
         "line": {
          "color": "#b15928",
          "width": 1
         },
         "mode": "lines",
         "type": "scatter",
         "x": [
          -0.004239080008119345,
          -0.040370188653469086,
          null
         ],
         "y": [
          0.037790849804878235,
          0.093656525015831,
          null
         ]
        },
        {
         "hoverinfo": "none",
         "line": {
          "color": "#b15928",
          "width": 1
         },
         "mode": "lines",
         "type": "scatter",
         "x": [
          -0.004239080008119345,
          -0.07235895097255707,
          null
         ],
         "y": [
          0.037790849804878235,
          0.0988973081111908,
          null
         ]
        },
        {
         "hoverinfo": "none",
         "line": {
          "color": "#b15928",
          "width": 1
         },
         "mode": "lines",
         "type": "scatter",
         "x": [
          -0.004239080008119345,
          -0.037273623049259186,
          null
         ],
         "y": [
          0.037790849804878235,
          -0.0166777316480875,
          null
         ]
        },
        {
         "hoverinfo": "none",
         "line": {
          "color": "#b15928",
          "width": 1
         },
         "mode": "lines",
         "type": "scatter",
         "x": [
          -0.004239080008119345,
          -0.06082925945520401,
          null
         ],
         "y": [
          0.037790849804878235,
          0.05018354207277298,
          null
         ]
        },
        {
         "hoverinfo": "none",
         "line": {
          "color": "#b15928",
          "width": 1
         },
         "mode": "lines",
         "type": "scatter",
         "x": [
          -0.004239080008119345,
          -0.09098842740058899,
          null
         ],
         "y": [
          0.037790849804878235,
          0.05503544956445694,
          null
         ]
        },
        {
         "hoverinfo": "none",
         "line": {
          "color": "#b15928",
          "width": 1
         },
         "mode": "lines",
         "type": "scatter",
         "x": [
          -0.004239080008119345,
          -0.07729380577802658,
          null
         ],
         "y": [
          0.037790849804878235,
          0.08059502393007278,
          null
         ]
        },
        {
         "hoverinfo": "none",
         "line": {
          "color": "#b15928",
          "width": 1
         },
         "mode": "lines",
         "type": "scatter",
         "x": [
          0.017234154045581818,
          -0.009411833249032497,
          null
         ],
         "y": [
          0.04543225094676018,
          -0.09530764818191528,
          null
         ]
        },
        {
         "hoverinfo": "none",
         "line": {
          "color": "#b15928",
          "width": 1
         },
         "mode": "lines",
         "type": "scatter",
         "x": [
          0.017234154045581818,
          0.025569748133420944,
          null
         ],
         "y": [
          0.04543225094676018,
          0.05717584490776062,
          null
         ]
        },
        {
         "hoverinfo": "none",
         "line": {
          "color": "#b15928",
          "width": 1
         },
         "mode": "lines",
         "type": "scatter",
         "x": [
          0.017234154045581818,
          -0.00674491235986352,
          null
         ],
         "y": [
          0.04543225094676018,
          0.045609381049871445,
          null
         ]
        },
        {
         "hoverinfo": "none",
         "line": {
          "color": "#b15928",
          "width": 1
         },
         "mode": "lines",
         "type": "scatter",
         "x": [
          0.017234154045581818,
          0.04043589532375336,
          null
         ],
         "y": [
          0.04543225094676018,
          0.022377535700798035,
          null
         ]
        },
        {
         "hoverinfo": "none",
         "line": {
          "color": "#b15928",
          "width": 1
         },
         "mode": "lines",
         "type": "scatter",
         "x": [
          0.017234154045581818,
          0.04377574473619461,
          null
         ],
         "y": [
          0.04543225094676018,
          0.07973743975162506,
          null
         ]
        },
        {
         "hoverinfo": "none",
         "line": {
          "color": "#b15928",
          "width": 1
         },
         "mode": "lines",
         "type": "scatter",
         "x": [
          0.017234154045581818,
          -0.02157602645456791,
          null
         ],
         "y": [
          0.04543225094676018,
          0.0981064885854721,
          null
         ]
        },
        {
         "hoverinfo": "none",
         "line": {
          "color": "#b15928",
          "width": 1
         },
         "mode": "lines",
         "type": "scatter",
         "x": [
          0.017234154045581818,
          0.022681519389152527,
          null
         ],
         "y": [
          0.04543225094676018,
          0.049327507615089417,
          null
         ]
        },
        {
         "hoverinfo": "none",
         "line": {
          "color": "#b15928",
          "width": 1
         },
         "mode": "lines",
         "type": "scatter",
         "x": [
          0.017234154045581818,
          0.011239961721003056,
          null
         ],
         "y": [
          0.04543225094676018,
          0.023881617933511734,
          null
         ]
        },
        {
         "hoverinfo": "none",
         "line": {
          "color": "#b15928",
          "width": 1
         },
         "mode": "lines",
         "type": "scatter",
         "x": [
          0.017234154045581818,
          0.0012960839085280895,
          null
         ],
         "y": [
          0.04543225094676018,
          0.08289168030023575,
          null
         ]
        },
        {
         "hoverinfo": "none",
         "line": {
          "color": "#b15928",
          "width": 1
         },
         "mode": "lines",
         "type": "scatter",
         "x": [
          0.017234154045581818,
          0.06611188501119614,
          null
         ],
         "y": [
          0.04543225094676018,
          0.011177261359989643,
          null
         ]
        },
        {
         "hoverinfo": "none",
         "line": {
          "color": "#b15928",
          "width": 1
         },
         "mode": "lines",
         "type": "scatter",
         "x": [
          0.017234154045581818,
          -0.014625443145632744,
          null
         ],
         "y": [
          0.04543225094676018,
          0.10928528010845184,
          null
         ]
        },
        {
         "hoverinfo": "none",
         "line": {
          "color": "#b15928",
          "width": 1
         },
         "mode": "lines",
         "type": "scatter",
         "x": [
          0.017234154045581818,
          0.04943536967039108,
          null
         ],
         "y": [
          0.04543225094676018,
          0.04042082652449608,
          null
         ]
        },
        {
         "hoverinfo": "none",
         "line": {
          "color": "#b15928",
          "width": 1
         },
         "mode": "lines",
         "type": "scatter",
         "x": [
          0.017234154045581818,
          0.009246340952813625,
          null
         ],
         "y": [
          0.04543225094676018,
          0.09573113918304443,
          null
         ]
        },
        {
         "hoverinfo": "none",
         "line": {
          "color": "#b15928",
          "width": 1
         },
         "mode": "lines",
         "type": "scatter",
         "x": [
          0.017234154045581818,
          0.0028257581871002913,
          null
         ],
         "y": [
          0.04543225094676018,
          0.07217016816139221,
          null
         ]
        },
        {
         "hoverinfo": "none",
         "line": {
          "color": "#b15928",
          "width": 1
         },
         "mode": "lines",
         "type": "scatter",
         "x": [
          0.017234154045581818,
          0.05179174989461899,
          null
         ],
         "y": [
          0.04543225094676018,
          0.07654814422130585,
          null
         ]
        },
        {
         "hoverinfo": "none",
         "line": {
          "color": "#b15928",
          "width": 1
         },
         "mode": "lines",
         "type": "scatter",
         "x": [
          0.017234154045581818,
          0.06340015679597855,
          null
         ],
         "y": [
          0.04543225094676018,
          0.07013100385665894,
          null
         ]
        },
        {
         "hoverinfo": "none",
         "line": {
          "color": "#b15928",
          "width": 1
         },
         "mode": "lines",
         "type": "scatter",
         "x": [
          0.017234154045581818,
          0.02563965879380703,
          null
         ],
         "y": [
          0.04543225094676018,
          0.06867792457342148,
          null
         ]
        },
        {
         "hoverinfo": "none",
         "line": {
          "color": "#b15928",
          "width": 1
         },
         "mode": "lines",
         "type": "scatter",
         "x": [
          0.017234154045581818,
          0.017234154045581818,
          null
         ],
         "y": [
          0.04543225094676018,
          0.04543225094676018,
          null
         ]
        },
        {
         "hoverinfo": "none",
         "line": {
          "color": "#b15928",
          "width": 1
         },
         "mode": "lines",
         "type": "scatter",
         "x": [
          0.017234154045581818,
          -0.003515766002237797,
          null
         ],
         "y": [
          0.04543225094676018,
          0.0711095780134201,
          null
         ]
        },
        {
         "hoverinfo": "none",
         "line": {
          "color": "#b15928",
          "width": 1
         },
         "mode": "lines",
         "type": "scatter",
         "x": [
          -0.00674491235986352,
          0.025569748133420944,
          null
         ],
         "y": [
          0.045609381049871445,
          0.05717584490776062,
          null
         ]
        },
        {
         "hoverinfo": "none",
         "line": {
          "color": "#b15928",
          "width": 1
         },
         "mode": "lines",
         "type": "scatter",
         "x": [
          -0.00674491235986352,
          -0.037273623049259186,
          null
         ],
         "y": [
          0.045609381049871445,
          -0.0166777316480875,
          null
         ]
        },
        {
         "hoverinfo": "none",
         "line": {
          "color": "#b15928",
          "width": 1
         },
         "mode": "lines",
         "type": "scatter",
         "x": [
          -0.00674491235986352,
          0.04043589532375336,
          null
         ],
         "y": [
          0.045609381049871445,
          0.022377535700798035,
          null
         ]
        },
        {
         "hoverinfo": "none",
         "line": {
          "color": "#b15928",
          "width": 1
         },
         "mode": "lines",
         "type": "scatter",
         "x": [
          -0.00674491235986352,
          0.0012960839085280895,
          null
         ],
         "y": [
          0.045609381049871445,
          0.08289168030023575,
          null
         ]
        },
        {
         "hoverinfo": "none",
         "line": {
          "color": "#b15928",
          "width": 1
         },
         "mode": "lines",
         "type": "scatter",
         "x": [
          -0.00674491235986352,
          0.04966125637292862,
          null
         ],
         "y": [
          0.045609381049871445,
          0.0526713989675045,
          null
         ]
        },
        {
         "hoverinfo": "none",
         "line": {
          "color": "#b15928",
          "width": 1
         },
         "mode": "lines",
         "type": "scatter",
         "x": [
          -0.00674491235986352,
          -0.06687567383050919,
          null
         ],
         "y": [
          0.045609381049871445,
          0.0765421986579895,
          null
         ]
        },
        {
         "hoverinfo": "none",
         "line": {
          "color": "#b15928",
          "width": 1
         },
         "mode": "lines",
         "type": "scatter",
         "x": [
          -0.00674491235986352,
          0.07621454447507858,
          null
         ],
         "y": [
          0.045609381049871445,
          0.03477798402309418,
          null
         ]
        },
        {
         "hoverinfo": "none",
         "line": {
          "color": "#b15928",
          "width": 1
         },
         "mode": "lines",
         "type": "scatter",
         "x": [
          -0.00674491235986352,
          -0.06082925945520401,
          null
         ],
         "y": [
          0.045609381049871445,
          0.05018354207277298,
          null
         ]
        },
        {
         "hoverinfo": "none",
         "line": {
          "color": "#b15928",
          "width": 1
         },
         "mode": "lines",
         "type": "scatter",
         "x": [
          -0.00674491235986352,
          -0.07729380577802658,
          null
         ],
         "y": [
          0.045609381049871445,
          0.08059502393007278,
          null
         ]
        },
        {
         "hoverinfo": "none",
         "line": {
          "color": "#b15928",
          "width": 1
         },
         "mode": "lines",
         "type": "scatter",
         "x": [
          0.04043589532375336,
          -0.009411833249032497,
          null
         ],
         "y": [
          0.022377535700798035,
          -0.09530764818191528,
          null
         ]
        },
        {
         "hoverinfo": "none",
         "line": {
          "color": "#b15928",
          "width": 1
         },
         "mode": "lines",
         "type": "scatter",
         "x": [
          0.04043589532375336,
          -0.0010009079705923796,
          null
         ],
         "y": [
          0.022377535700798035,
          -0.05243607237935066,
          null
         ]
        },
        {
         "hoverinfo": "none",
         "line": {
          "color": "#b15928",
          "width": 1
         },
         "mode": "lines",
         "type": "scatter",
         "x": [
          0.04043589532375336,
          -0.0012278436915948987,
          null
         ],
         "y": [
          0.022377535700798035,
          -0.06282893568277359,
          null
         ]
        },
        {
         "hoverinfo": "none",
         "line": {
          "color": "#b15928",
          "width": 1
         },
         "mode": "lines",
         "type": "scatter",
         "x": [
          0.04043589532375336,
          0.025569748133420944,
          null
         ],
         "y": [
          0.022377535700798035,
          0.05717584490776062,
          null
         ]
        },
        {
         "hoverinfo": "none",
         "line": {
          "color": "#b15928",
          "width": 1
         },
         "mode": "lines",
         "type": "scatter",
         "x": [
          0.04043589532375336,
          -0.061359044164419174,
          null
         ],
         "y": [
          0.022377535700798035,
          0.011634476482868195,
          null
         ]
        },
        {
         "hoverinfo": "none",
         "line": {
          "color": "#b15928",
          "width": 1
         },
         "mode": "lines",
         "type": "scatter",
         "x": [
          0.04043589532375336,
          -0.0361969992518425,
          null
         ],
         "y": [
          0.022377535700798035,
          0.11395077407360077,
          null
         ]
        },
        {
         "hoverinfo": "none",
         "line": {
          "color": "#b15928",
          "width": 1
         },
         "mode": "lines",
         "type": "scatter",
         "x": [
          0.04043589532375336,
          -0.00552947074174881,
          null
         ],
         "y": [
          0.022377535700798035,
          0.11045962572097778,
          null
         ]
        },
        {
         "hoverinfo": "none",
         "line": {
          "color": "#b15928",
          "width": 1
         },
         "mode": "lines",
         "type": "scatter",
         "x": [
          0.04043589532375336,
          -0.037273623049259186,
          null
         ],
         "y": [
          0.022377535700798035,
          -0.0166777316480875,
          null
         ]
        },
        {
         "hoverinfo": "none",
         "line": {
          "color": "#b15928",
          "width": 1
         },
         "mode": "lines",
         "type": "scatter",
         "x": [
          0.04043589532375336,
          0.04943536967039108,
          null
         ],
         "y": [
          0.022377535700798035,
          0.04042082652449608,
          null
         ]
        },
        {
         "hoverinfo": "none",
         "line": {
          "color": "#b15928",
          "width": 1
         },
         "mode": "lines",
         "type": "scatter",
         "x": [
          0.04043589532375336,
          0.04043589532375336,
          null
         ],
         "y": [
          0.022377535700798035,
          0.022377535700798035,
          null
         ]
        },
        {
         "hoverinfo": "none",
         "line": {
          "color": "#b15928",
          "width": 1
         },
         "mode": "lines",
         "type": "scatter",
         "x": [
          0.04043589532375336,
          0.0279057826846838,
          null
         ],
         "y": [
          0.022377535700798035,
          0.040724098682403564,
          null
         ]
        },
        {
         "hoverinfo": "none",
         "line": {
          "color": "#b15928",
          "width": 1
         },
         "mode": "lines",
         "type": "scatter",
         "x": [
          0.04043589532375336,
          -0.053003836423158646,
          null
         ],
         "y": [
          0.022377535700798035,
          0.06294642388820648,
          null
         ]
        },
        {
         "hoverinfo": "none",
         "line": {
          "color": "#ffff99",
          "width": 1
         },
         "mode": "lines",
         "type": "scatter",
         "x": [
          0.04043589532375336,
          0.06611188501119614,
          null
         ],
         "y": [
          0.022377535700798035,
          0.011177261359989643,
          null
         ]
        },
        {
         "hoverinfo": "none",
         "line": {
          "color": "#b15928",
          "width": 1
         },
         "mode": "lines",
         "type": "scatter",
         "x": [
          0.04043589532375336,
          0.07436678558588028,
          null
         ],
         "y": [
          0.022377535700798035,
          0.013922978192567825,
          null
         ]
        },
        {
         "hoverinfo": "none",
         "line": {
          "color": "#b15928",
          "width": 1
         },
         "mode": "lines",
         "type": "scatter",
         "x": [
          0.04043589532375336,
          0.022681519389152527,
          null
         ],
         "y": [
          0.022377535700798035,
          0.049327507615089417,
          null
         ]
        },
        {
         "hoverinfo": "none",
         "line": {
          "color": "#b15928",
          "width": 1
         },
         "mode": "lines",
         "type": "scatter",
         "x": [
          0.04043589532375336,
          0.0012960839085280895,
          null
         ],
         "y": [
          0.022377535700798035,
          0.08289168030023575,
          null
         ]
        },
        {
         "hoverinfo": "none",
         "line": {
          "color": "#b15928",
          "width": 1
         },
         "mode": "lines",
         "type": "scatter",
         "x": [
          0.04043589532375336,
          0.054449569433927536,
          null
         ],
         "y": [
          0.022377535700798035,
          0.08344356715679169,
          null
         ]
        },
        {
         "hoverinfo": "none",
         "line": {
          "color": "#b15928",
          "width": 1
         },
         "mode": "lines",
         "type": "scatter",
         "x": [
          0.04043589532375336,
          0.04966125637292862,
          null
         ],
         "y": [
          0.022377535700798035,
          0.0526713989675045,
          null
         ]
        },
        {
         "hoverinfo": "none",
         "line": {
          "color": "#b15928",
          "width": 1
         },
         "mode": "lines",
         "type": "scatter",
         "x": [
          0.04043589532375336,
          0.06340015679597855,
          null
         ],
         "y": [
          0.022377535700798035,
          0.07013100385665894,
          null
         ]
        },
        {
         "hoverinfo": "none",
         "line": {
          "color": "#b15928",
          "width": 1
         },
         "mode": "lines",
         "type": "scatter",
         "x": [
          0.04043589532375336,
          0.1145307794213295,
          null
         ],
         "y": [
          0.022377535700798035,
          0.07584137469530106,
          null
         ]
        },
        {
         "hoverinfo": "none",
         "line": {
          "color": "#b15928",
          "width": 1
         },
         "mode": "lines",
         "type": "scatter",
         "x": [
          0.04043589532375336,
          0.021972890943288803,
          null
         ],
         "y": [
          0.022377535700798035,
          0.051031600683927536,
          null
         ]
        },
        {
         "hoverinfo": "none",
         "line": {
          "color": "#b15928",
          "width": 1
         },
         "mode": "lines",
         "type": "scatter",
         "x": [
          0.04043589532375336,
          -0.058793503791093826,
          null
         ],
         "y": [
          0.022377535700798035,
          0.023034455254673958,
          null
         ]
        },
        {
         "hoverinfo": "none",
         "line": {
          "color": "#b15928",
          "width": 1
         },
         "mode": "lines",
         "type": "scatter",
         "x": [
          0.04043589532375336,
          0.08428648114204407,
          null
         ],
         "y": [
          0.022377535700798035,
          0.026960067451000214,
          null
         ]
        },
        {
         "hoverinfo": "none",
         "line": {
          "color": "#b15928",
          "width": 1
         },
         "mode": "lines",
         "type": "scatter",
         "x": [
          0.04043589532375336,
          0.009246340952813625,
          null
         ],
         "y": [
          0.022377535700798035,
          0.09573113918304443,
          null
         ]
        },
        {
         "hoverinfo": "none",
         "line": {
          "color": "#b15928",
          "width": 1
         },
         "mode": "lines",
         "type": "scatter",
         "x": [
          0.04043589532375336,
          0.08562422543764114,
          null
         ],
         "y": [
          0.022377535700798035,
          -0.03937424346804619,
          null
         ]
        },
        {
         "hoverinfo": "none",
         "line": {
          "color": "#b15928",
          "width": 1
         },
         "mode": "lines",
         "type": "scatter",
         "x": [
          0.04043589532375336,
          0.040209438651800156,
          null
         ],
         "y": [
          0.022377535700798035,
          -0.03278698772192001,
          null
         ]
        },
        {
         "hoverinfo": "none",
         "line": {
          "color": "#b15928",
          "width": 1
         },
         "mode": "lines",
         "type": "scatter",
         "x": [
          0.04043589532375336,
          0.07621454447507858,
          null
         ],
         "y": [
          0.022377535700798035,
          0.03477798402309418,
          null
         ]
        },
        {
         "hoverinfo": "none",
         "line": {
          "color": "#b15928",
          "width": 1
         },
         "mode": "lines",
         "type": "scatter",
         "x": [
          0.04043589532375336,
          0.088345967233181,
          null
         ],
         "y": [
          0.022377535700798035,
          -0.02072688564658165,
          null
         ]
        },
        {
         "hoverinfo": "none",
         "line": {
          "color": "#b15928",
          "width": 1
         },
         "mode": "lines",
         "type": "scatter",
         "x": [
          0.04043589532375336,
          0.09255033731460571,
          null
         ],
         "y": [
          0.022377535700798035,
          0.07413111627101898,
          null
         ]
        },
        {
         "hoverinfo": "none",
         "line": {
          "color": "#b15928",
          "width": 1
         },
         "mode": "lines",
         "type": "scatter",
         "x": [
          0.04043589532375336,
          -0.06262879073619843,
          null
         ],
         "y": [
          0.022377535700798035,
          0.06851179152727127,
          null
         ]
        },
        {
         "hoverinfo": "none",
         "line": {
          "color": "#b15928",
          "width": 1
         },
         "mode": "lines",
         "type": "scatter",
         "x": [
          0.04043589532375336,
          0.11297459155321121,
          null
         ],
         "y": [
          0.022377535700798035,
          0.021347735077142715,
          null
         ]
        },
        {
         "hoverinfo": "none",
         "line": {
          "color": "#b15928",
          "width": 1
         },
         "mode": "lines",
         "type": "scatter",
         "x": [
          0.04043589532375336,
          -0.03971003368496895,
          null
         ],
         "y": [
          0.022377535700798035,
          0.03288314491510391,
          null
         ]
        },
        {
         "hoverinfo": "none",
         "line": {
          "color": "#b15928",
          "width": 1
         },
         "mode": "lines",
         "type": "scatter",
         "x": [
          0.04043589532375336,
          0.14911679923534393,
          null
         ],
         "y": [
          0.022377535700798035,
          0.00134780234657228,
          null
         ]
        },
        {
         "hoverinfo": "none",
         "line": {
          "color": "#b15928",
          "width": 1
         },
         "mode": "lines",
         "type": "scatter",
         "x": [
          0.04043589532375336,
          -0.11404864490032196,
          null
         ],
         "y": [
          0.022377535700798035,
          0.0793866515159607,
          null
         ]
        },
        {
         "hoverinfo": "none",
         "line": {
          "color": "#b15928",
          "width": 1
         },
         "mode": "lines",
         "type": "scatter",
         "x": [
          0.04043589532375336,
          -0.056218210607767105,
          null
         ],
         "y": [
          0.022377535700798035,
          0.06314311176538467,
          null
         ]
        },
        {
         "hoverinfo": "none",
         "line": {
          "color": "#b15928",
          "width": 1
         },
         "mode": "lines",
         "type": "scatter",
         "x": [
          0.04043589532375336,
          0.14759588241577148,
          null
         ],
         "y": [
          0.022377535700798035,
          0.02502519078552723,
          null
         ]
        },
        {
         "hoverinfo": "none",
         "line": {
          "color": "#b15928",
          "width": 1
         },
         "mode": "lines",
         "type": "scatter",
         "x": [
          0.04043589532375336,
          0.08647139370441437,
          null
         ],
         "y": [
          0.022377535700798035,
          0.012992375530302525,
          null
         ]
        },
        {
         "hoverinfo": "none",
         "line": {
          "color": "#b15928",
          "width": 1
         },
         "mode": "lines",
         "type": "scatter",
         "x": [
          0.04043589532375336,
          0.08163558691740036,
          null
         ],
         "y": [
          0.022377535700798035,
          0.002645733067765832,
          null
         ]
        },
        {
         "hoverinfo": "none",
         "line": {
          "color": "#b15928",
          "width": 1
         },
         "mode": "lines",
         "type": "scatter",
         "x": [
          0.04043589532375336,
          0.036452848464250565,
          null
         ],
         "y": [
          0.022377535700798035,
          -0.011518123559653759,
          null
         ]
        },
        {
         "hoverinfo": "none",
         "line": {
          "color": "#b15928",
          "width": 1
         },
         "mode": "lines",
         "type": "scatter",
         "x": [
          0.04043589532375336,
          0.03503832593560219,
          null
         ],
         "y": [
          0.022377535700798035,
          -0.060259267687797546,
          null
         ]
        },
        {
         "hoverinfo": "none",
         "line": {
          "color": "#b15928",
          "width": 1
         },
         "mode": "lines",
         "type": "scatter",
         "x": [
          0.04043589532375336,
          0.06977780163288116,
          null
         ],
         "y": [
          0.022377535700798035,
          0.04905867576599121,
          null
         ]
        },
        {
         "hoverinfo": "none",
         "line": {
          "color": "#b15928",
          "width": 1
         },
         "mode": "lines",
         "type": "scatter",
         "x": [
          0.04043589532375336,
          0.08447082340717316,
          null
         ],
         "y": [
          0.022377535700798035,
          0.053595248609781265,
          null
         ]
        },
        {
         "hoverinfo": "none",
         "line": {
          "color": "#b15928",
          "width": 1
         },
         "mode": "lines",
         "type": "scatter",
         "x": [
          0.04043589532375336,
          0.16442517936229706,
          null
         ],
         "y": [
          0.022377535700798035,
          0.04209135100245476,
          null
         ]
        },
        {
         "hoverinfo": "none",
         "line": {
          "color": "#b15928",
          "width": 1
         },
         "mode": "lines",
         "type": "scatter",
         "x": [
          0.04043589532375336,
          0.13661688566207886,
          null
         ],
         "y": [
          0.022377535700798035,
          0.08691762387752533,
          null
         ]
        },
        {
         "hoverinfo": "none",
         "line": {
          "color": "#b15928",
          "width": 1
         },
         "mode": "lines",
         "type": "scatter",
         "x": [
          0.04043589532375336,
          -0.02189420349895954,
          null
         ],
         "y": [
          0.022377535700798035,
          -0.04232972860336304,
          null
         ]
        },
        {
         "hoverinfo": "none",
         "line": {
          "color": "#b15928",
          "width": 1
         },
         "mode": "lines",
         "type": "scatter",
         "x": [
          0.04043589532375336,
          0.11428499966859818,
          null
         ],
         "y": [
          0.022377535700798035,
          0.06138763949275017,
          null
         ]
        },
        {
         "hoverinfo": "none",
         "line": {
          "color": "#b15928",
          "width": 1
         },
         "mode": "lines",
         "type": "scatter",
         "x": [
          0.04043589532375336,
          0.1544070839881897,
          null
         ],
         "y": [
          0.022377535700798035,
          0.10449688136577606,
          null
         ]
        },
        {
         "hoverinfo": "none",
         "line": {
          "color": "#b15928",
          "width": 1
         },
         "mode": "lines",
         "type": "scatter",
         "x": [
          0.04043589532375336,
          -0.04362308979034424,
          null
         ],
         "y": [
          0.022377535700798035,
          0.07191333174705505,
          null
         ]
        },
        {
         "hoverinfo": "none",
         "line": {
          "color": "#b15928",
          "width": 1
         },
         "mode": "lines",
         "type": "scatter",
         "x": [
          0.04043589532375336,
          0.13576294481754303,
          null
         ],
         "y": [
          0.022377535700798035,
          -0.0008830911247059703,
          null
         ]
        },
        {
         "hoverinfo": "none",
         "line": {
          "color": "#b15928",
          "width": 1
         },
         "mode": "lines",
         "type": "scatter",
         "x": [
          0.04043589532375336,
          0.13038703799247742,
          null
         ],
         "y": [
          0.022377535700798035,
          -0.01461169682443142,
          null
         ]
        },
        {
         "hoverinfo": "none",
         "line": {
          "color": "#b15928",
          "width": 1
         },
         "mode": "lines",
         "type": "scatter",
         "x": [
          0.04043589532375336,
          0.09952220320701599,
          null
         ],
         "y": [
          0.022377535700798035,
          0.002265270333737135,
          null
         ]
        },
        {
         "hoverinfo": "none",
         "line": {
          "color": "#b15928",
          "width": 1
         },
         "mode": "lines",
         "type": "scatter",
         "x": [
          0.04043589532375336,
          0.10514023900032043,
          null
         ],
         "y": [
          0.022377535700798035,
          0.016685698181390762,
          null
         ]
        },
        {
         "hoverinfo": "none",
         "line": {
          "color": "#b15928",
          "width": 1
         },
         "mode": "lines",
         "type": "scatter",
         "x": [
          0.04043589532375336,
          0.11710836738348007,
          null
         ],
         "y": [
          0.022377535700798035,
          0.0009321760153397918,
          null
         ]
        },
        {
         "hoverinfo": "none",
         "line": {
          "color": "#b15928",
          "width": 1
         },
         "mode": "lines",
         "type": "scatter",
         "x": [
          0.04043589532375336,
          0.10692398995161057,
          null
         ],
         "y": [
          0.022377535700798035,
          0.0274745412170887,
          null
         ]
        },
        {
         "hoverinfo": "none",
         "line": {
          "color": "#b15928",
          "width": 1
         },
         "mode": "lines",
         "type": "scatter",
         "x": [
          0.04043589532375336,
          0.11547510325908661,
          null
         ],
         "y": [
          0.022377535700798035,
          0.011578048579394817,
          null
         ]
        },
        {
         "hoverinfo": "none",
         "line": {
          "color": "#b15928",
          "width": 1
         },
         "mode": "lines",
         "type": "scatter",
         "x": [
          0.04043589532375336,
          0.12972775101661682,
          null
         ],
         "y": [
          0.022377535700798035,
          0.041766684502363205,
          null
         ]
        },
        {
         "hoverinfo": "none",
         "line": {
          "color": "#b15928",
          "width": 1
         },
         "mode": "lines",
         "type": "scatter",
         "x": [
          0.04043589532375336,
          -0.013280787505209446,
          null
         ],
         "y": [
          0.022377535700798035,
          0.06461293250322342,
          null
         ]
        },
        {
         "hoverinfo": "none",
         "line": {
          "color": "#b15928",
          "width": 1
         },
         "mode": "lines",
         "type": "scatter",
         "x": [
          0.04043589532375336,
          0.14372405409812927,
          null
         ],
         "y": [
          0.022377535700798035,
          -0.012503602541983128,
          null
         ]
        },
        {
         "hoverinfo": "none",
         "line": {
          "color": "#b15928",
          "width": 1
         },
         "mode": "lines",
         "type": "scatter",
         "x": [
          0.04043589532375336,
          0.1685396134853363,
          null
         ],
         "y": [
          0.022377535700798035,
          0.01607196219265461,
          null
         ]
        },
        {
         "hoverinfo": "none",
         "line": {
          "color": "#b15928",
          "width": 1
         },
         "mode": "lines",
         "type": "scatter",
         "x": [
          0.04043589532375336,
          0.07775337994098663,
          null
         ],
         "y": [
          0.022377535700798035,
          0.059363096952438354,
          null
         ]
        },
        {
         "hoverinfo": "none",
         "line": {
          "color": "#b15928",
          "width": 1
         },
         "mode": "lines",
         "type": "scatter",
         "x": [
          0.04043589532375336,
          0.10364402830600739,
          null
         ],
         "y": [
          0.022377535700798035,
          0.06440386921167374,
          null
         ]
        },
        {
         "hoverinfo": "none",
         "line": {
          "color": "#b15928",
          "width": 1
         },
         "mode": "lines",
         "type": "scatter",
         "x": [
          0.04043589532375336,
          0.11557093262672424,
          null
         ],
         "y": [
          0.022377535700798035,
          0.03998411074280739,
          null
         ]
        },
        {
         "hoverinfo": "none",
         "line": {
          "color": "#b15928",
          "width": 1
         },
         "mode": "lines",
         "type": "scatter",
         "x": [
          -0.037273623049259186,
          -0.009411833249032497,
          null
         ],
         "y": [
          -0.0166777316480875,
          -0.09530764818191528,
          null
         ]
        },
        {
         "hoverinfo": "none",
         "line": {
          "color": "#b15928",
          "width": 1
         },
         "mode": "lines",
         "type": "scatter",
         "x": [
          -0.037273623049259186,
          -0.037273623049259186,
          null
         ],
         "y": [
          -0.0166777316480875,
          -0.0166777316480875,
          null
         ]
        },
        {
         "hoverinfo": "none",
         "line": {
          "color": "#b15928",
          "width": 1
         },
         "mode": "lines",
         "type": "scatter",
         "x": [
          -0.037273623049259186,
          0.036452848464250565,
          null
         ],
         "y": [
          -0.0166777316480875,
          -0.011518123559653759,
          null
         ]
        },
        {
         "hoverinfo": "none",
         "line": {
          "color": "#b15928",
          "width": 1
         },
         "mode": "lines",
         "type": "scatter",
         "x": [
          -0.037273623049259186,
          -0.058793503791093826,
          null
         ],
         "y": [
          -0.0166777316480875,
          0.023034455254673958,
          null
         ]
        },
        {
         "hoverinfo": "none",
         "line": {
          "color": "#b15928",
          "width": 1
         },
         "mode": "lines",
         "type": "scatter",
         "x": [
          -0.037273623049259186,
          -0.12612184882164001,
          null
         ],
         "y": [
          -0.0166777316480875,
          -0.007653168868273497,
          null
         ]
        },
        {
         "hoverinfo": "none",
         "line": {
          "color": "#b15928",
          "width": 1
         },
         "mode": "lines",
         "type": "scatter",
         "x": [
          -0.037273623049259186,
          -0.16107352077960968,
          null
         ],
         "y": [
          -0.0166777316480875,
          -0.01799088343977928,
          null
         ]
        },
        {
         "hoverinfo": "none",
         "line": {
          "color": "#b15928",
          "width": 1
         },
         "mode": "lines",
         "type": "scatter",
         "x": [
          -0.037273623049259186,
          -0.15863202512264252,
          null
         ],
         "y": [
          -0.0166777316480875,
          -0.005432776175439358,
          null
         ]
        },
        {
         "hoverinfo": "none",
         "line": {
          "color": "#b15928",
          "width": 1
         },
         "mode": "lines",
         "type": "scatter",
         "x": [
          -0.037273623049259186,
          0.03576474264264107,
          null
         ],
         "y": [
          -0.0166777316480875,
          -0.046536825597286224,
          null
         ]
        },
        {
         "hoverinfo": "none",
         "line": {
          "color": "#b15928",
          "width": 1
         },
         "mode": "lines",
         "type": "scatter",
         "x": [
          -0.037273623049259186,
          -0.05761899799108505,
          null
         ],
         "y": [
          -0.0166777316480875,
          -0.006080626975744963,
          null
         ]
        },
        {
         "hoverinfo": "none",
         "line": {
          "color": "#b15928",
          "width": 1
         },
         "mode": "lines",
         "type": "scatter",
         "x": [
          -0.037273623049259186,
          -0.06262879073619843,
          null
         ],
         "y": [
          -0.0166777316480875,
          0.06851179152727127,
          null
         ]
        },
        {
         "hoverinfo": "none",
         "line": {
          "color": "#b15928",
          "width": 1
         },
         "mode": "lines",
         "type": "scatter",
         "x": [
          -0.037273623049259186,
          -0.07729380577802658,
          null
         ],
         "y": [
          -0.0166777316480875,
          0.08059502393007278,
          null
         ]
        },
        {
         "hoverinfo": "none",
         "line": {
          "color": "#b15928",
          "width": 1
         },
         "mode": "lines",
         "type": "scatter",
         "x": [
          -0.037273623049259186,
          -0.008871680125594139,
          null
         ],
         "y": [
          -0.0166777316480875,
          -0.021061770617961884,
          null
         ]
        },
        {
         "hoverinfo": "none",
         "line": {
          "color": "#b15928",
          "width": 1
         },
         "mode": "lines",
         "type": "scatter",
         "x": [
          -0.037273623049259186,
          -0.15907633304595947,
          null
         ],
         "y": [
          -0.0166777316480875,
          -0.030668260529637337,
          null
         ]
        },
        {
         "hoverinfo": "none",
         "line": {
          "color": "#b15928",
          "width": 1
         },
         "mode": "lines",
         "type": "scatter",
         "x": [
          -0.037273623049259186,
          0.06443779915571213,
          null
         ],
         "y": [
          -0.0166777316480875,
          -0.07851499319076538,
          null
         ]
        },
        {
         "hoverinfo": "none",
         "line": {
          "color": "#b15928",
          "width": 1
         },
         "mode": "lines",
         "type": "scatter",
         "x": [
          -0.037273623049259186,
          -0.03971003368496895,
          null
         ],
         "y": [
          -0.0166777316480875,
          0.03288314491510391,
          null
         ]
        },
        {
         "hoverinfo": "none",
         "line": {
          "color": "#b15928",
          "width": 1
         },
         "mode": "lines",
         "type": "scatter",
         "x": [
          -0.037273623049259186,
          -0.14673297107219696,
          null
         ],
         "y": [
          -0.0166777316480875,
          -0.01877940073609352,
          null
         ]
        },
        {
         "hoverinfo": "none",
         "line": {
          "color": "#b15928",
          "width": 1
         },
         "mode": "lines",
         "type": "scatter",
         "x": [
          -0.07729380577802658,
          -0.17882700264453888,
          null
         ],
         "y": [
          0.08059502393007278,
          0.14893774688243866,
          null
         ]
        },
        {
         "hoverinfo": "none",
         "line": {
          "color": "#b15928",
          "width": 1
         },
         "mode": "lines",
         "type": "scatter",
         "x": [
          -0.07729380577802658,
          0.11787058413028717,
          null
         ],
         "y": [
          0.08059502393007278,
          -0.007035181857645512,
          null
         ]
        },
        {
         "hoverinfo": "none",
         "line": {
          "color": "#b15928",
          "width": 1
         },
         "mode": "lines",
         "type": "scatter",
         "x": [
          -0.07729380577802658,
          -0.1046290323138237,
          null
         ],
         "y": [
          0.08059502393007278,
          0.14931252598762512,
          null
         ]
        },
        {
         "hoverinfo": "none",
         "line": {
          "color": "#b15928",
          "width": 1
         },
         "mode": "lines",
         "type": "scatter",
         "x": [
          -0.07729380577802658,
          -0.07729380577802658,
          null
         ],
         "y": [
          0.08059502393007278,
          0.08059502393007278,
          null
         ]
        },
        {
         "hoverinfo": "none",
         "line": {
          "color": "#b15928",
          "width": 1
         },
         "mode": "lines",
         "type": "scatter",
         "x": [
          -0.07729380577802658,
          -0.16999445855617523,
          null
         ],
         "y": [
          0.08059502393007278,
          0.12968073785305023,
          null
         ]
        },
        {
         "hoverinfo": "none",
         "line": {
          "color": "#b15928",
          "width": 1
         },
         "mode": "lines",
         "type": "scatter",
         "x": [
          -0.07729380577802658,
          -0.17197921872138977,
          null
         ],
         "y": [
          0.08059502393007278,
          0.16033320128917694,
          null
         ]
        },
        {
         "hoverinfo": "none",
         "line": {
          "color": "#b15928",
          "width": 1
         },
         "mode": "lines",
         "type": "scatter",
         "x": [
          -0.07729380577802658,
          -0.06082925945520401,
          null
         ],
         "y": [
          0.08059502393007278,
          0.05018354207277298,
          null
         ]
        },
        {
         "hoverinfo": "none",
         "line": {
          "color": "#b15928",
          "width": 1
         },
         "mode": "lines",
         "type": "scatter",
         "x": [
          -0.07729380577802658,
          -0.18739506602287292,
          null
         ],
         "y": [
          0.08059502393007278,
          0.13721121847629547,
          null
         ]
        },
        {
         "hoverinfo": "none",
         "line": {
          "color": "#b15928",
          "width": 1
         },
         "mode": "lines",
         "type": "scatter",
         "x": [
          0.00866764783859253,
          0.022681519389152527,
          null
         ],
         "y": [
          0.07544486969709396,
          0.049327507615089417,
          null
         ]
        },
        {
         "hoverinfo": "none",
         "line": {
          "color": "#b15928",
          "width": 1
         },
         "mode": "lines",
         "type": "scatter",
         "x": [
          0.0031600536312907934,
          -0.009411833249032497,
          null
         ],
         "y": [
          -0.017133142799139023,
          -0.09530764818191528,
          null
         ]
        },
        {
         "hoverinfo": "none",
         "line": {
          "color": "#b15928",
          "width": 1
         },
         "mode": "lines",
         "type": "scatter",
         "x": [
          0.0031600536312907934,
          -0.0010009079705923796,
          null
         ],
         "y": [
          -0.017133142799139023,
          -0.05243607237935066,
          null
         ]
        },
        {
         "hoverinfo": "none",
         "line": {
          "color": "#b15928",
          "width": 1
         },
         "mode": "lines",
         "type": "scatter",
         "x": [
          0.0031600536312907934,
          0.02953876182436943,
          null
         ],
         "y": [
          -0.017133142799139023,
          0.06267217546701431,
          null
         ]
        },
        {
         "hoverinfo": "none",
         "line": {
          "color": "#b15928",
          "width": 1
         },
         "mode": "lines",
         "type": "scatter",
         "x": [
          0.0031600536312907934,
          0.022681519389152527,
          null
         ],
         "y": [
          -0.017133142799139023,
          0.049327507615089417,
          null
         ]
        },
        {
         "hoverinfo": "none",
         "line": {
          "color": "#b15928",
          "width": 1
         },
         "mode": "lines",
         "type": "scatter",
         "x": [
          0.0031600536312907934,
          -0.0012278436915948987,
          null
         ],
         "y": [
          -0.017133142799139023,
          -0.06282893568277359,
          null
         ]
        },
        {
         "hoverinfo": "none",
         "line": {
          "color": "#b15928",
          "width": 1
         },
         "mode": "lines",
         "type": "scatter",
         "x": [
          0.04377574473619461,
          0.022681519389152527,
          null
         ],
         "y": [
          0.07973743975162506,
          0.049327507615089417,
          null
         ]
        },
        {
         "hoverinfo": "none",
         "line": {
          "color": "#b15928",
          "width": 1
         },
         "mode": "lines",
         "type": "scatter",
         "x": [
          -0.02157602645456791,
          0.022681519389152527,
          null
         ],
         "y": [
          0.0981064885854721,
          0.049327507615089417,
          null
         ]
        },
        {
         "hoverinfo": "none",
         "line": {
          "color": "#b15928",
          "width": 1
         },
         "mode": "lines",
         "type": "scatter",
         "x": [
          -0.02157602645456791,
          -0.02157602645456791,
          null
         ],
         "y": [
          0.0981064885854721,
          0.0981064885854721,
          null
         ]
        },
        {
         "hoverinfo": "none",
         "line": {
          "color": "#b15928",
          "width": 1
         },
         "mode": "lines",
         "type": "scatter",
         "x": [
          -0.02157602645456791,
          -0.08883845061063766,
          null
         ],
         "y": [
          0.0981064885854721,
          0.1859537959098816,
          null
         ]
        },
        {
         "hoverinfo": "none",
         "line": {
          "color": "#b15928",
          "width": 1
         },
         "mode": "lines",
         "type": "scatter",
         "x": [
          -0.02157602645456791,
          -0.07235895097255707,
          null
         ],
         "y": [
          0.0981064885854721,
          0.0988973081111908,
          null
         ]
        },
        {
         "hoverinfo": "none",
         "line": {
          "color": "#b15928",
          "width": 1
         },
         "mode": "lines",
         "type": "scatter",
         "x": [
          0.022681519389152527,
          -0.009411833249032497,
          null
         ],
         "y": [
          0.049327507615089417,
          -0.09530764818191528,
          null
         ]
        },
        {
         "hoverinfo": "none",
         "line": {
          "color": "#b15928",
          "width": 1
         },
         "mode": "lines",
         "type": "scatter",
         "x": [
          0.022681519389152527,
          -0.0010009079705923796,
          null
         ],
         "y": [
          0.049327507615089417,
          -0.05243607237935066,
          null
         ]
        },
        {
         "hoverinfo": "none",
         "line": {
          "color": "#b15928",
          "width": 1
         },
         "mode": "lines",
         "type": "scatter",
         "x": [
          0.022681519389152527,
          0.11428499966859818,
          null
         ],
         "y": [
          0.049327507615089417,
          0.06138763949275017,
          null
         ]
        },
        {
         "hoverinfo": "none",
         "line": {
          "color": "#b15928",
          "width": 1
         },
         "mode": "lines",
         "type": "scatter",
         "x": [
          0.022681519389152527,
          0.02953876182436943,
          null
         ],
         "y": [
          0.049327507615089417,
          0.06267217546701431,
          null
         ]
        },
        {
         "hoverinfo": "none",
         "line": {
          "color": "#b15928",
          "width": 1
         },
         "mode": "lines",
         "type": "scatter",
         "x": [
          0.022681519389152527,
          0.03641176223754883,
          null
         ],
         "y": [
          0.049327507615089417,
          0.09430315345525742,
          null
         ]
        },
        {
         "hoverinfo": "none",
         "line": {
          "color": "#b15928",
          "width": 1
         },
         "mode": "lines",
         "type": "scatter",
         "x": [
          0.022681519389152527,
          0.035520367324352264,
          null
         ],
         "y": [
          0.049327507615089417,
          0.07883207499980927,
          null
         ]
        },
        {
         "hoverinfo": "none",
         "line": {
          "color": "#b15928",
          "width": 1
         },
         "mode": "lines",
         "type": "scatter",
         "x": [
          0.022681519389152527,
          -0.027735646814107895,
          null
         ],
         "y": [
          0.049327507615089417,
          0.08011826872825623,
          null
         ]
        },
        {
         "hoverinfo": "none",
         "line": {
          "color": "#b15928",
          "width": 1
         },
         "mode": "lines",
         "type": "scatter",
         "x": [
          0.022681519389152527,
          0.02563965879380703,
          null
         ],
         "y": [
          0.049327507615089417,
          0.06867792457342148,
          null
         ]
        },
        {
         "hoverinfo": "none",
         "line": {
          "color": "#b15928",
          "width": 1
         },
         "mode": "lines",
         "type": "scatter",
         "x": [
          0.022681519389152527,
          0.0028257581871002913,
          null
         ],
         "y": [
          0.049327507615089417,
          0.07217016816139221,
          null
         ]
        },
        {
         "hoverinfo": "none",
         "line": {
          "color": "#b15928",
          "width": 1
         },
         "mode": "lines",
         "type": "scatter",
         "x": [
          0.022681519389152527,
          0.011239961721003056,
          null
         ],
         "y": [
          0.049327507615089417,
          0.023881617933511734,
          null
         ]
        },
        {
         "hoverinfo": "none",
         "line": {
          "color": "#b15928",
          "width": 1
         },
         "mode": "lines",
         "type": "scatter",
         "x": [
          0.022681519389152527,
          0.0062402402982115746,
          null
         ],
         "y": [
          0.049327507615089417,
          0.019644493237137794,
          null
         ]
        },
        {
         "hoverinfo": "none",
         "line": {
          "color": "#b15928",
          "width": 1
         },
         "mode": "lines",
         "type": "scatter",
         "x": [
          0.022681519389152527,
          -0.003515766002237797,
          null
         ],
         "y": [
          0.049327507615089417,
          0.0711095780134201,
          null
         ]
        },
        {
         "hoverinfo": "none",
         "line": {
          "color": "#b15928",
          "width": 1
         },
         "mode": "lines",
         "type": "scatter",
         "x": [
          0.022681519389152527,
          0.01881464011967182,
          null
         ],
         "y": [
          0.049327507615089417,
          0.02632642164826393,
          null
         ]
        },
        {
         "hoverinfo": "none",
         "line": {
          "color": "#b15928",
          "width": 1
         },
         "mode": "lines",
         "type": "scatter",
         "x": [
          0.022681519389152527,
          0.06611188501119614,
          null
         ],
         "y": [
          0.049327507615089417,
          0.011177261359989643,
          null
         ]
        },
        {
         "hoverinfo": "none",
         "line": {
          "color": "#b15928",
          "width": 1
         },
         "mode": "lines",
         "type": "scatter",
         "x": [
          0.022681519389152527,
          0.08337628841400146,
          null
         ],
         "y": [
          0.049327507615089417,
          0.1041904166340828,
          null
         ]
        },
        {
         "hoverinfo": "none",
         "line": {
          "color": "#b15928",
          "width": 1
         },
         "mode": "lines",
         "type": "scatter",
         "x": [
          0.022681519389152527,
          0.011151745915412903,
          null
         ],
         "y": [
          0.049327507615089417,
          0.01310962438583374,
          null
         ]
        },
        {
         "hoverinfo": "none",
         "line": {
          "color": "#b15928",
          "width": 1
         },
         "mode": "lines",
         "type": "scatter",
         "x": [
          0.022681519389152527,
          0.021972890943288803,
          null
         ],
         "y": [
          0.049327507615089417,
          0.051031600683927536,
          null
         ]
        },
        {
         "hoverinfo": "none",
         "line": {
          "color": "#b15928",
          "width": 1
         },
         "mode": "lines",
         "type": "scatter",
         "x": [
          0.022681519389152527,
          0.04943536967039108,
          null
         ],
         "y": [
          0.049327507615089417,
          0.04042082652449608,
          null
         ]
        },
        {
         "hoverinfo": "none",
         "line": {
          "color": "#b15928",
          "width": 1
         },
         "mode": "lines",
         "type": "scatter",
         "x": [
          0.022681519389152527,
          0.02399957738816738,
          null
         ],
         "y": [
          0.049327507615089417,
          0.10601919144392014,
          null
         ]
        },
        {
         "hoverinfo": "none",
         "line": {
          "color": "#b15928",
          "width": 1
         },
         "mode": "lines",
         "type": "scatter",
         "x": [
          0.022681519389152527,
          0.009626398794353008,
          null
         ],
         "y": [
          0.049327507615089417,
          0.0010951877338811755,
          null
         ]
        },
        {
         "hoverinfo": "none",
         "line": {
          "color": "#b15928",
          "width": 1
         },
         "mode": "lines",
         "type": "scatter",
         "x": [
          0.022681519389152527,
          0.014455022290349007,
          null
         ],
         "y": [
          0.049327507615089417,
          0.08197908103466034,
          null
         ]
        },
        {
         "hoverinfo": "none",
         "line": {
          "color": "#b15928",
          "width": 1
         },
         "mode": "lines",
         "type": "scatter",
         "x": [
          0.022681519389152527,
          0.06364957988262177,
          null
         ],
         "y": [
          0.049327507615089417,
          0.09079373627901077,
          null
         ]
        },
        {
         "hoverinfo": "none",
         "line": {
          "color": "#b15928",
          "width": 1
         },
         "mode": "lines",
         "type": "scatter",
         "x": [
          0.022681519389152527,
          0.05710279569029808,
          null
         ],
         "y": [
          0.049327507615089417,
          0.09787439554929733,
          null
         ]
        },
        {
         "hoverinfo": "none",
         "line": {
          "color": "#b15928",
          "width": 1
         },
         "mode": "lines",
         "type": "scatter",
         "x": [
          0.022681519389152527,
          -0.053003836423158646,
          null
         ],
         "y": [
          0.049327507615089417,
          0.06294642388820648,
          null
         ]
        },
        {
         "hoverinfo": "none",
         "line": {
          "color": "#b15928",
          "width": 1
         },
         "mode": "lines",
         "type": "scatter",
         "x": [
          0.022681519389152527,
          0.12387529015541077,
          null
         ],
         "y": [
          0.049327507615089417,
          0.07619510591030121,
          null
         ]
        },
        {
         "hoverinfo": "none",
         "line": {
          "color": "#b15928",
          "width": 1
         },
         "mode": "lines",
         "type": "scatter",
         "x": [
          0.022681519389152527,
          0.0453244112432003,
          null
         ],
         "y": [
          0.049327507615089417,
          0.10418864339590073,
          null
         ]
        },
        {
         "hoverinfo": "none",
         "line": {
          "color": "#b15928",
          "width": 1
         },
         "mode": "lines",
         "type": "scatter",
         "x": [
          -0.061359044164419174,
          -0.009411833249032497,
          null
         ],
         "y": [
          0.011634476482868195,
          -0.09530764818191528,
          null
         ]
        },
        {
         "hoverinfo": "none",
         "line": {
          "color": "#b15928",
          "width": 1
         },
         "mode": "lines",
         "type": "scatter",
         "x": [
          -0.061359044164419174,
          -0.008871680125594139,
          null
         ],
         "y": [
          0.011634476482868195,
          -0.021061770617961884,
          null
         ]
        },
        {
         "hoverinfo": "none",
         "line": {
          "color": "#b15928",
          "width": 1
         },
         "mode": "lines",
         "type": "scatter",
         "x": [
          -0.061359044164419174,
          -0.18260520696640015,
          null
         ],
         "y": [
          0.011634476482868195,
          0.01746845431625843,
          null
         ]
        },
        {
         "hoverinfo": "none",
         "line": {
          "color": "#b15928",
          "width": 1
         },
         "mode": "lines",
         "type": "scatter",
         "x": [
          -0.061359044164419174,
          -0.1803845316171646,
          null
         ],
         "y": [
          0.011634476482868195,
          0.02991228550672531,
          null
         ]
        },
        {
         "hoverinfo": "none",
         "line": {
          "color": "#b15928",
          "width": 1
         },
         "mode": "lines",
         "type": "scatter",
         "x": [
          -0.029632965102791786,
          -0.0361969992518425,
          null
         ],
         "y": [
          0.14325150847434998,
          0.11395077407360077,
          null
         ]
        },
        {
         "hoverinfo": "none",
         "line": {
          "color": "#b15928",
          "width": 1
         },
         "mode": "lines",
         "type": "scatter",
         "x": [
          -0.029632965102791786,
          -0.00552947074174881,
          null
         ],
         "y": [
          0.14325150847434998,
          0.11045962572097778,
          null
         ]
        },
        {
         "hoverinfo": "none",
         "line": {
          "color": "#b15928",
          "width": 1
         },
         "mode": "lines",
         "type": "scatter",
         "x": [
          -0.0361969992518425,
          -0.00552947074174881,
          null
         ],
         "y": [
          0.11395077407360077,
          0.11045962572097778,
          null
         ]
        },
        {
         "hoverinfo": "none",
         "line": {
          "color": "#b15928",
          "width": 1
         },
         "mode": "lines",
         "type": "scatter",
         "x": [
          -0.0361969992518425,
          -0.0534922257065773,
          null
         ],
         "y": [
          0.11395077407360077,
          0.18021942675113678,
          null
         ]
        },
        {
         "hoverinfo": "none",
         "line": {
          "color": "#b15928",
          "width": 1
         },
         "mode": "lines",
         "type": "scatter",
         "x": [
          -0.0361969992518425,
          0.009246340952813625,
          null
         ],
         "y": [
          0.11395077407360077,
          0.09573113918304443,
          null
         ]
        },
        {
         "hoverinfo": "none",
         "line": {
          "color": "#b15928",
          "width": 1
         },
         "mode": "lines",
         "type": "scatter",
         "x": [
          -0.0361969992518425,
          -0.1046290323138237,
          null
         ],
         "y": [
          0.11395077407360077,
          0.14931252598762512,
          null
         ]
        },
        {
         "hoverinfo": "none",
         "line": {
          "color": "#b15928",
          "width": 1
         },
         "mode": "lines",
         "type": "scatter",
         "x": [
          -0.0361969992518425,
          -0.07201999425888062,
          null
         ],
         "y": [
          0.11395077407360077,
          0.011762149631977081,
          null
         ]
        },
        {
         "hoverinfo": "none",
         "line": {
          "color": "#b15928",
          "width": 1
         },
         "mode": "lines",
         "type": "scatter",
         "x": [
          -0.0361969992518425,
          -0.10266517847776413,
          null
         ],
         "y": [
          0.11395077407360077,
          0.0938301831483841,
          null
         ]
        },
        {
         "hoverinfo": "none",
         "line": {
          "color": "#b15928",
          "width": 1
         },
         "mode": "lines",
         "type": "scatter",
         "x": [
          -0.0361969992518425,
          -0.0361969992518425,
          null
         ],
         "y": [
          0.11395077407360077,
          0.11395077407360077,
          null
         ]
        },
        {
         "hoverinfo": "none",
         "line": {
          "color": "#b15928",
          "width": 1
         },
         "mode": "lines",
         "type": "scatter",
         "x": [
          -0.0361969992518425,
          0.014455022290349007,
          null
         ],
         "y": [
          0.11395077407360077,
          0.08197908103466034,
          null
         ]
        },
        {
         "hoverinfo": "none",
         "line": {
          "color": "#b15928",
          "width": 1
         },
         "mode": "lines",
         "type": "scatter",
         "x": [
          -0.0361969992518425,
          -0.08852294832468033,
          null
         ],
         "y": [
          0.11395077407360077,
          0.22850975394248962,
          null
         ]
        },
        {
         "hoverinfo": "none",
         "line": {
          "color": "#b15928",
          "width": 1
         },
         "mode": "lines",
         "type": "scatter",
         "x": [
          -0.0361969992518425,
          -0.033430203795433044,
          null
         ],
         "y": [
          0.11395077407360077,
          0.17339883744716644,
          null
         ]
        },
        {
         "hoverinfo": "none",
         "line": {
          "color": "#b15928",
          "width": 1
         },
         "mode": "lines",
         "type": "scatter",
         "x": [
          0.02953876182436943,
          0.03641176223754883,
          null
         ],
         "y": [
          0.06267217546701431,
          0.09430315345525742,
          null
         ]
        },
        {
         "hoverinfo": "none",
         "line": {
          "color": "#b15928",
          "width": 1
         },
         "mode": "lines",
         "type": "scatter",
         "x": [
          0.02953876182436943,
          0.035520367324352264,
          null
         ],
         "y": [
          0.06267217546701431,
          0.07883207499980927,
          null
         ]
        },
        {
         "hoverinfo": "none",
         "line": {
          "color": "#b15928",
          "width": 1
         },
         "mode": "lines",
         "type": "scatter",
         "x": [
          0.02953876182436943,
          0.02563965879380703,
          null
         ],
         "y": [
          0.06267217546701431,
          0.06867792457342148,
          null
         ]
        },
        {
         "hoverinfo": "none",
         "line": {
          "color": "#b15928",
          "width": 1
         },
         "mode": "lines",
         "type": "scatter",
         "x": [
          0.02953876182436943,
          0.05710279569029808,
          null
         ],
         "y": [
          0.06267217546701431,
          0.09787439554929733,
          null
         ]
        },
        {
         "hoverinfo": "none",
         "line": {
          "color": "#b15928",
          "width": 1
         },
         "mode": "lines",
         "type": "scatter",
         "x": [
          0.02953876182436943,
          0.06364957988262177,
          null
         ],
         "y": [
          0.06267217546701431,
          0.09079373627901077,
          null
         ]
        },
        {
         "hoverinfo": "none",
         "line": {
          "color": "#b15928",
          "width": 1
         },
         "mode": "lines",
         "type": "scatter",
         "x": [
          0.03641176223754883,
          0.035520367324352264,
          null
         ],
         "y": [
          0.09430315345525742,
          0.07883207499980927,
          null
         ]
        },
        {
         "hoverinfo": "none",
         "line": {
          "color": "#b15928",
          "width": 1
         },
         "mode": "lines",
         "type": "scatter",
         "x": [
          0.03641176223754883,
          0.02563965879380703,
          null
         ],
         "y": [
          0.09430315345525742,
          0.06867792457342148,
          null
         ]
        },
        {
         "hoverinfo": "none",
         "line": {
          "color": "#b15928",
          "width": 1
         },
         "mode": "lines",
         "type": "scatter",
         "x": [
          0.035520367324352264,
          0.02563965879380703,
          null
         ],
         "y": [
          0.07883207499980927,
          0.06867792457342148,
          null
         ]
        },
        {
         "hoverinfo": "none",
         "line": {
          "color": "#b15928",
          "width": 1
         },
         "mode": "lines",
         "type": "scatter",
         "x": [
          0.0011573305819183588,
          -0.009411833249032497,
          null
         ],
         "y": [
          -0.037062641233205795,
          -0.09530764818191528,
          null
         ]
        },
        {
         "hoverinfo": "none",
         "line": {
          "color": "#b15928",
          "width": 1
         },
         "mode": "lines",
         "type": "scatter",
         "x": [
          0.0011573305819183588,
          -0.0010009079705923796,
          null
         ],
         "y": [
          -0.037062641233205795,
          -0.05243607237935066,
          null
         ]
        },
        {
         "hoverinfo": "none",
         "line": {
          "color": "#b15928",
          "width": 1
         },
         "mode": "lines",
         "type": "scatter",
         "x": [
          0.0011573305819183588,
          -0.0012278436915948987,
          null
         ],
         "y": [
          -0.037062641233205795,
          -0.06282893568277359,
          null
         ]
        },
        {
         "hoverinfo": "none",
         "line": {
          "color": "#b15928",
          "width": 1
         },
         "mode": "lines",
         "type": "scatter",
         "x": [
          -0.003515766002237797,
          0.010802186094224453,
          null
         ],
         "y": [
          0.0711095780134201,
          0.08239195495843887,
          null
         ]
        },
        {
         "hoverinfo": "none",
         "line": {
          "color": "#b15928",
          "width": 1
         },
         "mode": "lines",
         "type": "scatter",
         "x": [
          -0.003515766002237797,
          -0.003515766002237797,
          null
         ],
         "y": [
          0.0711095780134201,
          0.0711095780134201,
          null
         ]
        },
        {
         "hoverinfo": "none",
         "line": {
          "color": "#b15928",
          "width": 1
         },
         "mode": "lines",
         "type": "scatter",
         "x": [
          -0.003515766002237797,
          -0.027735646814107895,
          null
         ],
         "y": [
          0.0711095780134201,
          0.08011826872825623,
          null
         ]
        },
        {
         "hoverinfo": "none",
         "line": {
          "color": "#b15928",
          "width": 1
         },
         "mode": "lines",
         "type": "scatter",
         "x": [
          -0.006279632914811373,
          -0.009411833249032497,
          null
         ],
         "y": [
          -0.04403284937143326,
          -0.09530764818191528,
          null
         ]
        },
        {
         "hoverinfo": "none",
         "line": {
          "color": "#b15928",
          "width": 1
         },
         "mode": "lines",
         "type": "scatter",
         "x": [
          -0.006279632914811373,
          -0.0012278436915948987,
          null
         ],
         "y": [
          -0.04403284937143326,
          -0.06282893568277359,
          null
         ]
        },
        {
         "hoverinfo": "none",
         "line": {
          "color": "#b15928",
          "width": 1
         },
         "mode": "lines",
         "type": "scatter",
         "x": [
          0.0028257581871002913,
          -0.053003836423158646,
          null
         ],
         "y": [
          0.07217016816139221,
          0.06294642388820648,
          null
         ]
        },
        {
         "hoverinfo": "none",
         "line": {
          "color": "#b15928",
          "width": 1
         },
         "mode": "lines",
         "type": "scatter",
         "x": [
          0.025569748133420944,
          -0.017336739227175713,
          null
         ],
         "y": [
          0.05717584490776062,
          0.002871772740036249,
          null
         ]
        },
        {
         "hoverinfo": "none",
         "line": {
          "color": "#b15928",
          "width": 1
         },
         "mode": "lines",
         "type": "scatter",
         "x": [
          0.025569748133420944,
          0.04943536967039108,
          null
         ],
         "y": [
          0.05717584490776062,
          0.04042082652449608,
          null
         ]
        },
        {
         "hoverinfo": "none",
         "line": {
          "color": "#b15928",
          "width": 1
         },
         "mode": "lines",
         "type": "scatter",
         "x": [
          0.025569748133420944,
          -0.010732710361480713,
          null
         ],
         "y": [
          0.05717584490776062,
          0.03986933082342148,
          null
         ]
        },
        {
         "hoverinfo": "none",
         "line": {
          "color": "#b15928",
          "width": 1
         },
         "mode": "lines",
         "type": "scatter",
         "x": [
          0.025569748133420944,
          0.025569748133420944,
          null
         ],
         "y": [
          0.05717584490776062,
          0.05717584490776062,
          null
         ]
        },
        {
         "hoverinfo": "none",
         "line": {
          "color": "#b15928",
          "width": 1
         },
         "mode": "lines",
         "type": "scatter",
         "x": [
          0.025569748133420944,
          -0.04963849484920502,
          null
         ],
         "y": [
          0.05717584490776062,
          0.11058349162340164,
          null
         ]
        },
        {
         "hoverinfo": "none",
         "line": {
          "color": "#b15928",
          "width": 1
         },
         "mode": "lines",
         "type": "scatter",
         "x": [
          0.025569748133420944,
          0.0012960839085280895,
          null
         ],
         "y": [
          0.05717584490776062,
          0.08289168030023575,
          null
         ]
        },
        {
         "hoverinfo": "none",
         "line": {
          "color": "#b15928",
          "width": 1
         },
         "mode": "lines",
         "type": "scatter",
         "x": [
          0.025569748133420944,
          -0.04246462509036064,
          null
         ],
         "y": [
          0.05717584490776062,
          0.1201380044221878,
          null
         ]
        },
        {
         "hoverinfo": "none",
         "line": {
          "color": "#b15928",
          "width": 1
         },
         "mode": "lines",
         "type": "scatter",
         "x": [
          0.025569748133420944,
          -0.031684599816799164,
          null
         ],
         "y": [
          0.05717584490776062,
          0.12396955490112305,
          null
         ]
        },
        {
         "hoverinfo": "none",
         "line": {
          "color": "#b15928",
          "width": 1
         },
         "mode": "lines",
         "type": "scatter",
         "x": [
          0.025569748133420944,
          0.054449569433927536,
          null
         ],
         "y": [
          0.05717584490776062,
          0.08344356715679169,
          null
         ]
        },
        {
         "hoverinfo": "none",
         "line": {
          "color": "#b15928",
          "width": 1
         },
         "mode": "lines",
         "type": "scatter",
         "x": [
          0.025569748133420944,
          0.04966125637292862,
          null
         ],
         "y": [
          0.05717584490776062,
          0.0526713989675045,
          null
         ]
        },
        {
         "hoverinfo": "none",
         "line": {
          "color": "#b15928",
          "width": 1
         },
         "mode": "lines",
         "type": "scatter",
         "x": [
          0.025569748133420944,
          -0.0404651015996933,
          null
         ],
         "y": [
          0.05717584490776062,
          0.10763387382030487,
          null
         ]
        },
        {
         "hoverinfo": "none",
         "line": {
          "color": "#b15928",
          "width": 1
         },
         "mode": "lines",
         "type": "scatter",
         "x": [
          0.025569748133420944,
          0.05031382665038109,
          null
         ],
         "y": [
          0.05717584490776062,
          0.02585100196301937,
          null
         ]
        },
        {
         "hoverinfo": "none",
         "line": {
          "color": "#b15928",
          "width": 1
         },
         "mode": "lines",
         "type": "scatter",
         "x": [
          0.025569748133420944,
          0.08428648114204407,
          null
         ],
         "y": [
          0.05717584490776062,
          0.026960067451000214,
          null
         ]
        },
        {
         "hoverinfo": "none",
         "line": {
          "color": "#b15928",
          "width": 1
         },
         "mode": "lines",
         "type": "scatter",
         "x": [
          0.025569748133420944,
          0.08190315216779709,
          null
         ],
         "y": [
          0.05717584490776062,
          0.03527268022298813,
          null
         ]
        },
        {
         "hoverinfo": "none",
         "line": {
          "color": "#b15928",
          "width": 1
         },
         "mode": "lines",
         "type": "scatter",
         "x": [
          0.025569748133420944,
          0.10667697340250015,
          null
         ],
         "y": [
          0.05717584490776062,
          0.0880923643708229,
          null
         ]
        },
        {
         "hoverinfo": "none",
         "line": {
          "color": "#b15928",
          "width": 1
         },
         "mode": "lines",
         "type": "scatter",
         "x": [
          0.025569748133420944,
          0.11428499966859818,
          null
         ],
         "y": [
          0.05717584490776062,
          0.06138763949275017,
          null
         ]
        },
        {
         "hoverinfo": "none",
         "line": {
          "color": "#b15928",
          "width": 1
         },
         "mode": "lines",
         "type": "scatter",
         "x": [
          0.025569748133420944,
          0.0996846929192543,
          null
         ],
         "y": [
          0.05717584490776062,
          0.04730414226651192,
          null
         ]
        },
        {
         "hoverinfo": "none",
         "line": {
          "color": "#b15928",
          "width": 1
         },
         "mode": "lines",
         "type": "scatter",
         "x": [
          0.025569748133420944,
          0.06611188501119614,
          null
         ],
         "y": [
          0.05717584490776062,
          0.011177261359989643,
          null
         ]
        },
        {
         "hoverinfo": "none",
         "line": {
          "color": "#b15928",
          "width": 1
         },
         "mode": "lines",
         "type": "scatter",
         "x": [
          0.025569748133420944,
          0.07621454447507858,
          null
         ],
         "y": [
          0.05717584490776062,
          0.03477798402309418,
          null
         ]
        },
        {
         "hoverinfo": "none",
         "line": {
          "color": "#b15928",
          "width": 1
         },
         "mode": "lines",
         "type": "scatter",
         "x": [
          0.025569748133420944,
          0.09255033731460571,
          null
         ],
         "y": [
          0.05717584490776062,
          0.07413111627101898,
          null
         ]
        },
        {
         "hoverinfo": "none",
         "line": {
          "color": "#b15928",
          "width": 1
         },
         "mode": "lines",
         "type": "scatter",
         "x": [
          0.025569748133420944,
          0.0279057826846838,
          null
         ],
         "y": [
          0.05717584490776062,
          0.040724098682403564,
          null
         ]
        },
        {
         "hoverinfo": "none",
         "line": {
          "color": "#b15928",
          "width": 1
         },
         "mode": "lines",
         "type": "scatter",
         "x": [
          0.025569748133420944,
          -0.053003836423158646,
          null
         ],
         "y": [
          0.05717584490776062,
          0.06294642388820648,
          null
         ]
        },
        {
         "hoverinfo": "none",
         "line": {
          "color": "#b15928",
          "width": 1
         },
         "mode": "lines",
         "type": "scatter",
         "x": [
          0.025569748133420944,
          0.07775337994098663,
          null
         ],
         "y": [
          0.05717584490776062,
          0.059363096952438354,
          null
         ]
        },
        {
         "hoverinfo": "none",
         "line": {
          "color": "#b15928",
          "width": 1
         },
         "mode": "lines",
         "type": "scatter",
         "x": [
          0.04943536967039108,
          -0.009411833249032497,
          null
         ],
         "y": [
          0.04042082652449608,
          -0.09530764818191528,
          null
         ]
        },
        {
         "hoverinfo": "none",
         "line": {
          "color": "#b15928",
          "width": 1
         },
         "mode": "lines",
         "type": "scatter",
         "x": [
          0.04943536967039108,
          0.11428499966859818,
          null
         ],
         "y": [
          0.04042082652449608,
          0.06138763949275017,
          null
         ]
        },
        {
         "hoverinfo": "none",
         "line": {
          "color": "#b15928",
          "width": 1
         },
         "mode": "lines",
         "type": "scatter",
         "x": [
          0.04943536967039108,
          0.0996846929192543,
          null
         ],
         "y": [
          0.04042082652449608,
          0.04730414226651192,
          null
         ]
        },
        {
         "hoverinfo": "none",
         "line": {
          "color": "#b15928",
          "width": 1
         },
         "mode": "lines",
         "type": "scatter",
         "x": [
          0.04943536967039108,
          -0.019428802654147148,
          null
         ],
         "y": [
          0.04042082652449608,
          0.08623397350311279,
          null
         ]
        },
        {
         "hoverinfo": "none",
         "line": {
          "color": "#b15928",
          "width": 1
         },
         "mode": "lines",
         "type": "scatter",
         "x": [
          0.04943536967039108,
          0.10692398995161057,
          null
         ],
         "y": [
          0.04042082652449608,
          0.0274745412170887,
          null
         ]
        },
        {
         "hoverinfo": "none",
         "line": {
          "color": "#b15928",
          "width": 1
         },
         "mode": "lines",
         "type": "scatter",
         "x": [
          0.04943536967039108,
          0.07621454447507858,
          null
         ],
         "y": [
          0.04042082652449608,
          0.03477798402309418,
          null
         ]
        },
        {
         "hoverinfo": "none",
         "line": {
          "color": "#b15928",
          "width": 1
         },
         "mode": "lines",
         "type": "scatter",
         "x": [
          0.04943536967039108,
          0.05179174989461899,
          null
         ],
         "y": [
          0.04042082652449608,
          0.07654814422130585,
          null
         ]
        },
        {
         "hoverinfo": "none",
         "line": {
          "color": "#b15928",
          "width": 1
         },
         "mode": "lines",
         "type": "scatter",
         "x": [
          0.04943536967039108,
          0.06340015679597855,
          null
         ],
         "y": [
          0.04042082652449608,
          0.07013100385665894,
          null
         ]
        },
        {
         "hoverinfo": "none",
         "line": {
          "color": "#b15928",
          "width": 1
         },
         "mode": "lines",
         "type": "scatter",
         "x": [
          0.04943536967039108,
          0.04943536967039108,
          null
         ],
         "y": [
          0.04042082652449608,
          0.04042082652449608,
          null
         ]
        },
        {
         "hoverinfo": "none",
         "line": {
          "color": "#b15928",
          "width": 1
         },
         "mode": "lines",
         "type": "scatter",
         "x": [
          0.04943536967039108,
          0.010802186094224453,
          null
         ],
         "y": [
          0.04042082652449608,
          0.08239195495843887,
          null
         ]
        },
        {
         "hoverinfo": "none",
         "line": {
          "color": "#b15928",
          "width": 1
         },
         "mode": "lines",
         "type": "scatter",
         "x": [
          0.04943536967039108,
          0.06611188501119614,
          null
         ],
         "y": [
          0.04042082652449608,
          0.011177261359989643,
          null
         ]
        },
        {
         "hoverinfo": "none",
         "line": {
          "color": "#b15928",
          "width": 1
         },
         "mode": "lines",
         "type": "scatter",
         "x": [
          0.04943536967039108,
          0.0351778008043766,
          null
         ],
         "y": [
          0.04042082652449608,
          -0.023107055574655533,
          null
         ]
        },
        {
         "hoverinfo": "none",
         "line": {
          "color": "#b15928",
          "width": 1
         },
         "mode": "lines",
         "type": "scatter",
         "x": [
          0.04943536967039108,
          0.014455022290349007,
          null
         ],
         "y": [
          0.04042082652449608,
          0.08197908103466034,
          null
         ]
        },
        {
         "hoverinfo": "none",
         "line": {
          "color": "#b15928",
          "width": 1
         },
         "mode": "lines",
         "type": "scatter",
         "x": [
          0.04943536967039108,
          0.13636277616024017,
          null
         ],
         "y": [
          0.04042082652449608,
          0.06254596263170242,
          null
         ]
        },
        {
         "hoverinfo": "none",
         "line": {
          "color": "#b15928",
          "width": 1
         },
         "mode": "lines",
         "type": "scatter",
         "x": [
          0.04943536967039108,
          0.10514023900032043,
          null
         ],
         "y": [
          0.04042082652449608,
          0.016685698181390762,
          null
         ]
        },
        {
         "hoverinfo": "none",
         "line": {
          "color": "#b15928",
          "width": 1
         },
         "mode": "lines",
         "type": "scatter",
         "x": [
          0.04943536967039108,
          0.11710836738348007,
          null
         ],
         "y": [
          0.04042082652449608,
          0.0009321760153397918,
          null
         ]
        },
        {
         "hoverinfo": "none",
         "line": {
          "color": "#b15928",
          "width": 1
         },
         "mode": "lines",
         "type": "scatter",
         "x": [
          -0.002867500064894557,
          -0.009411833249032497,
          null
         ],
         "y": [
          -0.054818153381347656,
          -0.09530764818191528,
          null
         ]
        },
        {
         "hoverinfo": "none",
         "line": {
          "color": "#b15928",
          "width": 1
         },
         "mode": "lines",
         "type": "scatter",
         "x": [
          -0.002867500064894557,
          -0.0010009079705923796,
          null
         ],
         "y": [
          -0.054818153381347656,
          -0.05243607237935066,
          null
         ]
        },
        {
         "hoverinfo": "none",
         "line": {
          "color": "#b15928",
          "width": 1
         },
         "mode": "lines",
         "type": "scatter",
         "x": [
          -0.002867500064894557,
          -0.0012278436915948987,
          null
         ],
         "y": [
          -0.054818153381347656,
          -0.06282893568277359,
          null
         ]
        },
        {
         "hoverinfo": "none",
         "line": {
          "color": "#b15928",
          "width": 1
         },
         "mode": "lines",
         "type": "scatter",
         "x": [
          0.011239961721003056,
          -0.009411833249032497,
          null
         ],
         "y": [
          0.023881617933511734,
          -0.09530764818191528,
          null
         ]
        },
        {
         "hoverinfo": "none",
         "line": {
          "color": "#b15928",
          "width": 1
         },
         "mode": "lines",
         "type": "scatter",
         "x": [
          -0.05761899799108505,
          -0.009411833249032497,
          null
         ],
         "y": [
          -0.006080626975744963,
          -0.09530764818191528,
          null
         ]
        },
        {
         "hoverinfo": "none",
         "line": {
          "color": "#b15928",
          "width": 1
         },
         "mode": "lines",
         "type": "scatter",
         "x": [
          -0.05761899799108505,
          -0.12612184882164001,
          null
         ],
         "y": [
          -0.006080626975744963,
          -0.007653168868273497,
          null
         ]
        },
        {
         "hoverinfo": "none",
         "line": {
          "color": "#b15928",
          "width": 1
         },
         "mode": "lines",
         "type": "scatter",
         "x": [
          0.0225176103413105,
          -0.009411833249032497,
          null
         ],
         "y": [
          0.01783517189323902,
          -0.09530764818191528,
          null
         ]
        },
        {
         "hoverinfo": "none",
         "line": {
          "color": "#b15928",
          "width": 1
         },
         "mode": "lines",
         "type": "scatter",
         "x": [
          0.0062402402982115746,
          -0.009411833249032497,
          null
         ],
         "y": [
          0.019644493237137794,
          -0.09530764818191528,
          null
         ]
        },
        {
         "hoverinfo": "none",
         "line": {
          "color": "#b15928",
          "width": 1
         },
         "mode": "lines",
         "type": "scatter",
         "x": [
          -0.0010009079705923796,
          0.006899488158524036,
          null
         ],
         "y": [
          -0.05243607237935066,
          -0.05337626859545708,
          null
         ]
        },
        {
         "hoverinfo": "none",
         "line": {
          "color": "#fdbf6f",
          "width": 1
         },
         "mode": "lines",
         "type": "scatter",
         "x": [
          -0.0010009079705923796,
          -0.009411833249032497,
          null
         ],
         "y": [
          -0.05243607237935066,
          -0.09530764818191528,
          null
         ]
        },
        {
         "hoverinfo": "none",
         "line": {
          "color": "#b15928",
          "width": 1
         },
         "mode": "lines",
         "type": "scatter",
         "x": [
          -0.0010009079705923796,
          0.0069460817612707615,
          null
         ],
         "y": [
          -0.05243607237935066,
          -0.09216734021902084,
          null
         ]
        },
        {
         "hoverinfo": "none",
         "line": {
          "color": "#b15928",
          "width": 1
         },
         "mode": "lines",
         "type": "scatter",
         "x": [
          -0.0010009079705923796,
          0.006448971573263407,
          null
         ],
         "y": [
          -0.05243607237935066,
          -0.020283810794353485,
          null
         ]
        },
        {
         "hoverinfo": "none",
         "line": {
          "color": "#b15928",
          "width": 1
         },
         "mode": "lines",
         "type": "scatter",
         "x": [
          -0.0010009079705923796,
          -0.0012278436915948987,
          null
         ],
         "y": [
          -0.05243607237935066,
          -0.06282893568277359,
          null
         ]
        },
        {
         "hoverinfo": "none",
         "line": {
          "color": "#b15928",
          "width": 1
         },
         "mode": "lines",
         "type": "scatter",
         "x": [
          -0.0010009079705923796,
          0.10263369977474213,
          null
         ],
         "y": [
          -0.05243607237935066,
          -0.016170984134078026,
          null
         ]
        },
        {
         "hoverinfo": "none",
         "line": {
          "color": "#b15928",
          "width": 1
         },
         "mode": "lines",
         "type": "scatter",
         "x": [
          -0.0010009079705923796,
          0.11428499966859818,
          null
         ],
         "y": [
          -0.05243607237935066,
          0.06138763949275017,
          null
         ]
        },
        {
         "hoverinfo": "none",
         "line": {
          "color": "#b15928",
          "width": 1
         },
         "mode": "lines",
         "type": "scatter",
         "x": [
          -0.0010009079705923796,
          0.0996846929192543,
          null
         ],
         "y": [
          -0.05243607237935066,
          0.04730414226651192,
          null
         ]
        },
        {
         "hoverinfo": "none",
         "line": {
          "color": "#b15928",
          "width": 1
         },
         "mode": "lines",
         "type": "scatter",
         "x": [
          -0.0010009079705923796,
          -0.0011214675614610314,
          null
         ],
         "y": [
          -0.05243607237935066,
          -0.0858834981918335,
          null
         ]
        },
        {
         "hoverinfo": "none",
         "line": {
          "color": "#b15928",
          "width": 1
         },
         "mode": "lines",
         "type": "scatter",
         "x": [
          -0.0010009079705923796,
          -0.0060384152457118034,
          null
         ],
         "y": [
          -0.05243607237935066,
          -0.0675717145204544,
          null
         ]
        },
        {
         "hoverinfo": "none",
         "line": {
          "color": "#b15928",
          "width": 1
         },
         "mode": "lines",
         "type": "scatter",
         "x": [
          -0.0010009079705923796,
          0.03503832593560219,
          null
         ],
         "y": [
          -0.05243607237935066,
          -0.060259267687797546,
          null
         ]
        },
        {
         "hoverinfo": "none",
         "line": {
          "color": "#b15928",
          "width": 1
         },
         "mode": "lines",
         "type": "scatter",
         "x": [
          -0.0010009079705923796,
          -0.010698355734348297,
          null
         ],
         "y": [
          -0.05243607237935066,
          0.0028660467360168695,
          null
         ]
        },
        {
         "hoverinfo": "none",
         "line": {
          "color": "#b15928",
          "width": 1
         },
         "mode": "lines",
         "type": "scatter",
         "x": [
          -0.0010009079705923796,
          0.06611188501119614,
          null
         ],
         "y": [
          -0.05243607237935066,
          0.011177261359989643,
          null
         ]
        },
        {
         "hoverinfo": "none",
         "line": {
          "color": "#b15928",
          "width": 1
         },
         "mode": "lines",
         "type": "scatter",
         "x": [
          -0.0010009079705923796,
          -0.036398015916347504,
          null
         ],
         "y": [
          -0.05243607237935066,
          -0.0778149962425232,
          null
         ]
        },
        {
         "hoverinfo": "none",
         "line": {
          "color": "#b15928",
          "width": 1
         },
         "mode": "lines",
         "type": "scatter",
         "x": [
          -0.0010009079705923796,
          -0.028231751173734665,
          null
         ],
         "y": [
          -0.05243607237935066,
          -0.06372730433940887,
          null
         ]
        },
        {
         "hoverinfo": "none",
         "line": {
          "color": "#b15928",
          "width": 1
         },
         "mode": "lines",
         "type": "scatter",
         "x": [
          -0.0010009079705923796,
          -0.029779694974422455,
          null
         ],
         "y": [
          -0.05243607237935066,
          -0.08563791960477829,
          null
         ]
        },
        {
         "hoverinfo": "none",
         "line": {
          "color": "#b15928",
          "width": 1
         },
         "mode": "lines",
         "type": "scatter",
         "x": [
          -0.0010009079705923796,
          -0.049093008041381836,
          null
         ],
         "y": [
          -0.05243607237935066,
          -0.08523024618625641,
          null
         ]
        },
        {
         "hoverinfo": "none",
         "line": {
          "color": "#b15928",
          "width": 1
         },
         "mode": "lines",
         "type": "scatter",
         "x": [
          -0.0010009079705923796,
          -0.09380093216896057,
          null
         ],
         "y": [
          -0.05243607237935066,
          -0.05341467633843422,
          null
         ]
        },
        {
         "hoverinfo": "none",
         "line": {
          "color": "#b15928",
          "width": 1
         },
         "mode": "lines",
         "type": "scatter",
         "x": [
          -0.0010009079705923796,
          -0.033822622150182724,
          null
         ],
         "y": [
          -0.05243607237935066,
          -0.09629584103822708,
          null
         ]
        },
        {
         "hoverinfo": "none",
         "line": {
          "color": "#b15928",
          "width": 1
         },
         "mode": "lines",
         "type": "scatter",
         "x": [
          -0.0010009079705923796,
          0.009927541017532349,
          null
         ],
         "y": [
          -0.05243607237935066,
          -0.045905955135822296,
          null
         ]
        },
        {
         "hoverinfo": "none",
         "line": {
          "color": "#b15928",
          "width": 1
         },
         "mode": "lines",
         "type": "scatter",
         "x": [
          -0.0010009079705923796,
          -0.010500005446374416,
          null
         ],
         "y": [
          -0.05243607237935066,
          -0.05525897815823555,
          null
         ]
        },
        {
         "hoverinfo": "none",
         "line": {
          "color": "#b15928",
          "width": 1
         },
         "mode": "lines",
         "type": "scatter",
         "x": [
          -0.0010009079705923796,
          -0.08313187211751938,
          null
         ],
         "y": [
          -0.05243607237935066,
          -0.07381266355514526,
          null
         ]
        },
        {
         "hoverinfo": "none",
         "line": {
          "color": "#b15928",
          "width": 1
         },
         "mode": "lines",
         "type": "scatter",
         "x": [
          -0.0010009079705923796,
          -0.01676364056766033,
          null
         ],
         "y": [
          -0.05243607237935066,
          -0.08809787034988403,
          null
         ]
        },
        {
         "hoverinfo": "none",
         "line": {
          "color": "#b15928",
          "width": 1
         },
         "mode": "lines",
         "type": "scatter",
         "x": [
          -0.0010009079705923796,
          0.012288347817957401,
          null
         ],
         "y": [
          -0.05243607237935066,
          -0.0999157503247261,
          null
         ]
        },
        {
         "hoverinfo": "none",
         "line": {
          "color": "#b15928",
          "width": 1
         },
         "mode": "lines",
         "type": "scatter",
         "x": [
          0.011151745915412903,
          -0.009411833249032497,
          null
         ],
         "y": [
          0.01310962438583374,
          -0.09530764818191528,
          null
         ]
        },
        {
         "hoverinfo": "none",
         "line": {
          "color": "#b15928",
          "width": 1
         },
         "mode": "lines",
         "type": "scatter",
         "x": [
          0.0008833205793052912,
          -0.009411833249032497,
          null
         ],
         "y": [
          0.02273876592516899,
          -0.09530764818191528,
          null
         ]
        },
        {
         "hoverinfo": "none",
         "line": {
          "color": "#b15928",
          "width": 1
         },
         "mode": "lines",
         "type": "scatter",
         "x": [
          -0.0013983951648697257,
          -0.009411833249032497,
          null
         ],
         "y": [
          -0.024562468752264977,
          -0.09530764818191528,
          null
         ]
        },
        {
         "hoverinfo": "none",
         "line": {
          "color": "#b15928",
          "width": 1
         },
         "mode": "lines",
         "type": "scatter",
         "x": [
          0.021972890943288803,
          -0.053003836423158646,
          null
         ],
         "y": [
          0.051031600683927536,
          0.06294642388820648,
          null
         ]
        },
        {
         "hoverinfo": "none",
         "line": {
          "color": "#b15928",
          "width": 1
         },
         "mode": "lines",
         "type": "scatter",
         "x": [
          0.021972890943288803,
          0.07621454447507858,
          null
         ],
         "y": [
          0.051031600683927536,
          0.03477798402309418,
          null
         ]
        },
        {
         "hoverinfo": "none",
         "line": {
          "color": "#b15928",
          "width": 1
         },
         "mode": "lines",
         "type": "scatter",
         "x": [
          0.021972890943288803,
          0.06611188501119614,
          null
         ],
         "y": [
          0.051031600683927536,
          0.011177261359989643,
          null
         ]
        },
        {
         "hoverinfo": "none",
         "line": {
          "color": "#b15928",
          "width": 1
         },
         "mode": "lines",
         "type": "scatter",
         "x": [
          0.023071149364113808,
          -0.009411833249032497,
          null
         ],
         "y": [
          -0.03504331782460213,
          -0.09530764818191528,
          null
         ]
        },
        {
         "hoverinfo": "none",
         "line": {
          "color": "#b15928",
          "width": 1
         },
         "mode": "lines",
         "type": "scatter",
         "x": [
          -0.006648545619100332,
          -0.009411833249032497,
          null
         ],
         "y": [
          -0.005295836832374334,
          -0.09530764818191528,
          null
         ]
        },
        {
         "hoverinfo": "none",
         "line": {
          "color": "#b15928",
          "width": 1
         },
         "mode": "lines",
         "type": "scatter",
         "x": [
          0.05179174989461899,
          0.06340015679597855,
          null
         ],
         "y": [
          0.07654814422130585,
          0.07013100385665894,
          null
         ]
        },
        {
         "hoverinfo": "none",
         "line": {
          "color": "#b15928",
          "width": 1
         },
         "mode": "lines",
         "type": "scatter",
         "x": [
          0.05179174989461899,
          0.009246340952813625,
          null
         ],
         "y": [
          0.07654814422130585,
          0.09573113918304443,
          null
         ]
        },
        {
         "hoverinfo": "none",
         "line": {
          "color": "#b15928",
          "width": 1
         },
         "mode": "lines",
         "type": "scatter",
         "x": [
          0.01881464011967182,
          -0.009411833249032497,
          null
         ],
         "y": [
          0.02632642164826393,
          -0.09530764818191528,
          null
         ]
        },
        {
         "hoverinfo": "none",
         "line": {
          "color": "#b15928",
          "width": 1
         },
         "mode": "lines",
         "type": "scatter",
         "x": [
          0.006448971573263407,
          -0.009411833249032497,
          null
         ],
         "y": [
          -0.020283810794353485,
          -0.09530764818191528,
          null
         ]
        },
        {
         "hoverinfo": "none",
         "line": {
          "color": "#b15928",
          "width": 1
         },
         "mode": "lines",
         "type": "scatter",
         "x": [
          0.0025751106441020966,
          -0.009411833249032497,
          null
         ],
         "y": [
          0.002779153874143958,
          -0.09530764818191528,
          null
         ]
        },
        {
         "hoverinfo": "none",
         "line": {
          "color": "#b15928",
          "width": 1
         },
         "mode": "lines",
         "type": "scatter",
         "x": [
          0.06340015679597855,
          0.009246340952813625,
          null
         ],
         "y": [
          0.07013100385665894,
          0.09573113918304443,
          null
         ]
        },
        {
         "hoverinfo": "none",
         "line": {
          "color": "#b15928",
          "width": 1
         },
         "mode": "lines",
         "type": "scatter",
         "x": [
          0.06340015679597855,
          0.1145307794213295,
          null
         ],
         "y": [
          0.07013100385665894,
          0.07584137469530106,
          null
         ]
        },
        {
         "hoverinfo": "none",
         "line": {
          "color": "#b15928",
          "width": 1
         },
         "mode": "lines",
         "type": "scatter",
         "x": [
          0.06340015679597855,
          0.13661688566207886,
          null
         ],
         "y": [
          0.07013100385665894,
          0.08691762387752533,
          null
         ]
        },
        {
         "hoverinfo": "none",
         "line": {
          "color": "#b15928",
          "width": 1
         },
         "mode": "lines",
         "type": "scatter",
         "x": [
          0.009246340952813625,
          -0.0534922257065773,
          null
         ],
         "y": [
          0.09573113918304443,
          0.18021942675113678,
          null
         ]
        },
        {
         "hoverinfo": "none",
         "line": {
          "color": "#b15928",
          "width": 1
         },
         "mode": "lines",
         "type": "scatter",
         "x": [
          0.0351778008043766,
          -0.009411833249032497,
          null
         ],
         "y": [
          -0.023107055574655533,
          -0.09530764818191528,
          null
         ]
        },
        {
         "hoverinfo": "none",
         "line": {
          "color": "#b15928",
          "width": 1
         },
         "mode": "lines",
         "type": "scatter",
         "x": [
          0.0351778008043766,
          0.11710836738348007,
          null
         ],
         "y": [
          -0.023107055574655533,
          0.0009321760153397918,
          null
         ]
        },
        {
         "hoverinfo": "none",
         "line": {
          "color": "#b15928",
          "width": 1
         },
         "mode": "lines",
         "type": "scatter",
         "x": [
          0.017320621758699417,
          -0.009411833249032497,
          null
         ],
         "y": [
          -0.024066025391221046,
          -0.09530764818191528,
          null
         ]
        },
        {
         "hoverinfo": "none",
         "line": {
          "color": "#b15928",
          "width": 1
         },
         "mode": "lines",
         "type": "scatter",
         "x": [
          -0.01800730638206005,
          -0.009411833249032497,
          null
         ],
         "y": [
          -0.02022998407483101,
          -0.09530764818191528,
          null
         ]
        },
        {
         "hoverinfo": "none",
         "line": {
          "color": "#cab2d6",
          "width": 1
         },
         "mode": "lines",
         "type": "scatter",
         "x": [
          -0.0012278436915948987,
          -0.009411833249032497,
          null
         ],
         "y": [
          -0.06282893568277359,
          -0.09530764818191528,
          null
         ]
        },
        {
         "hoverinfo": "none",
         "line": {
          "color": "#b15928",
          "width": 1
         },
         "mode": "lines",
         "type": "scatter",
         "x": [
          -0.0012278436915948987,
          0.0069460817612707615,
          null
         ],
         "y": [
          -0.06282893568277359,
          -0.09216734021902084,
          null
         ]
        },
        {
         "hoverinfo": "none",
         "line": {
          "color": "#b15928",
          "width": 1
         },
         "mode": "lines",
         "type": "scatter",
         "x": [
          -0.0012278436915948987,
          -0.0012278436915948987,
          null
         ],
         "y": [
          -0.06282893568277359,
          -0.06282893568277359,
          null
         ]
        },
        {
         "hoverinfo": "none",
         "line": {
          "color": "#b15928",
          "width": 1
         },
         "mode": "lines",
         "type": "scatter",
         "x": [
          -0.0012278436915948987,
          -0.0011214675614610314,
          null
         ],
         "y": [
          -0.06282893568277359,
          -0.0858834981918335,
          null
         ]
        },
        {
         "hoverinfo": "none",
         "line": {
          "color": "#b15928",
          "width": 1
         },
         "mode": "lines",
         "type": "scatter",
         "x": [
          -0.0012278436915948987,
          -0.010500005446374416,
          null
         ],
         "y": [
          -0.06282893568277359,
          -0.05525897815823555,
          null
         ]
        },
        {
         "hoverinfo": "none",
         "line": {
          "color": "#b15928",
          "width": 1
         },
         "mode": "lines",
         "type": "scatter",
         "x": [
          -0.0012278436915948987,
          -0.013646400533616543,
          null
         ],
         "y": [
          -0.06282893568277359,
          -0.10872131586074829,
          null
         ]
        },
        {
         "hoverinfo": "none",
         "line": {
          "color": "#b15928",
          "width": 1
         },
         "mode": "lines",
         "type": "scatter",
         "x": [
          -0.0012278436915948987,
          0.0031067070085555315,
          null
         ],
         "y": [
          -0.06282893568277359,
          -0.11121534556150436,
          null
         ]
        },
        {
         "hoverinfo": "none",
         "line": {
          "color": "#b15928",
          "width": 1
         },
         "mode": "lines",
         "type": "scatter",
         "x": [
          -0.0012278436915948987,
          -0.0060384152457118034,
          null
         ],
         "y": [
          -0.06282893568277359,
          -0.0675717145204544,
          null
         ]
        },
        {
         "hoverinfo": "none",
         "line": {
          "color": "#b15928",
          "width": 1
         },
         "mode": "lines",
         "type": "scatter",
         "x": [
          -0.0012278436915948987,
          -0.01676364056766033,
          null
         ],
         "y": [
          -0.06282893568277359,
          -0.08809787034988403,
          null
         ]
        },
        {
         "hoverinfo": "none",
         "line": {
          "color": "#b15928",
          "width": 1
         },
         "mode": "lines",
         "type": "scatter",
         "x": [
          -0.0012278436915948987,
          0.01627599447965622,
          null
         ],
         "y": [
          -0.06282893568277359,
          -0.10823146253824234,
          null
         ]
        },
        {
         "hoverinfo": "none",
         "line": {
          "color": "#b15928",
          "width": 1
         },
         "mode": "lines",
         "type": "scatter",
         "x": [
          -0.0012278436915948987,
          -0.028231751173734665,
          null
         ],
         "y": [
          -0.06282893568277359,
          -0.06372730433940887,
          null
         ]
        },
        {
         "hoverinfo": "none",
         "line": {
          "color": "#b15928",
          "width": 1
         },
         "mode": "lines",
         "type": "scatter",
         "x": [
          0.09869018942117691,
          0.06611188501119614,
          null
         ],
         "y": [
          0.05548538640141487,
          0.011177261359989643,
          null
         ]
        },
        {
         "hoverinfo": "none",
         "line": {
          "color": "#b15928",
          "width": 1
         },
         "mode": "lines",
         "type": "scatter",
         "x": [
          0.05031382665038109,
          -0.009411833249032497,
          null
         ],
         "y": [
          0.02585100196301937,
          -0.09530764818191528,
          null
         ]
        },
        {
         "hoverinfo": "none",
         "line": {
          "color": "#b15928",
          "width": 1
         },
         "mode": "lines",
         "type": "scatter",
         "x": [
          0.05031382665038109,
          0.08647139370441437,
          null
         ],
         "y": [
          0.02585100196301937,
          0.012992375530302525,
          null
         ]
        },
        {
         "hoverinfo": "none",
         "line": {
          "color": "#b15928",
          "width": 1
         },
         "mode": "lines",
         "type": "scatter",
         "x": [
          0.05031382665038109,
          0.05031382665038109,
          null
         ],
         "y": [
          0.02585100196301937,
          0.02585100196301937,
          null
         ]
        },
        {
         "hoverinfo": "none",
         "line": {
          "color": "#b15928",
          "width": 1
         },
         "mode": "lines",
         "type": "scatter",
         "x": [
          0.05031382665038109,
          0.11297459155321121,
          null
         ],
         "y": [
          0.02585100196301937,
          0.021347735077142715,
          null
         ]
        },
        {
         "hoverinfo": "none",
         "line": {
          "color": "#b15928",
          "width": 1
         },
         "mode": "lines",
         "type": "scatter",
         "x": [
          0.05031382665038109,
          0.08190315216779709,
          null
         ],
         "y": [
          0.02585100196301937,
          0.03527268022298813,
          null
         ]
        },
        {
         "hoverinfo": "none",
         "line": {
          "color": "#b15928",
          "width": 1
         },
         "mode": "lines",
         "type": "scatter",
         "x": [
          0.05031382665038109,
          0.08428648114204407,
          null
         ],
         "y": [
          0.02585100196301937,
          0.026960067451000214,
          null
         ]
        },
        {
         "hoverinfo": "none",
         "line": {
          "color": "#b15928",
          "width": 1
         },
         "mode": "lines",
         "type": "scatter",
         "x": [
          0.05031382665038109,
          0.014455022290349007,
          null
         ],
         "y": [
          0.02585100196301937,
          0.08197908103466034,
          null
         ]
        },
        {
         "hoverinfo": "none",
         "line": {
          "color": "#b15928",
          "width": 1
         },
         "mode": "lines",
         "type": "scatter",
         "x": [
          0.06611188501119614,
          -0.009411833249032497,
          null
         ],
         "y": [
          0.011177261359989643,
          -0.09530764818191528,
          null
         ]
        },
        {
         "hoverinfo": "none",
         "line": {
          "color": "#b15928",
          "width": 1
         },
         "mode": "lines",
         "type": "scatter",
         "x": [
          0.06611188501119614,
          0.11428499966859818,
          null
         ],
         "y": [
          0.011177261359989643,
          0.06138763949275017,
          null
         ]
        },
        {
         "hoverinfo": "none",
         "line": {
          "color": "#b15928",
          "width": 1
         },
         "mode": "lines",
         "type": "scatter",
         "x": [
          0.06611188501119614,
          0.08647139370441437,
          null
         ],
         "y": [
          0.011177261359989643,
          0.012992375530302525,
          null
         ]
        },
        {
         "hoverinfo": "none",
         "line": {
          "color": "#b15928",
          "width": 1
         },
         "mode": "lines",
         "type": "scatter",
         "x": [
          0.06611188501119614,
          0.11297459155321121,
          null
         ],
         "y": [
          0.011177261359989643,
          0.021347735077142715,
          null
         ]
        },
        {
         "hoverinfo": "none",
         "line": {
          "color": "#b15928",
          "width": 1
         },
         "mode": "lines",
         "type": "scatter",
         "x": [
          0.06611188501119614,
          0.07621454447507858,
          null
         ],
         "y": [
          0.011177261359989643,
          0.03477798402309418,
          null
         ]
        },
        {
         "hoverinfo": "none",
         "line": {
          "color": "#b15928",
          "width": 1
         },
         "mode": "lines",
         "type": "scatter",
         "x": [
          0.06611188501119614,
          0.0279057826846838,
          null
         ],
         "y": [
          0.011177261359989643,
          0.040724098682403564,
          null
         ]
        },
        {
         "hoverinfo": "none",
         "line": {
          "color": "#b15928",
          "width": 1
         },
         "mode": "lines",
         "type": "scatter",
         "x": [
          0.06611188501119614,
          -0.010732710361480713,
          null
         ],
         "y": [
          0.011177261359989643,
          0.03986933082342148,
          null
         ]
        },
        {
         "hoverinfo": "none",
         "line": {
          "color": "#b15928",
          "width": 1
         },
         "mode": "lines",
         "type": "scatter",
         "x": [
          0.06611188501119614,
          -0.010698355734348297,
          null
         ],
         "y": [
          0.011177261359989643,
          0.0028660467360168695,
          null
         ]
        },
        {
         "hoverinfo": "none",
         "line": {
          "color": "#b15928",
          "width": 1
         },
         "mode": "lines",
         "type": "scatter",
         "x": [
          0.06611188501119614,
          0.1549825221300125,
          null
         ],
         "y": [
          0.011177261359989643,
          0.04248245805501938,
          null
         ]
        },
        {
         "hoverinfo": "none",
         "line": {
          "color": "#b15928",
          "width": 1
         },
         "mode": "lines",
         "type": "scatter",
         "x": [
          0.06611188501119614,
          0.07436678558588028,
          null
         ],
         "y": [
          0.011177261359989643,
          0.013922978192567825,
          null
         ]
        },
        {
         "hoverinfo": "none",
         "line": {
          "color": "#b15928",
          "width": 1
         },
         "mode": "lines",
         "type": "scatter",
         "x": [
          0.06611188501119614,
          0.06611188501119614,
          null
         ],
         "y": [
          0.011177261359989643,
          0.011177261359989643,
          null
         ]
        },
        {
         "hoverinfo": "none",
         "line": {
          "color": "#b15928",
          "width": 1
         },
         "mode": "lines",
         "type": "scatter",
         "x": [
          0.06611188501119614,
          0.08428648114204407,
          null
         ],
         "y": [
          0.011177261359989643,
          0.026960067451000214,
          null
         ]
        },
        {
         "hoverinfo": "none",
         "line": {
          "color": "#b15928",
          "width": 1
         },
         "mode": "lines",
         "type": "scatter",
         "x": [
          0.06611188501119614,
          0.14341601729393005,
          null
         ],
         "y": [
          0.011177261359989643,
          -0.030219033360481262,
          null
         ]
        },
        {
         "hoverinfo": "none",
         "line": {
          "color": "#b15928",
          "width": 1
         },
         "mode": "lines",
         "type": "scatter",
         "x": [
          0.06611188501119614,
          0.040209438651800156,
          null
         ],
         "y": [
          0.011177261359989643,
          -0.03278698772192001,
          null
         ]
        },
        {
         "hoverinfo": "none",
         "line": {
          "color": "#b15928",
          "width": 1
         },
         "mode": "lines",
         "type": "scatter",
         "x": [
          0.06611188501119614,
          0.088345967233181,
          null
         ],
         "y": [
          0.011177261359989643,
          -0.02072688564658165,
          null
         ]
        },
        {
         "hoverinfo": "none",
         "line": {
          "color": "#b15928",
          "width": 1
         },
         "mode": "lines",
         "type": "scatter",
         "x": [
          0.06611188501119614,
          0.04966125637292862,
          null
         ],
         "y": [
          0.011177261359989643,
          0.0526713989675045,
          null
         ]
        },
        {
         "hoverinfo": "none",
         "line": {
          "color": "#b15928",
          "width": 1
         },
         "mode": "lines",
         "type": "scatter",
         "x": [
          0.06611188501119614,
          0.13052675127983093,
          null
         ],
         "y": [
          0.011177261359989643,
          -0.02317466214299202,
          null
         ]
        },
        {
         "hoverinfo": "none",
         "line": {
          "color": "#b15928",
          "width": 1
         },
         "mode": "lines",
         "type": "scatter",
         "x": [
          0.06611188501119614,
          0.11547510325908661,
          null
         ],
         "y": [
          0.011177261359989643,
          0.011578048579394817,
          null
         ]
        },
        {
         "hoverinfo": "none",
         "line": {
          "color": "#b15928",
          "width": 1
         },
         "mode": "lines",
         "type": "scatter",
         "x": [
          0.06611188501119614,
          0.09952220320701599,
          null
         ],
         "y": [
          0.011177261359989643,
          0.002265270333737135,
          null
         ]
        },
        {
         "hoverinfo": "none",
         "line": {
          "color": "#b15928",
          "width": 1
         },
         "mode": "lines",
         "type": "scatter",
         "x": [
          0.06611188501119614,
          0.08163558691740036,
          null
         ],
         "y": [
          0.011177261359989643,
          0.002645733067765832,
          null
         ]
        },
        {
         "hoverinfo": "none",
         "line": {
          "color": "#b15928",
          "width": 1
         },
         "mode": "lines",
         "type": "scatter",
         "x": [
          0.06611188501119614,
          0.06977780163288116,
          null
         ],
         "y": [
          0.011177261359989643,
          0.04905867576599121,
          null
         ]
        },
        {
         "hoverinfo": "none",
         "line": {
          "color": "#b15928",
          "width": 1
         },
         "mode": "lines",
         "type": "scatter",
         "x": [
          0.06611188501119614,
          0.1300722062587738,
          null
         ],
         "y": [
          0.011177261359989643,
          0.018686966970562935,
          null
         ]
        },
        {
         "hoverinfo": "none",
         "line": {
          "color": "#b15928",
          "width": 1
         },
         "mode": "lines",
         "type": "scatter",
         "x": [
          0.06611188501119614,
          0.13576294481754303,
          null
         ],
         "y": [
          0.011177261359989643,
          -0.0008830911247059703,
          null
         ]
        },
        {
         "hoverinfo": "none",
         "line": {
          "color": "#b15928",
          "width": 1
         },
         "mode": "lines",
         "type": "scatter",
         "x": [
          0.06611188501119614,
          0.13038703799247742,
          null
         ],
         "y": [
          0.011177261359989643,
          -0.01461169682443142,
          null
         ]
        },
        {
         "hoverinfo": "none",
         "line": {
          "color": "#b15928",
          "width": 1
         },
         "mode": "lines",
         "type": "scatter",
         "x": [
          0.06611188501119614,
          0.12678906321525574,
          null
         ],
         "y": [
          0.011177261359989643,
          0.011829417198896408,
          null
         ]
        },
        {
         "hoverinfo": "none",
         "line": {
          "color": "#b15928",
          "width": 1
         },
         "mode": "lines",
         "type": "scatter",
         "x": [
          0.06611188501119614,
          0.15570880472660065,
          null
         ],
         "y": [
          0.011177261359989643,
          0.014825956895947456,
          null
         ]
        },
        {
         "hoverinfo": "none",
         "line": {
          "color": "#b15928",
          "width": 1
         },
         "mode": "lines",
         "type": "scatter",
         "x": [
          0.06611188501119614,
          0.18406370282173157,
          null
         ],
         "y": [
          0.011177261359989643,
          -0.03254811838269234,
          null
         ]
        },
        {
         "hoverinfo": "none",
         "line": {
          "color": "#b15928",
          "width": 1
         },
         "mode": "lines",
         "type": "scatter",
         "x": [
          0.06611188501119614,
          0.16605694591999054,
          null
         ],
         "y": [
          0.011177261359989643,
          -0.025780269876122475,
          null
         ]
        },
        {
         "hoverinfo": "none",
         "line": {
          "color": "#b15928",
          "width": 1
         },
         "mode": "lines",
         "type": "scatter",
         "x": [
          0.06611188501119614,
          0.19028663635253906,
          null
         ],
         "y": [
          0.011177261359989643,
          0.009158683009445667,
          null
         ]
        },
        {
         "hoverinfo": "none",
         "line": {
          "color": "#b15928",
          "width": 1
         },
         "mode": "lines",
         "type": "scatter",
         "x": [
          0.057536497712135315,
          0.07621454447507858,
          null
         ],
         "y": [
          0.03414888679981232,
          0.03477798402309418,
          null
         ]
        },
        {
         "hoverinfo": "none",
         "line": {
          "color": "#b15928",
          "width": 1
         },
         "mode": "lines",
         "type": "scatter",
         "x": [
          0.057536497712135315,
          0.036452848464250565,
          null
         ],
         "y": [
          0.03414888679981232,
          -0.011518123559653759,
          null
         ]
        },
        {
         "hoverinfo": "none",
         "line": {
          "color": "#b15928",
          "width": 1
         },
         "mode": "lines",
         "type": "scatter",
         "x": [
          0.036452848464250565,
          -0.009411833249032497,
          null
         ],
         "y": [
          -0.011518123559653759,
          -0.09530764818191528,
          null
         ]
        },
        {
         "hoverinfo": "none",
         "line": {
          "color": "#b15928",
          "width": 1
         },
         "mode": "lines",
         "type": "scatter",
         "x": [
          0.036452848464250565,
          0.07621454447507858,
          null
         ],
         "y": [
          -0.011518123559653759,
          0.03477798402309418,
          null
         ]
        },
        {
         "hoverinfo": "none",
         "line": {
          "color": "#b15928",
          "width": 1
         },
         "mode": "lines",
         "type": "scatter",
         "x": [
          0.036452848464250565,
          0.03503832593560219,
          null
         ],
         "y": [
          -0.011518123559653759,
          -0.060259267687797546,
          null
         ]
        },
        {
         "hoverinfo": "none",
         "line": {
          "color": "#b15928",
          "width": 1
         },
         "mode": "lines",
         "type": "scatter",
         "x": [
          0.036452848464250565,
          0.036452848464250565,
          null
         ],
         "y": [
          -0.011518123559653759,
          -0.011518123559653759,
          null
         ]
        },
        {
         "hoverinfo": "none",
         "line": {
          "color": "#b15928",
          "width": 1
         },
         "mode": "lines",
         "type": "scatter",
         "x": [
          0.036452848464250565,
          0.129190132021904,
          null
         ],
         "y": [
          -0.011518123559653759,
          -0.06272358447313309,
          null
         ]
        },
        {
         "hoverinfo": "none",
         "line": {
          "color": "#b15928",
          "width": 1
         },
         "mode": "lines",
         "type": "scatter",
         "x": [
          0.036452848464250565,
          0.03576474264264107,
          null
         ],
         "y": [
          -0.011518123559653759,
          -0.046536825597286224,
          null
         ]
        },
        {
         "hoverinfo": "none",
         "line": {
          "color": "#b15928",
          "width": 1
         },
         "mode": "lines",
         "type": "scatter",
         "x": [
          -0.028187397867441177,
          -0.009411833249032497,
          null
         ],
         "y": [
          0.01833406277000904,
          -0.09530764818191528,
          null
         ]
        },
        {
         "hoverinfo": "none",
         "line": {
          "color": "#b15928",
          "width": 1
         },
         "mode": "lines",
         "type": "scatter",
         "x": [
          -0.028187397867441177,
          -0.013280787505209446,
          null
         ],
         "y": [
          0.01833406277000904,
          0.06461293250322342,
          null
         ]
        },
        {
         "hoverinfo": "none",
         "line": {
          "color": "#b15928",
          "width": 1
         },
         "mode": "lines",
         "type": "scatter",
         "x": [
          0.009626398794353008,
          -0.009411833249032497,
          null
         ],
         "y": [
          0.0010951877338811755,
          -0.09530764818191528,
          null
         ]
        },
        {
         "hoverinfo": "none",
         "line": {
          "color": "#b15928",
          "width": 1
         },
         "mode": "lines",
         "type": "scatter",
         "x": [
          -0.0060384152457118034,
          -0.009411833249032497,
          null
         ],
         "y": [
          -0.0675717145204544,
          -0.09530764818191528,
          null
         ]
        },
        {
         "hoverinfo": "none",
         "line": {
          "color": "#b15928",
          "width": 1
         },
         "mode": "lines",
         "type": "scatter",
         "x": [
          -0.01735714077949524,
          -0.009411833249032497,
          null
         ],
         "y": [
          -0.007083676755428314,
          -0.09530764818191528,
          null
         ]
        },
        {
         "hoverinfo": "none",
         "line": {
          "color": "#b15928",
          "width": 1
         },
         "mode": "lines",
         "type": "scatter",
         "x": [
          -0.029671821743249893,
          -0.009411833249032497,
          null
         ],
         "y": [
          -0.022692063823342323,
          -0.09530764818191528,
          null
         ]
        },
        {
         "hoverinfo": "none",
         "line": {
          "color": "#b15928",
          "width": 1
         },
         "mode": "lines",
         "type": "scatter",
         "x": [
          0.01397229265421629,
          -0.009411833249032497,
          null
         ],
         "y": [
          -0.0034447722136974335,
          -0.09530764818191528,
          null
         ]
        },
        {
         "hoverinfo": "none",
         "line": {
          "color": "#b15928",
          "width": 1
         },
         "mode": "lines",
         "type": "scatter",
         "x": [
          0.012168542481958866,
          -0.009411833249032497,
          null
         ],
         "y": [
          -0.014375898987054825,
          -0.09530764818191528,
          null
         ]
        },
        {
         "hoverinfo": "none",
         "line": {
          "color": "#b15928",
          "width": 1
         },
         "mode": "lines",
         "type": "scatter",
         "x": [
          0.023454157635569572,
          -0.009411833249032497,
          null
         ],
         "y": [
          -0.010296453721821308,
          -0.09530764818191528,
          null
         ]
        },
        {
         "hoverinfo": "none",
         "line": {
          "color": "#b15928",
          "width": 1
         },
         "mode": "lines",
         "type": "scatter",
         "x": [
          0.08447082340717316,
          0.11557093262672424,
          null
         ],
         "y": [
          0.053595248609781265,
          0.03998411074280739,
          null
         ]
        },
        {
         "hoverinfo": "none",
         "line": {
          "color": "#b15928",
          "width": 1
         },
         "mode": "lines",
         "type": "scatter",
         "x": [
          0.08447082340717316,
          0.12972775101661682,
          null
         ],
         "y": [
          0.053595248609781265,
          0.041766684502363205,
          null
         ]
        },
        {
         "hoverinfo": "none",
         "line": {
          "color": "#b15928",
          "width": 1
         },
         "mode": "lines",
         "type": "scatter",
         "x": [
          -0.003736877581104636,
          -0.009411833249032497,
          null
         ],
         "y": [
          0.004882264882326126,
          -0.09530764818191528,
          null
         ]
        },
        {
         "hoverinfo": "none",
         "line": {
          "color": "#b15928",
          "width": 1
         },
         "mode": "lines",
         "type": "scatter",
         "x": [
          -0.010500005446374416,
          -0.009411833249032497,
          null
         ],
         "y": [
          -0.05525897815823555,
          -0.09530764818191528,
          null
         ]
        },
        {
         "hoverinfo": "none",
         "line": {
          "color": "#b15928",
          "width": 1
         },
         "mode": "lines",
         "type": "scatter",
         "x": [
          0.009927541017532349,
          -0.009411833249032497,
          null
         ],
         "y": [
          -0.045905955135822296,
          -0.09530764818191528,
          null
         ]
        },
        {
         "hoverinfo": "none",
         "line": {
          "color": "#b15928",
          "width": 1
         },
         "mode": "lines",
         "type": "scatter",
         "x": [
          0.028283098712563515,
          -0.009411833249032497,
          null
         ],
         "y": [
          0.0005642577889375389,
          -0.09530764818191528,
          null
         ]
        },
        {
         "hoverinfo": "none",
         "line": {
          "color": "#b15928",
          "width": 1
         },
         "mode": "lines",
         "type": "scatter",
         "x": [
          -0.023312082514166832,
          -0.009411833249032497,
          null
         ],
         "y": [
          0.016025826334953308,
          -0.09530764818191528,
          null
         ]
        },
        {
         "hoverinfo": "none",
         "line": {
          "color": "#b15928",
          "width": 1
         },
         "mode": "lines",
         "type": "scatter",
         "x": [
          -0.023312082514166832,
          -0.053003836423158646,
          null
         ],
         "y": [
          0.016025826334953308,
          0.06294642388820648,
          null
         ]
        },
        {
         "hoverinfo": "none",
         "line": {
          "color": "#b15928",
          "width": 1
         },
         "mode": "lines",
         "type": "scatter",
         "x": [
          0.05321650207042694,
          -0.009411833249032497,
          null
         ],
         "y": [
          -0.02806856483221054,
          -0.09530764818191528,
          null
         ]
        },
        {
         "hoverinfo": "none",
         "line": {
          "color": "#b15928",
          "width": 1
         },
         "mode": "lines",
         "type": "scatter",
         "x": [
          0.006899488158524036,
          -0.009411833249032497,
          null
         ],
         "y": [
          -0.05337626859545708,
          -0.09530764818191528,
          null
         ]
        },
        {
         "hoverinfo": "none",
         "line": {
          "color": "#b15928",
          "width": 1
         },
         "mode": "lines",
         "type": "scatter",
         "x": [
          -0.017336739227175713,
          -0.009411833249032497,
          null
         ],
         "y": [
          0.002871772740036249,
          -0.09530764818191528,
          null
         ]
        },
        {
         "hoverinfo": "none",
         "line": {
          "color": "#b15928",
          "width": 1
         },
         "mode": "lines",
         "type": "scatter",
         "x": [
          -0.017336739227175713,
          -0.053003836423158646,
          null
         ],
         "y": [
          0.002871772740036249,
          0.06294642388820648,
          null
         ]
        },
        {
         "hoverinfo": "none",
         "line": {
          "color": "#b15928",
          "width": 1
         },
         "mode": "lines",
         "type": "scatter",
         "x": [
          0.026237595826387405,
          -0.009411833249032497,
          null
         ],
         "y": [
          -0.041808512061834335,
          -0.09530764818191528,
          null
         ]
        },
        {
         "hoverinfo": "none",
         "line": {
          "color": "#b15928",
          "width": 1
         },
         "mode": "lines",
         "type": "scatter",
         "x": [
          -0.009411833249032497,
          0.0069460817612707615,
          null
         ],
         "y": [
          -0.09530764818191528,
          -0.09216734021902084,
          null
         ]
        },
        {
         "hoverinfo": "none",
         "line": {
          "color": "#a6cee3",
          "width": 1
         },
         "mode": "lines",
         "type": "scatter",
         "x": [
          -0.009411833249032497,
          -0.009411833249032497,
          null
         ],
         "y": [
          -0.09530764818191528,
          -0.09530764818191528,
          null
         ]
        },
        {
         "hoverinfo": "none",
         "line": {
          "color": "#b15928",
          "width": 1
         },
         "mode": "lines",
         "type": "scatter",
         "x": [
          -0.009411833249032497,
          -0.02051335759460926,
          null
         ],
         "y": [
          -0.09530764818191528,
          -0.16254153847694397,
          null
         ]
        },
        {
         "hoverinfo": "none",
         "line": {
          "color": "#b15928",
          "width": 1
         },
         "mode": "lines",
         "type": "scatter",
         "x": [
          -0.009411833249032497,
          -0.05083012580871582,
          null
         ],
         "y": [
          -0.09530764818191528,
          -0.20744521915912628,
          null
         ]
        },
        {
         "hoverinfo": "none",
         "line": {
          "color": "#b15928",
          "width": 1
         },
         "mode": "lines",
         "type": "scatter",
         "x": [
          -0.009411833249032497,
          -0.07416068762540817,
          null
         ],
         "y": [
          -0.09530764818191528,
          -0.03424610570073128,
          null
         ]
        },
        {
         "hoverinfo": "none",
         "line": {
          "color": "#b15928",
          "width": 1
         },
         "mode": "lines",
         "type": "scatter",
         "x": [
          -0.009411833249032497,
          -0.07008860260248184,
          null
         ],
         "y": [
          -0.09530764818191528,
          -0.1510704606771469,
          null
         ]
        },
        {
         "hoverinfo": "none",
         "line": {
          "color": "#b15928",
          "width": 1
         },
         "mode": "lines",
         "type": "scatter",
         "x": [
          -0.009411833249032497,
          0.018564408645033836,
          null
         ],
         "y": [
          -0.09530764818191528,
          -0.20327068865299225,
          null
         ]
        },
        {
         "hoverinfo": "none",
         "line": {
          "color": "#b15928",
          "width": 1
         },
         "mode": "lines",
         "type": "scatter",
         "x": [
          -0.009411833249032497,
          -0.007273951545357704,
          null
         ],
         "y": [
          -0.09530764818191528,
          -0.1431572586297989,
          null
         ]
        },
        {
         "hoverinfo": "none",
         "line": {
          "color": "#b15928",
          "width": 1
         },
         "mode": "lines",
         "type": "scatter",
         "x": [
          -0.009411833249032497,
          -0.1105809137225151,
          null
         ],
         "y": [
          -0.09530764818191528,
          -0.11434967815876007,
          null
         ]
        },
        {
         "hoverinfo": "none",
         "line": {
          "color": "#b15928",
          "width": 1
         },
         "mode": "lines",
         "type": "scatter",
         "x": [
          -0.009411833249032497,
          0.08468523621559143,
          null
         ],
         "y": [
          -0.09530764818191528,
          -0.14156432449817657,
          null
         ]
        },
        {
         "hoverinfo": "none",
         "line": {
          "color": "#b15928",
          "width": 1
         },
         "mode": "lines",
         "type": "scatter",
         "x": [
          -0.009411833249032497,
          0.06314156949520111,
          null
         ],
         "y": [
          -0.09530764818191528,
          -0.141541987657547,
          null
         ]
        },
        {
         "hoverinfo": "none",
         "line": {
          "color": "#b15928",
          "width": 1
         },
         "mode": "lines",
         "type": "scatter",
         "x": [
          -0.009411833249032497,
          -0.042018990963697433,
          null
         ],
         "y": [
          -0.09530764818191528,
          -0.16083256900310516,
          null
         ]
        },
        {
         "hoverinfo": "none",
         "line": {
          "color": "#b15928",
          "width": 1
         },
         "mode": "lines",
         "type": "scatter",
         "x": [
          -0.009411833249032497,
          0.06653253734111786,
          null
         ],
         "y": [
          -0.09530764818191528,
          -0.12372168153524399,
          null
         ]
        },
        {
         "hoverinfo": "none",
         "line": {
          "color": "#b15928",
          "width": 1
         },
         "mode": "lines",
         "type": "scatter",
         "x": [
          -0.009411833249032497,
          0.061029545962810516,
          null
         ],
         "y": [
          -0.09530764818191528,
          -0.21518263220787048,
          null
         ]
        },
        {
         "hoverinfo": "none",
         "line": {
          "color": "#b15928",
          "width": 1
         },
         "mode": "lines",
         "type": "scatter",
         "x": [
          -0.009411833249032497,
          -0.10617833584547043,
          null
         ],
         "y": [
          -0.09530764818191528,
          -0.19944235682487488,
          null
         ]
        },
        {
         "hoverinfo": "none",
         "line": {
          "color": "#b15928",
          "width": 1
         },
         "mode": "lines",
         "type": "scatter",
         "x": [
          -0.009411833249032497,
          -0.12160012871026993,
          null
         ],
         "y": [
          -0.09530764818191528,
          -0.10755869746208191,
          null
         ]
        },
        {
         "hoverinfo": "none",
         "line": {
          "color": "#b15928",
          "width": 1
         },
         "mode": "lines",
         "type": "scatter",
         "x": [
          -0.009411833249032497,
          -0.0011214675614610314,
          null
         ],
         "y": [
          -0.09530764818191528,
          -0.0858834981918335,
          null
         ]
        },
        {
         "hoverinfo": "none",
         "line": {
          "color": "#b15928",
          "width": 1
         },
         "mode": "lines",
         "type": "scatter",
         "x": [
          -0.009411833249032497,
          0.03503832593560219,
          null
         ],
         "y": [
          -0.09530764818191528,
          -0.060259267687797546,
          null
         ]
        },
        {
         "hoverinfo": "none",
         "line": {
          "color": "#b15928",
          "width": 1
         },
         "mode": "lines",
         "type": "scatter",
         "x": [
          -0.009411833249032497,
          -0.0961696058511734,
          null
         ],
         "y": [
          -0.09530764818191528,
          -0.20845456421375275,
          null
         ]
        },
        {
         "hoverinfo": "none",
         "line": {
          "color": "#b15928",
          "width": 1
         },
         "mode": "lines",
         "type": "scatter",
         "x": [
          -0.009411833249032497,
          -0.049322862178087234,
          null
         ],
         "y": [
          -0.09530764818191528,
          -0.11264659464359283,
          null
         ]
        },
        {
         "hoverinfo": "none",
         "line": {
          "color": "#b15928",
          "width": 1
         },
         "mode": "lines",
         "type": "scatter",
         "x": [
          -0.009411833249032497,
          -0.11989399790763855,
          null
         ],
         "y": [
          -0.09530764818191528,
          -0.12069611996412277,
          null
         ]
        },
        {
         "hoverinfo": "none",
         "line": {
          "color": "#b15928",
          "width": 1
         },
         "mode": "lines",
         "type": "scatter",
         "x": [
          -0.009411833249032497,
          -0.017883894965052605,
          null
         ],
         "y": [
          -0.09530764818191528,
          -0.23957549035549164,
          null
         ]
        },
        {
         "hoverinfo": "none",
         "line": {
          "color": "#b15928",
          "width": 1
         },
         "mode": "lines",
         "type": "scatter",
         "x": [
          -0.009411833249032497,
          -0.020311718806624413,
          null
         ],
         "y": [
          -0.09530764818191528,
          -0.12898626923561096,
          null
         ]
        },
        {
         "hoverinfo": "none",
         "line": {
          "color": "#b15928",
          "width": 1
         },
         "mode": "lines",
         "type": "scatter",
         "x": [
          -0.009411833249032497,
          -0.055475421249866486,
          null
         ],
         "y": [
          -0.09530764818191528,
          -0.1371343433856964,
          null
         ]
        },
        {
         "hoverinfo": "none",
         "line": {
          "color": "#b15928",
          "width": 1
         },
         "mode": "lines",
         "type": "scatter",
         "x": [
          -0.009411833249032497,
          0.050253529101610184,
          null
         ],
         "y": [
          -0.09530764818191528,
          -0.22245649993419647,
          null
         ]
        },
        {
         "hoverinfo": "none",
         "line": {
          "color": "#b15928",
          "width": 1
         },
         "mode": "lines",
         "type": "scatter",
         "x": [
          -0.009411833249032497,
          0.038413163274526596,
          null
         ],
         "y": [
          -0.09530764818191528,
          -0.2291441410779953,
          null
         ]
        },
        {
         "hoverinfo": "none",
         "line": {
          "color": "#b15928",
          "width": 1
         },
         "mode": "lines",
         "type": "scatter",
         "x": [
          -0.009411833249032497,
          -0.05767255276441574,
          null
         ],
         "y": [
          -0.09530764818191528,
          -0.22945930063724518,
          null
         ]
        },
        {
         "hoverinfo": "none",
         "line": {
          "color": "#b15928",
          "width": 1
         },
         "mode": "lines",
         "type": "scatter",
         "x": [
          -0.009411833249032497,
          0.09138484299182892,
          null
         ],
         "y": [
          -0.09530764818191528,
          -0.18895816802978516,
          null
         ]
        },
        {
         "hoverinfo": "none",
         "line": {
          "color": "#b15928",
          "width": 1
         },
         "mode": "lines",
         "type": "scatter",
         "x": [
          -0.009411833249032497,
          0.019443750381469727,
          null
         ],
         "y": [
          -0.09530764818191528,
          -0.14228762686252594,
          null
         ]
        },
        {
         "hoverinfo": "none",
         "line": {
          "color": "#b15928",
          "width": 1
         },
         "mode": "lines",
         "type": "scatter",
         "x": [
          -0.009411833249032497,
          -0.043755725026130676,
          null
         ],
         "y": [
          -0.09530764818191528,
          -0.12201527506113052,
          null
         ]
        },
        {
         "hoverinfo": "none",
         "line": {
          "color": "#b15928",
          "width": 1
         },
         "mode": "lines",
         "type": "scatter",
         "x": [
          -0.009411833249032497,
          -0.08326706290245056,
          null
         ],
         "y": [
          -0.09530764818191528,
          -0.13238847255706787,
          null
         ]
        },
        {
         "hoverinfo": "none",
         "line": {
          "color": "#b15928",
          "width": 1
         },
         "mode": "lines",
         "type": "scatter",
         "x": [
          -0.009411833249032497,
          -0.1397274285554886,
          null
         ],
         "y": [
          -0.09530764818191528,
          -0.13627099990844727,
          null
         ]
        },
        {
         "hoverinfo": "none",
         "line": {
          "color": "#b15928",
          "width": 1
         },
         "mode": "lines",
         "type": "scatter",
         "x": [
          -0.009411833249032497,
          -0.020242134109139442,
          null
         ],
         "y": [
          -0.09530764818191528,
          -0.17186875641345978,
          null
         ]
        },
        {
         "hoverinfo": "none",
         "line": {
          "color": "#b15928",
          "width": 1
         },
         "mode": "lines",
         "type": "scatter",
         "x": [
          -0.009411833249032497,
          -0.036398015916347504,
          null
         ],
         "y": [
          -0.09530764818191528,
          -0.0778149962425232,
          null
         ]
        },
        {
         "hoverinfo": "none",
         "line": {
          "color": "#b15928",
          "width": 1
         },
         "mode": "lines",
         "type": "scatter",
         "x": [
          -0.009411833249032497,
          -0.02444026991724968,
          null
         ],
         "y": [
          -0.09530764818191528,
          -0.1428903192281723,
          null
         ]
        },
        {
         "hoverinfo": "none",
         "line": {
          "color": "#b15928",
          "width": 1
         },
         "mode": "lines",
         "type": "scatter",
         "x": [
          -0.009411833249032497,
          -0.06883612275123596,
          null
         ],
         "y": [
          -0.09530764818191528,
          -0.09523183107376099,
          null
         ]
        },
        {
         "hoverinfo": "none",
         "line": {
          "color": "#b15928",
          "width": 1
         },
         "mode": "lines",
         "type": "scatter",
         "x": [
          -0.009411833249032497,
          -0.07242286205291748,
          null
         ],
         "y": [
          -0.09530764818191528,
          -0.22505055367946625,
          null
         ]
        },
        {
         "hoverinfo": "none",
         "line": {
          "color": "#b15928",
          "width": 1
         },
         "mode": "lines",
         "type": "scatter",
         "x": [
          -0.009411833249032497,
          0.022998034954071045,
          null
         ],
         "y": [
          -0.09530764818191528,
          -0.23558488488197327,
          null
         ]
        },
        {
         "hoverinfo": "none",
         "line": {
          "color": "#b15928",
          "width": 1
         },
         "mode": "lines",
         "type": "scatter",
         "x": [
          -0.009411833249032497,
          -0.028231751173734665,
          null
         ],
         "y": [
          -0.09530764818191528,
          -0.06372730433940887,
          null
         ]
        },
        {
         "hoverinfo": "none",
         "line": {
          "color": "#b15928",
          "width": 1
         },
         "mode": "lines",
         "type": "scatter",
         "x": [
          -0.009411833249032497,
          -0.03015127405524254,
          null
         ],
         "y": [
          -0.09530764818191528,
          -0.15725117921829224,
          null
         ]
        },
        {
         "hoverinfo": "none",
         "line": {
          "color": "#b15928",
          "width": 1
         },
         "mode": "lines",
         "type": "scatter",
         "x": [
          -0.009411833249032497,
          -0.029779694974422455,
          null
         ],
         "y": [
          -0.09530764818191528,
          -0.08563791960477829,
          null
         ]
        },
        {
         "hoverinfo": "none",
         "line": {
          "color": "#b15928",
          "width": 1
         },
         "mode": "lines",
         "type": "scatter",
         "x": [
          -0.009411833249032497,
          0.08058281987905502,
          null
         ],
         "y": [
          -0.09530764818191528,
          -0.19937506318092346,
          null
         ]
        },
        {
         "hoverinfo": "none",
         "line": {
          "color": "#b15928",
          "width": 1
         },
         "mode": "lines",
         "type": "scatter",
         "x": [
          -0.009411833249032497,
          -0.04101648926734924,
          null
         ],
         "y": [
          -0.09530764818191528,
          -0.22217817604541779,
          null
         ]
        },
        {
         "hoverinfo": "none",
         "line": {
          "color": "#b15928",
          "width": 1
         },
         "mode": "lines",
         "type": "scatter",
         "x": [
          -0.009411833249032497,
          0.08237699419260025,
          null
         ],
         "y": [
          -0.09530764818191528,
          -0.16152411699295044,
          null
         ]
        },
        {
         "hoverinfo": "none",
         "line": {
          "color": "#b15928",
          "width": 1
         },
         "mode": "lines",
         "type": "scatter",
         "x": [
          -0.009411833249032497,
          -0.13555046916007996,
          null
         ],
         "y": [
          -0.09530764818191528,
          -0.1535041332244873,
          null
         ]
        },
        {
         "hoverinfo": "none",
         "line": {
          "color": "#b15928",
          "width": 1
         },
         "mode": "lines",
         "type": "scatter",
         "x": [
          -0.009411833249032497,
          -0.08519002050161362,
          null
         ],
         "y": [
          -0.09530764818191528,
          -0.2172580361366272,
          null
         ]
        },
        {
         "hoverinfo": "none",
         "line": {
          "color": "#b15928",
          "width": 1
         },
         "mode": "lines",
         "type": "scatter",
         "x": [
          -0.009411833249032497,
          -0.049093008041381836,
          null
         ],
         "y": [
          -0.09530764818191528,
          -0.08523024618625641,
          null
         ]
        },
        {
         "hoverinfo": "none",
         "line": {
          "color": "#b15928",
          "width": 1
         },
         "mode": "lines",
         "type": "scatter",
         "x": [
          -0.009411833249032497,
          -0.06223158910870552,
          null
         ],
         "y": [
          -0.09530764818191528,
          -0.16330331563949585,
          null
         ]
        },
        {
         "hoverinfo": "none",
         "line": {
          "color": "#b15928",
          "width": 1
         },
         "mode": "lines",
         "type": "scatter",
         "x": [
          -0.009411833249032497,
          -0.10378210991621017,
          null
         ],
         "y": [
          -0.09530764818191528,
          -0.1422654092311859,
          null
         ]
        },
        {
         "hoverinfo": "none",
         "line": {
          "color": "#b15928",
          "width": 1
         },
         "mode": "lines",
         "type": "scatter",
         "x": [
          -0.009411833249032497,
          0.05601879954338074,
          null
         ],
         "y": [
          -0.09530764818191528,
          -0.18294304609298706,
          null
         ]
        },
        {
         "hoverinfo": "none",
         "line": {
          "color": "#b15928",
          "width": 1
         },
         "mode": "lines",
         "type": "scatter",
         "x": [
          -0.009411833249032497,
          0.03704700246453285,
          null
         ],
         "y": [
          -0.09530764818191528,
          -0.16325652599334717,
          null
         ]
        },
        {
         "hoverinfo": "none",
         "line": {
          "color": "#b15928",
          "width": 1
         },
         "mode": "lines",
         "type": "scatter",
         "x": [
          -0.009411833249032497,
          -0.033822622150182724,
          null
         ],
         "y": [
          -0.09530764818191528,
          -0.09629584103822708,
          null
         ]
        },
        {
         "hoverinfo": "none",
         "line": {
          "color": "#b15928",
          "width": 1
         },
         "mode": "lines",
         "type": "scatter",
         "x": [
          -0.009411833249032497,
          -0.12459582835435867,
          null
         ],
         "y": [
          -0.09530764818191528,
          -0.14356978237628937,
          null
         ]
        },
        {
         "hoverinfo": "none",
         "line": {
          "color": "#b15928",
          "width": 1
         },
         "mode": "lines",
         "type": "scatter",
         "x": [
          -0.009411833249032497,
          -0.008871680125594139,
          null
         ],
         "y": [
          -0.09530764818191528,
          -0.021061770617961884,
          null
         ]
        },
        {
         "hoverinfo": "none",
         "line": {
          "color": "#b15928",
          "width": 1
         },
         "mode": "lines",
         "type": "scatter",
         "x": [
          -0.009411833249032497,
          -0.1179274320602417,
          null
         ],
         "y": [
          -0.09530764818191528,
          -0.15779967606067657,
          null
         ]
        },
        {
         "hoverinfo": "none",
         "line": {
          "color": "#b15928",
          "width": 1
         },
         "mode": "lines",
         "type": "scatter",
         "x": [
          -0.009411833249032497,
          0.004039844498038292,
          null
         ],
         "y": [
          -0.09530764818191528,
          -0.132720947265625,
          null
         ]
        },
        {
         "hoverinfo": "none",
         "line": {
          "color": "#b15928",
          "width": 1
         },
         "mode": "lines",
         "type": "scatter",
         "x": [
          -0.009411833249032497,
          0.09083793312311172,
          null
         ],
         "y": [
          -0.09530764818191528,
          -0.08146306127309799,
          null
         ]
        },
        {
         "hoverinfo": "none",
         "line": {
          "color": "#b15928",
          "width": 1
         },
         "mode": "lines",
         "type": "scatter",
         "x": [
          -0.009411833249032497,
          0.042051367461681366,
          null
         ],
         "y": [
          -0.09530764818191528,
          -0.1922193169593811,
          null
         ]
        },
        {
         "hoverinfo": "none",
         "line": {
          "color": "#b15928",
          "width": 1
         },
         "mode": "lines",
         "type": "scatter",
         "x": [
          -0.009411833249032497,
          0.06601673364639282,
          null
         ],
         "y": [
          -0.09530764818191528,
          -0.1715506613254547,
          null
         ]
        },
        {
         "hoverinfo": "none",
         "line": {
          "color": "#b15928",
          "width": 1
         },
         "mode": "lines",
         "type": "scatter",
         "x": [
          -0.009411833249032497,
          -0.055281978100538254,
          null
         ],
         "y": [
          -0.09530764818191528,
          -0.19485962390899658,
          null
         ]
        },
        {
         "hoverinfo": "none",
         "line": {
          "color": "#b15928",
          "width": 1
         },
         "mode": "lines",
         "type": "scatter",
         "x": [
          -0.009411833249032497,
          0.07945340871810913,
          null
         ],
         "y": [
          -0.09530764818191528,
          -0.0784756988286972,
          null
         ]
        },
        {
         "hoverinfo": "none",
         "line": {
          "color": "#b15928",
          "width": 1
         },
         "mode": "lines",
         "type": "scatter",
         "x": [
          -0.009411833249032497,
          -0.08303123712539673,
          null
         ],
         "y": [
          -0.09530764818191528,
          -0.174422487616539,
          null
         ]
        },
        {
         "hoverinfo": "none",
         "line": {
          "color": "#b15928",
          "width": 1
         },
         "mode": "lines",
         "type": "scatter",
         "x": [
          -0.009411833249032497,
          -0.013646400533616543,
          null
         ],
         "y": [
          -0.09530764818191528,
          -0.10872131586074829,
          null
         ]
        },
        {
         "hoverinfo": "none",
         "line": {
          "color": "#b15928",
          "width": 1
         },
         "mode": "lines",
         "type": "scatter",
         "x": [
          -0.009411833249032497,
          0.0031067070085555315,
          null
         ],
         "y": [
          -0.09530764818191528,
          -0.11121534556150436,
          null
         ]
        },
        {
         "hoverinfo": "none",
         "line": {
          "color": "#b15928",
          "width": 1
         },
         "mode": "lines",
         "type": "scatter",
         "x": [
          -0.009411833249032497,
          -0.030763862654566765,
          null
         ],
         "y": [
          -0.09530764818191528,
          -0.13457554578781128,
          null
         ]
        },
        {
         "hoverinfo": "none",
         "line": {
          "color": "#b15928",
          "width": 1
         },
         "mode": "lines",
         "type": "scatter",
         "x": [
          -0.009411833249032497,
          0.002414688700810075,
          null
         ],
         "y": [
          -0.09530764818191528,
          -0.18576927483081818,
          null
         ]
        },
        {
         "hoverinfo": "none",
         "line": {
          "color": "#b15928",
          "width": 1
         },
         "mode": "lines",
         "type": "scatter",
         "x": [
          -0.009411833249032497,
          -0.011360706761479378,
          null
         ],
         "y": [
          -0.09530764818191528,
          -0.18653103709220886,
          null
         ]
        },
        {
         "hoverinfo": "none",
         "line": {
          "color": "#b15928",
          "width": 1
         },
         "mode": "lines",
         "type": "scatter",
         "x": [
          -0.009411833249032497,
          0.07367266714572906,
          null
         ],
         "y": [
          -0.09530764818191528,
          -0.13645324110984802,
          null
         ]
        },
        {
         "hoverinfo": "none",
         "line": {
          "color": "#b15928",
          "width": 1
         },
         "mode": "lines",
         "type": "scatter",
         "x": [
          -0.009411833249032497,
          0.02853022702038288,
          null
         ],
         "y": [
          -0.09530764818191528,
          -0.1805053949356079,
          null
         ]
        },
        {
         "hoverinfo": "none",
         "line": {
          "color": "#b15928",
          "width": 1
         },
         "mode": "lines",
         "type": "scatter",
         "x": [
          -0.009411833249032497,
          -0.11673180758953094,
          null
         ],
         "y": [
          -0.09530764818191528,
          -0.1339920461177826,
          null
         ]
        },
        {
         "hoverinfo": "none",
         "line": {
          "color": "#b15928",
          "width": 1
         },
         "mode": "lines",
         "type": "scatter",
         "x": [
          -0.009411833249032497,
          -0.003614274552091956,
          null
         ],
         "y": [
          -0.09530764818191528,
          -0.23863950371742249,
          null
         ]
        },
        {
         "hoverinfo": "none",
         "line": {
          "color": "#b15928",
          "width": 1
         },
         "mode": "lines",
         "type": "scatter",
         "x": [
          -0.009411833249032497,
          0.024645285680890083,
          null
         ],
         "y": [
          -0.09530764818191528,
          -0.12113534659147263,
          null
         ]
        },
        {
         "hoverinfo": "none",
         "line": {
          "color": "#b15928",
          "width": 1
         },
         "mode": "lines",
         "type": "scatter",
         "x": [
          -0.009411833249032497,
          0.0706697478890419,
          null
         ],
         "y": [
          -0.09530764818191528,
          -0.20794938504695892,
          null
         ]
        },
        {
         "hoverinfo": "none",
         "line": {
          "color": "#b15928",
          "width": 1
         },
         "mode": "lines",
         "type": "scatter",
         "x": [
          -0.009411833249032497,
          0.040209438651800156,
          null
         ],
         "y": [
          -0.09530764818191528,
          -0.03278698772192001,
          null
         ]
        },
        {
         "hoverinfo": "none",
         "line": {
          "color": "#b15928",
          "width": 1
         },
         "mode": "lines",
         "type": "scatter",
         "x": [
          -0.009411833249032497,
          0.04660002514719963,
          null
         ],
         "y": [
          -0.09530764818191528,
          -0.11289871484041214,
          null
         ]
        },
        {
         "hoverinfo": "none",
         "line": {
          "color": "#b15928",
          "width": 1
         },
         "mode": "lines",
         "type": "scatter",
         "x": [
          -0.009411833249032497,
          -0.01676364056766033,
          null
         ],
         "y": [
          -0.09530764818191528,
          -0.08809787034988403,
          null
         ]
        },
        {
         "hoverinfo": "none",
         "line": {
          "color": "#b15928",
          "width": 1
         },
         "mode": "lines",
         "type": "scatter",
         "x": [
          -0.009411833249032497,
          0.01627599447965622,
          null
         ],
         "y": [
          -0.09530764818191528,
          -0.10823146253824234,
          null
         ]
        },
        {
         "hoverinfo": "none",
         "line": {
          "color": "#b15928",
          "width": 1
         },
         "mode": "lines",
         "type": "scatter",
         "x": [
          -0.009411833249032497,
          0.026418767869472504,
          null
         ],
         "y": [
          -0.09530764818191528,
          -0.15912464261054993,
          null
         ]
        },
        {
         "hoverinfo": "none",
         "line": {
          "color": "#b15928",
          "width": 1
         },
         "mode": "lines",
         "type": "scatter",
         "x": [
          -0.009411833249032497,
          0.006113069597631693,
          null
         ],
         "y": [
          -0.09530764818191528,
          -0.16746565699577332,
          null
         ]
        },
        {
         "hoverinfo": "none",
         "line": {
          "color": "#b15928",
          "width": 1
         },
         "mode": "lines",
         "type": "scatter",
         "x": [
          -0.009411833249032497,
          0.05046531930565834,
          null
         ],
         "y": [
          -0.09530764818191528,
          -0.13582098484039307,
          null
         ]
        },
        {
         "hoverinfo": "none",
         "line": {
          "color": "#b15928",
          "width": 1
         },
         "mode": "lines",
         "type": "scatter",
         "x": [
          -0.009411833249032497,
          0.013839024119079113,
          null
         ],
         "y": [
          -0.09530764818191528,
          -0.16140715777873993,
          null
         ]
        },
        {
         "hoverinfo": "none",
         "line": {
          "color": "#b15928",
          "width": 1
         },
         "mode": "lines",
         "type": "scatter",
         "x": [
          -0.009411833249032497,
          -0.00019117104238830507,
          null
         ],
         "y": [
          -0.09530764818191528,
          -0.1601690948009491,
          null
         ]
        },
        {
         "hoverinfo": "none",
         "line": {
          "color": "#b15928",
          "width": 1
         },
         "mode": "lines",
         "type": "scatter",
         "x": [
          -0.009411833249032497,
          -0.07051463425159454,
          null
         ],
         "y": [
          -0.09530764818191528,
          -0.10773690044879913,
          null
         ]
        },
        {
         "hoverinfo": "none",
         "line": {
          "color": "#b15928",
          "width": 1
         },
         "mode": "lines",
         "type": "scatter",
         "x": [
          -0.009411833249032497,
          0.058496251702308655,
          null
         ],
         "y": [
          -0.09530764818191528,
          -0.11564211547374725,
          null
         ]
        },
        {
         "hoverinfo": "none",
         "line": {
          "color": "#b15928",
          "width": 1
         },
         "mode": "lines",
         "type": "scatter",
         "x": [
          -0.009411833249032497,
          0.041928745806217194,
          null
         ],
         "y": [
          -0.09530764818191528,
          -0.14282119274139404,
          null
         ]
        },
        {
         "hoverinfo": "none",
         "line": {
          "color": "#b15928",
          "width": 1
         },
         "mode": "lines",
         "type": "scatter",
         "x": [
          -0.009411833249032497,
          0.04083801433444023,
          null
         ],
         "y": [
          -0.09530764818191528,
          -0.13016220927238464,
          null
         ]
        },
        {
         "hoverinfo": "none",
         "line": {
          "color": "#b15928",
          "width": 1
         },
         "mode": "lines",
         "type": "scatter",
         "x": [
          -0.009411833249032497,
          0.046101879328489304,
          null
         ],
         "y": [
          -0.09530764818191528,
          -0.20265571773052216,
          null
         ]
        },
        {
         "hoverinfo": "none",
         "line": {
          "color": "#b15928",
          "width": 1
         },
         "mode": "lines",
         "type": "scatter",
         "x": [
          -0.009411833249032497,
          -0.0004452608118299395,
          null
         ],
         "y": [
          -0.09530764818191528,
          -0.22412161529064178,
          null
         ]
        },
        {
         "hoverinfo": "none",
         "line": {
          "color": "#b15928",
          "width": 1
         },
         "mode": "lines",
         "type": "scatter",
         "x": [
          -0.009411833249032497,
          0.05797155201435089,
          null
         ],
         "y": [
          -0.09530764818191528,
          -0.15153618156909943,
          null
         ]
        },
        {
         "hoverinfo": "none",
         "line": {
          "color": "#b15928",
          "width": 1
         },
         "mode": "lines",
         "type": "scatter",
         "x": [
          -0.009411833249032497,
          -0.12264390289783478,
          null
         ],
         "y": [
          -0.09530764818191528,
          -0.1785971075296402,
          null
         ]
        },
        {
         "hoverinfo": "none",
         "line": {
          "color": "#b15928",
          "width": 1
         },
         "mode": "lines",
         "type": "scatter",
         "x": [
          -0.009411833249032497,
          0.01685335300862789,
          null
         ],
         "y": [
          -0.09530764818191528,
          -0.13235555589199066,
          null
         ]
        },
        {
         "hoverinfo": "none",
         "line": {
          "color": "#b15928",
          "width": 1
         },
         "mode": "lines",
         "type": "scatter",
         "x": [
          -0.009411833249032497,
          -0.08313187211751938,
          null
         ],
         "y": [
          -0.09530764818191528,
          -0.07381266355514526,
          null
         ]
        },
        {
         "hoverinfo": "none",
         "line": {
          "color": "#b15928",
          "width": 1
         },
         "mode": "lines",
         "type": "scatter",
         "x": [
          -0.009411833249032497,
          0.09082993865013123,
          null
         ],
         "y": [
          -0.09530764818191528,
          -0.17014144361019135,
          null
         ]
        },
        {
         "hoverinfo": "none",
         "line": {
          "color": "#b15928",
          "width": 1
         },
         "mode": "lines",
         "type": "scatter",
         "x": [
          -0.009411833249032497,
          0.09697768092155457,
          null
         ],
         "y": [
          -0.09530764818191528,
          -0.15705688297748566,
          null
         ]
        },
        {
         "hoverinfo": "none",
         "line": {
          "color": "#b15928",
          "width": 1
         },
         "mode": "lines",
         "type": "scatter",
         "x": [
          -0.009411833249032497,
          -0.015678266063332558,
          null
         ],
         "y": [
          -0.09530764818191528,
          -0.2247139811515808,
          null
         ]
        },
        {
         "hoverinfo": "none",
         "line": {
          "color": "#b15928",
          "width": 1
         },
         "mode": "lines",
         "type": "scatter",
         "x": [
          -0.009411833249032497,
          -0.08616886287927628,
          null
         ],
         "y": [
          -0.09530764818191528,
          -0.02789970673620701,
          null
         ]
        },
        {
         "hoverinfo": "none",
         "line": {
          "color": "#b15928",
          "width": 1
         },
         "mode": "lines",
         "type": "scatter",
         "x": [
          -0.009411833249032497,
          -0.021887483075261116,
          null
         ],
         "y": [
          -0.09530764818191528,
          -0.2141694873571396,
          null
         ]
        },
        {
         "hoverinfo": "none",
         "line": {
          "color": "#b15928",
          "width": 1
         },
         "mode": "lines",
         "type": "scatter",
         "x": [
          -0.009411833249032497,
          0.04815489798784256,
          null
         ],
         "y": [
          -0.09530764818191528,
          -0.15129871666431427,
          null
         ]
        },
        {
         "hoverinfo": "none",
         "line": {
          "color": "#b15928",
          "width": 1
         },
         "mode": "lines",
         "type": "scatter",
         "x": [
          -0.009411833249032497,
          0.005269775632768869,
          null
         ],
         "y": [
          -0.09530764818191528,
          -0.14488738775253296,
          null
         ]
        },
        {
         "hoverinfo": "none",
         "line": {
          "color": "#b15928",
          "width": 1
         },
         "mode": "lines",
         "type": "scatter",
         "x": [
          -0.009411833249032497,
          -0.03607095405459404,
          null
         ],
         "y": [
          -0.09530764818191528,
          -0.16860052943229675,
          null
         ]
        },
        {
         "hoverinfo": "none",
         "line": {
          "color": "#b15928",
          "width": 1
         },
         "mode": "lines",
         "type": "scatter",
         "x": [
          -0.009411833249032497,
          -0.06573154777288437,
          null
         ],
         "y": [
          -0.09530764818191528,
          -0.1368352472782135,
          null
         ]
        },
        {
         "hoverinfo": "none",
         "line": {
          "color": "#b15928",
          "width": 1
         },
         "mode": "lines",
         "type": "scatter",
         "x": [
          -0.009411833249032497,
          -0.05634373053908348,
          null
         ],
         "y": [
          -0.09530764818191528,
          -0.1476527452468872,
          null
         ]
        },
        {
         "hoverinfo": "none",
         "line": {
          "color": "#b15928",
          "width": 1
         },
         "mode": "lines",
         "type": "scatter",
         "x": [
          -0.009411833249032497,
          0.03715435415506363,
          null
         ],
         "y": [
          -0.09530764818191528,
          -0.15386515855789185,
          null
         ]
        },
        {
         "hoverinfo": "none",
         "line": {
          "color": "#b15928",
          "width": 1
         },
         "mode": "lines",
         "type": "scatter",
         "x": [
          -0.009411833249032497,
          -0.08006516098976135,
          null
         ],
         "y": [
          -0.09530764818191528,
          -0.09318128228187561,
          null
         ]
        },
        {
         "hoverinfo": "none",
         "line": {
          "color": "#b15928",
          "width": 1
         },
         "mode": "lines",
         "type": "scatter",
         "x": [
          -0.009411833249032497,
          -0.07226599007844925,
          null
         ],
         "y": [
          -0.09530764818191528,
          -0.12607383728027344,
          null
         ]
        },
        {
         "hoverinfo": "none",
         "line": {
          "color": "#b15928",
          "width": 1
         },
         "mode": "lines",
         "type": "scatter",
         "x": [
          -0.009411833249032497,
          0.058695413172245026,
          null
         ],
         "y": [
          -0.09530764818191528,
          -0.12950773537158966,
          null
         ]
        },
        {
         "hoverinfo": "none",
         "line": {
          "color": "#b15928",
          "width": 1
         },
         "mode": "lines",
         "type": "scatter",
         "x": [
          -0.009411833249032497,
          -0.0772019550204277,
          null
         ],
         "y": [
          -0.09530764818191528,
          -0.11644241213798523,
          null
         ]
        },
        {
         "hoverinfo": "none",
         "line": {
          "color": "#b15928",
          "width": 1
         },
         "mode": "lines",
         "type": "scatter",
         "x": [
          -0.009411833249032497,
          -0.002785371383652091,
          null
         ],
         "y": [
          -0.09530764818191528,
          -0.1746968775987625,
          null
         ]
        },
        {
         "hoverinfo": "none",
         "line": {
          "color": "#b15928",
          "width": 1
         },
         "mode": "lines",
         "type": "scatter",
         "x": [
          -0.009411833249032497,
          -0.08157110959291458,
          null
         ],
         "y": [
          -0.09530764818191528,
          -0.10588812828063965,
          null
         ]
        },
        {
         "hoverinfo": "none",
         "line": {
          "color": "#b15928",
          "width": 1
         },
         "mode": "lines",
         "type": "scatter",
         "x": [
          -0.009411833249032497,
          -0.012781809084117413,
          null
         ],
         "y": [
          -0.09530764818191528,
          -0.1521519124507904,
          null
         ]
        },
        {
         "hoverinfo": "none",
         "line": {
          "color": "#b15928",
          "width": 1
         },
         "mode": "lines",
         "type": "scatter",
         "x": [
          -0.009411833249032497,
          -0.009850133210420609,
          null
         ],
         "y": [
          -0.09530764818191528,
          -0.16781306266784668,
          null
         ]
        },
        {
         "hoverinfo": "none",
         "line": {
          "color": "#b15928",
          "width": 1
         },
         "mode": "lines",
         "type": "scatter",
         "x": [
          -0.009411833249032497,
          -0.05115584284067154,
          null
         ],
         "y": [
          -0.09530764818191528,
          -0.15729179978370667,
          null
         ]
        },
        {
         "hoverinfo": "none",
         "line": {
          "color": "#b15928",
          "width": 1
         },
         "mode": "lines",
         "type": "scatter",
         "x": [
          -0.009411833249032497,
          -0.023633887991309166,
          null
         ],
         "y": [
          -0.09530764818191528,
          -0.1849294900894165,
          null
         ]
        },
        {
         "hoverinfo": "none",
         "line": {
          "color": "#b15928",
          "width": 1
         },
         "mode": "lines",
         "type": "scatter",
         "x": [
          -0.009411833249032497,
          -0.06192021071910858,
          null
         ],
         "y": [
          -0.09530764818191528,
          -0.12290821969509125,
          null
         ]
        },
        {
         "hoverinfo": "none",
         "line": {
          "color": "#b15928",
          "width": 1
         },
         "mode": "lines",
         "type": "scatter",
         "x": [
          -0.009411833249032497,
          -0.03220731019973755,
          null
         ],
         "y": [
          -0.09530764818191528,
          -0.12116318941116333,
          null
         ]
        },
        {
         "hoverinfo": "none",
         "line": {
          "color": "#b15928",
          "width": 1
         },
         "mode": "lines",
         "type": "scatter",
         "x": [
          -0.009411833249032497,
          0.037204157561063766,
          null
         ],
         "y": [
          -0.09530764818191528,
          -0.17482708394527435,
          null
         ]
        },
        {
         "hoverinfo": "none",
         "line": {
          "color": "#b15928",
          "width": 1
         },
         "mode": "lines",
         "type": "scatter",
         "x": [
          -0.009411833249032497,
          0.015545959584414959,
          null
         ],
         "y": [
          -0.09530764818191528,
          -0.18378764390945435,
          null
         ]
        },
        {
         "hoverinfo": "none",
         "line": {
          "color": "#b15928",
          "width": 1
         },
         "mode": "lines",
         "type": "scatter",
         "x": [
          -0.009411833249032497,
          0.012288347817957401,
          null
         ],
         "y": [
          -0.09530764818191528,
          -0.0999157503247261,
          null
         ]
        },
        {
         "hoverinfo": "none",
         "line": {
          "color": "#b15928",
          "width": 1
         },
         "mode": "lines",
         "type": "scatter",
         "x": [
          -0.009411833249032497,
          -0.06325887888669968,
          null
         ],
         "y": [
          -0.09530764818191528,
          -0.17490723729133606,
          null
         ]
        },
        {
         "hoverinfo": "none",
         "line": {
          "color": "#b15928",
          "width": 1
         },
         "mode": "lines",
         "type": "scatter",
         "x": [
          -0.009411833249032497,
          -0.026702765375375748,
          null
         ],
         "y": [
          -0.09530764818191528,
          -0.1969018280506134,
          null
         ]
        },
        {
         "hoverinfo": "none",
         "line": {
          "color": "#b15928",
          "width": 1
         },
         "mode": "lines",
         "type": "scatter",
         "x": [
          -0.009411833249032497,
          -0.041111018508672714,
          null
         ],
         "y": [
          -0.09530764818191528,
          -0.14788410067558289,
          null
         ]
        },
        {
         "hoverinfo": "none",
         "line": {
          "color": "#b15928",
          "width": 1
         },
         "mode": "lines",
         "type": "scatter",
         "x": [
          -0.009411833249032497,
          -0.09087056666612625,
          null
         ],
         "y": [
          -0.09530764818191528,
          -0.1471146196126938,
          null
         ]
        },
        {
         "hoverinfo": "none",
         "line": {
          "color": "#b15928",
          "width": 1
         },
         "mode": "lines",
         "type": "scatter",
         "x": [
          -0.009411833249032497,
          -0.09475169330835342,
          null
         ],
         "y": [
          -0.09530764818191528,
          -0.1365654617547989,
          null
         ]
        },
        {
         "hoverinfo": "none",
         "line": {
          "color": "#b15928",
          "width": 1
         },
         "mode": "lines",
         "type": "scatter",
         "x": [
          -0.009411833249032497,
          -0.02189420349895954,
          null
         ],
         "y": [
          -0.09530764818191528,
          -0.04232972860336304,
          null
         ]
        },
        {
         "hoverinfo": "none",
         "line": {
          "color": "#b15928",
          "width": 1
         },
         "mode": "lines",
         "type": "scatter",
         "x": [
          -0.009411833249032497,
          0.0016426285728812218,
          null
         ],
         "y": [
          -0.09530764818191528,
          -0.1986050009727478,
          null
         ]
        },
        {
         "hoverinfo": "none",
         "line": {
          "color": "#b15928",
          "width": 1
         },
         "mode": "lines",
         "type": "scatter",
         "x": [
          -0.009411833249032497,
          0.042723674327135086,
          null
         ],
         "y": [
          -0.09530764818191528,
          -0.12175153195858002,
          null
         ]
        },
        {
         "hoverinfo": "none",
         "line": {
          "color": "#b15928",
          "width": 1
         },
         "mode": "lines",
         "type": "scatter",
         "x": [
          -0.009411833249032497,
          -0.03599900007247925,
          null
         ],
         "y": [
          -0.09530764818191528,
          -0.2112967073917389,
          null
         ]
        },
        {
         "hoverinfo": "none",
         "line": {
          "color": "#b15928",
          "width": 1
         },
         "mode": "lines",
         "type": "scatter",
         "x": [
          -0.009411833249032497,
          0.0644703209400177,
          null
         ],
         "y": [
          -0.09530764818191528,
          -0.18888619542121887,
          null
         ]
        },
        {
         "hoverinfo": "none",
         "line": {
          "color": "#b15928",
          "width": 1
         },
         "mode": "lines",
         "type": "scatter",
         "x": [
          -0.009411833249032497,
          -0.009677691385149956,
          null
         ],
         "y": [
          -0.09530764818191528,
          -0.13366514444351196,
          null
         ]
        },
        {
         "hoverinfo": "none",
         "line": {
          "color": "#b15928",
          "width": 1
         },
         "mode": "lines",
         "type": "scatter",
         "x": [
          -0.009411833249032497,
          -0.04282502457499504,
          null
         ],
         "y": [
          -0.09530764818191528,
          -0.1334989070892334,
          null
         ]
        },
        {
         "hoverinfo": "none",
         "line": {
          "color": "#b15928",
          "width": 1
         },
         "mode": "lines",
         "type": "scatter",
         "x": [
          -0.009411833249032497,
          0.026454806327819824,
          null
         ],
         "y": [
          -0.09530764818191528,
          -0.22034122049808502,
          null
         ]
        },
        {
         "hoverinfo": "none",
         "line": {
          "color": "#b15928",
          "width": 1
         },
         "mode": "lines",
         "type": "scatter",
         "x": [
          -0.009411833249032497,
          -0.1324034035205841,
          null
         ],
         "y": [
          -0.09530764818191528,
          -0.1177966296672821,
          null
         ]
        },
        {
         "hoverinfo": "none",
         "line": {
          "color": "#b15928",
          "width": 1
         },
         "mode": "lines",
         "type": "scatter",
         "x": [
          -0.009411833249032497,
          -0.06272512674331665,
          null
         ],
         "y": [
          -0.09530764818191528,
          -0.21411390602588654,
          null
         ]
        },
        {
         "hoverinfo": "none",
         "line": {
          "color": "#b15928",
          "width": 1
         },
         "mode": "lines",
         "type": "scatter",
         "x": [
          -0.009411833249032497,
          -0.10233794152736664,
          null
         ],
         "y": [
          -0.09530764818191528,
          -0.0898524597287178,
          null
         ]
        },
        {
         "hoverinfo": "none",
         "line": {
          "color": "#b15928",
          "width": 1
         },
         "mode": "lines",
         "type": "scatter",
         "x": [
          -0.009411833249032497,
          -0.07201999425888062,
          null
         ],
         "y": [
          -0.09530764818191528,
          0.011762149631977081,
          null
         ]
        },
        {
         "hoverinfo": "none",
         "line": {
          "color": "#b15928",
          "width": 1
         },
         "mode": "lines",
         "type": "scatter",
         "x": [
          -0.009411833249032497,
          -0.08677688986063004,
          null
         ],
         "y": [
          -0.09530764818191528,
          -0.19566379487514496,
          null
         ]
        },
        {
         "hoverinfo": "none",
         "line": {
          "color": "#b15928",
          "width": 1
         },
         "mode": "lines",
         "type": "scatter",
         "x": [
          -0.009411833249032497,
          -0.007137012202292681,
          null
         ],
         "y": [
          -0.09530764818191528,
          -0.19995342195034027,
          null
         ]
        },
        {
         "hoverinfo": "none",
         "line": {
          "color": "#b15928",
          "width": 1
         },
         "mode": "lines",
         "type": "scatter",
         "x": [
          -0.009411833249032497,
          -0.08168629556894302,
          null
         ],
         "y": [
          -0.09530764818191528,
          -0.1462520956993103,
          null
         ]
        },
        {
         "hoverinfo": "none",
         "line": {
          "color": "#b15928",
          "width": 1
         },
         "mode": "lines",
         "type": "scatter",
         "x": [
          -0.009411833249032497,
          -0.09446302801370621,
          null
         ],
         "y": [
          -0.09530764818191528,
          -0.12376344949007034,
          null
         ]
        },
        {
         "hoverinfo": "none",
         "line": {
          "color": "#b15928",
          "width": 1
         },
         "mode": "lines",
         "type": "scatter",
         "x": [
          -0.009411833249032497,
          -0.050269778817892075,
          null
         ],
         "y": [
          -0.09530764818191528,
          -0.17880462110042572,
          null
         ]
        },
        {
         "hoverinfo": "none",
         "line": {
          "color": "#b15928",
          "width": 1
         },
         "mode": "lines",
         "type": "scatter",
         "x": [
          -0.009411833249032497,
          -0.07598503679037094,
          null
         ],
         "y": [
          -0.09530764818191528,
          -0.1628349870443344,
          null
         ]
        },
        {
         "hoverinfo": "none",
         "line": {
          "color": "#b15928",
          "width": 1
         },
         "mode": "lines",
         "type": "scatter",
         "x": [
          -0.009411833249032497,
          0.046639759093523026,
          null
         ],
         "y": [
          -0.09530764818191528,
          -0.17916984856128693,
          null
         ]
        },
        {
         "hoverinfo": "none",
         "line": {
          "color": "#b15928",
          "width": 1
         },
         "mode": "lines",
         "type": "scatter",
         "x": [
          -0.009411833249032497,
          0.019666763022542,
          null
         ],
         "y": [
          -0.09530764818191528,
          -0.17081686854362488,
          null
         ]
        },
        {
         "hoverinfo": "none",
         "line": {
          "color": "#b15928",
          "width": 1
         },
         "mode": "lines",
         "type": "scatter",
         "x": [
          -0.009411833249032497,
          -0.08446138352155685,
          null
         ],
         "y": [
          -0.09530764818191528,
          -0.15707992017269135,
          null
         ]
        },
        {
         "hoverinfo": "none",
         "line": {
          "color": "#b15928",
          "width": 1
         },
         "mode": "lines",
         "type": "scatter",
         "x": [
          -0.009411833249032497,
          0.07105803489685059,
          null
         ],
         "y": [
          -0.09530764818191528,
          -0.1542021632194519,
          null
         ]
        },
        {
         "hoverinfo": "none",
         "line": {
          "color": "#b15928",
          "width": 1
         },
         "mode": "lines",
         "type": "scatter",
         "x": [
          -0.009411833249032497,
          0.01138535887002945,
          null
         ],
         "y": [
          -0.09530764818191528,
          -0.19455116987228394,
          null
         ]
        },
        {
         "hoverinfo": "none",
         "line": {
          "color": "#b15928",
          "width": 1
         },
         "mode": "lines",
         "type": "scatter",
         "x": [
          -0.009411833249032497,
          -0.07237471640110016,
          null
         ],
         "y": [
          -0.09530764818191528,
          -0.17372636497020721,
          null
         ]
        },
        {
         "hoverinfo": "none",
         "line": {
          "color": "#b15928",
          "width": 1
         },
         "mode": "lines",
         "type": "scatter",
         "x": [
          -0.009411833249032497,
          0.02646477147936821,
          null
         ],
         "y": [
          -0.09530764818191528,
          -0.1913507729768753,
          null
         ]
        },
        {
         "hoverinfo": "none",
         "line": {
          "color": "#b15928",
          "width": 1
         },
         "mode": "lines",
         "type": "scatter",
         "x": [
          -0.009411833249032497,
          -0.10224819928407669,
          null
         ],
         "y": [
          -0.09530764818191528,
          -0.102286696434021,
          null
         ]
        },
        {
         "hoverinfo": "none",
         "line": {
          "color": "#b15928",
          "width": 1
         },
         "mode": "lines",
         "type": "scatter",
         "x": [
          -0.009411833249032497,
          -0.016895880922675133,
          null
         ],
         "y": [
          -0.09530764818191528,
          -0.19983990490436554,
          null
         ]
        },
        {
         "hoverinfo": "none",
         "line": {
          "color": "#b15928",
          "width": 1
         },
         "mode": "lines",
         "type": "scatter",
         "x": [
          -0.009411833249032497,
          -0.043950457125902176,
          null
         ],
         "y": [
          -0.09530764818191528,
          -0.1872154325246811,
          null
         ]
        },
        {
         "hoverinfo": "none",
         "line": {
          "color": "#b15928",
          "width": 1
         },
         "mode": "lines",
         "type": "scatter",
         "x": [
          -0.009411833249032497,
          -0.03725804015994072,
          null
         ],
         "y": [
          -0.09530764818191528,
          -0.19443388283252716,
          null
         ]
        },
        {
         "hoverinfo": "none",
         "line": {
          "color": "#b15928",
          "width": 1
         },
         "mode": "lines",
         "type": "scatter",
         "x": [
          -0.009411833249032497,
          -0.0592944510281086,
          null
         ],
         "y": [
          -0.09530764818191528,
          -0.182828888297081,
          null
         ]
        },
        {
         "hoverinfo": "none",
         "line": {
          "color": "#b15928",
          "width": 1
         },
         "mode": "lines",
         "type": "scatter",
         "x": [
          -0.009411833249032497,
          -0.09865590929985046,
          null
         ],
         "y": [
          -0.09530764818191528,
          -0.11268015950918198,
          null
         ]
        },
        {
         "hoverinfo": "none",
         "line": {
          "color": "#b15928",
          "width": 1
         },
         "mode": "lines",
         "type": "scatter",
         "x": [
          -0.009411833249032497,
          -0.1051170602440834,
          null
         ],
         "y": [
          -0.09530764818191528,
          -0.15753524005413055,
          null
         ]
        },
        {
         "hoverinfo": "none",
         "line": {
          "color": "#b15928",
          "width": 1
         },
         "mode": "lines",
         "type": "scatter",
         "x": [
          -0.009411833249032497,
          -0.11900606006383896,
          null
         ],
         "y": [
          -0.09530764818191528,
          -0.09544380009174347,
          null
         ]
        },
        {
         "hoverinfo": "none",
         "line": {
          "color": "#b15928",
          "width": 1
         },
         "mode": "lines",
         "type": "scatter",
         "x": [
          -0.009411833249032497,
          -0.09617679566144943,
          null
         ],
         "y": [
          -0.09530764818191528,
          -0.16950154304504395,
          null
         ]
        },
        {
         "hoverinfo": "none",
         "line": {
          "color": "#b15928",
          "width": 1
         },
         "mode": "lines",
         "type": "scatter",
         "x": [
          -0.009411833249032497,
          0.07582700252532959,
          null
         ],
         "y": [
          -0.09530764818191528,
          -0.17608550190925598,
          null
         ]
        },
        {
         "hoverinfo": "none",
         "line": {
          "color": "#b15928",
          "width": 1
         },
         "mode": "lines",
         "type": "scatter",
         "x": [
          -0.009411833249032497,
          0.010353701189160347,
          null
         ],
         "y": [
          -0.09530764818191528,
          -0.21334019303321838,
          null
         ]
        },
        {
         "hoverinfo": "none",
         "line": {
          "color": "#b15928",
          "width": 1
         },
         "mode": "lines",
         "type": "scatter",
         "x": [
          -0.009411833249032497,
          -0.05905875191092491,
          null
         ],
         "y": [
          -0.09530764818191528,
          -0.10577757656574249,
          null
         ]
        },
        {
         "hoverinfo": "none",
         "line": {
          "color": "#b15928",
          "width": 1
         },
         "mode": "lines",
         "type": "scatter",
         "x": [
          -0.009411833249032497,
          0.01973399892449379,
          null
         ],
         "y": [
          -0.09530764818191528,
          -0.15241889655590057,
          null
         ]
        },
        {
         "hoverinfo": "none",
         "line": {
          "color": "#b15928",
          "width": 1
         },
         "mode": "lines",
         "type": "scatter",
         "x": [
          -0.009411833249032497,
          0.009899928234517574,
          null
         ],
         "y": [
          -0.09530764818191528,
          -0.23676495254039764,
          null
         ]
        },
        {
         "hoverinfo": "none",
         "line": {
          "color": "#b15928",
          "width": 1
         },
         "mode": "lines",
         "type": "scatter",
         "x": [
          -0.009411833249032497,
          0.032708823680877686,
          null
         ],
         "y": [
          -0.09530764818191528,
          -0.20688125491142273,
          null
         ]
        },
        {
         "hoverinfo": "none",
         "line": {
          "color": "#b15928",
          "width": 1
         },
         "mode": "lines",
         "type": "scatter",
         "x": [
          -0.009411833249032497,
          -0.07060511410236359,
          null
         ],
         "y": [
          -0.09530764818191528,
          -0.1943531334400177,
          null
         ]
        },
        {
         "hoverinfo": "none",
         "line": {
          "color": "#b15928",
          "width": 1
         },
         "mode": "lines",
         "type": "scatter",
         "x": [
          -0.009411833249032497,
          0.03126632794737816,
          null
         ],
         "y": [
          -0.09530764818191528,
          -0.13708654046058655,
          null
         ]
        },
        {
         "hoverinfo": "none",
         "line": {
          "color": "#b15928",
          "width": 1
         },
         "mode": "lines",
         "type": "scatter",
         "x": [
          -0.009411833249032497,
          -0.10765960067510605,
          null
         ],
         "y": [
          -0.09530764818191528,
          -0.17479555308818817,
          null
         ]
        },
        {
         "hoverinfo": "none",
         "line": {
          "color": "#b15928",
          "width": 1
         },
         "mode": "lines",
         "type": "scatter",
         "x": [
          -0.009411833249032497,
          -0.09631620347499847,
          null
         ],
         "y": [
          -0.09530764818191528,
          -0.18674077093601227,
          null
         ]
        },
        {
         "hoverinfo": "none",
         "line": {
          "color": "#b15928",
          "width": 1
         },
         "mode": "lines",
         "type": "scatter",
         "x": [
          -0.009411833249032497,
          -0.07617155462503433,
          null
         ],
         "y": [
          -0.09530764818191528,
          -0.20543934404850006,
          null
         ]
        },
        {
         "hoverinfo": "none",
         "line": {
          "color": "#b15928",
          "width": 1
         },
         "mode": "lines",
         "type": "scatter",
         "x": [
          -0.009411833249032497,
          -0.031070850789546967,
          null
         ],
         "y": [
          -0.09530764818191528,
          -0.23783840239048004,
          null
         ]
        },
        {
         "hoverinfo": "none",
         "line": {
          "color": "#b15928",
          "width": 1
         },
         "mode": "lines",
         "type": "scatter",
         "x": [
          -0.009411833249032497,
          -0.044892098754644394,
          null
         ],
         "y": [
          -0.09530764818191528,
          -0.2355106621980667,
          null
         ]
        },
        {
         "hoverinfo": "none",
         "line": {
          "color": "#b15928",
          "width": 1
         },
         "mode": "lines",
         "type": "scatter",
         "x": [
          -0.009411833249032497,
          -0.1293841004371643,
          null
         ],
         "y": [
          -0.09530764818191528,
          -0.16722574830055237,
          null
         ]
        },
        {
         "hoverinfo": "none",
         "line": {
          "color": "#b15928",
          "width": 1
         },
         "mode": "lines",
         "type": "scatter",
         "x": [
          -0.009411833249032497,
          -0.11482149362564087,
          null
         ],
         "y": [
          -0.09530764818191528,
          -0.18957093358039856,
          null
         ]
        },
        {
         "hoverinfo": "none",
         "line": {
          "color": "#b15928",
          "width": 1
         },
         "mode": "lines",
         "type": "scatter",
         "x": [
          -0.009411833249032497,
          -0.10606811940670013,
          null
         ],
         "y": [
          -0.09530764818191528,
          -0.1268279105424881,
          null
         ]
        },
        {
         "hoverinfo": "none",
         "line": {
          "color": "#b15928",
          "width": 1
         },
         "mode": "lines",
         "type": "scatter",
         "x": [
          -0.009411833249032497,
          0.05359857901930809,
          null
         ],
         "y": [
          -0.09530764818191528,
          -0.1648792177438736,
          null
         ]
        },
        {
         "hoverinfo": "none",
         "line": {
          "color": "#b15928",
          "width": 1
         },
         "mode": "lines",
         "type": "scatter",
         "x": [
          -0.009411833249032497,
          -0.033680129796266556,
          null
         ],
         "y": [
          -0.09530764818191528,
          -0.1786169856786728,
          null
         ]
        },
        {
         "hoverinfo": "none",
         "line": {
          "color": "#b15928",
          "width": 1
         },
         "mode": "lines",
         "type": "scatter",
         "x": [
          -0.009411833249032497,
          -0.09200797230005264,
          null
         ],
         "y": [
          -0.09530764818191528,
          -0.09302757680416107,
          null
         ]
        },
        {
         "hoverinfo": "none",
         "line": {
          "color": "#b15928",
          "width": 1
         },
         "mode": "lines",
         "type": "scatter",
         "x": [
          -0.053003836423158646,
          -0.07416068762540817,
          null
         ],
         "y": [
          0.06294642388820648,
          -0.03424610570073128,
          null
         ]
        },
        {
         "hoverinfo": "none",
         "line": {
          "color": "#b15928",
          "width": 1
         },
         "mode": "lines",
         "type": "scatter",
         "x": [
          -0.053003836423158646,
          -0.167112797498703,
          null
         ],
         "y": [
          0.06294642388820648,
          0.10325218737125397,
          null
         ]
        },
        {
         "hoverinfo": "none",
         "line": {
          "color": "#b15928",
          "width": 1
         },
         "mode": "lines",
         "type": "scatter",
         "x": [
          -0.053003836423158646,
          -0.053003836423158646,
          null
         ],
         "y": [
          0.06294642388820648,
          0.06294642388820648,
          null
         ]
        },
        {
         "hoverinfo": "none",
         "line": {
          "color": "#b15928",
          "width": 1
         },
         "mode": "lines",
         "type": "scatter",
         "x": [
          -0.053003836423158646,
          -0.09629089385271072,
          null
         ],
         "y": [
          0.06294642388820648,
          0.08682266622781754,
          null
         ]
        },
        {
         "hoverinfo": "none",
         "line": {
          "color": "#b15928",
          "width": 1
         },
         "mode": "lines",
         "type": "scatter",
         "x": [
          -0.053003836423158646,
          0.0279057826846838,
          null
         ],
         "y": [
          0.06294642388820648,
          0.040724098682403564,
          null
         ]
        },
        {
         "hoverinfo": "none",
         "line": {
          "color": "#b15928",
          "width": 1
         },
         "mode": "lines",
         "type": "scatter",
         "x": [
          -0.053003836423158646,
          -0.14403702318668365,
          null
         ],
         "y": [
          0.06294642388820648,
          0.0885884091258049,
          null
         ]
        },
        {
         "hoverinfo": "none",
         "line": {
          "color": "#b15928",
          "width": 1
         },
         "mode": "lines",
         "type": "scatter",
         "x": [
          -0.053003836423158646,
          -0.12950193881988525,
          null
         ],
         "y": [
          0.06294642388820648,
          0.10802889615297318,
          null
         ]
        },
        {
         "hoverinfo": "none",
         "line": {
          "color": "#b15928",
          "width": 1
         },
         "mode": "lines",
         "type": "scatter",
         "x": [
          -0.053003836423158646,
          -0.1332263946533203,
          null
         ],
         "y": [
          0.06294642388820648,
          0.09484009444713593,
          null
         ]
        },
        {
         "hoverinfo": "none",
         "line": {
          "color": "#b15928",
          "width": 1
         },
         "mode": "lines",
         "type": "scatter",
         "x": [
          -0.053003836423158646,
          -0.1597297191619873,
          null
         ],
         "y": [
          0.06294642388820648,
          0.11458896100521088,
          null
         ]
        },
        {
         "hoverinfo": "none",
         "line": {
          "color": "#b15928",
          "width": 1
         },
         "mode": "lines",
         "type": "scatter",
         "x": [
          -0.053003836423158646,
          -0.08616886287927628,
          null
         ],
         "y": [
          0.06294642388820648,
          -0.02789970673620701,
          null
         ]
        },
        {
         "hoverinfo": "none",
         "line": {
          "color": "#b15928",
          "width": 1
         },
         "mode": "lines",
         "type": "scatter",
         "x": [
          -0.053003836423158646,
          -0.15170389413833618,
          null
         ],
         "y": [
          0.06294642388820648,
          0.12491253018379211,
          null
         ]
        },
        {
         "hoverinfo": "none",
         "line": {
          "color": "#b15928",
          "width": 1
         },
         "mode": "lines",
         "type": "scatter",
         "x": [
          -0.053003836423158646,
          -0.14953646063804626,
          null
         ],
         "y": [
          0.06294642388820648,
          0.1371440887451172,
          null
         ]
        },
        {
         "hoverinfo": "none",
         "line": {
          "color": "#b15928",
          "width": 1
         },
         "mode": "lines",
         "type": "scatter",
         "x": [
          0.07621454447507858,
          0.07621454447507858,
          null
         ],
         "y": [
          0.03477798402309418,
          0.03477798402309418,
          null
         ]
        },
        {
         "hoverinfo": "none",
         "line": {
          "color": "#b15928",
          "width": 1
         },
         "mode": "lines",
         "type": "scatter",
         "x": [
          0.07621454447507858,
          0.17658548057079315,
          null
         ],
         "y": [
          0.03477798402309418,
          0.04319130256772041,
          null
         ]
        },
        {
         "hoverinfo": "none",
         "line": {
          "color": "#b15928",
          "width": 1
         },
         "mode": "lines",
         "type": "scatter",
         "x": [
          0.07621454447507858,
          0.188980370759964,
          null
         ],
         "y": [
          0.03477798402309418,
          0.10884635895490646,
          null
         ]
        },
        {
         "hoverinfo": "none",
         "line": {
          "color": "#b15928",
          "width": 1
         },
         "mode": "lines",
         "type": "scatter",
         "x": [
          0.07621454447507858,
          -0.010698355734348297,
          null
         ],
         "y": [
          0.03477798402309418,
          0.0028660467360168695,
          null
         ]
        },
        {
         "hoverinfo": "none",
         "line": {
          "color": "#b15928",
          "width": 1
         },
         "mode": "lines",
         "type": "scatter",
         "x": [
          0.07621454447507858,
          0.0279057826846838,
          null
         ],
         "y": [
          0.03477798402309418,
          0.040724098682403564,
          null
         ]
        },
        {
         "hoverinfo": "none",
         "line": {
          "color": "#b15928",
          "width": 1
         },
         "mode": "lines",
         "type": "scatter",
         "x": [
          0.07621454447507858,
          0.09952220320701599,
          null
         ],
         "y": [
          0.03477798402309418,
          0.002265270333737135,
          null
         ]
        },
        {
         "hoverinfo": "none",
         "line": {
          "color": "#b15928",
          "width": 1
         },
         "mode": "lines",
         "type": "scatter",
         "x": [
          0.07621454447507858,
          0.15570880472660065,
          null
         ],
         "y": [
          0.03477798402309418,
          0.014825956895947456,
          null
         ]
        },
        {
         "hoverinfo": "none",
         "line": {
          "color": "#b15928",
          "width": 1
         },
         "mode": "lines",
         "type": "scatter",
         "x": [
          0.07621454447507858,
          0.12678906321525574,
          null
         ],
         "y": [
          0.03477798402309418,
          0.011829417198896408,
          null
         ]
        },
        {
         "hoverinfo": "none",
         "line": {
          "color": "#b15928",
          "width": 1
         },
         "mode": "lines",
         "type": "scatter",
         "x": [
          0.07621454447507858,
          0.13661688566207886,
          null
         ],
         "y": [
          0.03477798402309418,
          0.08691762387752533,
          null
         ]
        },
        {
         "hoverinfo": "none",
         "line": {
          "color": "#b15928",
          "width": 1
         },
         "mode": "lines",
         "type": "scatter",
         "x": [
          0.07621454447507858,
          0.10514023900032043,
          null
         ],
         "y": [
          0.03477798402309418,
          0.016685698181390762,
          null
         ]
        },
        {
         "hoverinfo": "none",
         "line": {
          "color": "#b15928",
          "width": 1
         },
         "mode": "lines",
         "type": "scatter",
         "x": [
          0.07621454447507858,
          0.11710836738348007,
          null
         ],
         "y": [
          0.03477798402309418,
          0.0009321760153397918,
          null
         ]
        },
        {
         "hoverinfo": "none",
         "line": {
          "color": "#b15928",
          "width": 1
         },
         "mode": "lines",
         "type": "scatter",
         "x": [
          0.07621454447507858,
          0.1300722062587738,
          null
         ],
         "y": [
          0.03477798402309418,
          0.018686966970562935,
          null
         ]
        },
        {
         "hoverinfo": "none",
         "line": {
          "color": "#b15928",
          "width": 1
         },
         "mode": "lines",
         "type": "scatter",
         "x": [
          0.07621454447507858,
          0.11547510325908661,
          null
         ],
         "y": [
          0.03477798402309418,
          0.011578048579394817,
          null
         ]
        },
        {
         "hoverinfo": "none",
         "line": {
          "color": "#b15928",
          "width": 1
         },
         "mode": "lines",
         "type": "scatter",
         "x": [
          0.07621454447507858,
          0.07436678558588028,
          null
         ],
         "y": [
          0.03477798402309418,
          0.013922978192567825,
          null
         ]
        },
        {
         "hoverinfo": "none",
         "line": {
          "color": "#b15928",
          "width": 1
         },
         "mode": "lines",
         "type": "scatter",
         "x": [
          0.0279057826846838,
          0.0279057826846838,
          null
         ],
         "y": [
          0.040724098682403564,
          0.040724098682403564,
          null
         ]
        },
        {
         "hoverinfo": "none",
         "line": {
          "color": "#b15928",
          "width": 1
         },
         "mode": "lines",
         "type": "scatter",
         "x": [
          0.014455022290349007,
          0.014455022290349007,
          null
         ],
         "y": [
          0.08197908103466034,
          0.08197908103466034,
          null
         ]
        },
        {
         "hoverinfo": "none",
         "line": {
          "color": "#b15928",
          "width": 1
         },
         "mode": "lines",
         "type": "scatter",
         "x": [
          -0.11404864490032196,
          -0.056218210607767105,
          null
         ],
         "y": [
          0.0793866515159607,
          0.06314311176538467,
          null
         ]
        },
        {
         "hoverinfo": "none",
         "line": {
          "color": "#b15928",
          "width": 1
         },
         "mode": "lines",
         "type": "scatter",
         "x": [
          -0.11404864490032196,
          -0.2154925912618637,
          null
         ],
         "y": [
          0.0793866515159607,
          0.10920758545398712,
          null
         ]
        },
        {
         "hoverinfo": "none",
         "line": {
          "color": "#b15928",
          "width": 1
         },
         "mode": "lines",
         "type": "scatter",
         "x": [
          -0.11404864490032196,
          -0.19645020365715027,
          null
         ],
         "y": [
          0.0793866515159607,
          0.09805351495742798,
          null
         ]
        },
        {
         "hoverinfo": "none",
         "line": {
          "color": "#b15928",
          "width": 1
         },
         "mode": "lines",
         "type": "scatter",
         "x": [
          -0.11404864490032196,
          0.017801733687520027,
          null
         ],
         "y": [
          0.0793866515159607,
          0.07078025490045547,
          null
         ]
        },
        {
         "hoverinfo": "none",
         "line": {
          "color": "#b15928",
          "width": 1
         },
         "mode": "lines",
         "type": "scatter",
         "x": [
          -0.11404864490032196,
          -0.21747839450836182,
          null
         ],
         "y": [
          0.0793866515159607,
          0.09683854132890701,
          null
         ]
        },
        {
         "hoverinfo": "none",
         "line": {
          "color": "#b15928",
          "width": 1
         },
         "mode": "lines",
         "type": "scatter",
         "x": [
          -0.11404864490032196,
          -0.11404864490032196,
          null
         ],
         "y": [
          0.0793866515159607,
          0.0793866515159607,
          null
         ]
        },
        {
         "hoverinfo": "none",
         "line": {
          "color": "#b15928",
          "width": 1
         },
         "mode": "lines",
         "type": "scatter",
         "x": [
          -0.11404864490032196,
          -0.21179255843162537,
          null
         ],
         "y": [
          0.0793866515159607,
          0.11942533403635025,
          null
         ]
        },
        {
         "hoverinfo": "none",
         "line": {
          "color": "#b15928",
          "width": 1
         },
         "mode": "lines",
         "type": "scatter",
         "x": [
          0.11428499966859818,
          0.1542145162820816,
          null
         ],
         "y": [
          0.06138763949275017,
          0.06641965359449387,
          null
         ]
        },
        {
         "hoverinfo": "none",
         "line": {
          "color": "#b15928",
          "width": 1
         },
         "mode": "lines",
         "type": "scatter",
         "x": [
          0.11428499966859818,
          0.0996846929192543,
          null
         ],
         "y": [
          0.06138763949275017,
          0.04730414226651192,
          null
         ]
        },
        {
         "hoverinfo": "none",
         "line": {
          "color": "#b15928",
          "width": 1
         },
         "mode": "lines",
         "type": "scatter",
         "x": [
          0.11428499966859818,
          0.10263369977474213,
          null
         ],
         "y": [
          0.06138763949275017,
          -0.016170984134078026,
          null
         ]
        },
        {
         "hoverinfo": "none",
         "line": {
          "color": "#b15928",
          "width": 1
         },
         "mode": "lines",
         "type": "scatter",
         "x": [
          0.11428499966859818,
          0.22457194328308105,
          null
         ],
         "y": [
          0.06138763949275017,
          0.07447654753923416,
          null
         ]
        },
        {
         "hoverinfo": "none",
         "line": {
          "color": "#b15928",
          "width": 1
         },
         "mode": "lines",
         "type": "scatter",
         "x": [
          0.11428499966859818,
          0.22043377161026,
          null
         ],
         "y": [
          0.06138763949275017,
          0.0873732641339302,
          null
         ]
        },
        {
         "hoverinfo": "none",
         "line": {
          "color": "#b15928",
          "width": 1
         },
         "mode": "lines",
         "type": "scatter",
         "x": [
          0.11428499966859818,
          0.11428499966859818,
          null
         ],
         "y": [
          0.06138763949275017,
          0.06138763949275017,
          null
         ]
        },
        {
         "hoverinfo": "none",
         "line": {
          "color": "#b15928",
          "width": 1
         },
         "mode": "lines",
         "type": "scatter",
         "x": [
          0.11428499966859818,
          0.10667697340250015,
          null
         ],
         "y": [
          0.06138763949275017,
          0.0880923643708229,
          null
         ]
        },
        {
         "hoverinfo": "none",
         "line": {
          "color": "#b15928",
          "width": 1
         },
         "mode": "lines",
         "type": "scatter",
         "x": [
          0.11428499966859818,
          0.18386556208133698,
          null
         ],
         "y": [
          0.06138763949275017,
          0.07405702769756317,
          null
         ]
        },
        {
         "hoverinfo": "none",
         "line": {
          "color": "#b15928",
          "width": 1
         },
         "mode": "lines",
         "type": "scatter",
         "x": [
          0.11428499966859818,
          0.22258442640304565,
          null
         ],
         "y": [
          0.06138763949275017,
          0.109991654753685,
          null
         ]
        },
        {
         "hoverinfo": "none",
         "line": {
          "color": "#b15928",
          "width": 1
         },
         "mode": "lines",
         "type": "scatter",
         "x": [
          0.11428499966859818,
          0.23591583967208862,
          null
         ],
         "y": [
          0.06138763949275017,
          0.08762778341770172,
          null
         ]
        },
        {
         "hoverinfo": "none",
         "line": {
          "color": "#b15928",
          "width": 1
         },
         "mode": "lines",
         "type": "scatter",
         "x": [
          0.11428499966859818,
          0.2230285406112671,
          null
         ],
         "y": [
          0.06138763949275017,
          0.12036607414484024,
          null
         ]
        },
        {
         "hoverinfo": "none",
         "line": {
          "color": "#b15928",
          "width": 1
         },
         "mode": "lines",
         "type": "scatter",
         "x": [
          0.11428499966859818,
          0.23096369206905365,
          null
         ],
         "y": [
          0.06138763949275017,
          0.10170610249042511,
          null
         ]
        },
        {
         "hoverinfo": "none",
         "line": {
          "color": "#b15928",
          "width": 1
         },
         "mode": "lines",
         "type": "scatter",
         "x": [
          0.11428499966859818,
          -0.03722376003861427,
          null
         ],
         "y": [
          0.06138763949275017,
          0.05838426202535629,
          null
         ]
        },
        {
         "hoverinfo": "none",
         "line": {
          "color": "#b15928",
          "width": 1
         },
         "mode": "lines",
         "type": "scatter",
         "x": [
          0.11428499966859818,
          0.19100482761859894,
          null
         ],
         "y": [
          0.06138763949275017,
          0.08115316182374954,
          null
         ]
        },
        {
         "hoverinfo": "none",
         "line": {
          "color": "#b15928",
          "width": 1
         },
         "mode": "lines",
         "type": "scatter",
         "x": [
          0.11428499966859818,
          0.18162041902542114,
          null
         ],
         "y": [
          0.06138763949275017,
          0.09892310202121735,
          null
         ]
        },
        {
         "hoverinfo": "none",
         "line": {
          "color": "#b15928",
          "width": 1
         },
         "mode": "lines",
         "type": "scatter",
         "x": [
          0.11428499966859818,
          0.18282820284366608,
          null
         ],
         "y": [
          0.06138763949275017,
          0.09034259617328644,
          null
         ]
        },
        {
         "hoverinfo": "none",
         "line": {
          "color": "#b15928",
          "width": 1
         },
         "mode": "lines",
         "type": "scatter",
         "x": [
          0.11428499966859818,
          0.19026321172714233,
          null
         ],
         "y": [
          0.06138763949275017,
          0.09024424850940704,
          null
         ]
        },
        {
         "hoverinfo": "none",
         "line": {
          "color": "#b15928",
          "width": 1
         },
         "mode": "lines",
         "type": "scatter",
         "x": [
          0.11428499966859818,
          -0.008871680125594139,
          null
         ],
         "y": [
          0.06138763949275017,
          -0.021061770617961884,
          null
         ]
        },
        {
         "hoverinfo": "none",
         "line": {
          "color": "#b15928",
          "width": 1
         },
         "mode": "lines",
         "type": "scatter",
         "x": [
          0.11428499966859818,
          0.13636277616024017,
          null
         ],
         "y": [
          0.06138763949275017,
          0.06254596263170242,
          null
         ]
        },
        {
         "hoverinfo": "none",
         "line": {
          "color": "#b15928",
          "width": 1
         },
         "mode": "lines",
         "type": "scatter",
         "x": [
          0.11428499966859818,
          0.017801733687520027,
          null
         ],
         "y": [
          0.06138763949275017,
          0.07078025490045547,
          null
         ]
        },
        {
         "hoverinfo": "none",
         "line": {
          "color": "#b15928",
          "width": 1
         },
         "mode": "lines",
         "type": "scatter",
         "x": [
          0.11428499966859818,
          0.21208222210407257,
          null
         ],
         "y": [
          0.06138763949275017,
          0.13075964152812958,
          null
         ]
        },
        {
         "hoverinfo": "none",
         "line": {
          "color": "#b15928",
          "width": 1
         },
         "mode": "lines",
         "type": "scatter",
         "x": [
          0.03503832593560219,
          0.08562422543764114,
          null
         ],
         "y": [
          -0.060259267687797546,
          -0.03937424346804619,
          null
         ]
        },
        {
         "hoverinfo": "none",
         "line": {
          "color": "#b15928",
          "width": 1
         },
         "mode": "lines",
         "type": "scatter",
         "x": [
          -0.028231751173734665,
          -0.07118373364210129,
          null
         ],
         "y": [
          -0.06372730433940887,
          0.005395886022597551,
          null
         ]
        },
        {
         "hoverinfo": "none",
         "line": {
          "color": "#b15928",
          "width": 1
         },
         "mode": "lines",
         "type": "scatter",
         "x": [
          -0.028231751173734665,
          -0.010698355734348297,
          null
         ],
         "y": [
          -0.06372730433940887,
          0.0028660467360168695,
          null
         ]
        },
        {
         "hoverinfo": "none",
         "line": {
          "color": "#b15928",
          "width": 1
         },
         "mode": "lines",
         "type": "scatter",
         "x": [
          -0.008871680125594139,
          -0.010698355734348297,
          null
         ],
         "y": [
          -0.021061770617961884,
          0.0028660467360168695,
          null
         ]
        },
        {
         "hoverinfo": "none",
         "line": {
          "color": "#b15928",
          "width": 1
         },
         "mode": "lines",
         "type": "scatter",
         "x": [
          -0.008871680125594139,
          -0.10001189261674881,
          null
         ],
         "y": [
          -0.021061770617961884,
          -0.019882017746567726,
          null
         ]
        },
        {
         "hoverinfo": "none",
         "line": {
          "color": "#b15928",
          "width": 1
         },
         "mode": "lines",
         "type": "scatter",
         "x": [
          0.09083793312311172,
          0.11710836738348007,
          null
         ],
         "y": [
          -0.08146306127309799,
          0.0009321760153397918,
          null
         ]
        },
        {
         "hoverinfo": "none",
         "line": {
          "color": "#b15928",
          "width": 1
         },
         "mode": "lines",
         "type": "scatter",
         "x": [
          0.07945340871810913,
          0.11710836738348007,
          null
         ],
         "y": [
          -0.0784756988286972,
          0.0009321760153397918,
          null
         ]
        },
        {
         "hoverinfo": "none",
         "line": {
          "color": "#b15928",
          "width": 1
         },
         "mode": "lines",
         "type": "scatter",
         "x": [
          0.040209438651800156,
          0.088345967233181,
          null
         ],
         "y": [
          -0.03278698772192001,
          -0.02072688564658165,
          null
         ]
        },
        {
         "hoverinfo": "none",
         "line": {
          "color": "#b15928",
          "width": 1
         },
         "mode": "lines",
         "type": "scatter",
         "x": [
          -0.08313187211751938,
          -0.19386236369609833,
          null
         ],
         "y": [
          -0.07381266355514526,
          -0.09740345925092697,
          null
         ]
        },
        {
         "hoverinfo": "none",
         "line": {
          "color": "#b15928",
          "width": 1
         },
         "mode": "lines",
         "type": "scatter",
         "x": [
          -0.07201999425888062,
          -0.10266517847776413,
          null
         ],
         "y": [
          0.011762149631977081,
          0.0938301831483841,
          null
         ]
        },
        {
         "hoverinfo": "none",
         "line": {
          "color": "#b15928",
          "width": 1
         },
         "mode": "lines",
         "type": "scatter",
         "x": [
          0.10263369977474213,
          0.0996846929192543,
          null
         ],
         "y": [
          -0.016170984134078026,
          0.04730414226651192,
          null
         ]
        },
        {
         "hoverinfo": "none",
         "line": {
          "color": "#b15928",
          "width": 1
         },
         "mode": "lines",
         "type": "scatter",
         "x": [
          0.0996846929192543,
          0.1542145162820816,
          null
         ],
         "y": [
          0.04730414226651192,
          0.06641965359449387,
          null
         ]
        },
        {
         "hoverinfo": "none",
         "line": {
          "color": "#b15928",
          "width": 1
         },
         "mode": "lines",
         "type": "scatter",
         "x": [
          0.0996846929192543,
          0.10667697340250015,
          null
         ],
         "y": [
          0.04730414226651192,
          0.0880923643708229,
          null
         ]
        },
        {
         "hoverinfo": "none",
         "line": {
          "color": "#b15928",
          "width": 1
         },
         "mode": "lines",
         "type": "scatter",
         "x": [
          0.0996846929192543,
          0.18386556208133698,
          null
         ],
         "y": [
          0.04730414226651192,
          0.07405702769756317,
          null
         ]
        },
        {
         "hoverinfo": "none",
         "line": {
          "color": "#b15928",
          "width": 1
         },
         "mode": "lines",
         "type": "scatter",
         "x": [
          0.0996846929192543,
          0.13636277616024017,
          null
         ],
         "y": [
          0.04730414226651192,
          0.06254596263170242,
          null
         ]
        },
        {
         "hoverinfo": "none",
         "line": {
          "color": "#b15928",
          "width": 1
         },
         "mode": "lines",
         "type": "scatter",
         "x": [
          0.0996846929192543,
          0.017801733687520027,
          null
         ],
         "y": [
          0.04730414226651192,
          0.07078025490045547,
          null
         ]
        },
        {
         "hoverinfo": "none",
         "line": {
          "color": "#b15928",
          "width": 1
         },
         "mode": "lines",
         "type": "scatter",
         "x": [
          -0.010698355734348297,
          -0.07118373364210129,
          null
         ],
         "y": [
          0.0028660467360168695,
          0.005395886022597551,
          null
         ]
        },
        {
         "hoverinfo": "none",
         "line": {
          "color": "#b15928",
          "width": 1
         },
         "mode": "lines",
         "type": "scatter",
         "x": [
          -0.010698355734348297,
          -0.03722376003861427,
          null
         ],
         "y": [
          0.0028660467360168695,
          0.05838426202535629,
          null
         ]
        },
        {
         "hoverinfo": "none",
         "line": {
          "color": "#b15928",
          "width": 1
         },
         "mode": "lines",
         "type": "scatter",
         "x": [
          -0.010698355734348297,
          -0.010698355734348297,
          null
         ],
         "y": [
          0.0028660467360168695,
          0.0028660467360168695,
          null
         ]
        },
        {
         "hoverinfo": "none",
         "line": {
          "color": "#b15928",
          "width": 1
         },
         "mode": "lines",
         "type": "scatter",
         "x": [
          -0.010698355734348297,
          -0.10088273882865906,
          null
         ],
         "y": [
          0.0028660467360168695,
          0.012627232819795609,
          null
         ]
        },
        {
         "hoverinfo": "none",
         "line": {
          "color": "#b15928",
          "width": 1
         },
         "mode": "lines",
         "type": "scatter",
         "x": [
          -0.2412836253643036,
          -0.2412836253643036,
          null
         ],
         "y": [
          0.9972501993179321,
          0.9972501993179321,
          null
         ]
        },
        {
         "hoverinfo": "none",
         "line": {
          "color": "#b15928",
          "width": 1
         },
         "mode": "lines",
         "type": "scatter",
         "x": [
          -0.2412836253643036,
          -0.25913628935813904,
          null
         ],
         "y": [
          0.9972501993179321,
          1,
          null
         ]
        },
        {
         "hoverinfo": "none",
         "line": {
          "color": "#b15928",
          "width": 1
         },
         "mode": "lines",
         "type": "scatter",
         "x": [
          -0.04963849484920502,
          0.0012960839085280895,
          null
         ],
         "y": [
          0.11058349162340164,
          0.08289168030023575,
          null
         ]
        },
        {
         "hoverinfo": "none",
         "line": {
          "color": "#b15928",
          "width": 1
         },
         "mode": "lines",
         "type": "scatter",
         "x": [
          0.0012960839085280895,
          -0.04246462509036064,
          null
         ],
         "y": [
          0.08289168030023575,
          0.1201380044221878,
          null
         ]
        },
        {
         "hoverinfo": "none",
         "line": {
          "color": "#b15928",
          "width": 1
         },
         "mode": "lines",
         "type": "scatter",
         "x": [
          0.0012960839085280895,
          0.0012960839085280895,
          null
         ],
         "y": [
          0.08289168030023575,
          0.08289168030023575,
          null
         ]
        },
        {
         "hoverinfo": "none",
         "line": {
          "color": "#b15928",
          "width": 1
         },
         "mode": "lines",
         "type": "scatter",
         "x": [
          0.0012960839085280895,
          -0.031684599816799164,
          null
         ],
         "y": [
          0.08289168030023575,
          0.12396955490112305,
          null
         ]
        },
        {
         "hoverinfo": "none",
         "line": {
          "color": "#b15928",
          "width": 1
         },
         "mode": "lines",
         "type": "scatter",
         "x": [
          0.0012960839085280895,
          0.054449569433927536,
          null
         ],
         "y": [
          0.08289168030023575,
          0.08344356715679169,
          null
         ]
        },
        {
         "hoverinfo": "none",
         "line": {
          "color": "#b15928",
          "width": 1
         },
         "mode": "lines",
         "type": "scatter",
         "x": [
          0.0012960839085280895,
          0.04966125637292862,
          null
         ],
         "y": [
          0.08289168030023575,
          0.0526713989675045,
          null
         ]
        },
        {
         "hoverinfo": "none",
         "line": {
          "color": "#b15928",
          "width": 1
         },
         "mode": "lines",
         "type": "scatter",
         "x": [
          0.0012960839085280895,
          -0.0404651015996933,
          null
         ],
         "y": [
          0.08289168030023575,
          0.10763387382030487,
          null
         ]
        },
        {
         "hoverinfo": "none",
         "line": {
          "color": "#b15928",
          "width": 1
         },
         "mode": "lines",
         "type": "scatter",
         "x": [
          0.054449569433927536,
          0.04966125637292862,
          null
         ],
         "y": [
          0.08344356715679169,
          0.0526713989675045,
          null
         ]
        },
        {
         "hoverinfo": "none",
         "line": {
          "color": "#b15928",
          "width": 1
         },
         "mode": "lines",
         "type": "scatter",
         "x": [
          0.04966125637292862,
          0.04966125637292862,
          null
         ],
         "y": [
          0.0526713989675045,
          0.0526713989675045,
          null
         ]
        },
        {
         "hoverinfo": "none",
         "line": {
          "color": "#b15928",
          "width": 1
         },
         "mode": "lines",
         "type": "scatter",
         "x": [
          0.04966125637292862,
          0.07775337994098663,
          null
         ],
         "y": [
          0.0526713989675045,
          0.059363096952438354,
          null
         ]
        },
        {
         "hoverinfo": "none",
         "line": {
          "color": "#b15928",
          "width": 1
         },
         "mode": "lines",
         "type": "scatter",
         "x": [
          0.04966125637292862,
          0.10364402830600739,
          null
         ],
         "y": [
          0.0526713989675045,
          0.06440386921167374,
          null
         ]
        },
        {
         "hoverinfo": "none",
         "line": {
          "color": "#b15928",
          "width": 1
         },
         "mode": "lines",
         "type": "scatter",
         "x": [
          0.08428648114204407,
          0.08190315216779709,
          null
         ],
         "y": [
          0.026960067451000214,
          0.03527268022298813,
          null
         ]
        },
        {
         "hoverinfo": "none",
         "line": {
          "color": "#b15928",
          "width": 1
         },
         "mode": "lines",
         "type": "scatter",
         "x": [
          0.08428648114204407,
          0.07436678558588028,
          null
         ],
         "y": [
          0.026960067451000214,
          0.013922978192567825,
          null
         ]
        },
        {
         "hoverinfo": "none",
         "line": {
          "color": "#b15928",
          "width": 1
         },
         "mode": "lines",
         "type": "scatter",
         "x": [
          0.08190315216779709,
          0.08647139370441437,
          null
         ],
         "y": [
          0.03527268022298813,
          0.012992375530302525,
          null
         ]
        },
        {
         "hoverinfo": "none",
         "line": {
          "color": "#b15928",
          "width": 1
         },
         "mode": "lines",
         "type": "scatter",
         "x": [
          0.07775337994098663,
          0.10364402830600739,
          null
         ],
         "y": [
          0.059363096952438354,
          0.06440386921167374,
          null
         ]
        },
        {
         "hoverinfo": "none",
         "line": {
          "color": "#b15928",
          "width": 1
         },
         "mode": "lines",
         "type": "scatter",
         "x": [
          -0.06082925945520401,
          -0.06082925945520401,
          null
         ],
         "y": [
          0.05018354207277298,
          0.05018354207277298,
          null
         ]
        },
        {
         "hoverinfo": "none",
         "line": {
          "color": "#b15928",
          "width": 1
         },
         "mode": "lines",
         "type": "scatter",
         "x": [
          -0.06082925945520401,
          -0.09098842740058899,
          null
         ],
         "y": [
          0.05018354207277298,
          0.05503544956445694,
          null
         ]
        },
        {
         "hoverinfo": "none",
         "line": {
          "color": "#b15928",
          "width": 1
         },
         "mode": "lines",
         "type": "scatter",
         "x": [
          0.07436678558588028,
          0.08647139370441437,
          null
         ],
         "y": [
          0.013922978192567825,
          0.012992375530302525,
          null
         ]
        },
        {
         "hoverinfo": "none",
         "line": {
          "color": "#b15928",
          "width": 1
         },
         "mode": "lines",
         "type": "scatter",
         "x": [
          0.07436678558588028,
          0.07436678558588028,
          null
         ],
         "y": [
          0.013922978192567825,
          0.013922978192567825,
          null
         ]
        },
        {
         "hoverinfo": "none",
         "line": {
          "color": "#b15928",
          "width": 1
         },
         "mode": "lines",
         "type": "scatter",
         "x": [
          0.07436678558588028,
          0.08163558691740036,
          null
         ],
         "y": [
          0.013922978192567825,
          0.002645733067765832,
          null
         ]
        },
        {
         "hoverinfo": "none",
         "line": {
          "color": "#b15928",
          "width": 1
         },
         "mode": "lines",
         "type": "scatter",
         "x": [
          0.1145307794213295,
          0.13661688566207886,
          null
         ],
         "y": [
          0.07584137469530106,
          0.08691762387752533,
          null
         ]
        },
        {
         "hoverinfo": "none",
         "line": {
          "color": "#b15928",
          "width": 1
         },
         "mode": "lines",
         "type": "scatter",
         "x": [
          -0.06262879073619843,
          -0.13710127770900726,
          null
         ],
         "y": [
          0.06851179152727127,
          0.13895681500434875,
          null
         ]
        },
        {
         "hoverinfo": "none",
         "line": {
          "color": "#b15928",
          "width": 1
         },
         "mode": "lines",
         "type": "scatter",
         "x": [
          -0.06262879073619843,
          -0.03971003368496895,
          null
         ],
         "y": [
          0.06851179152727127,
          0.03288314491510391,
          null
         ]
        },
        {
         "hoverinfo": "none",
         "line": {
          "color": "#b15928",
          "width": 1
         },
         "mode": "lines",
         "type": "scatter",
         "x": [
          -0.06262879073619843,
          -0.15084664523601532,
          null
         ],
         "y": [
          0.06851179152727127,
          0.1547297090291977,
          null
         ]
        },
        {
         "hoverinfo": "none",
         "line": {
          "color": "#b15928",
          "width": 1
         },
         "mode": "lines",
         "type": "scatter",
         "x": [
          -0.03971003368496895,
          -0.03971003368496895,
          null
         ],
         "y": [
          0.03288314491510391,
          0.03288314491510391,
          null
         ]
        },
        {
         "hoverinfo": "none",
         "line": {
          "color": "#b15928",
          "width": 1
         },
         "mode": "lines",
         "type": "scatter",
         "x": [
          -0.056218210607767105,
          0.017801733687520027,
          null
         ],
         "y": [
          0.06314311176538467,
          0.07078025490045547,
          null
         ]
        },
        {
         "hoverinfo": "none",
         "line": {
          "color": "#b15928",
          "width": 1
         },
         "mode": "lines",
         "type": "scatter",
         "x": [
          0.08647139370441437,
          0.08163558691740036,
          null
         ],
         "y": [
          0.012992375530302525,
          0.002645733067765832,
          null
         ]
        },
        {
         "hoverinfo": "none",
         "line": {
          "color": "#b15928",
          "width": 1
         },
         "mode": "lines",
         "type": "scatter",
         "x": [
          0.13661688566207886,
          0.13661688566207886,
          null
         ],
         "y": [
          0.08691762387752533,
          0.08691762387752533,
          null
         ]
        },
        {
         "hoverinfo": "none",
         "line": {
          "color": "#b15928",
          "width": 1
         },
         "mode": "lines",
         "type": "scatter",
         "x": [
          0.13661688566207886,
          0.22669784724712372,
          null
         ],
         "y": [
          0.08691762387752533,
          0.14204207062721252,
          null
         ]
        },
        {
         "hoverinfo": "none",
         "line": {
          "color": "#b15928",
          "width": 1
         },
         "mode": "lines",
         "type": "scatter",
         "x": [
          0.1544070839881897,
          0.23815709352493286,
          null
         ],
         "y": [
          0.10449688136577606,
          0.17460483312606812,
          null
         ]
        },
        {
         "hoverinfo": "none",
         "line": {
          "color": "#b15928",
          "width": 1
         },
         "mode": "lines",
         "type": "scatter",
         "x": [
          0.09952220320701599,
          0.13052675127983093,
          null
         ],
         "y": [
          0.002265270333737135,
          -0.02317466214299202,
          null
         ]
        },
        {
         "hoverinfo": "none",
         "line": {
          "color": "#b15928",
          "width": 1
         },
         "mode": "lines",
         "type": "scatter",
         "x": [
          0.09952220320701599,
          0.1300722062587738,
          null
         ],
         "y": [
          0.002265270333737135,
          0.018686966970562935,
          null
         ]
        },
        {
         "hoverinfo": "none",
         "line": {
          "color": "#b15928",
          "width": 1
         },
         "mode": "lines",
         "type": "scatter",
         "x": [
          0.10514023900032043,
          0.10692398995161057,
          null
         ],
         "y": [
          0.016685698181390762,
          0.0274745412170887,
          null
         ]
        },
        {
         "hoverinfo": "none",
         "line": {
          "color": "#b15928",
          "width": 1
         },
         "mode": "lines",
         "type": "scatter",
         "x": [
          0.10514023900032043,
          0.1943674236536026,
          null
         ],
         "y": [
          0.016685698181390762,
          -0.0010695743840187788,
          null
         ]
        },
        {
         "hoverinfo": "none",
         "line": {
          "color": "#b15928",
          "width": 1
         },
         "mode": "lines",
         "type": "scatter",
         "x": [
          0.10514023900032043,
          0.19367459416389465,
          null
         ],
         "y": [
          0.016685698181390762,
          -0.010401660576462746,
          null
         ]
        },
        {
         "hoverinfo": "none",
         "line": {
          "color": "#b15928",
          "width": 1
         },
         "mode": "lines",
         "type": "scatter",
         "x": [
          0.10514023900032043,
          0.10514023900032043,
          null
         ],
         "y": [
          0.016685698181390762,
          0.016685698181390762,
          null
         ]
        },
        {
         "hoverinfo": "none",
         "line": {
          "color": "#b15928",
          "width": 1
         },
         "mode": "lines",
         "type": "scatter",
         "x": [
          0.10514023900032043,
          0.11710836738348007,
          null
         ],
         "y": [
          0.016685698181390762,
          0.0009321760153397918,
          null
         ]
        },
        {
         "hoverinfo": "none",
         "line": {
          "color": "#b15928",
          "width": 1
         },
         "mode": "lines",
         "type": "scatter",
         "x": [
          0.11710836738348007,
          0.10692398995161057,
          null
         ],
         "y": [
          0.0009321760153397918,
          0.0274745412170887,
          null
         ]
        },
        {
         "hoverinfo": "none",
         "line": {
          "color": "#b15928",
          "width": 1
         },
         "mode": "lines",
         "type": "scatter",
         "x": [
          0.11710836738348007,
          0.19367459416389465,
          null
         ],
         "y": [
          0.0009321760153397918,
          -0.010401660576462746,
          null
         ]
        },
        {
         "hoverinfo": "none",
         "line": {
          "color": "#b15928",
          "width": 1
         },
         "mode": "lines",
         "type": "scatter",
         "x": [
          0.11710836738348007,
          0.1943674236536026,
          null
         ],
         "y": [
          0.0009321760153397918,
          -0.0010695743840187788,
          null
         ]
        },
        {
         "hoverinfo": "none",
         "line": {
          "color": "#b15928",
          "width": 1
         },
         "mode": "lines",
         "type": "scatter",
         "x": [
          0.11710836738348007,
          0.22897735238075256,
          null
         ],
         "y": [
          0.0009321760153397918,
          -0.01250187586992979,
          null
         ]
        },
        {
         "hoverinfo": "none",
         "line": {
          "color": "#b15928",
          "width": 1
         },
         "mode": "lines",
         "type": "scatter",
         "x": [
          0.11710836738348007,
          0.2221136838197708,
          null
         ],
         "y": [
          0.0009321760153397918,
          -0.03457752615213394,
          null
         ]
        },
        {
         "hoverinfo": "none",
         "line": {
          "color": "#b15928",
          "width": 1
         },
         "mode": "lines",
         "type": "scatter",
         "x": [
          0.11710836738348007,
          0.2307119220495224,
          null
         ],
         "y": [
          0.0009321760153397918,
          -0.0007844405481591821,
          null
         ]
        },
        {
         "hoverinfo": "none",
         "line": {
          "color": "#b15928",
          "width": 1
         },
         "mode": "lines",
         "type": "scatter",
         "x": [
          0.11710836738348007,
          0.11710836738348007,
          null
         ],
         "y": [
          0.0009321760153397918,
          0.0009321760153397918,
          null
         ]
        },
        {
         "hoverinfo": "none",
         "line": {
          "color": "#b15928",
          "width": 1
         },
         "mode": "lines",
         "type": "scatter",
         "x": [
          0.11710836738348007,
          0.2270628660917282,
          null
         ],
         "y": [
          0.0009321760153397918,
          -0.023438958451151848,
          null
         ]
        },
        {
         "hoverinfo": "none",
         "line": {
          "color": "#b15928",
          "width": 1
         },
         "mode": "lines",
         "type": "scatter",
         "x": [
          0.12972775101661682,
          0.11557093262672424,
          null
         ],
         "y": [
          0.041766684502363205,
          0.03998411074280739,
          null
         ]
        },
        {
         "hoverinfo": "none",
         "line": {
          "color": "#b15928",
          "width": 1
         },
         "mode": "lines",
         "type": "scatter",
         "x": [
          0.22457194328308105,
          0.22043377161026,
          null
         ],
         "y": [
          0.07447654753923416,
          0.0873732641339302,
          null
         ]
        },
        {
         "hoverinfo": "none",
         "line": {
          "color": "#b15928",
          "width": 1
         },
         "mode": "lines",
         "type": "scatter",
         "x": [
          0.18386556208133698,
          0.28565847873687744,
          null
         ],
         "y": [
          0.07405702769756317,
          0.1023608148097992,
          null
         ]
        },
        {
         "hoverinfo": "none",
         "line": {
          "color": "#b15928",
          "width": 1
         },
         "mode": "lines",
         "type": "scatter",
         "x": [
          -0.03722376003861427,
          -0.07118373364210129,
          null
         ],
         "y": [
          0.05838426202535629,
          0.005395886022597551,
          null
         ]
        },
        {
         "hoverinfo": "none",
         "line": {
          "color": "#b15928",
          "width": 1
         },
         "mode": "lines",
         "type": "scatter",
         "x": [
          -0.03722376003861427,
          -0.03722376003861427,
          null
         ],
         "y": [
          0.05838426202535629,
          0.05838426202535629,
          null
         ]
        },
        {
         "hoverinfo": "none",
         "line": {
          "color": "#b15928",
          "width": 1
         },
         "mode": "lines",
         "type": "scatter",
         "x": [
          -0.03722376003861427,
          -0.15636083483695984,
          null
         ],
         "y": [
          0.05838426202535629,
          0.07669050246477127,
          null
         ]
        },
        {
         "hoverinfo": "none",
         "line": {
          "color": "#b15928",
          "width": 1
         },
         "mode": "lines",
         "type": "scatter",
         "x": [
          -0.03722376003861427,
          -0.15735390782356262,
          null
         ],
         "y": [
          0.05838426202535629,
          0.09071147441864014,
          null
         ]
        },
        {
         "hoverinfo": "none",
         "line": {
          "color": "#b15928",
          "width": 1
         },
         "mode": "lines",
         "type": "scatter",
         "x": [
          0.19100482761859894,
          0.19026321172714233,
          null
         ],
         "y": [
          0.08115316182374954,
          0.09024424850940704,
          null
         ]
        },
        {
         "hoverinfo": "none",
         "line": {
          "color": "#b15928",
          "width": 1
         },
         "mode": "lines",
         "type": "scatter",
         "x": [
          0.19100482761859894,
          0.18162041902542114,
          null
         ],
         "y": [
          0.08115316182374954,
          0.09892310202121735,
          null
         ]
        },
        {
         "hoverinfo": "none",
         "line": {
          "color": "#b15928",
          "width": 1
         },
         "mode": "lines",
         "type": "scatter",
         "x": [
          0.19100482761859894,
          0.18282820284366608,
          null
         ],
         "y": [
          0.08115316182374954,
          0.09034259617328644,
          null
         ]
        },
        {
         "hoverinfo": "none",
         "line": {
          "color": "#b15928",
          "width": 1
         },
         "mode": "lines",
         "type": "scatter",
         "x": [
          0.18162041902542114,
          0.19026321172714233,
          null
         ],
         "y": [
          0.09892310202121735,
          0.09024424850940704,
          null
         ]
        },
        {
         "hoverinfo": "none",
         "line": {
          "color": "#b15928",
          "width": 1
         },
         "mode": "lines",
         "type": "scatter",
         "x": [
          0.18162041902542114,
          0.18282820284366608,
          null
         ],
         "y": [
          0.09892310202121735,
          0.09034259617328644,
          null
         ]
        },
        {
         "hoverinfo": "none",
         "line": {
          "color": "#b15928",
          "width": 1
         },
         "mode": "lines",
         "type": "scatter",
         "x": [
          0.18282820284366608,
          0.19026321172714233,
          null
         ],
         "y": [
          0.09034259617328644,
          0.09024424850940704,
          null
         ]
        },
        {
         "hoverinfo": "none",
         "line": {
          "color": "#b15928",
          "width": 1
         },
         "mode": "lines",
         "type": "scatter",
         "x": [
          -0.6157602667808533,
          -0.6611995100975037,
          null
         ],
         "y": [
          0.7196921706199646,
          0.764758288860321,
          null
         ]
        },
        {
         "hoverinfo": "none",
         "line": {
          "color": "#b15928",
          "width": 1
         },
         "mode": "lines",
         "type": "scatter",
         "x": [
          0.11015378683805466,
          0.1549825221300125,
          null
         ],
         "y": [
          0.0816793292760849,
          0.04248245805501938,
          null
         ]
        },
        {
         "hoverinfo": "none",
         "line": {
          "color": "#b15928",
          "width": 1
         },
         "mode": "lines",
         "type": "scatter",
         "x": [
          -0.10266517847776413,
          -0.10266517847776413,
          null
         ],
         "y": [
          0.0938301831483841,
          0.0938301831483841,
          null
         ]
        },
        {
         "hoverinfo": "none",
         "line": {
          "color": "#b15928",
          "width": 1
         },
         "mode": "lines",
         "type": "scatter",
         "x": [
          0.06443779915571213,
          0.1684415340423584,
          null
         ],
         "y": [
          -0.07851499319076538,
          -0.14385761320590973,
          null
         ]
        },
        {
         "hoverinfo": "none",
         "line": {
          "color": "#b15928",
          "width": 1
         },
         "mode": "lines",
         "type": "scatter",
         "x": [
          0.11787058413028717,
          0.2843692898750305,
          null
         ],
         "y": [
          -0.007035181857645512,
          -0.07377682626247406,
          null
         ]
        },
        {
         "hoverinfo": "none",
         "line": {
          "color": "#b15928",
          "width": 1
         },
         "mode": "lines",
         "type": "scatter",
         "x": [
          0.2843692898750305,
          0.37729206681251526,
          null
         ],
         "y": [
          -0.07377682626247406,
          -0.11134472489356995,
          null
         ]
        },
        {
         "hoverinfo": "none",
         "line": {
          "color": "#b15928",
          "width": 1
         },
         "mode": "lines",
         "type": "scatter",
         "x": [
          0.2843692898750305,
          0.3606981039047241,
          null
         ],
         "y": [
          -0.07377682626247406,
          -0.10492190718650818,
          null
         ]
        },
        {
         "hoverinfo": "none",
         "line": {
          "color": "#b15928",
          "width": 1
         },
         "mode": "lines",
         "type": "scatter",
         "x": [
          0.188980370759964,
          0.2838531732559204,
          null
         ],
         "y": [
          0.10884635895490646,
          0.16735787689685822,
          null
         ]
        },
        {
         "hoverinfo": "none",
         "line": {
          "color": "#b15928",
          "width": 1
         },
         "mode": "lines",
         "type": "scatter",
         "x": [
          -0.5990849137306213,
          -0.5724332928657532,
          null
         ],
         "y": [
          0.8111663460731506,
          0.7774255275726318,
          null
         ]
        },
        {
         "hoverinfo": "none",
         "line": {
          "color": "#b15928",
          "width": 1
         },
         "mode": "lines",
         "type": "scatter",
         "x": [
          -0.5724332928657532,
          -0.551712691783905,
          null
         ],
         "y": [
          0.7774255275726318,
          0.7807251214981079,
          null
         ]
        },
        {
         "hoverinfo": "none",
         "line": {
          "color": "#b15928",
          "width": 1
         },
         "mode": "lines",
         "type": "scatter",
         "x": [
          -0.8452550172805786,
          -0.861274778842926,
          null
         ],
         "y": [
          -0.3163203299045563,
          -0.30761003494262695,
          null
         ]
        },
        {
         "hoverinfo": "none",
         "line": {
          "color": "#b15928",
          "width": 1
         },
         "mode": "lines",
         "type": "scatter",
         "x": [
          -0.861274778842926,
          -0.861274778842926,
          null
         ],
         "y": [
          -0.30761003494262695,
          -0.30761003494262695,
          null
         ]
        },
        {
         "hoverinfo": "none",
         "line": {
          "color": "#b15928",
          "width": 1
         },
         "mode": "lines",
         "type": "scatter",
         "x": [
          -0.2154925912618637,
          -0.21179255843162537,
          null
         ],
         "y": [
          0.10920758545398712,
          0.11942533403635025,
          null
         ]
        },
        {
         "hoverinfo": "none",
         "line": {
          "color": "#b15928",
          "width": 1
         },
         "mode": "lines",
         "type": "scatter",
         "x": [
          -0.15084664523601532,
          -0.15084664523601532,
          null
         ],
         "y": [
          0.1547297090291977,
          0.1547297090291977,
          null
         ]
        },
        {
         "hoverinfo": "none",
         "line": {
          "color": "#b15928",
          "width": 1
         },
         "mode": "lines",
         "type": "scatter",
         "x": [
          0.37729206681251526,
          0.3606981039047241,
          null
         ],
         "y": [
          -0.11134472489356995,
          -0.10492190718650818,
          null
         ]
        },
        {
         "hoverinfo": "none",
         "line": {
          "color": "#b15928",
          "width": 1
         },
         "mode": "lines",
         "type": "scatter",
         "x": [
          -0.1742209494113922,
          -0.1862599402666092,
          null
         ],
         "y": [
          -0.8781073093414307,
          -0.931341290473938,
          null
         ]
        },
        {
         "hoverinfo": "none",
         "line": {
          "color": "#b15928",
          "width": 1
         },
         "mode": "lines",
         "type": "scatter",
         "x": [
          -0.1742209494113922,
          -0.15861186385154724,
          null
         ],
         "y": [
          -0.8781073093414307,
          -0.8915202617645264,
          null
         ]
        },
        {
         "hoverinfo": "none",
         "line": {
          "color": "#b15928",
          "width": 1
         },
         "mode": "lines",
         "type": "scatter",
         "x": [
          -0.1742209494113922,
          -0.1742209494113922,
          null
         ],
         "y": [
          -0.8781073093414307,
          -0.8781073093414307,
          null
         ]
        },
        {
         "hoverinfo": "text",
         "marker": {
          "color": [
           2.4849066497880004,
           5.117993812416755,
           3.5553480614894135,
           3.295836866004329,
           3.2188758248682006,
           2.5649493574615367,
           4.248495242049359,
           1.0986122886681098,
           3.091042453358316,
           2.6390573296152584,
           1.6094379124341003,
           2.0794415416798357,
           1.3862943611198906,
           2.0794415416798357,
           3.5263605246161616,
           1.9459101490553132,
           1.3862943611198906,
           2.70805020110221,
           1.6094379124341003,
           2.1972245773362196,
           0.6931471805599453,
           1.791759469228055,
           1.791759469228055,
           0.6931471805599453,
           1.6094379124341003,
           2.302585092994046,
           1.3862943611198906,
           2.0794415416798357,
           1.9459101490553132,
           3.4011973816621555,
           3.2188758248682006,
           0.6931471805599453,
           0.6931471805599453,
           0.6931471805599453,
           1.6094379124341003,
           1.6094379124341003,
           1.6094379124341003,
           1.0986122886681098,
           1.6094379124341003,
           3.4965075614664802,
           0.6931471805599453,
           1.3862943611198906,
           1.6094379124341003,
           1.0986122886681098,
           0.6931471805599453,
           0.6931471805599453,
           2.0794415416798357,
           0.6931471805599453,
           0.6931471805599453,
           0.6931471805599453,
           0.6931471805599453,
           1.0986122886681098,
           0.6931471805599453,
           1.0986122886681098,
           0.6931471805599453,
           1.791759469228055,
           1.3862943611198906,
           0.6931471805599453,
           1.3862943611198906,
           0.6931471805599453,
           0.6931471805599453,
           0.6931471805599453,
           0.6931471805599453,
           0.6931471805599453,
           1.0986122886681098,
           0.6931471805599453,
           0.6931471805599453,
           0.6931471805599453,
           0.6931471805599453,
           2.1972245773362196,
           2.0794415416798357,
           0.6931471805599453,
           1.6094379124341003,
           1.0986122886681098,
           0.6931471805599453,
           1.0986122886681098,
           1.0986122886681098,
           2.995732273553991,
           0.6931471805599453,
           0.6931471805599453,
           0.6931471805599453,
           1.0986122886681098,
           0.6931471805599453,
           0.6931471805599453,
           2.4849066497880004,
           1.0986122886681098,
           1.0986122886681098,
           3.6888794541139363,
           1.3862943611198906,
           2.4849066497880004,
           0.6931471805599453,
           1.6094379124341003,
           1.6094379124341003,
           1.3862943611198906,
           0.6931471805599453,
           0.6931471805599453,
           0.6931471805599453,
           0.6931471805599453,
           0.6931471805599453,
           0.6931471805599453,
           1.6094379124341003,
           0.6931471805599453,
           1.3862943611198906,
           1.0986122886681098,
           0.6931471805599453,
           0.6931471805599453,
           1.0986122886681098,
           0.6931471805599453,
           1.3862943611198906,
           0.6931471805599453,
           0.6931471805599453,
           0.6931471805599453,
           1.0986122886681098,
           1.0986122886681098,
           1.0986122886681098,
           1.0986122886681098,
           0.6931471805599453,
           0.6931471805599453,
           1.3862943611198906,
           1.6094379124341003,
           1.3862943611198906,
           0.6931471805599453,
           1.0986122886681098,
           0.6931471805599453,
           0.6931471805599453,
           0.6931471805599453,
           0.6931471805599453,
           1.6094379124341003,
           0.6931471805599453,
           1.3862943611198906,
           1.0986122886681098,
           0.6931471805599453,
           0.6931471805599453,
           0.6931471805599453,
           1.0986122886681098,
           0.6931471805599453,
           0.6931471805599453,
           0.6931471805599453,
           1.3862943611198906,
           0.6931471805599453,
           0.6931471805599453,
           0.6931471805599453,
           1.0986122886681098,
           0.6931471805599453,
           0.6931471805599453,
           1.3862943611198906,
           0.6931471805599453,
           0.6931471805599453,
           0.6931471805599453,
           0.6931471805599453,
           1.0986122886681098,
           0.6931471805599453,
           1.791759469228055,
           0.6931471805599453,
           0.6931471805599453,
           0.6931471805599453,
           0.6931471805599453,
           0.6931471805599453,
           0.6931471805599453,
           0.6931471805599453,
           0.6931471805599453,
           1.0986122886681098,
           0.6931471805599453,
           0.6931471805599453,
           0.6931471805599453,
           0.6931471805599453,
           0.6931471805599453,
           0.6931471805599453,
           0.6931471805599453,
           5.424950017481403,
           1.0986122886681098,
           3.091042453358316,
           0.6931471805599453,
           3.2188758248682006,
           1.0986122886681098,
           0.6931471805599453,
           2.302585092994046,
           1.3862943611198906,
           0.6931471805599453,
           0.6931471805599453,
           2.0794415416798357,
           2.3978952727983707,
           3.4011973816621555,
           1.3862943611198906,
           0.6931471805599453,
           0.6931471805599453,
           1.0986122886681098,
           0.6931471805599453,
           0.6931471805599453,
           0.6931471805599453,
           0.6931471805599453,
           0.6931471805599453,
           0.6931471805599453,
           0.6931471805599453,
           0.6931471805599453,
           0.6931471805599453,
           0.6931471805599453,
           0.6931471805599453,
           1.3862943611198906,
           1.791759469228055,
           0.6931471805599453,
           0.6931471805599453,
           0.6931471805599453,
           0.6931471805599453,
           0.6931471805599453,
           0.6931471805599453,
           0.6931471805599453,
           0.6931471805599453,
           0.6931471805599453,
           0.6931471805599453,
           0.6931471805599453,
           0.6931471805599453,
           0.6931471805599453,
           0.6931471805599453,
           0.6931471805599453,
           1.0986122886681098,
           0.6931471805599453,
           0.6931471805599453,
           0.6931471805599453,
           0.6931471805599453,
           1.791759469228055,
           0.6931471805599453,
           1.0986122886681098,
           0.6931471805599453,
           0.6931471805599453,
           0.6931471805599453,
           0.6931471805599453,
           0.6931471805599453,
           1.0986122886681098,
           0.6931471805599453,
           0.6931471805599453,
           0.6931471805599453,
           0.6931471805599453,
           1.0986122886681098,
           0.6931471805599453,
           1.9459101490553132,
           0.6931471805599453,
           0.6931471805599453,
           1.0986122886681098,
           0.6931471805599453,
           0.6931471805599453,
           0.6931471805599453,
           1.0986122886681098,
           0.6931471805599453,
           1.0986122886681098,
           1.0986122886681098,
           0.6931471805599453,
           0.6931471805599453,
           0.6931471805599453,
           0.6931471805599453,
           0.6931471805599453,
           0.6931471805599453,
           0.6931471805599453,
           0.6931471805599453,
           0.6931471805599453,
           1.6094379124341003,
           0.6931471805599453,
           1.3862943611198906,
           1.0986122886681098,
           0.6931471805599453,
           0.6931471805599453,
           0.6931471805599453,
           0.6931471805599453,
           0.6931471805599453,
           0.6931471805599453,
           0.6931471805599453,
           0.6931471805599453,
           0.6931471805599453,
           0.6931471805599453,
           0.6931471805599453,
           0.6931471805599453,
           0.6931471805599453,
           0.6931471805599453,
           1.3862943611198906,
           0.6931471805599453,
           0.6931471805599453,
           0.6931471805599453,
           1.0986122886681098,
           0.6931471805599453,
           0.6931471805599453,
           0.6931471805599453,
           0.6931471805599453,
           0.6931471805599453,
           0.6931471805599453,
           0.6931471805599453,
           0.6931471805599453,
           0.6931471805599453,
           0.6931471805599453,
           0.6931471805599453,
           0.6931471805599453,
           0.6931471805599453,
           0.6931471805599453,
           0.6931471805599453,
           0.6931471805599453,
           0.6931471805599453,
           0.6931471805599453,
           0.6931471805599453,
           0.6931471805599453,
           0.6931471805599453,
           1.0986122886681098,
           0.6931471805599453,
           0.6931471805599453,
           0.6931471805599453,
           0.6931471805599453,
           0.6931471805599453,
           1.0986122886681098,
           0.6931471805599453,
           0.6931471805599453,
           0.6931471805599453,
           0.6931471805599453,
           0.6931471805599453,
           0.6931471805599453,
           0.6931471805599453,
           0.6931471805599453,
           0.6931471805599453,
           0.6931471805599453,
           1.3862943611198906,
           0.6931471805599453,
           0.6931471805599453,
           0.6931471805599453,
           0.6931471805599453,
           0.6931471805599453,
           0.6931471805599453,
           0.6931471805599453,
           0.6931471805599453,
           0.6931471805599453,
           0.6931471805599453,
           0.6931471805599453,
           0.6931471805599453,
           0.6931471805599453,
           0.6931471805599453,
           0.6931471805599453,
           0.6931471805599453,
           0.6931471805599453,
           0.6931471805599453,
           0.6931471805599453,
           0.6931471805599453,
           0.6931471805599453,
           0.6931471805599453,
           0.6931471805599453,
           0.6931471805599453,
           0.6931471805599453,
           0.6931471805599453,
           0.6931471805599453,
           0.6931471805599453,
           0.6931471805599453,
           0.6931471805599453,
           0.6931471805599453,
           0.6931471805599453,
           0.6931471805599453,
           0.6931471805599453,
           0.6931471805599453,
           0.6931471805599453,
           0.6931471805599453,
           0.6931471805599453,
           0.6931471805599453,
           0.6931471805599453,
           0.6931471805599453,
           1.3862943611198906,
           2.3978952727983707,
           2.3978952727983707,
           0.6931471805599453,
           1.3862943611198906,
           0.6931471805599453,
           1.0986122886681098,
           1.0986122886681098,
           2.5649493574615367,
           1.0986122886681098,
           1.0986122886681098,
           1.6094379124341003,
           2.3978952727983707,
           1.0986122886681098,
           1.9459101490553132,
           1.6094379124341003,
           1.3862943611198906,
           1.0986122886681098,
           1.6094379124341003,
           0.6931471805599453,
           1.9459101490553132,
           2.1972245773362196,
           1.3862943611198906,
           1.0986122886681098,
           1.0986122886681098,
           1.3862943611198906,
           1.791759469228055,
           1.3862943611198906,
           1.791759469228055,
           0.6931471805599453,
           1.3862943611198906,
           0.6931471805599453,
           1.9459101490553132,
           1.6094379124341003,
           0.6931471805599453,
           2.0794415416798357,
           1.0986122886681098,
           0.6931471805599453,
           1.0986122886681098,
           1.0986122886681098,
           1.791759469228055,
           2.302585092994046,
           2.833213344056216,
           1.6094379124341003,
           1.3862943611198906,
           1.3862943611198906,
           0.6931471805599453,
           0.6931471805599453,
           1.3862943611198906,
           1.3862943611198906,
           1.0986122886681098,
           1.0986122886681098,
           1.0986122886681098,
           1.3862943611198906,
           0.6931471805599453,
           0.6931471805599453,
           0.6931471805599453,
           0.6931471805599453,
           2.0794415416798357,
           1.6094379124341003,
           1.6094379124341003,
           1.6094379124341003,
           1.6094379124341003,
           1.3862943611198906,
           1.6094379124341003,
           0.6931471805599453,
           0.6931471805599453,
           0.6931471805599453,
           0.6931471805599453,
           1.0986122886681098,
           1.0986122886681098,
           0.6931471805599453,
           1.0986122886681098,
           1.0986122886681098,
           0.6931471805599453,
           0.6931471805599453,
           1.0986122886681098,
           1.0986122886681098,
           1.6094379124341003,
           0.6931471805599453,
           1.0986122886681098,
           0.6931471805599453,
           0.6931471805599453,
           1.0986122886681098,
           0.6931471805599453,
           1.0986122886681098,
           0.6931471805599453,
           1.3862943611198906,
           0.6931471805599453,
           0.6931471805599453,
           0.6931471805599453,
           0.6931471805599453,
           0.6931471805599453,
           0.6931471805599453,
           0.6931471805599453,
           0.6931471805599453,
           0.6931471805599453,
           1.0986122886681098,
           1.3862943611198906,
           0.6931471805599453,
           1.0986122886681098,
           1.0986122886681098,
           1.0986122886681098,
           1.3862943611198906,
           0.6931471805599453,
           0.6931471805599453,
           0.6931471805599453,
           0.6931471805599453,
           1.0986122886681098,
           1.0986122886681098,
           1.0986122886681098,
           0.6931471805599453,
           1.0986122886681098,
           0.6931471805599453,
           0.6931471805599453,
           1.0986122886681098,
           0.6931471805599453,
           0.6931471805599453,
           0.6931471805599453,
           0.6931471805599453,
           0.6931471805599453,
           1.3862943611198906,
           1.0986122886681098,
           1.0986122886681098,
           0.6931471805599453,
           0.6931471805599453,
           0.6931471805599453,
           0.6931471805599453,
           0.6931471805599453,
           0.6931471805599453,
           1.3862943611198906,
           0.6931471805599453,
           0.6931471805599453,
           0.6931471805599453,
           1.0986122886681098,
           1.0986122886681098,
           0.6931471805599453,
           0.6931471805599453,
           1.6094379124341003,
           0.6931471805599453,
           0.6931471805599453,
           0.6931471805599453,
           0.6931471805599453,
           0.6931471805599453,
           0.6931471805599453
          ],
          "colorbar": {
           "thickness": 15,
           "ticktext": [
            "1",
            "46",
            "91",
            "136",
            "181",
            "226"
           ],
           "tickvals": [
            0.6931471805599453,
            3.8501476017100584,
            4.5217885770490405,
            4.919980925828125,
            5.204006687076795,
            5.424950017481403
           ],
           "title": {
            "text": "Node Connections"
           },
           "x": 1.02,
           "xanchor": "left"
          },
          "colorscale": [
           [
            0,
            "rgb(255,255,217)"
           ],
           [
            0.125,
            "rgb(237,248,177)"
           ],
           [
            0.25,
            "rgb(199,233,180)"
           ],
           [
            0.375,
            "rgb(127,205,187)"
           ],
           [
            0.5,
            "rgb(65,182,196)"
           ],
           [
            0.625,
            "rgb(29,145,192)"
           ],
           [
            0.75,
            "rgb(34,94,168)"
           ],
           [
            0.875,
            "rgb(37,52,148)"
           ],
           [
            1,
            "rgb(8,29,88)"
           ]
          ],
          "showscale": true,
          "size": 10
         },
         "mode": "markers",
         "text": [
          "London (England)<br>Connections: 11",
          "Fiction<br>Connections: 166",
          "PR<br>Connections: 34",
          "England<br>Connections: 26",
          "Social life and customs<br>Connections: 24",
          "DA<br>Connections: 12",
          "History<br>Connections: 69",
          "London<br>Connections: 2",
          "Description and travel<br>Connections: 21",
          "Early works to 1800<br>Connections: 13",
          "Love stories<br>Connections: 4",
          "Adventure stories<br>Connections: 7",
          "Short stories, American<br>Connections: 3",
          "New England<br>Connections: 7",
          "PS<br>Connections: 33",
          "Egypt<br>Connections: 6",
          "German fiction<br>Connections: 3",
          "Translations into English<br>Connections: 14",
          "PT<br>Connections: 4",
          "Science fiction<br>Connections: 8",
          "Time travel<br>Connections: 1",
          "Extraterrestrial beings<br>Connections: 5",
          "Human-alien encounters<br>Connections: 5",
          "City and town life<br>Connections: 1",
          "Christian life<br>Connections: 4",
          "20th century<br>Connections: 9",
          "Soldiers<br>Connections: 3",
          "Short stories<br>Connections: 7",
          "Man-woman relationships<br>Connections: 6",
          "Great Britain<br>Connections: 29",
          "19th century<br>Connections: 24",
          "Married people<br>Connections: 1",
          "Miners<br>Connections: 1",
          "Asteroids<br>Connections: 1",
          "Children<br>Connections: 4",
          "Families<br>Connections: 4",
          "Canada<br>Connections: 4",
          "Social classes<br>Connections: 2",
          "Detective and mystery stories<br>Connections: 4",
          "PZ<br>Connections: 32",
          "Turkey<br>Connections: 1",
          "Young women<br>Connections: 3",
          "Domestic fiction<br>Connections: 4",
          "Bildungsromans<br>Connections: 2",
          "Feminist fiction<br>Connections: 1",
          "Children of clergy<br>Connections: 1",
          "Women<br>Connections: 7",
          "Employment<br>Connections: 1",
          "Grandparents<br>Connections: 1",
          "Mars (Planet)<br>Connections: 1",
          "Fathers and sons<br>Connections: 1",
          "Ship captains<br>Connections: 2",
          "Missionaries<br>Connections: 1",
          "Seafaring life<br>Connections: 2",
          "Whaling ships<br>Connections: 1",
          "Paris (France)<br>Connections: 5",
          "Western stories<br>Connections: 3",
          "Africa<br>Connections: 1",
          "Fantasy fiction<br>Connections: 3",
          "Immortalism<br>Connections: 1",
          "Reincarnation<br>Connections: 1",
          "Prehistoric peoples<br>Connections: 1",
          "Americans<br>Connections: 1",
          "Stone age<br>Connections: 1",
          "Marriage<br>Connections: 2",
          "Villages<br>Connections: 1",
          "Life on other planets<br>Connections: 1",
          "Mountain life<br>Connections: 1",
          "Rocky Mountains<br>Connections: 1",
          "France<br>Connections: 8",
          "PQ<br>Connections: 7",
          "Triangles (Interpersonal relations)<br>Connections: 1",
          "Gold mines and mining<br>Connections: 4",
          "Spain<br>Connections: 2",
          "California<br>Connections: 1",
          "Sisters<br>Connections: 2",
          "Poets<br>Connections: 2",
          "Conduct of life<br>Connections: 19",
          "Journalists<br>Connections: 1",
          "Seduction<br>Connections: 1",
          "1870-1940<br>Connections: 1",
          "Politics and government<br>Connections: 2",
          "Space colonies<br>Connections: 1",
          "Interstellar travel<br>Connections: 1",
          "World War, 1914-1918<br>Connections: 11",
          "Scotland<br>Connections: 2",
          "Humorous stories<br>Connections: 2",
          "United States<br>Connections: 39",
          "Frontier and pioneer life<br>Connections: 3",
          "West (U.S.)<br>Connections: 11",
          "Psychic ability<br>Connections: 1",
          "India<br>Connections: 4",
          "British<br>Connections: 4",
          "New York (N.Y.)<br>Connections: 3",
          "Single women<br>Connections: 1",
          "Working class women<br>Connections: 1",
          "Women dancers<br>Connections: 1",
          "Nightlife<br>Connections: 1",
          "Philanthropists<br>Connections: 1",
          "Sea stories<br>Connections: 1",
          "Friendship<br>Connections: 4",
          "Pastoral fiction<br>Connections: 1",
          "Country life<br>Connections: 3",
          "River life<br>Connections: 2",
          "Mate selection<br>Connections: 1",
          "First loves<br>Connections: 1",
          "Dime novels<br>Connections: 2",
          "Romances<br>Connections: 1",
          "War stories<br>Connections: 3",
          "Psychological fiction<br>Connections: 1",
          "Outer space<br>Connections: 1",
          "Exploration<br>Connections: 1",
          "Inheritance and succession<br>Connections: 2",
          "Mystery fiction<br>Connections: 2",
          "Middle class<br>Connections: 2",
          "Household employees<br>Connections: 2",
          "Middle West<br>Connections: 1",
          "Earth (Planet)<br>Connections: 1",
          "Colonial period, ca. 1600-1775<br>Connections: 3",
          "Massachusetts<br>Connections: 4",
          "Space ships<br>Connections: 3",
          "Mutiny<br>Connections: 1",
          "Clergy<br>Connections: 2",
          "Inventors<br>Connections: 1",
          "Husband and wife<br>Connections: 1",
          "Biographical fiction<br>Connections: 1",
          "Christian fiction<br>Connections: 1",
          "Boys<br>Connections: 4",
          "Historical fiction<br>Connections: 1",
          "Adventure and adventurers<br>Connections: 3",
          "Courtship<br>Connections: 2",
          "Misers<br>Connections: 1",
          "Booksellers and bookselling<br>Connections: 1",
          "Clerkenwell (London, England)<br>Connections: 1",
          "Murder<br>Connections: 2",
          "Cyborgs<br>Connections: 1",
          "Criminals<br>Connections: 1",
          "Telepathy<br>Connections: 1",
          "Fathers and daughters<br>Connections: 3",
          "Spouses<br>Connections: 1",
          "Autobiographical fiction<br>Connections: 1",
          "Space travelers<br>Connections: 1",
          "Poor families<br>Connections: 2",
          "Prisoners<br>Connections: 1",
          "Abduction<br>Connections: 1",
          "Orphans<br>Connections: 3",
          "Books and reading<br>Connections: 1",
          "Castaways<br>Connections: 1",
          "Inventions<br>Connections: 1",
          "Manners and customs<br>Connections: 1",
          "PG<br>Connections: 2",
          "Russia<br>Connections: 1",
          "Kings and rulers<br>Connections: 5",
          "Health resorts<br>Connections: 1",
          "Blind<br>Connections: 1",
          "Novelists<br>Connections: 1",
          "Community life<br>Connections: 1",
          "San Francisco (Calif.)<br>Connections: 1",
          "Survival<br>Connections: 1",
          "Investigation<br>Connections: 1",
          "Married women<br>Connections: 1",
          "Artists<br>Connections: 2",
          "Private investigators<br>Connections: 1",
          "People with disabilities<br>Connections: 1",
          "Depression, Mental<br>Connections: 1",
          "Design and construction<br>Connections: 1",
          "Painters<br>Connections: 1",
          "Aristocracy (Social class)<br>Connections: 1",
          "Forsyte family (Fictitious characters)<br>Connections: 1",
          "Juvenile fiction<br>Connections: 226",
          "English poetry<br>Connections: 2",
          "Drama<br>Connections: 21",
          "Short stories, English<br>Connections: 1",
          "Biography<br>Connections: 24",
          "Comedies<br>Connections: 2",
          "English drama<br>Connections: 1",
          "18th century<br>Connections: 9",
          "English fiction<br>Connections: 3",
          "English essays<br>Connections: 1",
          "Texts<br>Connections: 1",
          "Poetry<br>Connections: 7",
          "History and criticism<br>Connections: 10",
          "Periodicals<br>Connections: 29",
          "Siblings<br>Connections: 3",
          "Circus performers<br>Connections: 1",
          "Circus animals<br>Connections: 1",
          "Islands<br>Connections: 2",
          "Death<br>Connections: 1",
          "Giants<br>Connections: 1",
          "War<br>Connections: 1",
          "Tailors<br>Connections: 1",
          "Arctic regions<br>Connections: 1",
          "Whaling<br>Connections: 1",
          "Teenage boys<br>Connections: 1",
          "Fatherless families<br>Connections: 1",
          "Debt<br>Connections: 1",
          "Clerks<br>Connections: 1",
          "Loyalty<br>Connections: 1",
          "Girls<br>Connections: 3",
          "Indians of North America<br>Connections: 5",
          "Boardinghouses<br>Connections: 1",
          "Ambition<br>Connections: 1",
          "Arizona<br>Connections: 1",
          "Ranch life<br>Connections: 1",
          "Farm life<br>Connections: 1",
          "Sailing<br>Connections: 1",
          "Yachts<br>Connections: 1",
          "Yachting<br>Connections: 1",
          "Sailing ships<br>Connections: 1",
          "Florida<br>Connections: 1",
          "Honesty<br>Connections: 1",
          "Kindness<br>Connections: 1",
          "Poverty<br>Connections: 1",
          "Religious life<br>Connections: 1",
          "Theft<br>Connections: 1",
          "Children's stories<br>Connections: 2",
          "Cousins<br>Connections: 1",
          "Wills<br>Connections: 1",
          "Sailors<br>Connections: 1",
          "Shipwrecks<br>Connections: 1",
          "Animals<br>Connections: 5",
          "Swine<br>Connections: 1",
          "Schools<br>Connections: 2",
          "Canoes and canoeing<br>Connections: 1",
          "Camps<br>Connections: 1",
          "Maine<br>Connections: 1",
          "Railroad travel<br>Connections: 1",
          "Songs<br>Connections: 1",
          "Boarding schools<br>Connections: 2",
          "Toys<br>Connections: 1",
          "Military education<br>Connections: 1",
          "Conversion<br>Connections: 1",
          "Obedience<br>Connections: 1",
          "Mystery and detective stories<br>Connections: 2",
          "Romanies<br>Connections: 1",
          "Natural history<br>Connections: 6",
          "Automobiles<br>Connections: 1",
          "Automobile travel<br>Connections: 1",
          "Gold miners<br>Connections: 2",
          "Swindlers and swindling<br>Connections: 1",
          "British Columbia<br>Connections: 1",
          "Cariboo (B.C. : Regional district)<br>Connections: 1",
          "Gold discoveries<br>Connections: 2",
          "Gold dredging<br>Connections: 1",
          "Diligence<br>Connections: 2",
          "Success<br>Connections: 2",
          "Mothers and sons<br>Connections: 1",
          "Messengers<br>Connections: 1",
          "Robbery<br>Connections: 1",
          "Alcoholism<br>Connections: 1",
          "Ferries<br>Connections: 1",
          "Airplanes<br>Connections: 1",
          "Holidays<br>Connections: 1",
          "Aunts<br>Connections: 1",
          "Alaska<br>Connections: 1",
          "Revolution, 1775-1783<br>Connections: 4",
          "Voyages and travels<br>Connections: 1",
          "Youth<br>Connections: 3",
          "Courage<br>Connections: 2",
          "Afghan Wars<br>Connections: 1",
          "Leadership<br>Connections: 1",
          "Youth and death<br>Connections: 1",
          "Massacres<br>Connections: 1",
          "Afghanistan<br>Connections: 1",
          "Confidence<br>Connections: 1",
          "Diplomacy<br>Connections: 1",
          "Hunger<br>Connections: 1",
          "Spies<br>Connections: 1",
          "Circus<br>Connections: 1",
          "Dogs<br>Connections: 1",
          "Adopted children<br>Connections: 1",
          "Human-animal relationships<br>Connections: 1",
          "Thieves<br>Connections: 1",
          "Fairy tales<br>Connections: 3",
          "Magic<br>Connections: 1",
          "Princesses<br>Connections: 1",
          "Owls<br>Connections: 1",
          "Magicians<br>Connections: 2",
          "Didactic fiction<br>Connections: 1",
          "Humorous stories, American<br>Connections: 1",
          "Rabbits<br>Connections: 1",
          "Foxes<br>Connections: 1",
          "Muskrat<br>Connections: 1",
          "Geese<br>Connections: 1",
          "Alligators<br>Connections: 1",
          "Wolves<br>Connections: 1",
          "Uncle Wiggily (Fictitious character)<br>Connections: 1",
          "Gardening<br>Connections: 1",
          "Snow<br>Connections: 1",
          "Tricksters<br>Connections: 1",
          "Vacations<br>Connections: 1",
          "Young men<br>Connections: 1",
          "Baseball stories<br>Connections: 1",
          "Baseball players<br>Connections: 1",
          "Revenge<br>Connections: 1",
          "Treasure troves<br>Connections: 1",
          "Students<br>Connections: 1",
          "Fires<br>Connections: 1",
          "United States Military Academy<br>Connections: 1",
          "Family<br>Connections: 2",
          "Best friends<br>Connections: 1",
          "Farmers<br>Connections: 1",
          "Runaway teenagers<br>Connections: 1",
          "Business<br>Connections: 1",
          "Stepfathers<br>Connections: 1",
          "Theater<br>Connections: 2",
          "Boy Scouts of America<br>Connections: 1",
          "Christmas<br>Connections: 1",
          "Storms<br>Connections: 1",
          "Intergenerational relations<br>Connections: 1",
          "Runaway children<br>Connections: 1",
          "Rescues<br>Connections: 1",
          "Motion picture industry<br>Connections: 1",
          "California, Southern<br>Connections: 1",
          "Competition<br>Connections: 1",
          "Trials<br>Connections: 1",
          "North Carolina<br>Connections: 3",
          "New York Giants (Baseball team)<br>Connections: 1",
          "Wealth<br>Connections: 1",
          "Despair<br>Connections: 1",
          "Happiness<br>Connections: 1",
          "Teasing<br>Connections: 1",
          "Suicide<br>Connections: 1",
          "Dwarfs<br>Connections: 1",
          "Camping<br>Connections: 1",
          "Teenage girls<br>Connections: 1",
          "Ocean travel<br>Connections: 1",
          "Mexico<br>Connections: 1",
          "Revolution, 1910-1920<br>Connections: 1",
          "Steamboats<br>Connections: 1",
          "Ransom<br>Connections: 1",
          "Germans<br>Connections: 1",
          "Foreign countries<br>Connections: 1",
          "Nicaragua<br>Connections: 1",
          "Panama Canal (Panama)<br>Connections: 1",
          "Revolutionaries<br>Connections: 1",
          "Houseboats<br>Connections: 1",
          "Brigands and robbers<br>Connections: 1",
          "Canal-boats<br>Connections: 1",
          "Reunions<br>Connections: 1",
          "Elves<br>Connections: 1",
          "Dreams<br>Connections: 1",
          "World's Columbian Exposition (1893 : Chicago, Ill.)<br>Connections: 1",
          "Temperance<br>Connections: 1",
          "Fishing<br>Connections: 1",
          "Uncles<br>Connections: 1",
          "Outdoor life<br>Connections: 1",
          "Mothers and daughters<br>Connections: 1",
          "Body schema in children<br>Connections: 1",
          "Glory of God<br>Connections: 1",
          "Nurses<br>Connections: 1",
          "Play<br>Connections: 1",
          "Seaside resorts<br>Connections: 1",
          "Children's accidents<br>Connections: 1",
          "Children of military personnel<br>Connections: 1",
          "Twins<br>Connections: 1",
          "Altruism<br>Connections: 1",
          "Consolation<br>Connections: 1",
          "Children's literature<br>Connections: 3",
          "AP<br>Connections: 10",
          "Juvenile literature<br>Connections: 10",
          "Children's poetry<br>Connections: 1",
          "Guidebooks<br>Connections: 3",
          "Death Valley National Park (Calif. and Nev.)<br>Connections: 1",
          "Foreign relations<br>Connections: 2",
          "Pepys, Samuel, 1633-1703<br>Connections: 2",
          "Diaries<br>Connections: 12",
          "Cabinet officers<br>Connections: 2",
          "Diarists<br>Connections: 2",
          "17th century<br>Connections: 4",
          "Sources<br>Connections: 10",
          "Charles II, 1660-1685<br>Connections: 2",
          "Regimental histories<br>Connections: 6",
          "D501<br>Connections: 4",
          "Popular literature<br>Connections: 3",
          "History, Naval<br>Connections: 2",
          "America<br>Connections: 4",
          "Ireland<br>Connections: 1",
          "Wiltshire<br>Connections: 6",
          "Civil War, 1861-1865<br>Connections: 8",
          "DC<br>Connections: 3",
          "Italy<br>Connections: 2",
          "E011<br>Connections: 2",
          "E201<br>Connections: 3",
          "DS<br>Connections: 5",
          "Campaigns<br>Connections: 3",
          "Middle East<br>Connections: 5",
          "History, Ancient<br>Connections: 1",
          "PN<br>Connections: 3",
          "F001<br>Connections: 1",
          "Personal narratives<br>Connections: 6",
          "E456<br>Connections: 4",
          "Georgia<br>Connections: 1",
          "Napoleon I, Emperor of the French, 1769-1821<br>Connections: 7",
          "D<br>Connections: 2",
          "16th century<br>Connections: 1",
          "1801-1809<br>Connections: 2",
          "1809-1817<br>Connections: 2",
          "E300<br>Connections: 5",
          "Australia<br>Connections: 9",
          "Ballarat (Vic.)<br>Connections: 16",
          "Social conditions<br>Connections: 4",
          "Maryland<br>Connections: 3",
          "Salem (Mass.)<br>Connections: 3",
          "War of 1812<br>Connections: 1",
          "Confederate States of America<br>Connections: 1",
          "Colonies<br>Connections: 3",
          "Salem<br>Connections: 3",
          "English wit and humor<br>Connections: 2",
          "Questions and answers<br>Connections: 2",
          "AG<br>Connections: 2",
          "Science<br>Connections: 3",
          "Northern Nut Growers Association<br>Connections: 1",
          "Nut trees<br>Connections: 1",
          "Nuts<br>Connections: 1",
          "SB<br>Connections: 1",
          "Birds<br>Connections: 7",
          "Congregational churches<br>Connections: 4",
          "Missions<br>Connections: 4",
          "Home missions<br>Connections: 4",
          "BV<br>Connections: 4",
          "Literature, Modern<br>Connections: 3",
          "Literature<br>Connections: 4",
          "Art<br>Connections: 1",
          "Cooking, American<br>Connections: 1",
          "TX<br>Connections: 1",
          "Hawthorne, Nathaniel, 1804-1864<br>Connections: 1",
          "Homes and haunts<br>Connections: 2",
          "American poetry<br>Connections: 2",
          "American fiction<br>Connections: 1",
          "Catalogs<br>Connections: 2",
          "Wiltshire (England)<br>Connections: 2",
          "Ethiopia<br>Connections: 1",
          "Plants<br>Connections: 1",
          "French fiction<br>Connections: 2",
          "PA<br>Connections: 2",
          "Manuscripts<br>Connections: 4",
          "PK<br>Connections: 1",
          "F1001<br>Connections: 2",
          "South America<br>Connections: 1",
          "DT<br>Connections: 1",
          "F590.3<br>Connections: 2",
          "Angola<br>Connections: 1",
          "Travel<br>Connections: 2",
          "North America<br>Connections: 1",
          "QL<br>Connections: 3",
          "Coal miners<br>Connections: 1",
          "Tragedies<br>Connections: 1",
          "Historical drama<br>Connections: 1",
          "Tragicomedy<br>Connections: 1",
          "Shipwreck victims<br>Connections: 1",
          "Political refugees<br>Connections: 1",
          "Spirits<br>Connections: 1",
          "Oceania<br>Connections: 1",
          "G<br>Connections: 1",
          "BX<br>Connections: 2",
          "Catholic Church<br>Connections: 3",
          "CT<br>Connections: 1",
          "Rome<br>Connections: 2",
          "Generals<br>Connections: 2",
          "Presidents<br>Connections: 2",
          "African Americans<br>Connections: 3",
          "Eggs<br>Connections: 1",
          "Nests<br>Connections: 1",
          "To 1848<br>Connections: 1",
          "China<br>Connections: 1",
          "Z<br>Connections: 2",
          "DU<br>Connections: 2",
          "Victoria<br>Connections: 2",
          "Commentaries<br>Connections: 1",
          "BS<br>Connections: 2",
          "Criticism, interpretation, etc.<br>Connections: 1",
          "E151<br>Connections: 1",
          "Slavery<br>Connections: 2",
          "J<br>Connections: 1",
          "Civilization<br>Connections: 1",
          "Style manuals<br>Connections: 1",
          "Folklore<br>Connections: 1",
          "Relations<br>Connections: 1",
          "Christianity<br>Connections: 3",
          "ML<br>Connections: 2",
          "Music<br>Connections: 2",
          "Southern States<br>Connections: 1",
          "English literature<br>Connections: 1",
          "Europe<br>Connections: 1",
          "DG<br>Connections: 1",
          "Q<br>Connections: 1",
          "Philippines<br>Connections: 1",
          "Japan<br>Connections: 3",
          "God<br>Connections: 1",
          "Voyages around the world<br>Connections: 1",
          "Beer<br>Connections: 1",
          "Christian saints<br>Connections: 2",
          "Prayers and devotions<br>Connections: 2",
          "QH<br>Connections: 1",
          "Revolutions<br>Connections: 1",
          "Anecdotes<br>Connections: 4",
          "Great Britain. Army<br>Connections: 1",
          "Great Britain. Royal Navy<br>Connections: 1",
          "Contemporaries<br>Connections: 1",
          "Eureka Stockade (Ballarat, Vic.)<br>Connections: 1",
          "Carboni, Raffaello, 1817-1875<br>Connections: 1",
          "Italians<br>Connections: 1"
         ],
         "type": "scatter",
         "x": [
          -0.0168882105499506,
          0.021653084084391594,
          0.000025307354007964022,
          -0.004239080008119345,
          0.017234154045581818,
          -0.00674491235986352,
          0.04043589532375336,
          -0.06624762713909149,
          -0.037273623049259186,
          -0.07729380577802658,
          0.00866764783859253,
          0.0031600536312907934,
          0.04377574473619461,
          -0.02157602645456791,
          0.022681519389152527,
          -0.061359044164419174,
          -0.029632965102791786,
          -0.0361969992518425,
          -0.00552947074174881,
          0.02953876182436943,
          -0.013944110833108425,
          0.03641176223754883,
          0.035520367324352264,
          0.028674356639385223,
          0.0011573305819183588,
          -0.003515766002237797,
          -0.006279632914811373,
          0.02563965879380703,
          0.0028257581871002913,
          0.025569748133420944,
          0.04943536967039108,
          0.04422885179519653,
          -0.01699463091790676,
          -0.005909824278205633,
          -0.002867500064894557,
          0.011239961721003056,
          -0.05761899799108505,
          0.0225176103413105,
          0.0062402402982115746,
          -0.0010009079705923796,
          0.094096839427948,
          0.011151745915412903,
          0.0008833205793052912,
          -0.0013983951648697257,
          0.0590246245265007,
          0.021003475412726402,
          0.021972890943288803,
          0.06620999425649643,
          0.09673109650611877,
          -0.02253291942179203,
          0.05535706877708435,
          0.023071149364113808,
          0.06513742357492447,
          -0.006648545619100332,
          0.12849096953868866,
          0.05179174989461899,
          0.01881464011967182,
          0.041951362043619156,
          0.006448971573263407,
          0.07770968973636627,
          0.013790824450552464,
          -0.06387481093406677,
          0.014381504617631435,
          0.038513801991939545,
          0.0025751106441020966,
          0.0904674381017685,
          0.0017238613218069077,
          0.1122872531414032,
          -0.016090603545308113,
          0.06340015679597855,
          0.009246340952813625,
          0.0753597766160965,
          0.0351778008043766,
          -0.014625443145632744,
          -0.03900004178285599,
          0.017320621758699417,
          -0.01800730638206005,
          -0.0012278436915948987,
          0.04205527901649475,
          -0.021060362458229065,
          -0.00489343237131834,
          0.09869018942117691,
          -0.05321260914206505,
          0.12189725041389465,
          0.05031382665038109,
          -0.009177794679999352,
          0.02399957738816738,
          0.06611188501119614,
          0.057536497712135315,
          0.036452848464250565,
          0.08564112335443497,
          -0.028187397867441177,
          -0.013280787505209446,
          0.009626398794353008,
          0.10001307725906372,
          -0.02735120616853237,
          0.06880080699920654,
          0.10912542790174484,
          0.015559826046228409,
          0.04902796074748039,
          -0.0060384152457118034,
          0.004102249629795551,
          -0.01735714077949524,
          -0.029671821743249893,
          0.015573604963719845,
          -0.0029857978224754333,
          0.08337628841400146,
          0.12034773081541061,
          0.06364957988262177,
          0.03171106427907944,
          0.03639078140258789,
          -0.010308495722711086,
          0.01397229265421629,
          0.012168542481958866,
          -0.040370188653469086,
          0.023454157635569572,
          0.05407603457570076,
          -0.011981403455138206,
          0.06977780163288116,
          0.08447082340717316,
          0.05710279569029808,
          0.08719430863857269,
          -0.003736877581104636,
          0.025168217718601227,
          0.032215092331171036,
          0.006287303753197193,
          0.06683623045682907,
          -0.010500005446374416,
          0.06780579686164856,
          0.009927541017532349,
          0.028283098712563515,
          -0.04614865779876709,
          0.04816058278083801,
          0.028408236801624298,
          0.0453244112432003,
          0.03297693282365799,
          0.012980639934539795,
          0.04054402932524681,
          -0.023312082514166832,
          0.029043344780802727,
          0.07780714333057404,
          0.11517702788114548,
          0.05321650207042694,
          0.022403957322239876,
          0.004988039843738079,
          0.006899488158524036,
          0.05852070823311806,
          -0.037056129425764084,
          0.06870272010564804,
          0.10819666087627411,
          -0.033430203795433044,
          -0.004070440772920847,
          -0.017336739227175713,
          0.08463793992996216,
          0.09258591383695602,
          0.12313637137413025,
          -0.02715115062892437,
          0.0577680878341198,
          0.10190749913454056,
          -0.04203881323337555,
          0.052648965269327164,
          0.026237595826387405,
          0.044583916664123535,
          0.019106177613139153,
          0.10286802053451538,
          0.005565596278756857,
          -0.05774930492043495,
          -0.04784736409783363,
          0.0773555189371109,
          -0.009411833249032497,
          -0.019428802654147148,
          -0.053003836423158646,
          -0.0950717031955719,
          0.07621454447507858,
          -0.09629089385271072,
          -0.08174864202737808,
          0.0279057826846838,
          0.010802186094224453,
          -0.08707798272371292,
          -0.07964703440666199,
          0.014455022290349007,
          -0.11404864490032196,
          0.11428499966859818,
          0.0069460817612707615,
          -0.02051335759460926,
          -0.05083012580871582,
          -0.07416068762540817,
          -0.07008860260248184,
          0.018564408645033836,
          -0.007273951545357704,
          -0.1105809137225151,
          0.08468523621559143,
          0.06314156949520111,
          -0.042018990963697433,
          0.06653253734111786,
          0.061029545962810516,
          -0.10617833584547043,
          -0.12160012871026993,
          -0.0011214675614610314,
          0.03503832593560219,
          -0.0961696058511734,
          -0.049322862178087234,
          -0.11989399790763855,
          -0.017883894965052605,
          -0.020311718806624413,
          -0.055475421249866486,
          0.050253529101610184,
          0.038413163274526596,
          -0.05767255276441574,
          0.09138484299182892,
          0.019443750381469727,
          -0.043755725026130676,
          -0.08326706290245056,
          -0.1397274285554886,
          -0.020242134109139442,
          -0.036398015916347504,
          -0.02444026991724968,
          -0.06883612275123596,
          -0.07242286205291748,
          0.022998034954071045,
          -0.028231751173734665,
          -0.03015127405524254,
          -0.029779694974422455,
          0.08058281987905502,
          -0.04101648926734924,
          0.08237699419260025,
          -0.13555046916007996,
          -0.08519002050161362,
          -0.049093008041381836,
          -0.06223158910870552,
          -0.10378210991621017,
          0.05601879954338074,
          0.03704700246453285,
          -0.033822622150182724,
          -0.12459582835435867,
          -0.008871680125594139,
          -0.1179274320602417,
          0.004039844498038292,
          0.09083793312311172,
          0.042051367461681366,
          0.06601673364639282,
          -0.055281978100538254,
          0.07945340871810913,
          -0.08303123712539673,
          -0.013646400533616543,
          0.0031067070085555315,
          -0.030763862654566765,
          0.002414688700810075,
          -0.011360706761479378,
          0.07367266714572906,
          0.02853022702038288,
          -0.11673180758953094,
          -0.003614274552091956,
          0.024645285680890083,
          0.0706697478890419,
          0.040209438651800156,
          0.04660002514719963,
          -0.01676364056766033,
          0.01627599447965622,
          0.026418767869472504,
          0.006113069597631693,
          0.05046531930565834,
          0.013839024119079113,
          -0.00019117104238830507,
          -0.07051463425159454,
          0.058496251702308655,
          0.041928745806217194,
          0.04083801433444023,
          0.046101879328489304,
          -0.0004452608118299395,
          0.05797155201435089,
          -0.12264390289783478,
          0.01685335300862789,
          -0.08313187211751938,
          0.09082993865013123,
          0.09697768092155457,
          -0.015678266063332558,
          -0.08616886287927628,
          -0.021887483075261116,
          0.04815489798784256,
          0.005269775632768869,
          -0.03607095405459404,
          -0.06573154777288437,
          -0.05634373053908348,
          0.03715435415506363,
          -0.08006516098976135,
          -0.07226599007844925,
          0.058695413172245026,
          -0.0772019550204277,
          -0.002785371383652091,
          -0.08157110959291458,
          -0.012781809084117413,
          -0.009850133210420609,
          -0.05115584284067154,
          -0.023633887991309166,
          -0.06192021071910858,
          -0.03220731019973755,
          0.037204157561063766,
          0.015545959584414959,
          0.012288347817957401,
          -0.06325887888669968,
          -0.026702765375375748,
          -0.041111018508672714,
          -0.09087056666612625,
          -0.09475169330835342,
          -0.02189420349895954,
          0.0016426285728812218,
          0.042723674327135086,
          -0.03599900007247925,
          0.0644703209400177,
          -0.009677691385149956,
          -0.04282502457499504,
          0.026454806327819824,
          -0.1324034035205841,
          -0.06272512674331665,
          -0.10233794152736664,
          -0.07201999425888062,
          -0.08677688986063004,
          -0.007137012202292681,
          -0.08168629556894302,
          -0.09446302801370621,
          -0.050269778817892075,
          -0.07598503679037094,
          0.046639759093523026,
          0.019666763022542,
          -0.08446138352155685,
          0.07105803489685059,
          0.01138535887002945,
          -0.07237471640110016,
          0.02646477147936821,
          -0.10224819928407669,
          -0.016895880922675133,
          -0.043950457125902176,
          -0.03725804015994072,
          -0.0592944510281086,
          -0.09865590929985046,
          -0.1051170602440834,
          -0.11900606006383896,
          -0.09617679566144943,
          0.07582700252532959,
          0.010353701189160347,
          -0.05905875191092491,
          0.01973399892449379,
          0.009899928234517574,
          0.032708823680877686,
          -0.07060511410236359,
          0.03126632794737816,
          -0.10765960067510605,
          -0.09631620347499847,
          -0.07617155462503433,
          -0.031070850789546967,
          -0.044892098754644394,
          -0.1293841004371643,
          -0.11482149362564087,
          -0.10606811940670013,
          0.05359857901930809,
          -0.033680129796266556,
          -0.09200797230005264,
          0.10263369977474213,
          0.0996846929192543,
          -0.010698355734348297,
          -0.09380093216896057,
          -0.2412836253643036,
          -0.25913628935813904,
          -0.010732710361480713,
          -0.04963849484920502,
          0.0012960839085280895,
          -0.04246462509036064,
          -0.031684599816799164,
          0.054449569433927536,
          0.04966125637292862,
          -0.0404651015996933,
          0.08428648114204407,
          0.08190315216779709,
          0.10667697340250015,
          0.09255033731460571,
          0.07775337994098663,
          -0.06687567383050919,
          -0.06082925945520401,
          0.07436678558588028,
          0.1145307794213295,
          -0.058793503791093826,
          0.08562422543764114,
          0.088345967233181,
          -0.06262879073619843,
          0.11297459155321121,
          -0.03971003368496895,
          0.14911679923534393,
          -0.056218210607767105,
          0.14759588241577148,
          0.08647139370441437,
          0.08163558691740036,
          0.16442517936229706,
          0.13661688566207886,
          0.1544070839881897,
          -0.04362308979034424,
          0.13576294481754303,
          0.13038703799247742,
          0.09952220320701599,
          0.10514023900032043,
          0.11710836738348007,
          0.10692398995161057,
          0.11547510325908661,
          0.12972775101661682,
          0.14372405409812927,
          0.1685396134853363,
          0.10364402830600739,
          0.11557093262672424,
          0.1542145162820816,
          0.22457194328308105,
          0.22043377161026,
          0.18386556208133698,
          0.22258442640304565,
          0.23591583967208862,
          0.2230285406112671,
          0.23096369206905365,
          -0.03722376003861427,
          0.19100482761859894,
          0.18162041902542114,
          0.18282820284366608,
          0.19026321172714233,
          0.13636277616024017,
          0.017801733687520027,
          0.21208222210407257,
          -0.6157602667808533,
          -0.6611995100975037,
          -0.08883845061063766,
          -0.07235895097255707,
          -0.027735646814107895,
          0.12387529015541077,
          0.11015378683805466,
          -0.09098842740058899,
          -0.18260520696640015,
          -0.1803845316171646,
          -0.0534922257065773,
          -0.1046290323138237,
          -0.10266517847776413,
          -0.08852294832468033,
          -0.12612184882164001,
          -0.16107352077960968,
          -0.15863202512264252,
          0.03576474264264107,
          -0.15907633304595947,
          0.06443779915571213,
          -0.14673297107219696,
          -0.07118373364210129,
          -0.167112797498703,
          -0.14403702318668365,
          -0.12950193881988525,
          -0.1332263946533203,
          -0.1597297191619873,
          -0.15170389413833618,
          -0.14953646063804626,
          0.1684415340423584,
          -0.17882700264453888,
          0.11787058413028717,
          0.2843692898750305,
          0.17658548057079315,
          0.188980370759964,
          0.15570880472660065,
          0.12678906321525574,
          0.1300722062587738,
          -0.15636083483695984,
          -0.15735390782356262,
          0.129190132021904,
          -0.10088273882865906,
          0.1549825221300125,
          0.1943674236536026,
          0.19367459416389465,
          -0.5990849137306213,
          -0.5724332928657532,
          -0.551712691783905,
          0.14341601729393005,
          0.13052675127983093,
          0.18406370282173157,
          0.16605694591999054,
          0.19028663635253906,
          -0.19386236369609833,
          -0.8452550172805786,
          -0.861274778842926,
          -0.2154925912618637,
          -0.21179255843162537,
          -0.19645020365715027,
          -0.21747839450836182,
          0.23815709352493286,
          0.2838531732559204,
          0.28565847873687744,
          -0.13710127770900726,
          -0.15084664523601532,
          -0.16999445855617523,
          -0.17197921872138977,
          -0.18739506602287292,
          0.37729206681251526,
          0.3606981039047241,
          -0.10001189261674881,
          0.22897735238075256,
          -0.1742209494113922,
          -0.1862599402666092,
          -0.15861186385154724,
          0.22669784724712372,
          0.2221136838197708,
          0.2307119220495224,
          0.2270628660917282
         ],
         "y": [
          0.055182792246341705,
          0.07488710433244705,
          0.05855804681777954,
          0.037790849804878235,
          0.04543225094676018,
          0.045609381049871445,
          0.022377535700798035,
          0.05385256186127663,
          -0.0166777316480875,
          0.08059502393007278,
          0.07544486969709396,
          -0.017133142799139023,
          0.07973743975162506,
          0.0981064885854721,
          0.049327507615089417,
          0.011634476482868195,
          0.14325150847434998,
          0.11395077407360077,
          0.11045962572097778,
          0.06267217546701431,
          0.13554392755031586,
          0.09430315345525742,
          0.07883207499980927,
          0.14854109287261963,
          -0.037062641233205795,
          0.0711095780134201,
          -0.04403284937143326,
          0.06867792457342148,
          0.07217016816139221,
          0.05717584490776062,
          0.04042082652449608,
          0.12692323327064514,
          0.21106354892253876,
          0.16580462455749512,
          -0.054818153381347656,
          0.023881617933511734,
          -0.006080626975744963,
          0.01783517189323902,
          0.019644493237137794,
          -0.05243607237935066,
          0.17036554217338562,
          0.01310962438583374,
          0.02273876592516899,
          -0.024562468752264977,
          0.16521517932415009,
          0.1352868378162384,
          0.051031600683927536,
          0.20782865583896637,
          0.19194041192531586,
          0.13980980217456818,
          0.11502445489168167,
          -0.03504331782460213,
          0.13510732352733612,
          -0.005295836832374334,
          0.15669827163219452,
          0.07654814422130585,
          0.02632642164826393,
          0.11815120279788971,
          -0.020283810794353485,
          0.1822940707206726,
          0.2033398151397705,
          0.15818002820014954,
          0.14172640442848206,
          0.19796937704086304,
          0.002779153874143958,
          0.13820138573646545,
          0.14174416661262512,
          0.17931142449378967,
          0.1665445864200592,
          0.07013100385665894,
          0.09573113918304443,
          0.11813537776470184,
          -0.023107055574655533,
          0.10928528010845184,
          0.1406976729631424,
          -0.024066025391221046,
          -0.02022998407483101,
          -0.06282893568277359,
          0.1460830271244049,
          0.19476468861103058,
          0.1354905664920807,
          0.05548538640141487,
          0.15128187835216522,
          0.1279020458459854,
          0.02585100196301937,
          0.10478756576776505,
          0.10601919144392014,
          0.011177261359989643,
          0.03414888679981232,
          -0.011518123559653759,
          0.14770297706127167,
          0.01833406277000904,
          0.06461293250322342,
          0.0010951877338811755,
          0.1613435298204422,
          0.1604587435722351,
          0.18903841078281403,
          0.15866488218307495,
          0.17838703095912933,
          0.1605806201696396,
          -0.0675717145204544,
          0.16805937886238098,
          -0.007083676755428314,
          -0.022692063823342323,
          0.11988814175128937,
          0.18348848819732666,
          0.1041904166340828,
          0.16902606189250946,
          0.09079373627901077,
          0.13059236109256744,
          0.15977177023887634,
          0.15263107419013977,
          -0.0034447722136974335,
          -0.014375898987054825,
          0.093656525015831,
          -0.010296453721821308,
          0.21155129373073578,
          0.19246962666511536,
          0.04905867576599121,
          0.053595248609781265,
          0.09787439554929733,
          0.19723191857337952,
          0.004882264882326126,
          0.21615482866764069,
          0.11567206680774689,
          0.15128359198570251,
          0.1488601714372635,
          -0.05525897815823555,
          0.1266535073518753,
          -0.045905955135822296,
          0.0005642577889375389,
          0.17294743657112122,
          0.19603411853313446,
          0.20008818805217743,
          0.10418864339590073,
          0.18428556621074677,
          0.1643255203962326,
          0.21459001302719116,
          0.016025826334953308,
          0.1691380888223648,
          0.15579207241535187,
          0.14798413217067719,
          -0.02806856483221054,
          0.15988971292972565,
          0.2151622474193573,
          -0.05337626859545708,
          0.1782151609659195,
          0.1857951283454895,
          0.1633482128381729,
          0.13092924654483795,
          0.17339883744716644,
          0.20035752654075623,
          0.002871772740036249,
          0.17459870874881744,
          0.12561416625976562,
          0.1391933262348175,
          0.1885957270860672,
          0.19219496846199036,
          0.1430470198392868,
          0.16134047508239746,
          0.13834339380264282,
          -0.041808512061834335,
          0.17375479638576508,
          0.19517891108989716,
          0.18343062698841095,
          0.1958310902118683,
          0.16860274970531464,
          0.19531641900539398,
          0.20300719141960144,
          -0.09530764818191528,
          0.08623397350311279,
          0.06294642388820648,
          0.12136244028806686,
          0.03477798402309418,
          0.08682266622781754,
          0.11179433763027191,
          0.040724098682403564,
          0.08239195495843887,
          0.13171596825122833,
          0.1483251303434372,
          0.08197908103466034,
          0.0793866515159607,
          0.06138763949275017,
          -0.09216734021902084,
          -0.16254153847694397,
          -0.20744521915912628,
          -0.03424610570073128,
          -0.1510704606771469,
          -0.20327068865299225,
          -0.1431572586297989,
          -0.11434967815876007,
          -0.14156432449817657,
          -0.141541987657547,
          -0.16083256900310516,
          -0.12372168153524399,
          -0.21518263220787048,
          -0.19944235682487488,
          -0.10755869746208191,
          -0.0858834981918335,
          -0.060259267687797546,
          -0.20845456421375275,
          -0.11264659464359283,
          -0.12069611996412277,
          -0.23957549035549164,
          -0.12898626923561096,
          -0.1371343433856964,
          -0.22245649993419647,
          -0.2291441410779953,
          -0.22945930063724518,
          -0.18895816802978516,
          -0.14228762686252594,
          -0.12201527506113052,
          -0.13238847255706787,
          -0.13627099990844727,
          -0.17186875641345978,
          -0.0778149962425232,
          -0.1428903192281723,
          -0.09523183107376099,
          -0.22505055367946625,
          -0.23558488488197327,
          -0.06372730433940887,
          -0.15725117921829224,
          -0.08563791960477829,
          -0.19937506318092346,
          -0.22217817604541779,
          -0.16152411699295044,
          -0.1535041332244873,
          -0.2172580361366272,
          -0.08523024618625641,
          -0.16330331563949585,
          -0.1422654092311859,
          -0.18294304609298706,
          -0.16325652599334717,
          -0.09629584103822708,
          -0.14356978237628937,
          -0.021061770617961884,
          -0.15779967606067657,
          -0.132720947265625,
          -0.08146306127309799,
          -0.1922193169593811,
          -0.1715506613254547,
          -0.19485962390899658,
          -0.0784756988286972,
          -0.174422487616539,
          -0.10872131586074829,
          -0.11121534556150436,
          -0.13457554578781128,
          -0.18576927483081818,
          -0.18653103709220886,
          -0.13645324110984802,
          -0.1805053949356079,
          -0.1339920461177826,
          -0.23863950371742249,
          -0.12113534659147263,
          -0.20794938504695892,
          -0.03278698772192001,
          -0.11289871484041214,
          -0.08809787034988403,
          -0.10823146253824234,
          -0.15912464261054993,
          -0.16746565699577332,
          -0.13582098484039307,
          -0.16140715777873993,
          -0.1601690948009491,
          -0.10773690044879913,
          -0.11564211547374725,
          -0.14282119274139404,
          -0.13016220927238464,
          -0.20265571773052216,
          -0.22412161529064178,
          -0.15153618156909943,
          -0.1785971075296402,
          -0.13235555589199066,
          -0.07381266355514526,
          -0.17014144361019135,
          -0.15705688297748566,
          -0.2247139811515808,
          -0.02789970673620701,
          -0.2141694873571396,
          -0.15129871666431427,
          -0.14488738775253296,
          -0.16860052943229675,
          -0.1368352472782135,
          -0.1476527452468872,
          -0.15386515855789185,
          -0.09318128228187561,
          -0.12607383728027344,
          -0.12950773537158966,
          -0.11644241213798523,
          -0.1746968775987625,
          -0.10588812828063965,
          -0.1521519124507904,
          -0.16781306266784668,
          -0.15729179978370667,
          -0.1849294900894165,
          -0.12290821969509125,
          -0.12116318941116333,
          -0.17482708394527435,
          -0.18378764390945435,
          -0.0999157503247261,
          -0.17490723729133606,
          -0.1969018280506134,
          -0.14788410067558289,
          -0.1471146196126938,
          -0.1365654617547989,
          -0.04232972860336304,
          -0.1986050009727478,
          -0.12175153195858002,
          -0.2112967073917389,
          -0.18888619542121887,
          -0.13366514444351196,
          -0.1334989070892334,
          -0.22034122049808502,
          -0.1177966296672821,
          -0.21411390602588654,
          -0.0898524597287178,
          0.011762149631977081,
          -0.19566379487514496,
          -0.19995342195034027,
          -0.1462520956993103,
          -0.12376344949007034,
          -0.17880462110042572,
          -0.1628349870443344,
          -0.17916984856128693,
          -0.17081686854362488,
          -0.15707992017269135,
          -0.1542021632194519,
          -0.19455116987228394,
          -0.17372636497020721,
          -0.1913507729768753,
          -0.102286696434021,
          -0.19983990490436554,
          -0.1872154325246811,
          -0.19443388283252716,
          -0.182828888297081,
          -0.11268015950918198,
          -0.15753524005413055,
          -0.09544380009174347,
          -0.16950154304504395,
          -0.17608550190925598,
          -0.21334019303321838,
          -0.10577757656574249,
          -0.15241889655590057,
          -0.23676495254039764,
          -0.20688125491142273,
          -0.1943531334400177,
          -0.13708654046058655,
          -0.17479555308818817,
          -0.18674077093601227,
          -0.20543934404850006,
          -0.23783840239048004,
          -0.2355106621980667,
          -0.16722574830055237,
          -0.18957093358039856,
          -0.1268279105424881,
          -0.1648792177438736,
          -0.1786169856786728,
          -0.09302757680416107,
          -0.016170984134078026,
          0.04730414226651192,
          0.0028660467360168695,
          -0.05341467633843422,
          0.9972501993179321,
          1,
          0.03986933082342148,
          0.11058349162340164,
          0.08289168030023575,
          0.1201380044221878,
          0.12396955490112305,
          0.08344356715679169,
          0.0526713989675045,
          0.10763387382030487,
          0.026960067451000214,
          0.03527268022298813,
          0.0880923643708229,
          0.07413111627101898,
          0.059363096952438354,
          0.0765421986579895,
          0.05018354207277298,
          0.013922978192567825,
          0.07584137469530106,
          0.023034455254673958,
          -0.03937424346804619,
          -0.02072688564658165,
          0.06851179152727127,
          0.021347735077142715,
          0.03288314491510391,
          0.00134780234657228,
          0.06314311176538467,
          0.02502519078552723,
          0.012992375530302525,
          0.002645733067765832,
          0.04209135100245476,
          0.08691762387752533,
          0.10449688136577606,
          0.07191333174705505,
          -0.0008830911247059703,
          -0.01461169682443142,
          0.002265270333737135,
          0.016685698181390762,
          0.0009321760153397918,
          0.0274745412170887,
          0.011578048579394817,
          0.041766684502363205,
          -0.012503602541983128,
          0.01607196219265461,
          0.06440386921167374,
          0.03998411074280739,
          0.06641965359449387,
          0.07447654753923416,
          0.0873732641339302,
          0.07405702769756317,
          0.109991654753685,
          0.08762778341770172,
          0.12036607414484024,
          0.10170610249042511,
          0.05838426202535629,
          0.08115316182374954,
          0.09892310202121735,
          0.09034259617328644,
          0.09024424850940704,
          0.06254596263170242,
          0.07078025490045547,
          0.13075964152812958,
          0.7196921706199646,
          0.764758288860321,
          0.1859537959098816,
          0.0988973081111908,
          0.08011826872825623,
          0.07619510591030121,
          0.0816793292760849,
          0.05503544956445694,
          0.01746845431625843,
          0.02991228550672531,
          0.18021942675113678,
          0.14931252598762512,
          0.0938301831483841,
          0.22850975394248962,
          -0.007653168868273497,
          -0.01799088343977928,
          -0.005432776175439358,
          -0.046536825597286224,
          -0.030668260529637337,
          -0.07851499319076538,
          -0.01877940073609352,
          0.005395886022597551,
          0.10325218737125397,
          0.0885884091258049,
          0.10802889615297318,
          0.09484009444713593,
          0.11458896100521088,
          0.12491253018379211,
          0.1371440887451172,
          -0.14385761320590973,
          0.14893774688243866,
          -0.007035181857645512,
          -0.07377682626247406,
          0.04319130256772041,
          0.10884635895490646,
          0.014825956895947456,
          0.011829417198896408,
          0.018686966970562935,
          0.07669050246477127,
          0.09071147441864014,
          -0.06272358447313309,
          0.012627232819795609,
          0.04248245805501938,
          -0.0010695743840187788,
          -0.010401660576462746,
          0.8111663460731506,
          0.7774255275726318,
          0.7807251214981079,
          -0.030219033360481262,
          -0.02317466214299202,
          -0.03254811838269234,
          -0.025780269876122475,
          0.009158683009445667,
          -0.09740345925092697,
          -0.3163203299045563,
          -0.30761003494262695,
          0.10920758545398712,
          0.11942533403635025,
          0.09805351495742798,
          0.09683854132890701,
          0.17460483312606812,
          0.16735787689685822,
          0.1023608148097992,
          0.13895681500434875,
          0.1547297090291977,
          0.12968073785305023,
          0.16033320128917694,
          0.13721121847629547,
          -0.11134472489356995,
          -0.10492190718650818,
          -0.019882017746567726,
          -0.01250187586992979,
          -0.8781073093414307,
          -0.931341290473938,
          -0.8915202617645264,
          0.14204207062721252,
          -0.03457752615213394,
          -0.0007844405481591821,
          -0.023438958451151848
         ]
        }
       ],
       "layout": {
        "hovermode": "closest",
        "margin": {
         "b": 0,
         "l": 100,
         "r": 100,
         "t": 40
        },
        "showlegend": false,
        "template": {
         "data": {
          "bar": [
           {
            "error_x": {
             "color": "#2a3f5f"
            },
            "error_y": {
             "color": "#2a3f5f"
            },
            "marker": {
             "line": {
              "color": "#E5ECF6",
              "width": 0.5
             },
             "pattern": {
              "fillmode": "overlay",
              "size": 10,
              "solidity": 0.2
             }
            },
            "type": "bar"
           }
          ],
          "barpolar": [
           {
            "marker": {
             "line": {
              "color": "#E5ECF6",
              "width": 0.5
             },
             "pattern": {
              "fillmode": "overlay",
              "size": 10,
              "solidity": 0.2
             }
            },
            "type": "barpolar"
           }
          ],
          "carpet": [
           {
            "aaxis": {
             "endlinecolor": "#2a3f5f",
             "gridcolor": "white",
             "linecolor": "white",
             "minorgridcolor": "white",
             "startlinecolor": "#2a3f5f"
            },
            "baxis": {
             "endlinecolor": "#2a3f5f",
             "gridcolor": "white",
             "linecolor": "white",
             "minorgridcolor": "white",
             "startlinecolor": "#2a3f5f"
            },
            "type": "carpet"
           }
          ],
          "choropleth": [
           {
            "colorbar": {
             "outlinewidth": 0,
             "ticks": ""
            },
            "type": "choropleth"
           }
          ],
          "contour": [
           {
            "colorbar": {
             "outlinewidth": 0,
             "ticks": ""
            },
            "colorscale": [
             [
              0,
              "#0d0887"
             ],
             [
              0.1111111111111111,
              "#46039f"
             ],
             [
              0.2222222222222222,
              "#7201a8"
             ],
             [
              0.3333333333333333,
              "#9c179e"
             ],
             [
              0.4444444444444444,
              "#bd3786"
             ],
             [
              0.5555555555555556,
              "#d8576b"
             ],
             [
              0.6666666666666666,
              "#ed7953"
             ],
             [
              0.7777777777777778,
              "#fb9f3a"
             ],
             [
              0.8888888888888888,
              "#fdca26"
             ],
             [
              1,
              "#f0f921"
             ]
            ],
            "type": "contour"
           }
          ],
          "contourcarpet": [
           {
            "colorbar": {
             "outlinewidth": 0,
             "ticks": ""
            },
            "type": "contourcarpet"
           }
          ],
          "heatmap": [
           {
            "colorbar": {
             "outlinewidth": 0,
             "ticks": ""
            },
            "colorscale": [
             [
              0,
              "#0d0887"
             ],
             [
              0.1111111111111111,
              "#46039f"
             ],
             [
              0.2222222222222222,
              "#7201a8"
             ],
             [
              0.3333333333333333,
              "#9c179e"
             ],
             [
              0.4444444444444444,
              "#bd3786"
             ],
             [
              0.5555555555555556,
              "#d8576b"
             ],
             [
              0.6666666666666666,
              "#ed7953"
             ],
             [
              0.7777777777777778,
              "#fb9f3a"
             ],
             [
              0.8888888888888888,
              "#fdca26"
             ],
             [
              1,
              "#f0f921"
             ]
            ],
            "type": "heatmap"
           }
          ],
          "heatmapgl": [
           {
            "colorbar": {
             "outlinewidth": 0,
             "ticks": ""
            },
            "colorscale": [
             [
              0,
              "#0d0887"
             ],
             [
              0.1111111111111111,
              "#46039f"
             ],
             [
              0.2222222222222222,
              "#7201a8"
             ],
             [
              0.3333333333333333,
              "#9c179e"
             ],
             [
              0.4444444444444444,
              "#bd3786"
             ],
             [
              0.5555555555555556,
              "#d8576b"
             ],
             [
              0.6666666666666666,
              "#ed7953"
             ],
             [
              0.7777777777777778,
              "#fb9f3a"
             ],
             [
              0.8888888888888888,
              "#fdca26"
             ],
             [
              1,
              "#f0f921"
             ]
            ],
            "type": "heatmapgl"
           }
          ],
          "histogram": [
           {
            "marker": {
             "pattern": {
              "fillmode": "overlay",
              "size": 10,
              "solidity": 0.2
             }
            },
            "type": "histogram"
           }
          ],
          "histogram2d": [
           {
            "colorbar": {
             "outlinewidth": 0,
             "ticks": ""
            },
            "colorscale": [
             [
              0,
              "#0d0887"
             ],
             [
              0.1111111111111111,
              "#46039f"
             ],
             [
              0.2222222222222222,
              "#7201a8"
             ],
             [
              0.3333333333333333,
              "#9c179e"
             ],
             [
              0.4444444444444444,
              "#bd3786"
             ],
             [
              0.5555555555555556,
              "#d8576b"
             ],
             [
              0.6666666666666666,
              "#ed7953"
             ],
             [
              0.7777777777777778,
              "#fb9f3a"
             ],
             [
              0.8888888888888888,
              "#fdca26"
             ],
             [
              1,
              "#f0f921"
             ]
            ],
            "type": "histogram2d"
           }
          ],
          "histogram2dcontour": [
           {
            "colorbar": {
             "outlinewidth": 0,
             "ticks": ""
            },
            "colorscale": [
             [
              0,
              "#0d0887"
             ],
             [
              0.1111111111111111,
              "#46039f"
             ],
             [
              0.2222222222222222,
              "#7201a8"
             ],
             [
              0.3333333333333333,
              "#9c179e"
             ],
             [
              0.4444444444444444,
              "#bd3786"
             ],
             [
              0.5555555555555556,
              "#d8576b"
             ],
             [
              0.6666666666666666,
              "#ed7953"
             ],
             [
              0.7777777777777778,
              "#fb9f3a"
             ],
             [
              0.8888888888888888,
              "#fdca26"
             ],
             [
              1,
              "#f0f921"
             ]
            ],
            "type": "histogram2dcontour"
           }
          ],
          "mesh3d": [
           {
            "colorbar": {
             "outlinewidth": 0,
             "ticks": ""
            },
            "type": "mesh3d"
           }
          ],
          "parcoords": [
           {
            "line": {
             "colorbar": {
              "outlinewidth": 0,
              "ticks": ""
             }
            },
            "type": "parcoords"
           }
          ],
          "pie": [
           {
            "automargin": true,
            "type": "pie"
           }
          ],
          "scatter": [
           {
            "fillpattern": {
             "fillmode": "overlay",
             "size": 10,
             "solidity": 0.2
            },
            "type": "scatter"
           }
          ],
          "scatter3d": [
           {
            "line": {
             "colorbar": {
              "outlinewidth": 0,
              "ticks": ""
             }
            },
            "marker": {
             "colorbar": {
              "outlinewidth": 0,
              "ticks": ""
             }
            },
            "type": "scatter3d"
           }
          ],
          "scattercarpet": [
           {
            "marker": {
             "colorbar": {
              "outlinewidth": 0,
              "ticks": ""
             }
            },
            "type": "scattercarpet"
           }
          ],
          "scattergeo": [
           {
            "marker": {
             "colorbar": {
              "outlinewidth": 0,
              "ticks": ""
             }
            },
            "type": "scattergeo"
           }
          ],
          "scattergl": [
           {
            "marker": {
             "colorbar": {
              "outlinewidth": 0,
              "ticks": ""
             }
            },
            "type": "scattergl"
           }
          ],
          "scattermapbox": [
           {
            "marker": {
             "colorbar": {
              "outlinewidth": 0,
              "ticks": ""
             }
            },
            "type": "scattermapbox"
           }
          ],
          "scatterpolar": [
           {
            "marker": {
             "colorbar": {
              "outlinewidth": 0,
              "ticks": ""
             }
            },
            "type": "scatterpolar"
           }
          ],
          "scatterpolargl": [
           {
            "marker": {
             "colorbar": {
              "outlinewidth": 0,
              "ticks": ""
             }
            },
            "type": "scatterpolargl"
           }
          ],
          "scatterternary": [
           {
            "marker": {
             "colorbar": {
              "outlinewidth": 0,
              "ticks": ""
             }
            },
            "type": "scatterternary"
           }
          ],
          "surface": [
           {
            "colorbar": {
             "outlinewidth": 0,
             "ticks": ""
            },
            "colorscale": [
             [
              0,
              "#0d0887"
             ],
             [
              0.1111111111111111,
              "#46039f"
             ],
             [
              0.2222222222222222,
              "#7201a8"
             ],
             [
              0.3333333333333333,
              "#9c179e"
             ],
             [
              0.4444444444444444,
              "#bd3786"
             ],
             [
              0.5555555555555556,
              "#d8576b"
             ],
             [
              0.6666666666666666,
              "#ed7953"
             ],
             [
              0.7777777777777778,
              "#fb9f3a"
             ],
             [
              0.8888888888888888,
              "#fdca26"
             ],
             [
              1,
              "#f0f921"
             ]
            ],
            "type": "surface"
           }
          ],
          "table": [
           {
            "cells": {
             "fill": {
              "color": "#EBF0F8"
             },
             "line": {
              "color": "white"
             }
            },
            "header": {
             "fill": {
              "color": "#C8D4E3"
             },
             "line": {
              "color": "white"
             }
            },
            "type": "table"
           }
          ]
         },
         "layout": {
          "annotationdefaults": {
           "arrowcolor": "#2a3f5f",
           "arrowhead": 0,
           "arrowwidth": 1
          },
          "autotypenumbers": "strict",
          "coloraxis": {
           "colorbar": {
            "outlinewidth": 0,
            "ticks": ""
           }
          },
          "colorscale": {
           "diverging": [
            [
             0,
             "#8e0152"
            ],
            [
             0.1,
             "#c51b7d"
            ],
            [
             0.2,
             "#de77ae"
            ],
            [
             0.3,
             "#f1b6da"
            ],
            [
             0.4,
             "#fde0ef"
            ],
            [
             0.5,
             "#f7f7f7"
            ],
            [
             0.6,
             "#e6f5d0"
            ],
            [
             0.7,
             "#b8e186"
            ],
            [
             0.8,
             "#7fbc41"
            ],
            [
             0.9,
             "#4d9221"
            ],
            [
             1,
             "#276419"
            ]
           ],
           "sequential": [
            [
             0,
             "#0d0887"
            ],
            [
             0.1111111111111111,
             "#46039f"
            ],
            [
             0.2222222222222222,
             "#7201a8"
            ],
            [
             0.3333333333333333,
             "#9c179e"
            ],
            [
             0.4444444444444444,
             "#bd3786"
            ],
            [
             0.5555555555555556,
             "#d8576b"
            ],
            [
             0.6666666666666666,
             "#ed7953"
            ],
            [
             0.7777777777777778,
             "#fb9f3a"
            ],
            [
             0.8888888888888888,
             "#fdca26"
            ],
            [
             1,
             "#f0f921"
            ]
           ],
           "sequentialminus": [
            [
             0,
             "#0d0887"
            ],
            [
             0.1111111111111111,
             "#46039f"
            ],
            [
             0.2222222222222222,
             "#7201a8"
            ],
            [
             0.3333333333333333,
             "#9c179e"
            ],
            [
             0.4444444444444444,
             "#bd3786"
            ],
            [
             0.5555555555555556,
             "#d8576b"
            ],
            [
             0.6666666666666666,
             "#ed7953"
            ],
            [
             0.7777777777777778,
             "#fb9f3a"
            ],
            [
             0.8888888888888888,
             "#fdca26"
            ],
            [
             1,
             "#f0f921"
            ]
           ]
          },
          "colorway": [
           "#636efa",
           "#EF553B",
           "#00cc96",
           "#ab63fa",
           "#FFA15A",
           "#19d3f3",
           "#FF6692",
           "#B6E880",
           "#FF97FF",
           "#FECB52"
          ],
          "font": {
           "color": "#2a3f5f"
          },
          "geo": {
           "bgcolor": "white",
           "lakecolor": "white",
           "landcolor": "#E5ECF6",
           "showlakes": true,
           "showland": true,
           "subunitcolor": "white"
          },
          "hoverlabel": {
           "align": "left"
          },
          "hovermode": "closest",
          "mapbox": {
           "style": "light"
          },
          "paper_bgcolor": "white",
          "plot_bgcolor": "#E5ECF6",
          "polar": {
           "angularaxis": {
            "gridcolor": "white",
            "linecolor": "white",
            "ticks": ""
           },
           "bgcolor": "#E5ECF6",
           "radialaxis": {
            "gridcolor": "white",
            "linecolor": "white",
            "ticks": ""
           }
          },
          "scene": {
           "xaxis": {
            "backgroundcolor": "#E5ECF6",
            "gridcolor": "white",
            "gridwidth": 2,
            "linecolor": "white",
            "showbackground": true,
            "ticks": "",
            "zerolinecolor": "white"
           },
           "yaxis": {
            "backgroundcolor": "#E5ECF6",
            "gridcolor": "white",
            "gridwidth": 2,
            "linecolor": "white",
            "showbackground": true,
            "ticks": "",
            "zerolinecolor": "white"
           },
           "zaxis": {
            "backgroundcolor": "#E5ECF6",
            "gridcolor": "white",
            "gridwidth": 2,
            "linecolor": "white",
            "showbackground": true,
            "ticks": "",
            "zerolinecolor": "white"
           }
          },
          "shapedefaults": {
           "line": {
            "color": "#2a3f5f"
           }
          },
          "ternary": {
           "aaxis": {
            "gridcolor": "white",
            "linecolor": "white",
            "ticks": ""
           },
           "baxis": {
            "gridcolor": "white",
            "linecolor": "white",
            "ticks": ""
           },
           "bgcolor": "#E5ECF6",
           "caxis": {
            "gridcolor": "white",
            "linecolor": "white",
            "ticks": ""
           }
          },
          "title": {
           "x": 0.05
          },
          "xaxis": {
           "automargin": true,
           "gridcolor": "white",
           "linecolor": "white",
           "ticks": "",
           "title": {
            "standoff": 15
           },
           "zerolinecolor": "white",
           "zerolinewidth": 2
          },
          "yaxis": {
           "automargin": true,
           "gridcolor": "white",
           "linecolor": "white",
           "ticks": "",
           "title": {
            "standoff": 15
           },
           "zerolinecolor": "white",
           "zerolinewidth": 2
          }
         }
        },
        "title": {
         "font": {
          "size": 16
         },
         "text": "Đồ thị biểu diễn liên kết giữa các thẻ"
        },
        "xaxis": {
         "showgrid": false,
         "zeroline": false
        },
        "yaxis": {
         "showgrid": false,
         "zeroline": false
        }
       }
      },
      "text/html": [
       "<div>                            <div id=\"0ba693b8-2980-4ca6-853b-d830e5898304\" class=\"plotly-graph-div\" style=\"height:525px; width:100%;\"></div>            <script type=\"text/javascript\">                require([\"plotly\"], function(Plotly) {                    window.PLOTLYENV=window.PLOTLYENV || {};                                    if (document.getElementById(\"0ba693b8-2980-4ca6-853b-d830e5898304\")) {                    Plotly.newPlot(                        \"0ba693b8-2980-4ca6-853b-d830e5898304\",                        [{\"hoverinfo\":\"none\",\"line\":{\"color\":\"#b15928\",\"width\":1},\"mode\":\"lines\",\"x\":[-0.0168882105499506,0.021653084084391594,null],\"y\":[0.055182792246341705,0.07488710433244705,null],\"type\":\"scatter\"},{\"hoverinfo\":\"none\",\"line\":{\"color\":\"#b15928\",\"width\":1},\"mode\":\"lines\",\"x\":[-0.0168882105499506,2.5307354007964022e-05,null],\"y\":[0.055182792246341705,0.05855804681777954,null],\"type\":\"scatter\"},{\"hoverinfo\":\"none\",\"line\":{\"color\":\"#b15928\",\"width\":1},\"mode\":\"lines\",\"x\":[-0.0168882105499506,-0.004239080008119345,null],\"y\":[0.055182792246341705,0.037790849804878235,null],\"type\":\"scatter\"},{\"hoverinfo\":\"none\",\"line\":{\"color\":\"#b15928\",\"width\":1},\"mode\":\"lines\",\"x\":[-0.0168882105499506,0.017234154045581818,null],\"y\":[0.055182792246341705,0.04543225094676018,null],\"type\":\"scatter\"},{\"hoverinfo\":\"none\",\"line\":{\"color\":\"#b15928\",\"width\":1},\"mode\":\"lines\",\"x\":[-0.0168882105499506,-0.0168882105499506,null],\"y\":[0.055182792246341705,0.055182792246341705,null],\"type\":\"scatter\"},{\"hoverinfo\":\"none\",\"line\":{\"color\":\"#b15928\",\"width\":1},\"mode\":\"lines\",\"x\":[-0.0168882105499506,-0.00674491235986352,null],\"y\":[0.055182792246341705,0.045609381049871445,null],\"type\":\"scatter\"},{\"hoverinfo\":\"none\",\"line\":{\"color\":\"#b15928\",\"width\":1},\"mode\":\"lines\",\"x\":[-0.0168882105499506,0.04043589532375336,null],\"y\":[0.055182792246341705,0.022377535700798035,null],\"type\":\"scatter\"},{\"hoverinfo\":\"none\",\"line\":{\"color\":\"#b15928\",\"width\":1},\"mode\":\"lines\",\"x\":[-0.0168882105499506,-0.06624762713909149,null],\"y\":[0.055182792246341705,0.05385256186127663,null],\"type\":\"scatter\"},{\"hoverinfo\":\"none\",\"line\":{\"color\":\"#b15928\",\"width\":1},\"mode\":\"lines\",\"x\":[-0.0168882105499506,-0.037273623049259186,null],\"y\":[0.055182792246341705,-0.0166777316480875,null],\"type\":\"scatter\"},{\"hoverinfo\":\"none\",\"line\":{\"color\":\"#b15928\",\"width\":1},\"mode\":\"lines\",\"x\":[-0.0168882105499506,-0.07729380577802658,null],\"y\":[0.055182792246341705,0.08059502393007278,null],\"type\":\"scatter\"},{\"hoverinfo\":\"none\",\"line\":{\"color\":\"#b15928\",\"width\":1},\"mode\":\"lines\",\"x\":[0.021653084084391594,0.00866764783859253,null],\"y\":[0.07488710433244705,0.07544486969709396,null],\"type\":\"scatter\"},{\"hoverinfo\":\"none\",\"line\":{\"color\":\"#b15928\",\"width\":1},\"mode\":\"lines\",\"x\":[0.021653084084391594,0.0031600536312907934,null],\"y\":[0.07488710433244705,-0.017133142799139023,null],\"type\":\"scatter\"},{\"hoverinfo\":\"none\",\"line\":{\"color\":\"#fb9a99\",\"width\":1},\"mode\":\"lines\",\"x\":[0.021653084084391594,0.021653084084391594,null],\"y\":[0.07488710433244705,0.07488710433244705,null],\"type\":\"scatter\"},{\"hoverinfo\":\"none\",\"line\":{\"color\":\"#6a3d9a\",\"width\":1},\"mode\":\"lines\",\"x\":[0.021653084084391594,2.5307354007964022e-05,null],\"y\":[0.07488710433244705,0.05855804681777954,null],\"type\":\"scatter\"},{\"hoverinfo\":\"none\",\"line\":{\"color\":\"#b15928\",\"width\":1},\"mode\":\"lines\",\"x\":[0.021653084084391594,0.04377574473619461,null],\"y\":[0.07488710433244705,0.07973743975162506,null],\"type\":\"scatter\"},{\"hoverinfo\":\"none\",\"line\":{\"color\":\"#b15928\",\"width\":1},\"mode\":\"lines\",\"x\":[0.021653084084391594,-0.02157602645456791,null],\"y\":[0.07488710433244705,0.0981064885854721,null],\"type\":\"scatter\"},{\"hoverinfo\":\"none\",\"line\":{\"color\":\"#ffff99\",\"width\":1},\"mode\":\"lines\",\"x\":[0.021653084084391594,0.017234154045581818,null],\"y\":[0.07488710433244705,0.04543225094676018,null],\"type\":\"scatter\"},{\"hoverinfo\":\"none\",\"line\":{\"color\":\"#ff7f00\",\"width\":1},\"mode\":\"lines\",\"x\":[0.021653084084391594,0.022681519389152527,null],\"y\":[0.07488710433244705,0.049327507615089417,null],\"type\":\"scatter\"},{\"hoverinfo\":\"none\",\"line\":{\"color\":\"#b15928\",\"width\":1},\"mode\":\"lines\",\"x\":[0.021653084084391594,-0.061359044164419174,null],\"y\":[0.07488710433244705,0.011634476482868195,null],\"type\":\"scatter\"},{\"hoverinfo\":\"none\",\"line\":{\"color\":\"#b15928\",\"width\":1},\"mode\":\"lines\",\"x\":[0.021653084084391594,0.04043589532375336,null],\"y\":[0.07488710433244705,0.022377535700798035,null],\"type\":\"scatter\"},{\"hoverinfo\":\"none\",\"line\":{\"color\":\"#b15928\",\"width\":1},\"mode\":\"lines\",\"x\":[0.021653084084391594,-0.029632965102791786,null],\"y\":[0.07488710433244705,0.14325150847434998,null],\"type\":\"scatter\"},{\"hoverinfo\":\"none\",\"line\":{\"color\":\"#b15928\",\"width\":1},\"mode\":\"lines\",\"x\":[0.021653084084391594,-0.0361969992518425,null],\"y\":[0.07488710433244705,0.11395077407360077,null],\"type\":\"scatter\"},{\"hoverinfo\":\"none\",\"line\":{\"color\":\"#b15928\",\"width\":1},\"mode\":\"lines\",\"x\":[0.021653084084391594,-0.00552947074174881,null],\"y\":[0.07488710433244705,0.11045962572097778,null],\"type\":\"scatter\"},{\"hoverinfo\":\"none\",\"line\":{\"color\":\"#ffff99\",\"width\":1},\"mode\":\"lines\",\"x\":[0.021653084084391594,0.02953876182436943,null],\"y\":[0.07488710433244705,0.06267217546701431,null],\"type\":\"scatter\"},{\"hoverinfo\":\"none\",\"line\":{\"color\":\"#b15928\",\"width\":1},\"mode\":\"lines\",\"x\":[0.021653084084391594,-0.013944110833108425,null],\"y\":[0.07488710433244705,0.13554392755031586,null],\"type\":\"scatter\"},{\"hoverinfo\":\"none\",\"line\":{\"color\":\"#b15928\",\"width\":1},\"mode\":\"lines\",\"x\":[0.021653084084391594,0.03641176223754883,null],\"y\":[0.07488710433244705,0.09430315345525742,null],\"type\":\"scatter\"},{\"hoverinfo\":\"none\",\"line\":{\"color\":\"#b15928\",\"width\":1},\"mode\":\"lines\",\"x\":[0.021653084084391594,0.035520367324352264,null],\"y\":[0.07488710433244705,0.07883207499980927,null],\"type\":\"scatter\"},{\"hoverinfo\":\"none\",\"line\":{\"color\":\"#b15928\",\"width\":1},\"mode\":\"lines\",\"x\":[0.021653084084391594,0.028674356639385223,null],\"y\":[0.07488710433244705,0.14854109287261963,null],\"type\":\"scatter\"},{\"hoverinfo\":\"none\",\"line\":{\"color\":\"#b15928\",\"width\":1},\"mode\":\"lines\",\"x\":[0.021653084084391594,0.0011573305819183588,null],\"y\":[0.07488710433244705,-0.037062641233205795,null],\"type\":\"scatter\"},{\"hoverinfo\":\"none\",\"line\":{\"color\":\"#ffff99\",\"width\":1},\"mode\":\"lines\",\"x\":[0.021653084084391594,-0.004239080008119345,null],\"y\":[0.07488710433244705,0.037790849804878235,null],\"type\":\"scatter\"},{\"hoverinfo\":\"none\",\"line\":{\"color\":\"#b15928\",\"width\":1},\"mode\":\"lines\",\"x\":[0.021653084084391594,-0.003515766002237797,null],\"y\":[0.07488710433244705,0.0711095780134201,null],\"type\":\"scatter\"},{\"hoverinfo\":\"none\",\"line\":{\"color\":\"#b15928\",\"width\":1},\"mode\":\"lines\",\"x\":[0.021653084084391594,-0.006279632914811373,null],\"y\":[0.07488710433244705,-0.04403284937143326,null],\"type\":\"scatter\"},{\"hoverinfo\":\"none\",\"line\":{\"color\":\"#ffff99\",\"width\":1},\"mode\":\"lines\",\"x\":[0.021653084084391594,0.02563965879380703,null],\"y\":[0.07488710433244705,0.06867792457342148,null],\"type\":\"scatter\"},{\"hoverinfo\":\"none\",\"line\":{\"color\":\"#b15928\",\"width\":1},\"mode\":\"lines\",\"x\":[0.021653084084391594,0.0028257581871002913,null],\"y\":[0.07488710433244705,0.07217016816139221,null],\"type\":\"scatter\"},{\"hoverinfo\":\"none\",\"line\":{\"color\":\"#b15928\",\"width\":1},\"mode\":\"lines\",\"x\":[0.021653084084391594,0.025569748133420944,null],\"y\":[0.07488710433244705,0.05717584490776062,null],\"type\":\"scatter\"},{\"hoverinfo\":\"none\",\"line\":{\"color\":\"#b15928\",\"width\":1},\"mode\":\"lines\",\"x\":[0.021653084084391594,0.04943536967039108,null],\"y\":[0.07488710433244705,0.04042082652449608,null],\"type\":\"scatter\"},{\"hoverinfo\":\"none\",\"line\":{\"color\":\"#b15928\",\"width\":1},\"mode\":\"lines\",\"x\":[0.021653084084391594,0.04422885179519653,null],\"y\":[0.07488710433244705,0.12692323327064514,null],\"type\":\"scatter\"},{\"hoverinfo\":\"none\",\"line\":{\"color\":\"#b15928\",\"width\":1},\"mode\":\"lines\",\"x\":[0.021653084084391594,-0.01699463091790676,null],\"y\":[0.07488710433244705,0.21106354892253876,null],\"type\":\"scatter\"},{\"hoverinfo\":\"none\",\"line\":{\"color\":\"#b15928\",\"width\":1},\"mode\":\"lines\",\"x\":[0.021653084084391594,-0.005909824278205633,null],\"y\":[0.07488710433244705,0.16580462455749512,null],\"type\":\"scatter\"},{\"hoverinfo\":\"none\",\"line\":{\"color\":\"#b15928\",\"width\":1},\"mode\":\"lines\",\"x\":[0.021653084084391594,-0.002867500064894557,null],\"y\":[0.07488710433244705,-0.054818153381347656,null],\"type\":\"scatter\"},{\"hoverinfo\":\"none\",\"line\":{\"color\":\"#b15928\",\"width\":1},\"mode\":\"lines\",\"x\":[0.021653084084391594,0.011239961721003056,null],\"y\":[0.07488710433244705,0.023881617933511734,null],\"type\":\"scatter\"},{\"hoverinfo\":\"none\",\"line\":{\"color\":\"#b15928\",\"width\":1},\"mode\":\"lines\",\"x\":[0.021653084084391594,-0.05761899799108505,null],\"y\":[0.07488710433244705,-0.006080626975744963,null],\"type\":\"scatter\"},{\"hoverinfo\":\"none\",\"line\":{\"color\":\"#b15928\",\"width\":1},\"mode\":\"lines\",\"x\":[0.021653084084391594,0.0225176103413105,null],\"y\":[0.07488710433244705,0.01783517189323902,null],\"type\":\"scatter\"},{\"hoverinfo\":\"none\",\"line\":{\"color\":\"#b15928\",\"width\":1},\"mode\":\"lines\",\"x\":[0.021653084084391594,0.0062402402982115746,null],\"y\":[0.07488710433244705,0.019644493237137794,null],\"type\":\"scatter\"},{\"hoverinfo\":\"none\",\"line\":{\"color\":\"#b15928\",\"width\":1},\"mode\":\"lines\",\"x\":[0.021653084084391594,-0.0010009079705923796,null],\"y\":[0.07488710433244705,-0.05243607237935066,null],\"type\":\"scatter\"},{\"hoverinfo\":\"none\",\"line\":{\"color\":\"#b15928\",\"width\":1},\"mode\":\"lines\",\"x\":[0.021653084084391594,0.094096839427948,null],\"y\":[0.07488710433244705,0.17036554217338562,null],\"type\":\"scatter\"},{\"hoverinfo\":\"none\",\"line\":{\"color\":\"#b15928\",\"width\":1},\"mode\":\"lines\",\"x\":[0.021653084084391594,0.011151745915412903,null],\"y\":[0.07488710433244705,0.01310962438583374,null],\"type\":\"scatter\"},{\"hoverinfo\":\"none\",\"line\":{\"color\":\"#b15928\",\"width\":1},\"mode\":\"lines\",\"x\":[0.021653084084391594,0.0008833205793052912,null],\"y\":[0.07488710433244705,0.02273876592516899,null],\"type\":\"scatter\"},{\"hoverinfo\":\"none\",\"line\":{\"color\":\"#b15928\",\"width\":1},\"mode\":\"lines\",\"x\":[0.021653084084391594,-0.0013983951648697257,null],\"y\":[0.07488710433244705,-0.024562468752264977,null],\"type\":\"scatter\"},{\"hoverinfo\":\"none\",\"line\":{\"color\":\"#b15928\",\"width\":1},\"mode\":\"lines\",\"x\":[0.021653084084391594,0.0590246245265007,null],\"y\":[0.07488710433244705,0.16521517932415009,null],\"type\":\"scatter\"},{\"hoverinfo\":\"none\",\"line\":{\"color\":\"#b15928\",\"width\":1},\"mode\":\"lines\",\"x\":[0.021653084084391594,0.021003475412726402,null],\"y\":[0.07488710433244705,0.1352868378162384,null],\"type\":\"scatter\"},{\"hoverinfo\":\"none\",\"line\":{\"color\":\"#b15928\",\"width\":1},\"mode\":\"lines\",\"x\":[0.021653084084391594,0.021972890943288803,null],\"y\":[0.07488710433244705,0.051031600683927536,null],\"type\":\"scatter\"},{\"hoverinfo\":\"none\",\"line\":{\"color\":\"#b15928\",\"width\":1},\"mode\":\"lines\",\"x\":[0.021653084084391594,0.06620999425649643,null],\"y\":[0.07488710433244705,0.20782865583896637,null],\"type\":\"scatter\"},{\"hoverinfo\":\"none\",\"line\":{\"color\":\"#b15928\",\"width\":1},\"mode\":\"lines\",\"x\":[0.021653084084391594,0.09673109650611877,null],\"y\":[0.07488710433244705,0.19194041192531586,null],\"type\":\"scatter\"},{\"hoverinfo\":\"none\",\"line\":{\"color\":\"#b15928\",\"width\":1},\"mode\":\"lines\",\"x\":[0.021653084084391594,-0.02253291942179203,null],\"y\":[0.07488710433244705,0.13980980217456818,null],\"type\":\"scatter\"},{\"hoverinfo\":\"none\",\"line\":{\"color\":\"#b15928\",\"width\":1},\"mode\":\"lines\",\"x\":[0.021653084084391594,0.05535706877708435,null],\"y\":[0.07488710433244705,0.11502445489168167,null],\"type\":\"scatter\"},{\"hoverinfo\":\"none\",\"line\":{\"color\":\"#b15928\",\"width\":1},\"mode\":\"lines\",\"x\":[0.021653084084391594,0.023071149364113808,null],\"y\":[0.07488710433244705,-0.03504331782460213,null],\"type\":\"scatter\"},{\"hoverinfo\":\"none\",\"line\":{\"color\":\"#b15928\",\"width\":1},\"mode\":\"lines\",\"x\":[0.021653084084391594,0.06513742357492447,null],\"y\":[0.07488710433244705,0.13510732352733612,null],\"type\":\"scatter\"},{\"hoverinfo\":\"none\",\"line\":{\"color\":\"#b15928\",\"width\":1},\"mode\":\"lines\",\"x\":[0.021653084084391594,-0.006648545619100332,null],\"y\":[0.07488710433244705,-0.005295836832374334,null],\"type\":\"scatter\"},{\"hoverinfo\":\"none\",\"line\":{\"color\":\"#b15928\",\"width\":1},\"mode\":\"lines\",\"x\":[0.021653084084391594,0.12849096953868866,null],\"y\":[0.07488710433244705,0.15669827163219452,null],\"type\":\"scatter\"},{\"hoverinfo\":\"none\",\"line\":{\"color\":\"#b15928\",\"width\":1},\"mode\":\"lines\",\"x\":[0.021653084084391594,0.05179174989461899,null],\"y\":[0.07488710433244705,0.07654814422130585,null],\"type\":\"scatter\"},{\"hoverinfo\":\"none\",\"line\":{\"color\":\"#b15928\",\"width\":1},\"mode\":\"lines\",\"x\":[0.021653084084391594,0.01881464011967182,null],\"y\":[0.07488710433244705,0.02632642164826393,null],\"type\":\"scatter\"},{\"hoverinfo\":\"none\",\"line\":{\"color\":\"#b15928\",\"width\":1},\"mode\":\"lines\",\"x\":[0.021653084084391594,0.041951362043619156,null],\"y\":[0.07488710433244705,0.11815120279788971,null],\"type\":\"scatter\"},{\"hoverinfo\":\"none\",\"line\":{\"color\":\"#b15928\",\"width\":1},\"mode\":\"lines\",\"x\":[0.021653084084391594,0.006448971573263407,null],\"y\":[0.07488710433244705,-0.020283810794353485,null],\"type\":\"scatter\"},{\"hoverinfo\":\"none\",\"line\":{\"color\":\"#b15928\",\"width\":1},\"mode\":\"lines\",\"x\":[0.021653084084391594,0.07770968973636627,null],\"y\":[0.07488710433244705,0.1822940707206726,null],\"type\":\"scatter\"},{\"hoverinfo\":\"none\",\"line\":{\"color\":\"#b15928\",\"width\":1},\"mode\":\"lines\",\"x\":[0.021653084084391594,0.013790824450552464,null],\"y\":[0.07488710433244705,0.2033398151397705,null],\"type\":\"scatter\"},{\"hoverinfo\":\"none\",\"line\":{\"color\":\"#b15928\",\"width\":1},\"mode\":\"lines\",\"x\":[0.021653084084391594,-0.06387481093406677,null],\"y\":[0.07488710433244705,0.15818002820014954,null],\"type\":\"scatter\"},{\"hoverinfo\":\"none\",\"line\":{\"color\":\"#b15928\",\"width\":1},\"mode\":\"lines\",\"x\":[0.021653084084391594,0.014381504617631435,null],\"y\":[0.07488710433244705,0.14172640442848206,null],\"type\":\"scatter\"},{\"hoverinfo\":\"none\",\"line\":{\"color\":\"#b15928\",\"width\":1},\"mode\":\"lines\",\"x\":[0.021653084084391594,0.038513801991939545,null],\"y\":[0.07488710433244705,0.19796937704086304,null],\"type\":\"scatter\"},{\"hoverinfo\":\"none\",\"line\":{\"color\":\"#b15928\",\"width\":1},\"mode\":\"lines\",\"x\":[0.021653084084391594,0.0025751106441020966,null],\"y\":[0.07488710433244705,0.002779153874143958,null],\"type\":\"scatter\"},{\"hoverinfo\":\"none\",\"line\":{\"color\":\"#b15928\",\"width\":1},\"mode\":\"lines\",\"x\":[0.021653084084391594,0.0904674381017685,null],\"y\":[0.07488710433244705,0.13820138573646545,null],\"type\":\"scatter\"},{\"hoverinfo\":\"none\",\"line\":{\"color\":\"#b15928\",\"width\":1},\"mode\":\"lines\",\"x\":[0.021653084084391594,0.0017238613218069077,null],\"y\":[0.07488710433244705,0.14174416661262512,null],\"type\":\"scatter\"},{\"hoverinfo\":\"none\",\"line\":{\"color\":\"#b15928\",\"width\":1},\"mode\":\"lines\",\"x\":[0.021653084084391594,0.1122872531414032,null],\"y\":[0.07488710433244705,0.17931142449378967,null],\"type\":\"scatter\"},{\"hoverinfo\":\"none\",\"line\":{\"color\":\"#b15928\",\"width\":1},\"mode\":\"lines\",\"x\":[0.021653084084391594,-0.016090603545308113,null],\"y\":[0.07488710433244705,0.1665445864200592,null],\"type\":\"scatter\"},{\"hoverinfo\":\"none\",\"line\":{\"color\":\"#b15928\",\"width\":1},\"mode\":\"lines\",\"x\":[0.021653084084391594,0.06340015679597855,null],\"y\":[0.07488710433244705,0.07013100385665894,null],\"type\":\"scatter\"},{\"hoverinfo\":\"none\",\"line\":{\"color\":\"#b15928\",\"width\":1},\"mode\":\"lines\",\"x\":[0.021653084084391594,0.009246340952813625,null],\"y\":[0.07488710433244705,0.09573113918304443,null],\"type\":\"scatter\"},{\"hoverinfo\":\"none\",\"line\":{\"color\":\"#b15928\",\"width\":1},\"mode\":\"lines\",\"x\":[0.021653084084391594,0.0753597766160965,null],\"y\":[0.07488710433244705,0.11813537776470184,null],\"type\":\"scatter\"},{\"hoverinfo\":\"none\",\"line\":{\"color\":\"#b15928\",\"width\":1},\"mode\":\"lines\",\"x\":[0.021653084084391594,0.0351778008043766,null],\"y\":[0.07488710433244705,-0.023107055574655533,null],\"type\":\"scatter\"},{\"hoverinfo\":\"none\",\"line\":{\"color\":\"#b15928\",\"width\":1},\"mode\":\"lines\",\"x\":[0.021653084084391594,-0.014625443145632744,null],\"y\":[0.07488710433244705,0.10928528010845184,null],\"type\":\"scatter\"},{\"hoverinfo\":\"none\",\"line\":{\"color\":\"#b15928\",\"width\":1},\"mode\":\"lines\",\"x\":[0.021653084084391594,-0.03900004178285599,null],\"y\":[0.07488710433244705,0.1406976729631424,null],\"type\":\"scatter\"},{\"hoverinfo\":\"none\",\"line\":{\"color\":\"#b15928\",\"width\":1},\"mode\":\"lines\",\"x\":[0.021653084084391594,0.017320621758699417,null],\"y\":[0.07488710433244705,-0.024066025391221046,null],\"type\":\"scatter\"},{\"hoverinfo\":\"none\",\"line\":{\"color\":\"#b15928\",\"width\":1},\"mode\":\"lines\",\"x\":[0.021653084084391594,-0.01800730638206005,null],\"y\":[0.07488710433244705,-0.02022998407483101,null],\"type\":\"scatter\"},{\"hoverinfo\":\"none\",\"line\":{\"color\":\"#b15928\",\"width\":1},\"mode\":\"lines\",\"x\":[0.021653084084391594,-0.0012278436915948987,null],\"y\":[0.07488710433244705,-0.06282893568277359,null],\"type\":\"scatter\"},{\"hoverinfo\":\"none\",\"line\":{\"color\":\"#b15928\",\"width\":1},\"mode\":\"lines\",\"x\":[0.021653084084391594,0.04205527901649475,null],\"y\":[0.07488710433244705,0.1460830271244049,null],\"type\":\"scatter\"},{\"hoverinfo\":\"none\",\"line\":{\"color\":\"#b15928\",\"width\":1},\"mode\":\"lines\",\"x\":[0.021653084084391594,-0.021060362458229065,null],\"y\":[0.07488710433244705,0.19476468861103058,null],\"type\":\"scatter\"},{\"hoverinfo\":\"none\",\"line\":{\"color\":\"#b15928\",\"width\":1},\"mode\":\"lines\",\"x\":[0.021653084084391594,-0.00489343237131834,null],\"y\":[0.07488710433244705,0.1354905664920807,null],\"type\":\"scatter\"},{\"hoverinfo\":\"none\",\"line\":{\"color\":\"#b15928\",\"width\":1},\"mode\":\"lines\",\"x\":[0.021653084084391594,0.09869018942117691,null],\"y\":[0.07488710433244705,0.05548538640141487,null],\"type\":\"scatter\"},{\"hoverinfo\":\"none\",\"line\":{\"color\":\"#b15928\",\"width\":1},\"mode\":\"lines\",\"x\":[0.021653084084391594,-0.05321260914206505,null],\"y\":[0.07488710433244705,0.15128187835216522,null],\"type\":\"scatter\"},{\"hoverinfo\":\"none\",\"line\":{\"color\":\"#b15928\",\"width\":1},\"mode\":\"lines\",\"x\":[0.021653084084391594,0.12189725041389465,null],\"y\":[0.07488710433244705,0.1279020458459854,null],\"type\":\"scatter\"},{\"hoverinfo\":\"none\",\"line\":{\"color\":\"#b15928\",\"width\":1},\"mode\":\"lines\",\"x\":[0.021653084084391594,0.05031382665038109,null],\"y\":[0.07488710433244705,0.02585100196301937,null],\"type\":\"scatter\"},{\"hoverinfo\":\"none\",\"line\":{\"color\":\"#b15928\",\"width\":1},\"mode\":\"lines\",\"x\":[0.021653084084391594,-0.009177794679999352,null],\"y\":[0.07488710433244705,0.10478756576776505,null],\"type\":\"scatter\"},{\"hoverinfo\":\"none\",\"line\":{\"color\":\"#b15928\",\"width\":1},\"mode\":\"lines\",\"x\":[0.021653084084391594,0.02399957738816738,null],\"y\":[0.07488710433244705,0.10601919144392014,null],\"type\":\"scatter\"},{\"hoverinfo\":\"none\",\"line\":{\"color\":\"#b15928\",\"width\":1},\"mode\":\"lines\",\"x\":[0.021653084084391594,0.06611188501119614,null],\"y\":[0.07488710433244705,0.011177261359989643,null],\"type\":\"scatter\"},{\"hoverinfo\":\"none\",\"line\":{\"color\":\"#b15928\",\"width\":1},\"mode\":\"lines\",\"x\":[0.021653084084391594,0.057536497712135315,null],\"y\":[0.07488710433244705,0.03414888679981232,null],\"type\":\"scatter\"},{\"hoverinfo\":\"none\",\"line\":{\"color\":\"#b15928\",\"width\":1},\"mode\":\"lines\",\"x\":[0.021653084084391594,0.036452848464250565,null],\"y\":[0.07488710433244705,-0.011518123559653759,null],\"type\":\"scatter\"},{\"hoverinfo\":\"none\",\"line\":{\"color\":\"#b15928\",\"width\":1},\"mode\":\"lines\",\"x\":[0.021653084084391594,0.08564112335443497,null],\"y\":[0.07488710433244705,0.14770297706127167,null],\"type\":\"scatter\"},{\"hoverinfo\":\"none\",\"line\":{\"color\":\"#b15928\",\"width\":1},\"mode\":\"lines\",\"x\":[0.021653084084391594,-0.028187397867441177,null],\"y\":[0.07488710433244705,0.01833406277000904,null],\"type\":\"scatter\"},{\"hoverinfo\":\"none\",\"line\":{\"color\":\"#b15928\",\"width\":1},\"mode\":\"lines\",\"x\":[0.021653084084391594,-0.013280787505209446,null],\"y\":[0.07488710433244705,0.06461293250322342,null],\"type\":\"scatter\"},{\"hoverinfo\":\"none\",\"line\":{\"color\":\"#b15928\",\"width\":1},\"mode\":\"lines\",\"x\":[0.021653084084391594,0.009626398794353008,null],\"y\":[0.07488710433244705,0.0010951877338811755,null],\"type\":\"scatter\"},{\"hoverinfo\":\"none\",\"line\":{\"color\":\"#b15928\",\"width\":1},\"mode\":\"lines\",\"x\":[0.021653084084391594,0.10001307725906372,null],\"y\":[0.07488710433244705,0.1613435298204422,null],\"type\":\"scatter\"},{\"hoverinfo\":\"none\",\"line\":{\"color\":\"#b15928\",\"width\":1},\"mode\":\"lines\",\"x\":[0.021653084084391594,-0.02735120616853237,null],\"y\":[0.07488710433244705,0.1604587435722351,null],\"type\":\"scatter\"},{\"hoverinfo\":\"none\",\"line\":{\"color\":\"#b15928\",\"width\":1},\"mode\":\"lines\",\"x\":[0.021653084084391594,0.06880080699920654,null],\"y\":[0.07488710433244705,0.18903841078281403,null],\"type\":\"scatter\"},{\"hoverinfo\":\"none\",\"line\":{\"color\":\"#b15928\",\"width\":1},\"mode\":\"lines\",\"x\":[0.021653084084391594,0.10912542790174484,null],\"y\":[0.07488710433244705,0.15866488218307495,null],\"type\":\"scatter\"},{\"hoverinfo\":\"none\",\"line\":{\"color\":\"#b15928\",\"width\":1},\"mode\":\"lines\",\"x\":[0.021653084084391594,0.015559826046228409,null],\"y\":[0.07488710433244705,0.17838703095912933,null],\"type\":\"scatter\"},{\"hoverinfo\":\"none\",\"line\":{\"color\":\"#b15928\",\"width\":1},\"mode\":\"lines\",\"x\":[0.021653084084391594,0.04902796074748039,null],\"y\":[0.07488710433244705,0.1605806201696396,null],\"type\":\"scatter\"},{\"hoverinfo\":\"none\",\"line\":{\"color\":\"#b15928\",\"width\":1},\"mode\":\"lines\",\"x\":[0.021653084084391594,-0.0060384152457118034,null],\"y\":[0.07488710433244705,-0.0675717145204544,null],\"type\":\"scatter\"},{\"hoverinfo\":\"none\",\"line\":{\"color\":\"#b15928\",\"width\":1},\"mode\":\"lines\",\"x\":[0.021653084084391594,0.004102249629795551,null],\"y\":[0.07488710433244705,0.16805937886238098,null],\"type\":\"scatter\"},{\"hoverinfo\":\"none\",\"line\":{\"color\":\"#b15928\",\"width\":1},\"mode\":\"lines\",\"x\":[0.021653084084391594,-0.01735714077949524,null],\"y\":[0.07488710433244705,-0.007083676755428314,null],\"type\":\"scatter\"},{\"hoverinfo\":\"none\",\"line\":{\"color\":\"#b15928\",\"width\":1},\"mode\":\"lines\",\"x\":[0.021653084084391594,-0.029671821743249893,null],\"y\":[0.07488710433244705,-0.022692063823342323,null],\"type\":\"scatter\"},{\"hoverinfo\":\"none\",\"line\":{\"color\":\"#b15928\",\"width\":1},\"mode\":\"lines\",\"x\":[0.021653084084391594,0.015573604963719845,null],\"y\":[0.07488710433244705,0.11988814175128937,null],\"type\":\"scatter\"},{\"hoverinfo\":\"none\",\"line\":{\"color\":\"#b15928\",\"width\":1},\"mode\":\"lines\",\"x\":[0.021653084084391594,-0.0029857978224754333,null],\"y\":[0.07488710433244705,0.18348848819732666,null],\"type\":\"scatter\"},{\"hoverinfo\":\"none\",\"line\":{\"color\":\"#b15928\",\"width\":1},\"mode\":\"lines\",\"x\":[0.021653084084391594,0.08337628841400146,null],\"y\":[0.07488710433244705,0.1041904166340828,null],\"type\":\"scatter\"},{\"hoverinfo\":\"none\",\"line\":{\"color\":\"#b15928\",\"width\":1},\"mode\":\"lines\",\"x\":[0.021653084084391594,0.12034773081541061,null],\"y\":[0.07488710433244705,0.16902606189250946,null],\"type\":\"scatter\"},{\"hoverinfo\":\"none\",\"line\":{\"color\":\"#b15928\",\"width\":1},\"mode\":\"lines\",\"x\":[0.021653084084391594,0.06364957988262177,null],\"y\":[0.07488710433244705,0.09079373627901077,null],\"type\":\"scatter\"},{\"hoverinfo\":\"none\",\"line\":{\"color\":\"#b15928\",\"width\":1},\"mode\":\"lines\",\"x\":[0.021653084084391594,0.03171106427907944,null],\"y\":[0.07488710433244705,0.13059236109256744,null],\"type\":\"scatter\"},{\"hoverinfo\":\"none\",\"line\":{\"color\":\"#b15928\",\"width\":1},\"mode\":\"lines\",\"x\":[0.021653084084391594,0.03639078140258789,null],\"y\":[0.07488710433244705,0.15977177023887634,null],\"type\":\"scatter\"},{\"hoverinfo\":\"none\",\"line\":{\"color\":\"#b15928\",\"width\":1},\"mode\":\"lines\",\"x\":[0.021653084084391594,-0.010308495722711086,null],\"y\":[0.07488710433244705,0.15263107419013977,null],\"type\":\"scatter\"},{\"hoverinfo\":\"none\",\"line\":{\"color\":\"#b15928\",\"width\":1},\"mode\":\"lines\",\"x\":[0.021653084084391594,0.01397229265421629,null],\"y\":[0.07488710433244705,-0.0034447722136974335,null],\"type\":\"scatter\"},{\"hoverinfo\":\"none\",\"line\":{\"color\":\"#b15928\",\"width\":1},\"mode\":\"lines\",\"x\":[0.021653084084391594,0.012168542481958866,null],\"y\":[0.07488710433244705,-0.014375898987054825,null],\"type\":\"scatter\"},{\"hoverinfo\":\"none\",\"line\":{\"color\":\"#b15928\",\"width\":1},\"mode\":\"lines\",\"x\":[0.021653084084391594,-0.040370188653469086,null],\"y\":[0.07488710433244705,0.093656525015831,null],\"type\":\"scatter\"},{\"hoverinfo\":\"none\",\"line\":{\"color\":\"#b15928\",\"width\":1},\"mode\":\"lines\",\"x\":[0.021653084084391594,0.023454157635569572,null],\"y\":[0.07488710433244705,-0.010296453721821308,null],\"type\":\"scatter\"},{\"hoverinfo\":\"none\",\"line\":{\"color\":\"#b15928\",\"width\":1},\"mode\":\"lines\",\"x\":[0.021653084084391594,0.05407603457570076,null],\"y\":[0.07488710433244705,0.21155129373073578,null],\"type\":\"scatter\"},{\"hoverinfo\":\"none\",\"line\":{\"color\":\"#b15928\",\"width\":1},\"mode\":\"lines\",\"x\":[0.021653084084391594,-0.011981403455138206,null],\"y\":[0.07488710433244705,0.19246962666511536,null],\"type\":\"scatter\"},{\"hoverinfo\":\"none\",\"line\":{\"color\":\"#b15928\",\"width\":1},\"mode\":\"lines\",\"x\":[0.021653084084391594,0.06977780163288116,null],\"y\":[0.07488710433244705,0.04905867576599121,null],\"type\":\"scatter\"},{\"hoverinfo\":\"none\",\"line\":{\"color\":\"#b15928\",\"width\":1},\"mode\":\"lines\",\"x\":[0.021653084084391594,0.08447082340717316,null],\"y\":[0.07488710433244705,0.053595248609781265,null],\"type\":\"scatter\"},{\"hoverinfo\":\"none\",\"line\":{\"color\":\"#b15928\",\"width\":1},\"mode\":\"lines\",\"x\":[0.021653084084391594,0.05710279569029808,null],\"y\":[0.07488710433244705,0.09787439554929733,null],\"type\":\"scatter\"},{\"hoverinfo\":\"none\",\"line\":{\"color\":\"#b15928\",\"width\":1},\"mode\":\"lines\",\"x\":[0.021653084084391594,0.08719430863857269,null],\"y\":[0.07488710433244705,0.19723191857337952,null],\"type\":\"scatter\"},{\"hoverinfo\":\"none\",\"line\":{\"color\":\"#b15928\",\"width\":1},\"mode\":\"lines\",\"x\":[0.021653084084391594,-0.003736877581104636,null],\"y\":[0.07488710433244705,0.004882264882326126,null],\"type\":\"scatter\"},{\"hoverinfo\":\"none\",\"line\":{\"color\":\"#b15928\",\"width\":1},\"mode\":\"lines\",\"x\":[0.021653084084391594,0.025168217718601227,null],\"y\":[0.07488710433244705,0.21615482866764069,null],\"type\":\"scatter\"},{\"hoverinfo\":\"none\",\"line\":{\"color\":\"#b15928\",\"width\":1},\"mode\":\"lines\",\"x\":[0.021653084084391594,0.032215092331171036,null],\"y\":[0.07488710433244705,0.11567206680774689,null],\"type\":\"scatter\"},{\"hoverinfo\":\"none\",\"line\":{\"color\":\"#b15928\",\"width\":1},\"mode\":\"lines\",\"x\":[0.021653084084391594,0.006287303753197193,null],\"y\":[0.07488710433244705,0.15128359198570251,null],\"type\":\"scatter\"},{\"hoverinfo\":\"none\",\"line\":{\"color\":\"#b15928\",\"width\":1},\"mode\":\"lines\",\"x\":[0.021653084084391594,0.06683623045682907,null],\"y\":[0.07488710433244705,0.1488601714372635,null],\"type\":\"scatter\"},{\"hoverinfo\":\"none\",\"line\":{\"color\":\"#b15928\",\"width\":1},\"mode\":\"lines\",\"x\":[0.021653084084391594,-0.010500005446374416,null],\"y\":[0.07488710433244705,-0.05525897815823555,null],\"type\":\"scatter\"},{\"hoverinfo\":\"none\",\"line\":{\"color\":\"#b15928\",\"width\":1},\"mode\":\"lines\",\"x\":[0.021653084084391594,0.06780579686164856,null],\"y\":[0.07488710433244705,0.1266535073518753,null],\"type\":\"scatter\"},{\"hoverinfo\":\"none\",\"line\":{\"color\":\"#b15928\",\"width\":1},\"mode\":\"lines\",\"x\":[0.021653084084391594,0.009927541017532349,null],\"y\":[0.07488710433244705,-0.045905955135822296,null],\"type\":\"scatter\"},{\"hoverinfo\":\"none\",\"line\":{\"color\":\"#b15928\",\"width\":1},\"mode\":\"lines\",\"x\":[0.021653084084391594,0.028283098712563515,null],\"y\":[0.07488710433244705,0.0005642577889375389,null],\"type\":\"scatter\"},{\"hoverinfo\":\"none\",\"line\":{\"color\":\"#b15928\",\"width\":1},\"mode\":\"lines\",\"x\":[0.021653084084391594,-0.04614865779876709,null],\"y\":[0.07488710433244705,0.17294743657112122,null],\"type\":\"scatter\"},{\"hoverinfo\":\"none\",\"line\":{\"color\":\"#b15928\",\"width\":1},\"mode\":\"lines\",\"x\":[0.021653084084391594,0.04816058278083801,null],\"y\":[0.07488710433244705,0.19603411853313446,null],\"type\":\"scatter\"},{\"hoverinfo\":\"none\",\"line\":{\"color\":\"#b15928\",\"width\":1},\"mode\":\"lines\",\"x\":[0.021653084084391594,0.028408236801624298,null],\"y\":[0.07488710433244705,0.20008818805217743,null],\"type\":\"scatter\"},{\"hoverinfo\":\"none\",\"line\":{\"color\":\"#b15928\",\"width\":1},\"mode\":\"lines\",\"x\":[0.021653084084391594,0.0453244112432003,null],\"y\":[0.07488710433244705,0.10418864339590073,null],\"type\":\"scatter\"},{\"hoverinfo\":\"none\",\"line\":{\"color\":\"#b15928\",\"width\":1},\"mode\":\"lines\",\"x\":[0.021653084084391594,0.03297693282365799,null],\"y\":[0.07488710433244705,0.18428556621074677,null],\"type\":\"scatter\"},{\"hoverinfo\":\"none\",\"line\":{\"color\":\"#b15928\",\"width\":1},\"mode\":\"lines\",\"x\":[0.021653084084391594,0.012980639934539795,null],\"y\":[0.07488710433244705,0.1643255203962326,null],\"type\":\"scatter\"},{\"hoverinfo\":\"none\",\"line\":{\"color\":\"#b15928\",\"width\":1},\"mode\":\"lines\",\"x\":[0.021653084084391594,0.04054402932524681,null],\"y\":[0.07488710433244705,0.21459001302719116,null],\"type\":\"scatter\"},{\"hoverinfo\":\"none\",\"line\":{\"color\":\"#b15928\",\"width\":1},\"mode\":\"lines\",\"x\":[0.021653084084391594,-0.023312082514166832,null],\"y\":[0.07488710433244705,0.016025826334953308,null],\"type\":\"scatter\"},{\"hoverinfo\":\"none\",\"line\":{\"color\":\"#b15928\",\"width\":1},\"mode\":\"lines\",\"x\":[0.021653084084391594,0.029043344780802727,null],\"y\":[0.07488710433244705,0.1691380888223648,null],\"type\":\"scatter\"},{\"hoverinfo\":\"none\",\"line\":{\"color\":\"#b15928\",\"width\":1},\"mode\":\"lines\",\"x\":[0.021653084084391594,0.07780714333057404,null],\"y\":[0.07488710433244705,0.15579207241535187,null],\"type\":\"scatter\"},{\"hoverinfo\":\"none\",\"line\":{\"color\":\"#b15928\",\"width\":1},\"mode\":\"lines\",\"x\":[0.021653084084391594,0.11517702788114548,null],\"y\":[0.07488710433244705,0.14798413217067719,null],\"type\":\"scatter\"},{\"hoverinfo\":\"none\",\"line\":{\"color\":\"#b15928\",\"width\":1},\"mode\":\"lines\",\"x\":[0.021653084084391594,0.05321650207042694,null],\"y\":[0.07488710433244705,-0.02806856483221054,null],\"type\":\"scatter\"},{\"hoverinfo\":\"none\",\"line\":{\"color\":\"#b15928\",\"width\":1},\"mode\":\"lines\",\"x\":[0.021653084084391594,0.022403957322239876,null],\"y\":[0.07488710433244705,0.15988971292972565,null],\"type\":\"scatter\"},{\"hoverinfo\":\"none\",\"line\":{\"color\":\"#b15928\",\"width\":1},\"mode\":\"lines\",\"x\":[0.021653084084391594,0.004988039843738079,null],\"y\":[0.07488710433244705,0.2151622474193573,null],\"type\":\"scatter\"},{\"hoverinfo\":\"none\",\"line\":{\"color\":\"#b15928\",\"width\":1},\"mode\":\"lines\",\"x\":[0.021653084084391594,0.006899488158524036,null],\"y\":[0.07488710433244705,-0.05337626859545708,null],\"type\":\"scatter\"},{\"hoverinfo\":\"none\",\"line\":{\"color\":\"#b15928\",\"width\":1},\"mode\":\"lines\",\"x\":[0.021653084084391594,0.05852070823311806,null],\"y\":[0.07488710433244705,0.1782151609659195,null],\"type\":\"scatter\"},{\"hoverinfo\":\"none\",\"line\":{\"color\":\"#b15928\",\"width\":1},\"mode\":\"lines\",\"x\":[0.021653084084391594,-0.037056129425764084,null],\"y\":[0.07488710433244705,0.1857951283454895,null],\"type\":\"scatter\"},{\"hoverinfo\":\"none\",\"line\":{\"color\":\"#b15928\",\"width\":1},\"mode\":\"lines\",\"x\":[0.021653084084391594,0.06870272010564804,null],\"y\":[0.07488710433244705,0.1633482128381729,null],\"type\":\"scatter\"},{\"hoverinfo\":\"none\",\"line\":{\"color\":\"#b15928\",\"width\":1},\"mode\":\"lines\",\"x\":[0.021653084084391594,0.10819666087627411,null],\"y\":[0.07488710433244705,0.13092924654483795,null],\"type\":\"scatter\"},{\"hoverinfo\":\"none\",\"line\":{\"color\":\"#b15928\",\"width\":1},\"mode\":\"lines\",\"x\":[0.021653084084391594,-0.033430203795433044,null],\"y\":[0.07488710433244705,0.17339883744716644,null],\"type\":\"scatter\"},{\"hoverinfo\":\"none\",\"line\":{\"color\":\"#b15928\",\"width\":1},\"mode\":\"lines\",\"x\":[0.021653084084391594,-0.004070440772920847,null],\"y\":[0.07488710433244705,0.20035752654075623,null],\"type\":\"scatter\"},{\"hoverinfo\":\"none\",\"line\":{\"color\":\"#b15928\",\"width\":1},\"mode\":\"lines\",\"x\":[0.021653084084391594,-0.017336739227175713,null],\"y\":[0.07488710433244705,0.002871772740036249,null],\"type\":\"scatter\"},{\"hoverinfo\":\"none\",\"line\":{\"color\":\"#b15928\",\"width\":1},\"mode\":\"lines\",\"x\":[0.021653084084391594,0.08463793992996216,null],\"y\":[0.07488710433244705,0.17459870874881744,null],\"type\":\"scatter\"},{\"hoverinfo\":\"none\",\"line\":{\"color\":\"#b15928\",\"width\":1},\"mode\":\"lines\",\"x\":[0.021653084084391594,0.09258591383695602,null],\"y\":[0.07488710433244705,0.12561416625976562,null],\"type\":\"scatter\"},{\"hoverinfo\":\"none\",\"line\":{\"color\":\"#b15928\",\"width\":1},\"mode\":\"lines\",\"x\":[0.021653084084391594,0.12313637137413025,null],\"y\":[0.07488710433244705,0.1391933262348175,null],\"type\":\"scatter\"},{\"hoverinfo\":\"none\",\"line\":{\"color\":\"#b15928\",\"width\":1},\"mode\":\"lines\",\"x\":[0.021653084084391594,-0.02715115062892437,null],\"y\":[0.07488710433244705,0.1885957270860672,null],\"type\":\"scatter\"},{\"hoverinfo\":\"none\",\"line\":{\"color\":\"#b15928\",\"width\":1},\"mode\":\"lines\",\"x\":[0.021653084084391594,0.0577680878341198,null],\"y\":[0.07488710433244705,0.19219496846199036,null],\"type\":\"scatter\"},{\"hoverinfo\":\"none\",\"line\":{\"color\":\"#b15928\",\"width\":1},\"mode\":\"lines\",\"x\":[0.021653084084391594,0.10190749913454056,null],\"y\":[0.07488710433244705,0.1430470198392868,null],\"type\":\"scatter\"},{\"hoverinfo\":\"none\",\"line\":{\"color\":\"#b15928\",\"width\":1},\"mode\":\"lines\",\"x\":[0.021653084084391594,-0.04203881323337555,null],\"y\":[0.07488710433244705,0.16134047508239746,null],\"type\":\"scatter\"},{\"hoverinfo\":\"none\",\"line\":{\"color\":\"#b15928\",\"width\":1},\"mode\":\"lines\",\"x\":[0.021653084084391594,0.052648965269327164,null],\"y\":[0.07488710433244705,0.13834339380264282,null],\"type\":\"scatter\"},{\"hoverinfo\":\"none\",\"line\":{\"color\":\"#b15928\",\"width\":1},\"mode\":\"lines\",\"x\":[0.021653084084391594,0.026237595826387405,null],\"y\":[0.07488710433244705,-0.041808512061834335,null],\"type\":\"scatter\"},{\"hoverinfo\":\"none\",\"line\":{\"color\":\"#b15928\",\"width\":1},\"mode\":\"lines\",\"x\":[0.021653084084391594,0.044583916664123535,null],\"y\":[0.07488710433244705,0.17375479638576508,null],\"type\":\"scatter\"},{\"hoverinfo\":\"none\",\"line\":{\"color\":\"#b15928\",\"width\":1},\"mode\":\"lines\",\"x\":[0.021653084084391594,0.019106177613139153,null],\"y\":[0.07488710433244705,0.19517891108989716,null],\"type\":\"scatter\"},{\"hoverinfo\":\"none\",\"line\":{\"color\":\"#b15928\",\"width\":1},\"mode\":\"lines\",\"x\":[0.021653084084391594,0.10286802053451538,null],\"y\":[0.07488710433244705,0.18343062698841095,null],\"type\":\"scatter\"},{\"hoverinfo\":\"none\",\"line\":{\"color\":\"#b15928\",\"width\":1},\"mode\":\"lines\",\"x\":[0.021653084084391594,0.005565596278756857,null],\"y\":[0.07488710433244705,0.1958310902118683,null],\"type\":\"scatter\"},{\"hoverinfo\":\"none\",\"line\":{\"color\":\"#b15928\",\"width\":1},\"mode\":\"lines\",\"x\":[0.021653084084391594,-0.05774930492043495,null],\"y\":[0.07488710433244705,0.16860274970531464,null],\"type\":\"scatter\"},{\"hoverinfo\":\"none\",\"line\":{\"color\":\"#b15928\",\"width\":1},\"mode\":\"lines\",\"x\":[0.021653084084391594,-0.04784736409783363,null],\"y\":[0.07488710433244705,0.19531641900539398,null],\"type\":\"scatter\"},{\"hoverinfo\":\"none\",\"line\":{\"color\":\"#b15928\",\"width\":1},\"mode\":\"lines\",\"x\":[0.021653084084391594,0.0773555189371109,null],\"y\":[0.07488710433244705,0.20300719141960144,null],\"type\":\"scatter\"},{\"hoverinfo\":\"none\",\"line\":{\"color\":\"#b15928\",\"width\":1},\"mode\":\"lines\",\"x\":[2.5307354007964022e-05,0.00866764783859253,null],\"y\":[0.05855804681777954,0.07544486969709396,null],\"type\":\"scatter\"},{\"hoverinfo\":\"none\",\"line\":{\"color\":\"#b15928\",\"width\":1},\"mode\":\"lines\",\"x\":[2.5307354007964022e-05,0.0031600536312907934,null],\"y\":[0.05855804681777954,-0.017133142799139023,null],\"type\":\"scatter\"},{\"hoverinfo\":\"none\",\"line\":{\"color\":\"#b15928\",\"width\":1},\"mode\":\"lines\",\"x\":[2.5307354007964022e-05,-0.019428802654147148,null],\"y\":[0.05855804681777954,0.08623397350311279,null],\"type\":\"scatter\"},{\"hoverinfo\":\"none\",\"line\":{\"color\":\"#b15928\",\"width\":1},\"mode\":\"lines\",\"x\":[2.5307354007964022e-05,-0.004239080008119345,null],\"y\":[0.05855804681777954,0.037790849804878235,null],\"type\":\"scatter\"},{\"hoverinfo\":\"none\",\"line\":{\"color\":\"#b15928\",\"width\":1},\"mode\":\"lines\",\"x\":[2.5307354007964022e-05,-0.003515766002237797,null],\"y\":[0.05855804681777954,0.0711095780134201,null],\"type\":\"scatter\"},{\"hoverinfo\":\"none\",\"line\":{\"color\":\"#b15928\",\"width\":1},\"mode\":\"lines\",\"x\":[2.5307354007964022e-05,-0.053003836423158646,null],\"y\":[0.05855804681777954,0.06294642388820648,null],\"type\":\"scatter\"},{\"hoverinfo\":\"none\",\"line\":{\"color\":\"#b15928\",\"width\":1},\"mode\":\"lines\",\"x\":[2.5307354007964022e-05,-0.0950717031955719,null],\"y\":[0.05855804681777954,0.12136244028806686,null],\"type\":\"scatter\"},{\"hoverinfo\":\"none\",\"line\":{\"color\":\"#b15928\",\"width\":1},\"mode\":\"lines\",\"x\":[2.5307354007964022e-05,0.07621454447507858,null],\"y\":[0.05855804681777954,0.03477798402309418,null],\"type\":\"scatter\"},{\"hoverinfo\":\"none\",\"line\":{\"color\":\"#b15928\",\"width\":1},\"mode\":\"lines\",\"x\":[2.5307354007964022e-05,0.025569748133420944,null],\"y\":[0.05855804681777954,0.05717584490776062,null],\"type\":\"scatter\"},{\"hoverinfo\":\"none\",\"line\":{\"color\":\"#b15928\",\"width\":1},\"mode\":\"lines\",\"x\":[2.5307354007964022e-05,0.04043589532375336,null],\"y\":[0.05855804681777954,0.022377535700798035,null],\"type\":\"scatter\"},{\"hoverinfo\":\"none\",\"line\":{\"color\":\"#b15928\",\"width\":1},\"mode\":\"lines\",\"x\":[2.5307354007964022e-05,0.04943536967039108,null],\"y\":[0.05855804681777954,0.04042082652449608,null],\"type\":\"scatter\"},{\"hoverinfo\":\"none\",\"line\":{\"color\":\"#b15928\",\"width\":1},\"mode\":\"lines\",\"x\":[2.5307354007964022e-05,-0.09629089385271072,null],\"y\":[0.05855804681777954,0.08682266622781754,null],\"type\":\"scatter\"},{\"hoverinfo\":\"none\",\"line\":{\"color\":\"#b15928\",\"width\":1},\"mode\":\"lines\",\"x\":[2.5307354007964022e-05,-0.08174864202737808,null],\"y\":[0.05855804681777954,0.11179433763027191,null],\"type\":\"scatter\"},{\"hoverinfo\":\"none\",\"line\":{\"color\":\"#b15928\",\"width\":1},\"mode\":\"lines\",\"x\":[2.5307354007964022e-05,0.0279057826846838,null],\"y\":[0.05855804681777954,0.040724098682403564,null],\"type\":\"scatter\"},{\"hoverinfo\":\"none\",\"line\":{\"color\":\"#b15928\",\"width\":1},\"mode\":\"lines\",\"x\":[2.5307354007964022e-05,0.0008833205793052912,null],\"y\":[0.05855804681777954,0.02273876592516899,null],\"type\":\"scatter\"},{\"hoverinfo\":\"none\",\"line\":{\"color\":\"#b15928\",\"width\":1},\"mode\":\"lines\",\"x\":[2.5307354007964022e-05,-0.009411833249032497,null],\"y\":[0.05855804681777954,-0.09530764818191528,null],\"type\":\"scatter\"},{\"hoverinfo\":\"none\",\"line\":{\"color\":\"#b15928\",\"width\":1},\"mode\":\"lines\",\"x\":[2.5307354007964022e-05,0.017234154045581818,null],\"y\":[0.05855804681777954,0.04543225094676018,null],\"type\":\"scatter\"},{\"hoverinfo\":\"none\",\"line\":{\"color\":\"#b15928\",\"width\":1},\"mode\":\"lines\",\"x\":[2.5307354007964022e-05,0.010802186094224453,null],\"y\":[0.05855804681777954,0.08239195495843887,null],\"type\":\"scatter\"},{\"hoverinfo\":\"none\",\"line\":{\"color\":\"#b15928\",\"width\":1},\"mode\":\"lines\",\"x\":[2.5307354007964022e-05,0.0028257581871002913,null],\"y\":[0.05855804681777954,0.07217016816139221,null],\"type\":\"scatter\"},{\"hoverinfo\":\"none\",\"line\":{\"color\":\"#b15928\",\"width\":1},\"mode\":\"lines\",\"x\":[2.5307354007964022e-05,0.02563965879380703,null],\"y\":[0.05855804681777954,0.06867792457342148,null],\"type\":\"scatter\"},{\"hoverinfo\":\"none\",\"line\":{\"color\":\"#b15928\",\"width\":1},\"mode\":\"lines\",\"x\":[2.5307354007964022e-05,-0.08707798272371292,null],\"y\":[0.05855804681777954,0.13171596825122833,null],\"type\":\"scatter\"},{\"hoverinfo\":\"none\",\"line\":{\"color\":\"#b15928\",\"width\":1},\"mode\":\"lines\",\"x\":[2.5307354007964022e-05,0.05031382665038109,null],\"y\":[0.05855804681777954,0.02585100196301937,null],\"type\":\"scatter\"},{\"hoverinfo\":\"none\",\"line\":{\"color\":\"#b15928\",\"width\":1},\"mode\":\"lines\",\"x\":[2.5307354007964022e-05,-0.07964703440666199,null],\"y\":[0.05855804681777954,0.1483251303434372,null],\"type\":\"scatter\"},{\"hoverinfo\":\"none\",\"line\":{\"color\":\"#b15928\",\"width\":1},\"mode\":\"lines\",\"x\":[2.5307354007964022e-05,-0.0010009079705923796,null],\"y\":[0.05855804681777954,-0.05243607237935066,null],\"type\":\"scatter\"},{\"hoverinfo\":\"none\",\"line\":{\"color\":\"#b15928\",\"width\":1},\"mode\":\"lines\",\"x\":[2.5307354007964022e-05,-0.009177794679999352,null],\"y\":[0.05855804681777954,0.10478756576776505,null],\"type\":\"scatter\"},{\"hoverinfo\":\"none\",\"line\":{\"color\":\"#b15928\",\"width\":1},\"mode\":\"lines\",\"x\":[2.5307354007964022e-05,-0.028187397867441177,null],\"y\":[0.05855804681777954,0.01833406277000904,null],\"type\":\"scatter\"},{\"hoverinfo\":\"none\",\"line\":{\"color\":\"#b15928\",\"width\":1},\"mode\":\"lines\",\"x\":[2.5307354007964022e-05,-0.013280787505209446,null],\"y\":[0.05855804681777954,0.06461293250322342,null],\"type\":\"scatter\"},{\"hoverinfo\":\"none\",\"line\":{\"color\":\"#b15928\",\"width\":1},\"mode\":\"lines\",\"x\":[2.5307354007964022e-05,0.014455022290349007,null],\"y\":[0.05855804681777954,0.08197908103466034,null],\"type\":\"scatter\"},{\"hoverinfo\":\"none\",\"line\":{\"color\":\"#b15928\",\"width\":1},\"mode\":\"lines\",\"x\":[2.5307354007964022e-05,-0.11404864490032196,null],\"y\":[0.05855804681777954,0.0793866515159607,null],\"type\":\"scatter\"},{\"hoverinfo\":\"none\",\"line\":{\"color\":\"#b15928\",\"width\":1},\"mode\":\"lines\",\"x\":[2.5307354007964022e-05,-0.017336739227175713,null],\"y\":[0.05855804681777954,0.002871772740036249,null],\"type\":\"scatter\"},{\"hoverinfo\":\"none\",\"line\":{\"color\":\"#b15928\",\"width\":1},\"mode\":\"lines\",\"x\":[2.5307354007964022e-05,0.11428499966859818,null],\"y\":[0.05855804681777954,0.06138763949275017,null],\"type\":\"scatter\"},{\"hoverinfo\":\"none\",\"line\":{\"color\":\"#b15928\",\"width\":1},\"mode\":\"lines\",\"x\":[2.5307354007964022e-05,0.0062402402982115746,null],\"y\":[0.05855804681777954,0.019644493237137794,null],\"type\":\"scatter\"},{\"hoverinfo\":\"none\",\"line\":{\"color\":\"#b15928\",\"width\":1},\"mode\":\"lines\",\"x\":[-0.004239080008119345,0.00866764783859253,null],\"y\":[0.037790849804878235,0.07544486969709396,null],\"type\":\"scatter\"},{\"hoverinfo\":\"none\",\"line\":{\"color\":\"#b15928\",\"width\":1},\"mode\":\"lines\",\"x\":[-0.004239080008119345,-0.009411833249032497,null],\"y\":[0.037790849804878235,-0.09530764818191528,null],\"type\":\"scatter\"},{\"hoverinfo\":\"none\",\"line\":{\"color\":\"#b15928\",\"width\":1},\"mode\":\"lines\",\"x\":[-0.004239080008119345,-0.0010009079705923796,null],\"y\":[0.037790849804878235,-0.05243607237935066,null],\"type\":\"scatter\"},{\"hoverinfo\":\"none\",\"line\":{\"color\":\"#b15928\",\"width\":1},\"mode\":\"lines\",\"x\":[-0.004239080008119345,-0.00674491235986352,null],\"y\":[0.037790849804878235,0.045609381049871445,null],\"type\":\"scatter\"},{\"hoverinfo\":\"none\",\"line\":{\"color\":\"#b15928\",\"width\":1},\"mode\":\"lines\",\"x\":[-0.004239080008119345,0.04043589532375336,null],\"y\":[0.037790849804878235,0.022377535700798035,null],\"type\":\"scatter\"},{\"hoverinfo\":\"none\",\"line\":{\"color\":\"#b15928\",\"width\":1},\"mode\":\"lines\",\"x\":[-0.004239080008119345,0.017234154045581818,null],\"y\":[0.037790849804878235,0.04543225094676018,null],\"type\":\"scatter\"},{\"hoverinfo\":\"none\",\"line\":{\"color\":\"#b15928\",\"width\":1},\"mode\":\"lines\",\"x\":[-0.004239080008119345,-0.004239080008119345,null],\"y\":[0.037790849804878235,0.037790849804878235,null],\"type\":\"scatter\"},{\"hoverinfo\":\"none\",\"line\":{\"color\":\"#b15928\",\"width\":1},\"mode\":\"lines\",\"x\":[-0.004239080008119345,-0.003515766002237797,null],\"y\":[0.037790849804878235,0.0711095780134201,null],\"type\":\"scatter\"},{\"hoverinfo\":\"none\",\"line\":{\"color\":\"#b15928\",\"width\":1},\"mode\":\"lines\",\"x\":[-0.004239080008119345,0.04943536967039108,null],\"y\":[0.037790849804878235,0.04042082652449608,null],\"type\":\"scatter\"},{\"hoverinfo\":\"none\",\"line\":{\"color\":\"#b15928\",\"width\":1},\"mode\":\"lines\",\"x\":[-0.004239080008119345,0.0008833205793052912,null],\"y\":[0.037790849804878235,0.02273876592516899,null],\"type\":\"scatter\"},{\"hoverinfo\":\"none\",\"line\":{\"color\":\"#b15928\",\"width\":1},\"mode\":\"lines\",\"x\":[-0.004239080008119345,0.021972890943288803,null],\"y\":[0.037790849804878235,0.051031600683927536,null],\"type\":\"scatter\"},{\"hoverinfo\":\"none\",\"line\":{\"color\":\"#b15928\",\"width\":1},\"mode\":\"lines\",\"x\":[-0.004239080008119345,0.0279057826846838,null],\"y\":[0.037790849804878235,0.040724098682403564,null],\"type\":\"scatter\"},{\"hoverinfo\":\"none\",\"line\":{\"color\":\"#b15928\",\"width\":1},\"mode\":\"lines\",\"x\":[-0.004239080008119345,-0.06624762713909149,null],\"y\":[0.037790849804878235,0.05385256186127663,null],\"type\":\"scatter\"},{\"hoverinfo\":\"none\",\"line\":{\"color\":\"#b15928\",\"width\":1},\"mode\":\"lines\",\"x\":[-0.004239080008119345,0.0028257581871002913,null],\"y\":[0.037790849804878235,0.07217016816139221,null],\"type\":\"scatter\"},{\"hoverinfo\":\"none\",\"line\":{\"color\":\"#b15928\",\"width\":1},\"mode\":\"lines\",\"x\":[-0.004239080008119345,-0.01735714077949524,null],\"y\":[0.037790849804878235,-0.007083676755428314,null],\"type\":\"scatter\"},{\"hoverinfo\":\"none\",\"line\":{\"color\":\"#b15928\",\"width\":1},\"mode\":\"lines\",\"x\":[-0.004239080008119345,0.11015378683805466,null],\"y\":[0.037790849804878235,0.0816793292760849,null],\"type\":\"scatter\"},{\"hoverinfo\":\"none\",\"line\":{\"color\":\"#b15928\",\"width\":1},\"mode\":\"lines\",\"x\":[-0.004239080008119345,-0.040370188653469086,null],\"y\":[0.037790849804878235,0.093656525015831,null],\"type\":\"scatter\"},{\"hoverinfo\":\"none\",\"line\":{\"color\":\"#b15928\",\"width\":1},\"mode\":\"lines\",\"x\":[-0.004239080008119345,-0.07235895097255707,null],\"y\":[0.037790849804878235,0.0988973081111908,null],\"type\":\"scatter\"},{\"hoverinfo\":\"none\",\"line\":{\"color\":\"#b15928\",\"width\":1},\"mode\":\"lines\",\"x\":[-0.004239080008119345,-0.037273623049259186,null],\"y\":[0.037790849804878235,-0.0166777316480875,null],\"type\":\"scatter\"},{\"hoverinfo\":\"none\",\"line\":{\"color\":\"#b15928\",\"width\":1},\"mode\":\"lines\",\"x\":[-0.004239080008119345,-0.06082925945520401,null],\"y\":[0.037790849804878235,0.05018354207277298,null],\"type\":\"scatter\"},{\"hoverinfo\":\"none\",\"line\":{\"color\":\"#b15928\",\"width\":1},\"mode\":\"lines\",\"x\":[-0.004239080008119345,-0.09098842740058899,null],\"y\":[0.037790849804878235,0.05503544956445694,null],\"type\":\"scatter\"},{\"hoverinfo\":\"none\",\"line\":{\"color\":\"#b15928\",\"width\":1},\"mode\":\"lines\",\"x\":[-0.004239080008119345,-0.07729380577802658,null],\"y\":[0.037790849804878235,0.08059502393007278,null],\"type\":\"scatter\"},{\"hoverinfo\":\"none\",\"line\":{\"color\":\"#b15928\",\"width\":1},\"mode\":\"lines\",\"x\":[0.017234154045581818,-0.009411833249032497,null],\"y\":[0.04543225094676018,-0.09530764818191528,null],\"type\":\"scatter\"},{\"hoverinfo\":\"none\",\"line\":{\"color\":\"#b15928\",\"width\":1},\"mode\":\"lines\",\"x\":[0.017234154045581818,0.025569748133420944,null],\"y\":[0.04543225094676018,0.05717584490776062,null],\"type\":\"scatter\"},{\"hoverinfo\":\"none\",\"line\":{\"color\":\"#b15928\",\"width\":1},\"mode\":\"lines\",\"x\":[0.017234154045581818,-0.00674491235986352,null],\"y\":[0.04543225094676018,0.045609381049871445,null],\"type\":\"scatter\"},{\"hoverinfo\":\"none\",\"line\":{\"color\":\"#b15928\",\"width\":1},\"mode\":\"lines\",\"x\":[0.017234154045581818,0.04043589532375336,null],\"y\":[0.04543225094676018,0.022377535700798035,null],\"type\":\"scatter\"},{\"hoverinfo\":\"none\",\"line\":{\"color\":\"#b15928\",\"width\":1},\"mode\":\"lines\",\"x\":[0.017234154045581818,0.04377574473619461,null],\"y\":[0.04543225094676018,0.07973743975162506,null],\"type\":\"scatter\"},{\"hoverinfo\":\"none\",\"line\":{\"color\":\"#b15928\",\"width\":1},\"mode\":\"lines\",\"x\":[0.017234154045581818,-0.02157602645456791,null],\"y\":[0.04543225094676018,0.0981064885854721,null],\"type\":\"scatter\"},{\"hoverinfo\":\"none\",\"line\":{\"color\":\"#b15928\",\"width\":1},\"mode\":\"lines\",\"x\":[0.017234154045581818,0.022681519389152527,null],\"y\":[0.04543225094676018,0.049327507615089417,null],\"type\":\"scatter\"},{\"hoverinfo\":\"none\",\"line\":{\"color\":\"#b15928\",\"width\":1},\"mode\":\"lines\",\"x\":[0.017234154045581818,0.011239961721003056,null],\"y\":[0.04543225094676018,0.023881617933511734,null],\"type\":\"scatter\"},{\"hoverinfo\":\"none\",\"line\":{\"color\":\"#b15928\",\"width\":1},\"mode\":\"lines\",\"x\":[0.017234154045581818,0.0012960839085280895,null],\"y\":[0.04543225094676018,0.08289168030023575,null],\"type\":\"scatter\"},{\"hoverinfo\":\"none\",\"line\":{\"color\":\"#b15928\",\"width\":1},\"mode\":\"lines\",\"x\":[0.017234154045581818,0.06611188501119614,null],\"y\":[0.04543225094676018,0.011177261359989643,null],\"type\":\"scatter\"},{\"hoverinfo\":\"none\",\"line\":{\"color\":\"#b15928\",\"width\":1},\"mode\":\"lines\",\"x\":[0.017234154045581818,-0.014625443145632744,null],\"y\":[0.04543225094676018,0.10928528010845184,null],\"type\":\"scatter\"},{\"hoverinfo\":\"none\",\"line\":{\"color\":\"#b15928\",\"width\":1},\"mode\":\"lines\",\"x\":[0.017234154045581818,0.04943536967039108,null],\"y\":[0.04543225094676018,0.04042082652449608,null],\"type\":\"scatter\"},{\"hoverinfo\":\"none\",\"line\":{\"color\":\"#b15928\",\"width\":1},\"mode\":\"lines\",\"x\":[0.017234154045581818,0.009246340952813625,null],\"y\":[0.04543225094676018,0.09573113918304443,null],\"type\":\"scatter\"},{\"hoverinfo\":\"none\",\"line\":{\"color\":\"#b15928\",\"width\":1},\"mode\":\"lines\",\"x\":[0.017234154045581818,0.0028257581871002913,null],\"y\":[0.04543225094676018,0.07217016816139221,null],\"type\":\"scatter\"},{\"hoverinfo\":\"none\",\"line\":{\"color\":\"#b15928\",\"width\":1},\"mode\":\"lines\",\"x\":[0.017234154045581818,0.05179174989461899,null],\"y\":[0.04543225094676018,0.07654814422130585,null],\"type\":\"scatter\"},{\"hoverinfo\":\"none\",\"line\":{\"color\":\"#b15928\",\"width\":1},\"mode\":\"lines\",\"x\":[0.017234154045581818,0.06340015679597855,null],\"y\":[0.04543225094676018,0.07013100385665894,null],\"type\":\"scatter\"},{\"hoverinfo\":\"none\",\"line\":{\"color\":\"#b15928\",\"width\":1},\"mode\":\"lines\",\"x\":[0.017234154045581818,0.02563965879380703,null],\"y\":[0.04543225094676018,0.06867792457342148,null],\"type\":\"scatter\"},{\"hoverinfo\":\"none\",\"line\":{\"color\":\"#b15928\",\"width\":1},\"mode\":\"lines\",\"x\":[0.017234154045581818,0.017234154045581818,null],\"y\":[0.04543225094676018,0.04543225094676018,null],\"type\":\"scatter\"},{\"hoverinfo\":\"none\",\"line\":{\"color\":\"#b15928\",\"width\":1},\"mode\":\"lines\",\"x\":[0.017234154045581818,-0.003515766002237797,null],\"y\":[0.04543225094676018,0.0711095780134201,null],\"type\":\"scatter\"},{\"hoverinfo\":\"none\",\"line\":{\"color\":\"#b15928\",\"width\":1},\"mode\":\"lines\",\"x\":[-0.00674491235986352,0.025569748133420944,null],\"y\":[0.045609381049871445,0.05717584490776062,null],\"type\":\"scatter\"},{\"hoverinfo\":\"none\",\"line\":{\"color\":\"#b15928\",\"width\":1},\"mode\":\"lines\",\"x\":[-0.00674491235986352,-0.037273623049259186,null],\"y\":[0.045609381049871445,-0.0166777316480875,null],\"type\":\"scatter\"},{\"hoverinfo\":\"none\",\"line\":{\"color\":\"#b15928\",\"width\":1},\"mode\":\"lines\",\"x\":[-0.00674491235986352,0.04043589532375336,null],\"y\":[0.045609381049871445,0.022377535700798035,null],\"type\":\"scatter\"},{\"hoverinfo\":\"none\",\"line\":{\"color\":\"#b15928\",\"width\":1},\"mode\":\"lines\",\"x\":[-0.00674491235986352,0.0012960839085280895,null],\"y\":[0.045609381049871445,0.08289168030023575,null],\"type\":\"scatter\"},{\"hoverinfo\":\"none\",\"line\":{\"color\":\"#b15928\",\"width\":1},\"mode\":\"lines\",\"x\":[-0.00674491235986352,0.04966125637292862,null],\"y\":[0.045609381049871445,0.0526713989675045,null],\"type\":\"scatter\"},{\"hoverinfo\":\"none\",\"line\":{\"color\":\"#b15928\",\"width\":1},\"mode\":\"lines\",\"x\":[-0.00674491235986352,-0.06687567383050919,null],\"y\":[0.045609381049871445,0.0765421986579895,null],\"type\":\"scatter\"},{\"hoverinfo\":\"none\",\"line\":{\"color\":\"#b15928\",\"width\":1},\"mode\":\"lines\",\"x\":[-0.00674491235986352,0.07621454447507858,null],\"y\":[0.045609381049871445,0.03477798402309418,null],\"type\":\"scatter\"},{\"hoverinfo\":\"none\",\"line\":{\"color\":\"#b15928\",\"width\":1},\"mode\":\"lines\",\"x\":[-0.00674491235986352,-0.06082925945520401,null],\"y\":[0.045609381049871445,0.05018354207277298,null],\"type\":\"scatter\"},{\"hoverinfo\":\"none\",\"line\":{\"color\":\"#b15928\",\"width\":1},\"mode\":\"lines\",\"x\":[-0.00674491235986352,-0.07729380577802658,null],\"y\":[0.045609381049871445,0.08059502393007278,null],\"type\":\"scatter\"},{\"hoverinfo\":\"none\",\"line\":{\"color\":\"#b15928\",\"width\":1},\"mode\":\"lines\",\"x\":[0.04043589532375336,-0.009411833249032497,null],\"y\":[0.022377535700798035,-0.09530764818191528,null],\"type\":\"scatter\"},{\"hoverinfo\":\"none\",\"line\":{\"color\":\"#b15928\",\"width\":1},\"mode\":\"lines\",\"x\":[0.04043589532375336,-0.0010009079705923796,null],\"y\":[0.022377535700798035,-0.05243607237935066,null],\"type\":\"scatter\"},{\"hoverinfo\":\"none\",\"line\":{\"color\":\"#b15928\",\"width\":1},\"mode\":\"lines\",\"x\":[0.04043589532375336,-0.0012278436915948987,null],\"y\":[0.022377535700798035,-0.06282893568277359,null],\"type\":\"scatter\"},{\"hoverinfo\":\"none\",\"line\":{\"color\":\"#b15928\",\"width\":1},\"mode\":\"lines\",\"x\":[0.04043589532375336,0.025569748133420944,null],\"y\":[0.022377535700798035,0.05717584490776062,null],\"type\":\"scatter\"},{\"hoverinfo\":\"none\",\"line\":{\"color\":\"#b15928\",\"width\":1},\"mode\":\"lines\",\"x\":[0.04043589532375336,-0.061359044164419174,null],\"y\":[0.022377535700798035,0.011634476482868195,null],\"type\":\"scatter\"},{\"hoverinfo\":\"none\",\"line\":{\"color\":\"#b15928\",\"width\":1},\"mode\":\"lines\",\"x\":[0.04043589532375336,-0.0361969992518425,null],\"y\":[0.022377535700798035,0.11395077407360077,null],\"type\":\"scatter\"},{\"hoverinfo\":\"none\",\"line\":{\"color\":\"#b15928\",\"width\":1},\"mode\":\"lines\",\"x\":[0.04043589532375336,-0.00552947074174881,null],\"y\":[0.022377535700798035,0.11045962572097778,null],\"type\":\"scatter\"},{\"hoverinfo\":\"none\",\"line\":{\"color\":\"#b15928\",\"width\":1},\"mode\":\"lines\",\"x\":[0.04043589532375336,-0.037273623049259186,null],\"y\":[0.022377535700798035,-0.0166777316480875,null],\"type\":\"scatter\"},{\"hoverinfo\":\"none\",\"line\":{\"color\":\"#b15928\",\"width\":1},\"mode\":\"lines\",\"x\":[0.04043589532375336,0.04943536967039108,null],\"y\":[0.022377535700798035,0.04042082652449608,null],\"type\":\"scatter\"},{\"hoverinfo\":\"none\",\"line\":{\"color\":\"#b15928\",\"width\":1},\"mode\":\"lines\",\"x\":[0.04043589532375336,0.04043589532375336,null],\"y\":[0.022377535700798035,0.022377535700798035,null],\"type\":\"scatter\"},{\"hoverinfo\":\"none\",\"line\":{\"color\":\"#b15928\",\"width\":1},\"mode\":\"lines\",\"x\":[0.04043589532375336,0.0279057826846838,null],\"y\":[0.022377535700798035,0.040724098682403564,null],\"type\":\"scatter\"},{\"hoverinfo\":\"none\",\"line\":{\"color\":\"#b15928\",\"width\":1},\"mode\":\"lines\",\"x\":[0.04043589532375336,-0.053003836423158646,null],\"y\":[0.022377535700798035,0.06294642388820648,null],\"type\":\"scatter\"},{\"hoverinfo\":\"none\",\"line\":{\"color\":\"#ffff99\",\"width\":1},\"mode\":\"lines\",\"x\":[0.04043589532375336,0.06611188501119614,null],\"y\":[0.022377535700798035,0.011177261359989643,null],\"type\":\"scatter\"},{\"hoverinfo\":\"none\",\"line\":{\"color\":\"#b15928\",\"width\":1},\"mode\":\"lines\",\"x\":[0.04043589532375336,0.07436678558588028,null],\"y\":[0.022377535700798035,0.013922978192567825,null],\"type\":\"scatter\"},{\"hoverinfo\":\"none\",\"line\":{\"color\":\"#b15928\",\"width\":1},\"mode\":\"lines\",\"x\":[0.04043589532375336,0.022681519389152527,null],\"y\":[0.022377535700798035,0.049327507615089417,null],\"type\":\"scatter\"},{\"hoverinfo\":\"none\",\"line\":{\"color\":\"#b15928\",\"width\":1},\"mode\":\"lines\",\"x\":[0.04043589532375336,0.0012960839085280895,null],\"y\":[0.022377535700798035,0.08289168030023575,null],\"type\":\"scatter\"},{\"hoverinfo\":\"none\",\"line\":{\"color\":\"#b15928\",\"width\":1},\"mode\":\"lines\",\"x\":[0.04043589532375336,0.054449569433927536,null],\"y\":[0.022377535700798035,0.08344356715679169,null],\"type\":\"scatter\"},{\"hoverinfo\":\"none\",\"line\":{\"color\":\"#b15928\",\"width\":1},\"mode\":\"lines\",\"x\":[0.04043589532375336,0.04966125637292862,null],\"y\":[0.022377535700798035,0.0526713989675045,null],\"type\":\"scatter\"},{\"hoverinfo\":\"none\",\"line\":{\"color\":\"#b15928\",\"width\":1},\"mode\":\"lines\",\"x\":[0.04043589532375336,0.06340015679597855,null],\"y\":[0.022377535700798035,0.07013100385665894,null],\"type\":\"scatter\"},{\"hoverinfo\":\"none\",\"line\":{\"color\":\"#b15928\",\"width\":1},\"mode\":\"lines\",\"x\":[0.04043589532375336,0.1145307794213295,null],\"y\":[0.022377535700798035,0.07584137469530106,null],\"type\":\"scatter\"},{\"hoverinfo\":\"none\",\"line\":{\"color\":\"#b15928\",\"width\":1},\"mode\":\"lines\",\"x\":[0.04043589532375336,0.021972890943288803,null],\"y\":[0.022377535700798035,0.051031600683927536,null],\"type\":\"scatter\"},{\"hoverinfo\":\"none\",\"line\":{\"color\":\"#b15928\",\"width\":1},\"mode\":\"lines\",\"x\":[0.04043589532375336,-0.058793503791093826,null],\"y\":[0.022377535700798035,0.023034455254673958,null],\"type\":\"scatter\"},{\"hoverinfo\":\"none\",\"line\":{\"color\":\"#b15928\",\"width\":1},\"mode\":\"lines\",\"x\":[0.04043589532375336,0.08428648114204407,null],\"y\":[0.022377535700798035,0.026960067451000214,null],\"type\":\"scatter\"},{\"hoverinfo\":\"none\",\"line\":{\"color\":\"#b15928\",\"width\":1},\"mode\":\"lines\",\"x\":[0.04043589532375336,0.009246340952813625,null],\"y\":[0.022377535700798035,0.09573113918304443,null],\"type\":\"scatter\"},{\"hoverinfo\":\"none\",\"line\":{\"color\":\"#b15928\",\"width\":1},\"mode\":\"lines\",\"x\":[0.04043589532375336,0.08562422543764114,null],\"y\":[0.022377535700798035,-0.03937424346804619,null],\"type\":\"scatter\"},{\"hoverinfo\":\"none\",\"line\":{\"color\":\"#b15928\",\"width\":1},\"mode\":\"lines\",\"x\":[0.04043589532375336,0.040209438651800156,null],\"y\":[0.022377535700798035,-0.03278698772192001,null],\"type\":\"scatter\"},{\"hoverinfo\":\"none\",\"line\":{\"color\":\"#b15928\",\"width\":1},\"mode\":\"lines\",\"x\":[0.04043589532375336,0.07621454447507858,null],\"y\":[0.022377535700798035,0.03477798402309418,null],\"type\":\"scatter\"},{\"hoverinfo\":\"none\",\"line\":{\"color\":\"#b15928\",\"width\":1},\"mode\":\"lines\",\"x\":[0.04043589532375336,0.088345967233181,null],\"y\":[0.022377535700798035,-0.02072688564658165,null],\"type\":\"scatter\"},{\"hoverinfo\":\"none\",\"line\":{\"color\":\"#b15928\",\"width\":1},\"mode\":\"lines\",\"x\":[0.04043589532375336,0.09255033731460571,null],\"y\":[0.022377535700798035,0.07413111627101898,null],\"type\":\"scatter\"},{\"hoverinfo\":\"none\",\"line\":{\"color\":\"#b15928\",\"width\":1},\"mode\":\"lines\",\"x\":[0.04043589532375336,-0.06262879073619843,null],\"y\":[0.022377535700798035,0.06851179152727127,null],\"type\":\"scatter\"},{\"hoverinfo\":\"none\",\"line\":{\"color\":\"#b15928\",\"width\":1},\"mode\":\"lines\",\"x\":[0.04043589532375336,0.11297459155321121,null],\"y\":[0.022377535700798035,0.021347735077142715,null],\"type\":\"scatter\"},{\"hoverinfo\":\"none\",\"line\":{\"color\":\"#b15928\",\"width\":1},\"mode\":\"lines\",\"x\":[0.04043589532375336,-0.03971003368496895,null],\"y\":[0.022377535700798035,0.03288314491510391,null],\"type\":\"scatter\"},{\"hoverinfo\":\"none\",\"line\":{\"color\":\"#b15928\",\"width\":1},\"mode\":\"lines\",\"x\":[0.04043589532375336,0.14911679923534393,null],\"y\":[0.022377535700798035,0.00134780234657228,null],\"type\":\"scatter\"},{\"hoverinfo\":\"none\",\"line\":{\"color\":\"#b15928\",\"width\":1},\"mode\":\"lines\",\"x\":[0.04043589532375336,-0.11404864490032196,null],\"y\":[0.022377535700798035,0.0793866515159607,null],\"type\":\"scatter\"},{\"hoverinfo\":\"none\",\"line\":{\"color\":\"#b15928\",\"width\":1},\"mode\":\"lines\",\"x\":[0.04043589532375336,-0.056218210607767105,null],\"y\":[0.022377535700798035,0.06314311176538467,null],\"type\":\"scatter\"},{\"hoverinfo\":\"none\",\"line\":{\"color\":\"#b15928\",\"width\":1},\"mode\":\"lines\",\"x\":[0.04043589532375336,0.14759588241577148,null],\"y\":[0.022377535700798035,0.02502519078552723,null],\"type\":\"scatter\"},{\"hoverinfo\":\"none\",\"line\":{\"color\":\"#b15928\",\"width\":1},\"mode\":\"lines\",\"x\":[0.04043589532375336,0.08647139370441437,null],\"y\":[0.022377535700798035,0.012992375530302525,null],\"type\":\"scatter\"},{\"hoverinfo\":\"none\",\"line\":{\"color\":\"#b15928\",\"width\":1},\"mode\":\"lines\",\"x\":[0.04043589532375336,0.08163558691740036,null],\"y\":[0.022377535700798035,0.002645733067765832,null],\"type\":\"scatter\"},{\"hoverinfo\":\"none\",\"line\":{\"color\":\"#b15928\",\"width\":1},\"mode\":\"lines\",\"x\":[0.04043589532375336,0.036452848464250565,null],\"y\":[0.022377535700798035,-0.011518123559653759,null],\"type\":\"scatter\"},{\"hoverinfo\":\"none\",\"line\":{\"color\":\"#b15928\",\"width\":1},\"mode\":\"lines\",\"x\":[0.04043589532375336,0.03503832593560219,null],\"y\":[0.022377535700798035,-0.060259267687797546,null],\"type\":\"scatter\"},{\"hoverinfo\":\"none\",\"line\":{\"color\":\"#b15928\",\"width\":1},\"mode\":\"lines\",\"x\":[0.04043589532375336,0.06977780163288116,null],\"y\":[0.022377535700798035,0.04905867576599121,null],\"type\":\"scatter\"},{\"hoverinfo\":\"none\",\"line\":{\"color\":\"#b15928\",\"width\":1},\"mode\":\"lines\",\"x\":[0.04043589532375336,0.08447082340717316,null],\"y\":[0.022377535700798035,0.053595248609781265,null],\"type\":\"scatter\"},{\"hoverinfo\":\"none\",\"line\":{\"color\":\"#b15928\",\"width\":1},\"mode\":\"lines\",\"x\":[0.04043589532375336,0.16442517936229706,null],\"y\":[0.022377535700798035,0.04209135100245476,null],\"type\":\"scatter\"},{\"hoverinfo\":\"none\",\"line\":{\"color\":\"#b15928\",\"width\":1},\"mode\":\"lines\",\"x\":[0.04043589532375336,0.13661688566207886,null],\"y\":[0.022377535700798035,0.08691762387752533,null],\"type\":\"scatter\"},{\"hoverinfo\":\"none\",\"line\":{\"color\":\"#b15928\",\"width\":1},\"mode\":\"lines\",\"x\":[0.04043589532375336,-0.02189420349895954,null],\"y\":[0.022377535700798035,-0.04232972860336304,null],\"type\":\"scatter\"},{\"hoverinfo\":\"none\",\"line\":{\"color\":\"#b15928\",\"width\":1},\"mode\":\"lines\",\"x\":[0.04043589532375336,0.11428499966859818,null],\"y\":[0.022377535700798035,0.06138763949275017,null],\"type\":\"scatter\"},{\"hoverinfo\":\"none\",\"line\":{\"color\":\"#b15928\",\"width\":1},\"mode\":\"lines\",\"x\":[0.04043589532375336,0.1544070839881897,null],\"y\":[0.022377535700798035,0.10449688136577606,null],\"type\":\"scatter\"},{\"hoverinfo\":\"none\",\"line\":{\"color\":\"#b15928\",\"width\":1},\"mode\":\"lines\",\"x\":[0.04043589532375336,-0.04362308979034424,null],\"y\":[0.022377535700798035,0.07191333174705505,null],\"type\":\"scatter\"},{\"hoverinfo\":\"none\",\"line\":{\"color\":\"#b15928\",\"width\":1},\"mode\":\"lines\",\"x\":[0.04043589532375336,0.13576294481754303,null],\"y\":[0.022377535700798035,-0.0008830911247059703,null],\"type\":\"scatter\"},{\"hoverinfo\":\"none\",\"line\":{\"color\":\"#b15928\",\"width\":1},\"mode\":\"lines\",\"x\":[0.04043589532375336,0.13038703799247742,null],\"y\":[0.022377535700798035,-0.01461169682443142,null],\"type\":\"scatter\"},{\"hoverinfo\":\"none\",\"line\":{\"color\":\"#b15928\",\"width\":1},\"mode\":\"lines\",\"x\":[0.04043589532375336,0.09952220320701599,null],\"y\":[0.022377535700798035,0.002265270333737135,null],\"type\":\"scatter\"},{\"hoverinfo\":\"none\",\"line\":{\"color\":\"#b15928\",\"width\":1},\"mode\":\"lines\",\"x\":[0.04043589532375336,0.10514023900032043,null],\"y\":[0.022377535700798035,0.016685698181390762,null],\"type\":\"scatter\"},{\"hoverinfo\":\"none\",\"line\":{\"color\":\"#b15928\",\"width\":1},\"mode\":\"lines\",\"x\":[0.04043589532375336,0.11710836738348007,null],\"y\":[0.022377535700798035,0.0009321760153397918,null],\"type\":\"scatter\"},{\"hoverinfo\":\"none\",\"line\":{\"color\":\"#b15928\",\"width\":1},\"mode\":\"lines\",\"x\":[0.04043589532375336,0.10692398995161057,null],\"y\":[0.022377535700798035,0.0274745412170887,null],\"type\":\"scatter\"},{\"hoverinfo\":\"none\",\"line\":{\"color\":\"#b15928\",\"width\":1},\"mode\":\"lines\",\"x\":[0.04043589532375336,0.11547510325908661,null],\"y\":[0.022377535700798035,0.011578048579394817,null],\"type\":\"scatter\"},{\"hoverinfo\":\"none\",\"line\":{\"color\":\"#b15928\",\"width\":1},\"mode\":\"lines\",\"x\":[0.04043589532375336,0.12972775101661682,null],\"y\":[0.022377535700798035,0.041766684502363205,null],\"type\":\"scatter\"},{\"hoverinfo\":\"none\",\"line\":{\"color\":\"#b15928\",\"width\":1},\"mode\":\"lines\",\"x\":[0.04043589532375336,-0.013280787505209446,null],\"y\":[0.022377535700798035,0.06461293250322342,null],\"type\":\"scatter\"},{\"hoverinfo\":\"none\",\"line\":{\"color\":\"#b15928\",\"width\":1},\"mode\":\"lines\",\"x\":[0.04043589532375336,0.14372405409812927,null],\"y\":[0.022377535700798035,-0.012503602541983128,null],\"type\":\"scatter\"},{\"hoverinfo\":\"none\",\"line\":{\"color\":\"#b15928\",\"width\":1},\"mode\":\"lines\",\"x\":[0.04043589532375336,0.1685396134853363,null],\"y\":[0.022377535700798035,0.01607196219265461,null],\"type\":\"scatter\"},{\"hoverinfo\":\"none\",\"line\":{\"color\":\"#b15928\",\"width\":1},\"mode\":\"lines\",\"x\":[0.04043589532375336,0.07775337994098663,null],\"y\":[0.022377535700798035,0.059363096952438354,null],\"type\":\"scatter\"},{\"hoverinfo\":\"none\",\"line\":{\"color\":\"#b15928\",\"width\":1},\"mode\":\"lines\",\"x\":[0.04043589532375336,0.10364402830600739,null],\"y\":[0.022377535700798035,0.06440386921167374,null],\"type\":\"scatter\"},{\"hoverinfo\":\"none\",\"line\":{\"color\":\"#b15928\",\"width\":1},\"mode\":\"lines\",\"x\":[0.04043589532375336,0.11557093262672424,null],\"y\":[0.022377535700798035,0.03998411074280739,null],\"type\":\"scatter\"},{\"hoverinfo\":\"none\",\"line\":{\"color\":\"#b15928\",\"width\":1},\"mode\":\"lines\",\"x\":[-0.037273623049259186,-0.009411833249032497,null],\"y\":[-0.0166777316480875,-0.09530764818191528,null],\"type\":\"scatter\"},{\"hoverinfo\":\"none\",\"line\":{\"color\":\"#b15928\",\"width\":1},\"mode\":\"lines\",\"x\":[-0.037273623049259186,-0.037273623049259186,null],\"y\":[-0.0166777316480875,-0.0166777316480875,null],\"type\":\"scatter\"},{\"hoverinfo\":\"none\",\"line\":{\"color\":\"#b15928\",\"width\":1},\"mode\":\"lines\",\"x\":[-0.037273623049259186,0.036452848464250565,null],\"y\":[-0.0166777316480875,-0.011518123559653759,null],\"type\":\"scatter\"},{\"hoverinfo\":\"none\",\"line\":{\"color\":\"#b15928\",\"width\":1},\"mode\":\"lines\",\"x\":[-0.037273623049259186,-0.058793503791093826,null],\"y\":[-0.0166777316480875,0.023034455254673958,null],\"type\":\"scatter\"},{\"hoverinfo\":\"none\",\"line\":{\"color\":\"#b15928\",\"width\":1},\"mode\":\"lines\",\"x\":[-0.037273623049259186,-0.12612184882164001,null],\"y\":[-0.0166777316480875,-0.007653168868273497,null],\"type\":\"scatter\"},{\"hoverinfo\":\"none\",\"line\":{\"color\":\"#b15928\",\"width\":1},\"mode\":\"lines\",\"x\":[-0.037273623049259186,-0.16107352077960968,null],\"y\":[-0.0166777316480875,-0.01799088343977928,null],\"type\":\"scatter\"},{\"hoverinfo\":\"none\",\"line\":{\"color\":\"#b15928\",\"width\":1},\"mode\":\"lines\",\"x\":[-0.037273623049259186,-0.15863202512264252,null],\"y\":[-0.0166777316480875,-0.005432776175439358,null],\"type\":\"scatter\"},{\"hoverinfo\":\"none\",\"line\":{\"color\":\"#b15928\",\"width\":1},\"mode\":\"lines\",\"x\":[-0.037273623049259186,0.03576474264264107,null],\"y\":[-0.0166777316480875,-0.046536825597286224,null],\"type\":\"scatter\"},{\"hoverinfo\":\"none\",\"line\":{\"color\":\"#b15928\",\"width\":1},\"mode\":\"lines\",\"x\":[-0.037273623049259186,-0.05761899799108505,null],\"y\":[-0.0166777316480875,-0.006080626975744963,null],\"type\":\"scatter\"},{\"hoverinfo\":\"none\",\"line\":{\"color\":\"#b15928\",\"width\":1},\"mode\":\"lines\",\"x\":[-0.037273623049259186,-0.06262879073619843,null],\"y\":[-0.0166777316480875,0.06851179152727127,null],\"type\":\"scatter\"},{\"hoverinfo\":\"none\",\"line\":{\"color\":\"#b15928\",\"width\":1},\"mode\":\"lines\",\"x\":[-0.037273623049259186,-0.07729380577802658,null],\"y\":[-0.0166777316480875,0.08059502393007278,null],\"type\":\"scatter\"},{\"hoverinfo\":\"none\",\"line\":{\"color\":\"#b15928\",\"width\":1},\"mode\":\"lines\",\"x\":[-0.037273623049259186,-0.008871680125594139,null],\"y\":[-0.0166777316480875,-0.021061770617961884,null],\"type\":\"scatter\"},{\"hoverinfo\":\"none\",\"line\":{\"color\":\"#b15928\",\"width\":1},\"mode\":\"lines\",\"x\":[-0.037273623049259186,-0.15907633304595947,null],\"y\":[-0.0166777316480875,-0.030668260529637337,null],\"type\":\"scatter\"},{\"hoverinfo\":\"none\",\"line\":{\"color\":\"#b15928\",\"width\":1},\"mode\":\"lines\",\"x\":[-0.037273623049259186,0.06443779915571213,null],\"y\":[-0.0166777316480875,-0.07851499319076538,null],\"type\":\"scatter\"},{\"hoverinfo\":\"none\",\"line\":{\"color\":\"#b15928\",\"width\":1},\"mode\":\"lines\",\"x\":[-0.037273623049259186,-0.03971003368496895,null],\"y\":[-0.0166777316480875,0.03288314491510391,null],\"type\":\"scatter\"},{\"hoverinfo\":\"none\",\"line\":{\"color\":\"#b15928\",\"width\":1},\"mode\":\"lines\",\"x\":[-0.037273623049259186,-0.14673297107219696,null],\"y\":[-0.0166777316480875,-0.01877940073609352,null],\"type\":\"scatter\"},{\"hoverinfo\":\"none\",\"line\":{\"color\":\"#b15928\",\"width\":1},\"mode\":\"lines\",\"x\":[-0.07729380577802658,-0.17882700264453888,null],\"y\":[0.08059502393007278,0.14893774688243866,null],\"type\":\"scatter\"},{\"hoverinfo\":\"none\",\"line\":{\"color\":\"#b15928\",\"width\":1},\"mode\":\"lines\",\"x\":[-0.07729380577802658,0.11787058413028717,null],\"y\":[0.08059502393007278,-0.007035181857645512,null],\"type\":\"scatter\"},{\"hoverinfo\":\"none\",\"line\":{\"color\":\"#b15928\",\"width\":1},\"mode\":\"lines\",\"x\":[-0.07729380577802658,-0.1046290323138237,null],\"y\":[0.08059502393007278,0.14931252598762512,null],\"type\":\"scatter\"},{\"hoverinfo\":\"none\",\"line\":{\"color\":\"#b15928\",\"width\":1},\"mode\":\"lines\",\"x\":[-0.07729380577802658,-0.07729380577802658,null],\"y\":[0.08059502393007278,0.08059502393007278,null],\"type\":\"scatter\"},{\"hoverinfo\":\"none\",\"line\":{\"color\":\"#b15928\",\"width\":1},\"mode\":\"lines\",\"x\":[-0.07729380577802658,-0.16999445855617523,null],\"y\":[0.08059502393007278,0.12968073785305023,null],\"type\":\"scatter\"},{\"hoverinfo\":\"none\",\"line\":{\"color\":\"#b15928\",\"width\":1},\"mode\":\"lines\",\"x\":[-0.07729380577802658,-0.17197921872138977,null],\"y\":[0.08059502393007278,0.16033320128917694,null],\"type\":\"scatter\"},{\"hoverinfo\":\"none\",\"line\":{\"color\":\"#b15928\",\"width\":1},\"mode\":\"lines\",\"x\":[-0.07729380577802658,-0.06082925945520401,null],\"y\":[0.08059502393007278,0.05018354207277298,null],\"type\":\"scatter\"},{\"hoverinfo\":\"none\",\"line\":{\"color\":\"#b15928\",\"width\":1},\"mode\":\"lines\",\"x\":[-0.07729380577802658,-0.18739506602287292,null],\"y\":[0.08059502393007278,0.13721121847629547,null],\"type\":\"scatter\"},{\"hoverinfo\":\"none\",\"line\":{\"color\":\"#b15928\",\"width\":1},\"mode\":\"lines\",\"x\":[0.00866764783859253,0.022681519389152527,null],\"y\":[0.07544486969709396,0.049327507615089417,null],\"type\":\"scatter\"},{\"hoverinfo\":\"none\",\"line\":{\"color\":\"#b15928\",\"width\":1},\"mode\":\"lines\",\"x\":[0.0031600536312907934,-0.009411833249032497,null],\"y\":[-0.017133142799139023,-0.09530764818191528,null],\"type\":\"scatter\"},{\"hoverinfo\":\"none\",\"line\":{\"color\":\"#b15928\",\"width\":1},\"mode\":\"lines\",\"x\":[0.0031600536312907934,-0.0010009079705923796,null],\"y\":[-0.017133142799139023,-0.05243607237935066,null],\"type\":\"scatter\"},{\"hoverinfo\":\"none\",\"line\":{\"color\":\"#b15928\",\"width\":1},\"mode\":\"lines\",\"x\":[0.0031600536312907934,0.02953876182436943,null],\"y\":[-0.017133142799139023,0.06267217546701431,null],\"type\":\"scatter\"},{\"hoverinfo\":\"none\",\"line\":{\"color\":\"#b15928\",\"width\":1},\"mode\":\"lines\",\"x\":[0.0031600536312907934,0.022681519389152527,null],\"y\":[-0.017133142799139023,0.049327507615089417,null],\"type\":\"scatter\"},{\"hoverinfo\":\"none\",\"line\":{\"color\":\"#b15928\",\"width\":1},\"mode\":\"lines\",\"x\":[0.0031600536312907934,-0.0012278436915948987,null],\"y\":[-0.017133142799139023,-0.06282893568277359,null],\"type\":\"scatter\"},{\"hoverinfo\":\"none\",\"line\":{\"color\":\"#b15928\",\"width\":1},\"mode\":\"lines\",\"x\":[0.04377574473619461,0.022681519389152527,null],\"y\":[0.07973743975162506,0.049327507615089417,null],\"type\":\"scatter\"},{\"hoverinfo\":\"none\",\"line\":{\"color\":\"#b15928\",\"width\":1},\"mode\":\"lines\",\"x\":[-0.02157602645456791,0.022681519389152527,null],\"y\":[0.0981064885854721,0.049327507615089417,null],\"type\":\"scatter\"},{\"hoverinfo\":\"none\",\"line\":{\"color\":\"#b15928\",\"width\":1},\"mode\":\"lines\",\"x\":[-0.02157602645456791,-0.02157602645456791,null],\"y\":[0.0981064885854721,0.0981064885854721,null],\"type\":\"scatter\"},{\"hoverinfo\":\"none\",\"line\":{\"color\":\"#b15928\",\"width\":1},\"mode\":\"lines\",\"x\":[-0.02157602645456791,-0.08883845061063766,null],\"y\":[0.0981064885854721,0.1859537959098816,null],\"type\":\"scatter\"},{\"hoverinfo\":\"none\",\"line\":{\"color\":\"#b15928\",\"width\":1},\"mode\":\"lines\",\"x\":[-0.02157602645456791,-0.07235895097255707,null],\"y\":[0.0981064885854721,0.0988973081111908,null],\"type\":\"scatter\"},{\"hoverinfo\":\"none\",\"line\":{\"color\":\"#b15928\",\"width\":1},\"mode\":\"lines\",\"x\":[0.022681519389152527,-0.009411833249032497,null],\"y\":[0.049327507615089417,-0.09530764818191528,null],\"type\":\"scatter\"},{\"hoverinfo\":\"none\",\"line\":{\"color\":\"#b15928\",\"width\":1},\"mode\":\"lines\",\"x\":[0.022681519389152527,-0.0010009079705923796,null],\"y\":[0.049327507615089417,-0.05243607237935066,null],\"type\":\"scatter\"},{\"hoverinfo\":\"none\",\"line\":{\"color\":\"#b15928\",\"width\":1},\"mode\":\"lines\",\"x\":[0.022681519389152527,0.11428499966859818,null],\"y\":[0.049327507615089417,0.06138763949275017,null],\"type\":\"scatter\"},{\"hoverinfo\":\"none\",\"line\":{\"color\":\"#b15928\",\"width\":1},\"mode\":\"lines\",\"x\":[0.022681519389152527,0.02953876182436943,null],\"y\":[0.049327507615089417,0.06267217546701431,null],\"type\":\"scatter\"},{\"hoverinfo\":\"none\",\"line\":{\"color\":\"#b15928\",\"width\":1},\"mode\":\"lines\",\"x\":[0.022681519389152527,0.03641176223754883,null],\"y\":[0.049327507615089417,0.09430315345525742,null],\"type\":\"scatter\"},{\"hoverinfo\":\"none\",\"line\":{\"color\":\"#b15928\",\"width\":1},\"mode\":\"lines\",\"x\":[0.022681519389152527,0.035520367324352264,null],\"y\":[0.049327507615089417,0.07883207499980927,null],\"type\":\"scatter\"},{\"hoverinfo\":\"none\",\"line\":{\"color\":\"#b15928\",\"width\":1},\"mode\":\"lines\",\"x\":[0.022681519389152527,-0.027735646814107895,null],\"y\":[0.049327507615089417,0.08011826872825623,null],\"type\":\"scatter\"},{\"hoverinfo\":\"none\",\"line\":{\"color\":\"#b15928\",\"width\":1},\"mode\":\"lines\",\"x\":[0.022681519389152527,0.02563965879380703,null],\"y\":[0.049327507615089417,0.06867792457342148,null],\"type\":\"scatter\"},{\"hoverinfo\":\"none\",\"line\":{\"color\":\"#b15928\",\"width\":1},\"mode\":\"lines\",\"x\":[0.022681519389152527,0.0028257581871002913,null],\"y\":[0.049327507615089417,0.07217016816139221,null],\"type\":\"scatter\"},{\"hoverinfo\":\"none\",\"line\":{\"color\":\"#b15928\",\"width\":1},\"mode\":\"lines\",\"x\":[0.022681519389152527,0.011239961721003056,null],\"y\":[0.049327507615089417,0.023881617933511734,null],\"type\":\"scatter\"},{\"hoverinfo\":\"none\",\"line\":{\"color\":\"#b15928\",\"width\":1},\"mode\":\"lines\",\"x\":[0.022681519389152527,0.0062402402982115746,null],\"y\":[0.049327507615089417,0.019644493237137794,null],\"type\":\"scatter\"},{\"hoverinfo\":\"none\",\"line\":{\"color\":\"#b15928\",\"width\":1},\"mode\":\"lines\",\"x\":[0.022681519389152527,-0.003515766002237797,null],\"y\":[0.049327507615089417,0.0711095780134201,null],\"type\":\"scatter\"},{\"hoverinfo\":\"none\",\"line\":{\"color\":\"#b15928\",\"width\":1},\"mode\":\"lines\",\"x\":[0.022681519389152527,0.01881464011967182,null],\"y\":[0.049327507615089417,0.02632642164826393,null],\"type\":\"scatter\"},{\"hoverinfo\":\"none\",\"line\":{\"color\":\"#b15928\",\"width\":1},\"mode\":\"lines\",\"x\":[0.022681519389152527,0.06611188501119614,null],\"y\":[0.049327507615089417,0.011177261359989643,null],\"type\":\"scatter\"},{\"hoverinfo\":\"none\",\"line\":{\"color\":\"#b15928\",\"width\":1},\"mode\":\"lines\",\"x\":[0.022681519389152527,0.08337628841400146,null],\"y\":[0.049327507615089417,0.1041904166340828,null],\"type\":\"scatter\"},{\"hoverinfo\":\"none\",\"line\":{\"color\":\"#b15928\",\"width\":1},\"mode\":\"lines\",\"x\":[0.022681519389152527,0.011151745915412903,null],\"y\":[0.049327507615089417,0.01310962438583374,null],\"type\":\"scatter\"},{\"hoverinfo\":\"none\",\"line\":{\"color\":\"#b15928\",\"width\":1},\"mode\":\"lines\",\"x\":[0.022681519389152527,0.021972890943288803,null],\"y\":[0.049327507615089417,0.051031600683927536,null],\"type\":\"scatter\"},{\"hoverinfo\":\"none\",\"line\":{\"color\":\"#b15928\",\"width\":1},\"mode\":\"lines\",\"x\":[0.022681519389152527,0.04943536967039108,null],\"y\":[0.049327507615089417,0.04042082652449608,null],\"type\":\"scatter\"},{\"hoverinfo\":\"none\",\"line\":{\"color\":\"#b15928\",\"width\":1},\"mode\":\"lines\",\"x\":[0.022681519389152527,0.02399957738816738,null],\"y\":[0.049327507615089417,0.10601919144392014,null],\"type\":\"scatter\"},{\"hoverinfo\":\"none\",\"line\":{\"color\":\"#b15928\",\"width\":1},\"mode\":\"lines\",\"x\":[0.022681519389152527,0.009626398794353008,null],\"y\":[0.049327507615089417,0.0010951877338811755,null],\"type\":\"scatter\"},{\"hoverinfo\":\"none\",\"line\":{\"color\":\"#b15928\",\"width\":1},\"mode\":\"lines\",\"x\":[0.022681519389152527,0.014455022290349007,null],\"y\":[0.049327507615089417,0.08197908103466034,null],\"type\":\"scatter\"},{\"hoverinfo\":\"none\",\"line\":{\"color\":\"#b15928\",\"width\":1},\"mode\":\"lines\",\"x\":[0.022681519389152527,0.06364957988262177,null],\"y\":[0.049327507615089417,0.09079373627901077,null],\"type\":\"scatter\"},{\"hoverinfo\":\"none\",\"line\":{\"color\":\"#b15928\",\"width\":1},\"mode\":\"lines\",\"x\":[0.022681519389152527,0.05710279569029808,null],\"y\":[0.049327507615089417,0.09787439554929733,null],\"type\":\"scatter\"},{\"hoverinfo\":\"none\",\"line\":{\"color\":\"#b15928\",\"width\":1},\"mode\":\"lines\",\"x\":[0.022681519389152527,-0.053003836423158646,null],\"y\":[0.049327507615089417,0.06294642388820648,null],\"type\":\"scatter\"},{\"hoverinfo\":\"none\",\"line\":{\"color\":\"#b15928\",\"width\":1},\"mode\":\"lines\",\"x\":[0.022681519389152527,0.12387529015541077,null],\"y\":[0.049327507615089417,0.07619510591030121,null],\"type\":\"scatter\"},{\"hoverinfo\":\"none\",\"line\":{\"color\":\"#b15928\",\"width\":1},\"mode\":\"lines\",\"x\":[0.022681519389152527,0.0453244112432003,null],\"y\":[0.049327507615089417,0.10418864339590073,null],\"type\":\"scatter\"},{\"hoverinfo\":\"none\",\"line\":{\"color\":\"#b15928\",\"width\":1},\"mode\":\"lines\",\"x\":[-0.061359044164419174,-0.009411833249032497,null],\"y\":[0.011634476482868195,-0.09530764818191528,null],\"type\":\"scatter\"},{\"hoverinfo\":\"none\",\"line\":{\"color\":\"#b15928\",\"width\":1},\"mode\":\"lines\",\"x\":[-0.061359044164419174,-0.008871680125594139,null],\"y\":[0.011634476482868195,-0.021061770617961884,null],\"type\":\"scatter\"},{\"hoverinfo\":\"none\",\"line\":{\"color\":\"#b15928\",\"width\":1},\"mode\":\"lines\",\"x\":[-0.061359044164419174,-0.18260520696640015,null],\"y\":[0.011634476482868195,0.01746845431625843,null],\"type\":\"scatter\"},{\"hoverinfo\":\"none\",\"line\":{\"color\":\"#b15928\",\"width\":1},\"mode\":\"lines\",\"x\":[-0.061359044164419174,-0.1803845316171646,null],\"y\":[0.011634476482868195,0.02991228550672531,null],\"type\":\"scatter\"},{\"hoverinfo\":\"none\",\"line\":{\"color\":\"#b15928\",\"width\":1},\"mode\":\"lines\",\"x\":[-0.029632965102791786,-0.0361969992518425,null],\"y\":[0.14325150847434998,0.11395077407360077,null],\"type\":\"scatter\"},{\"hoverinfo\":\"none\",\"line\":{\"color\":\"#b15928\",\"width\":1},\"mode\":\"lines\",\"x\":[-0.029632965102791786,-0.00552947074174881,null],\"y\":[0.14325150847434998,0.11045962572097778,null],\"type\":\"scatter\"},{\"hoverinfo\":\"none\",\"line\":{\"color\":\"#b15928\",\"width\":1},\"mode\":\"lines\",\"x\":[-0.0361969992518425,-0.00552947074174881,null],\"y\":[0.11395077407360077,0.11045962572097778,null],\"type\":\"scatter\"},{\"hoverinfo\":\"none\",\"line\":{\"color\":\"#b15928\",\"width\":1},\"mode\":\"lines\",\"x\":[-0.0361969992518425,-0.0534922257065773,null],\"y\":[0.11395077407360077,0.18021942675113678,null],\"type\":\"scatter\"},{\"hoverinfo\":\"none\",\"line\":{\"color\":\"#b15928\",\"width\":1},\"mode\":\"lines\",\"x\":[-0.0361969992518425,0.009246340952813625,null],\"y\":[0.11395077407360077,0.09573113918304443,null],\"type\":\"scatter\"},{\"hoverinfo\":\"none\",\"line\":{\"color\":\"#b15928\",\"width\":1},\"mode\":\"lines\",\"x\":[-0.0361969992518425,-0.1046290323138237,null],\"y\":[0.11395077407360077,0.14931252598762512,null],\"type\":\"scatter\"},{\"hoverinfo\":\"none\",\"line\":{\"color\":\"#b15928\",\"width\":1},\"mode\":\"lines\",\"x\":[-0.0361969992518425,-0.07201999425888062,null],\"y\":[0.11395077407360077,0.011762149631977081,null],\"type\":\"scatter\"},{\"hoverinfo\":\"none\",\"line\":{\"color\":\"#b15928\",\"width\":1},\"mode\":\"lines\",\"x\":[-0.0361969992518425,-0.10266517847776413,null],\"y\":[0.11395077407360077,0.0938301831483841,null],\"type\":\"scatter\"},{\"hoverinfo\":\"none\",\"line\":{\"color\":\"#b15928\",\"width\":1},\"mode\":\"lines\",\"x\":[-0.0361969992518425,-0.0361969992518425,null],\"y\":[0.11395077407360077,0.11395077407360077,null],\"type\":\"scatter\"},{\"hoverinfo\":\"none\",\"line\":{\"color\":\"#b15928\",\"width\":1},\"mode\":\"lines\",\"x\":[-0.0361969992518425,0.014455022290349007,null],\"y\":[0.11395077407360077,0.08197908103466034,null],\"type\":\"scatter\"},{\"hoverinfo\":\"none\",\"line\":{\"color\":\"#b15928\",\"width\":1},\"mode\":\"lines\",\"x\":[-0.0361969992518425,-0.08852294832468033,null],\"y\":[0.11395077407360077,0.22850975394248962,null],\"type\":\"scatter\"},{\"hoverinfo\":\"none\",\"line\":{\"color\":\"#b15928\",\"width\":1},\"mode\":\"lines\",\"x\":[-0.0361969992518425,-0.033430203795433044,null],\"y\":[0.11395077407360077,0.17339883744716644,null],\"type\":\"scatter\"},{\"hoverinfo\":\"none\",\"line\":{\"color\":\"#b15928\",\"width\":1},\"mode\":\"lines\",\"x\":[0.02953876182436943,0.03641176223754883,null],\"y\":[0.06267217546701431,0.09430315345525742,null],\"type\":\"scatter\"},{\"hoverinfo\":\"none\",\"line\":{\"color\":\"#b15928\",\"width\":1},\"mode\":\"lines\",\"x\":[0.02953876182436943,0.035520367324352264,null],\"y\":[0.06267217546701431,0.07883207499980927,null],\"type\":\"scatter\"},{\"hoverinfo\":\"none\",\"line\":{\"color\":\"#b15928\",\"width\":1},\"mode\":\"lines\",\"x\":[0.02953876182436943,0.02563965879380703,null],\"y\":[0.06267217546701431,0.06867792457342148,null],\"type\":\"scatter\"},{\"hoverinfo\":\"none\",\"line\":{\"color\":\"#b15928\",\"width\":1},\"mode\":\"lines\",\"x\":[0.02953876182436943,0.05710279569029808,null],\"y\":[0.06267217546701431,0.09787439554929733,null],\"type\":\"scatter\"},{\"hoverinfo\":\"none\",\"line\":{\"color\":\"#b15928\",\"width\":1},\"mode\":\"lines\",\"x\":[0.02953876182436943,0.06364957988262177,null],\"y\":[0.06267217546701431,0.09079373627901077,null],\"type\":\"scatter\"},{\"hoverinfo\":\"none\",\"line\":{\"color\":\"#b15928\",\"width\":1},\"mode\":\"lines\",\"x\":[0.03641176223754883,0.035520367324352264,null],\"y\":[0.09430315345525742,0.07883207499980927,null],\"type\":\"scatter\"},{\"hoverinfo\":\"none\",\"line\":{\"color\":\"#b15928\",\"width\":1},\"mode\":\"lines\",\"x\":[0.03641176223754883,0.02563965879380703,null],\"y\":[0.09430315345525742,0.06867792457342148,null],\"type\":\"scatter\"},{\"hoverinfo\":\"none\",\"line\":{\"color\":\"#b15928\",\"width\":1},\"mode\":\"lines\",\"x\":[0.035520367324352264,0.02563965879380703,null],\"y\":[0.07883207499980927,0.06867792457342148,null],\"type\":\"scatter\"},{\"hoverinfo\":\"none\",\"line\":{\"color\":\"#b15928\",\"width\":1},\"mode\":\"lines\",\"x\":[0.0011573305819183588,-0.009411833249032497,null],\"y\":[-0.037062641233205795,-0.09530764818191528,null],\"type\":\"scatter\"},{\"hoverinfo\":\"none\",\"line\":{\"color\":\"#b15928\",\"width\":1},\"mode\":\"lines\",\"x\":[0.0011573305819183588,-0.0010009079705923796,null],\"y\":[-0.037062641233205795,-0.05243607237935066,null],\"type\":\"scatter\"},{\"hoverinfo\":\"none\",\"line\":{\"color\":\"#b15928\",\"width\":1},\"mode\":\"lines\",\"x\":[0.0011573305819183588,-0.0012278436915948987,null],\"y\":[-0.037062641233205795,-0.06282893568277359,null],\"type\":\"scatter\"},{\"hoverinfo\":\"none\",\"line\":{\"color\":\"#b15928\",\"width\":1},\"mode\":\"lines\",\"x\":[-0.003515766002237797,0.010802186094224453,null],\"y\":[0.0711095780134201,0.08239195495843887,null],\"type\":\"scatter\"},{\"hoverinfo\":\"none\",\"line\":{\"color\":\"#b15928\",\"width\":1},\"mode\":\"lines\",\"x\":[-0.003515766002237797,-0.003515766002237797,null],\"y\":[0.0711095780134201,0.0711095780134201,null],\"type\":\"scatter\"},{\"hoverinfo\":\"none\",\"line\":{\"color\":\"#b15928\",\"width\":1},\"mode\":\"lines\",\"x\":[-0.003515766002237797,-0.027735646814107895,null],\"y\":[0.0711095780134201,0.08011826872825623,null],\"type\":\"scatter\"},{\"hoverinfo\":\"none\",\"line\":{\"color\":\"#b15928\",\"width\":1},\"mode\":\"lines\",\"x\":[-0.006279632914811373,-0.009411833249032497,null],\"y\":[-0.04403284937143326,-0.09530764818191528,null],\"type\":\"scatter\"},{\"hoverinfo\":\"none\",\"line\":{\"color\":\"#b15928\",\"width\":1},\"mode\":\"lines\",\"x\":[-0.006279632914811373,-0.0012278436915948987,null],\"y\":[-0.04403284937143326,-0.06282893568277359,null],\"type\":\"scatter\"},{\"hoverinfo\":\"none\",\"line\":{\"color\":\"#b15928\",\"width\":1},\"mode\":\"lines\",\"x\":[0.0028257581871002913,-0.053003836423158646,null],\"y\":[0.07217016816139221,0.06294642388820648,null],\"type\":\"scatter\"},{\"hoverinfo\":\"none\",\"line\":{\"color\":\"#b15928\",\"width\":1},\"mode\":\"lines\",\"x\":[0.025569748133420944,-0.017336739227175713,null],\"y\":[0.05717584490776062,0.002871772740036249,null],\"type\":\"scatter\"},{\"hoverinfo\":\"none\",\"line\":{\"color\":\"#b15928\",\"width\":1},\"mode\":\"lines\",\"x\":[0.025569748133420944,0.04943536967039108,null],\"y\":[0.05717584490776062,0.04042082652449608,null],\"type\":\"scatter\"},{\"hoverinfo\":\"none\",\"line\":{\"color\":\"#b15928\",\"width\":1},\"mode\":\"lines\",\"x\":[0.025569748133420944,-0.010732710361480713,null],\"y\":[0.05717584490776062,0.03986933082342148,null],\"type\":\"scatter\"},{\"hoverinfo\":\"none\",\"line\":{\"color\":\"#b15928\",\"width\":1},\"mode\":\"lines\",\"x\":[0.025569748133420944,0.025569748133420944,null],\"y\":[0.05717584490776062,0.05717584490776062,null],\"type\":\"scatter\"},{\"hoverinfo\":\"none\",\"line\":{\"color\":\"#b15928\",\"width\":1},\"mode\":\"lines\",\"x\":[0.025569748133420944,-0.04963849484920502,null],\"y\":[0.05717584490776062,0.11058349162340164,null],\"type\":\"scatter\"},{\"hoverinfo\":\"none\",\"line\":{\"color\":\"#b15928\",\"width\":1},\"mode\":\"lines\",\"x\":[0.025569748133420944,0.0012960839085280895,null],\"y\":[0.05717584490776062,0.08289168030023575,null],\"type\":\"scatter\"},{\"hoverinfo\":\"none\",\"line\":{\"color\":\"#b15928\",\"width\":1},\"mode\":\"lines\",\"x\":[0.025569748133420944,-0.04246462509036064,null],\"y\":[0.05717584490776062,0.1201380044221878,null],\"type\":\"scatter\"},{\"hoverinfo\":\"none\",\"line\":{\"color\":\"#b15928\",\"width\":1},\"mode\":\"lines\",\"x\":[0.025569748133420944,-0.031684599816799164,null],\"y\":[0.05717584490776062,0.12396955490112305,null],\"type\":\"scatter\"},{\"hoverinfo\":\"none\",\"line\":{\"color\":\"#b15928\",\"width\":1},\"mode\":\"lines\",\"x\":[0.025569748133420944,0.054449569433927536,null],\"y\":[0.05717584490776062,0.08344356715679169,null],\"type\":\"scatter\"},{\"hoverinfo\":\"none\",\"line\":{\"color\":\"#b15928\",\"width\":1},\"mode\":\"lines\",\"x\":[0.025569748133420944,0.04966125637292862,null],\"y\":[0.05717584490776062,0.0526713989675045,null],\"type\":\"scatter\"},{\"hoverinfo\":\"none\",\"line\":{\"color\":\"#b15928\",\"width\":1},\"mode\":\"lines\",\"x\":[0.025569748133420944,-0.0404651015996933,null],\"y\":[0.05717584490776062,0.10763387382030487,null],\"type\":\"scatter\"},{\"hoverinfo\":\"none\",\"line\":{\"color\":\"#b15928\",\"width\":1},\"mode\":\"lines\",\"x\":[0.025569748133420944,0.05031382665038109,null],\"y\":[0.05717584490776062,0.02585100196301937,null],\"type\":\"scatter\"},{\"hoverinfo\":\"none\",\"line\":{\"color\":\"#b15928\",\"width\":1},\"mode\":\"lines\",\"x\":[0.025569748133420944,0.08428648114204407,null],\"y\":[0.05717584490776062,0.026960067451000214,null],\"type\":\"scatter\"},{\"hoverinfo\":\"none\",\"line\":{\"color\":\"#b15928\",\"width\":1},\"mode\":\"lines\",\"x\":[0.025569748133420944,0.08190315216779709,null],\"y\":[0.05717584490776062,0.03527268022298813,null],\"type\":\"scatter\"},{\"hoverinfo\":\"none\",\"line\":{\"color\":\"#b15928\",\"width\":1},\"mode\":\"lines\",\"x\":[0.025569748133420944,0.10667697340250015,null],\"y\":[0.05717584490776062,0.0880923643708229,null],\"type\":\"scatter\"},{\"hoverinfo\":\"none\",\"line\":{\"color\":\"#b15928\",\"width\":1},\"mode\":\"lines\",\"x\":[0.025569748133420944,0.11428499966859818,null],\"y\":[0.05717584490776062,0.06138763949275017,null],\"type\":\"scatter\"},{\"hoverinfo\":\"none\",\"line\":{\"color\":\"#b15928\",\"width\":1},\"mode\":\"lines\",\"x\":[0.025569748133420944,0.0996846929192543,null],\"y\":[0.05717584490776062,0.04730414226651192,null],\"type\":\"scatter\"},{\"hoverinfo\":\"none\",\"line\":{\"color\":\"#b15928\",\"width\":1},\"mode\":\"lines\",\"x\":[0.025569748133420944,0.06611188501119614,null],\"y\":[0.05717584490776062,0.011177261359989643,null],\"type\":\"scatter\"},{\"hoverinfo\":\"none\",\"line\":{\"color\":\"#b15928\",\"width\":1},\"mode\":\"lines\",\"x\":[0.025569748133420944,0.07621454447507858,null],\"y\":[0.05717584490776062,0.03477798402309418,null],\"type\":\"scatter\"},{\"hoverinfo\":\"none\",\"line\":{\"color\":\"#b15928\",\"width\":1},\"mode\":\"lines\",\"x\":[0.025569748133420944,0.09255033731460571,null],\"y\":[0.05717584490776062,0.07413111627101898,null],\"type\":\"scatter\"},{\"hoverinfo\":\"none\",\"line\":{\"color\":\"#b15928\",\"width\":1},\"mode\":\"lines\",\"x\":[0.025569748133420944,0.0279057826846838,null],\"y\":[0.05717584490776062,0.040724098682403564,null],\"type\":\"scatter\"},{\"hoverinfo\":\"none\",\"line\":{\"color\":\"#b15928\",\"width\":1},\"mode\":\"lines\",\"x\":[0.025569748133420944,-0.053003836423158646,null],\"y\":[0.05717584490776062,0.06294642388820648,null],\"type\":\"scatter\"},{\"hoverinfo\":\"none\",\"line\":{\"color\":\"#b15928\",\"width\":1},\"mode\":\"lines\",\"x\":[0.025569748133420944,0.07775337994098663,null],\"y\":[0.05717584490776062,0.059363096952438354,null],\"type\":\"scatter\"},{\"hoverinfo\":\"none\",\"line\":{\"color\":\"#b15928\",\"width\":1},\"mode\":\"lines\",\"x\":[0.04943536967039108,-0.009411833249032497,null],\"y\":[0.04042082652449608,-0.09530764818191528,null],\"type\":\"scatter\"},{\"hoverinfo\":\"none\",\"line\":{\"color\":\"#b15928\",\"width\":1},\"mode\":\"lines\",\"x\":[0.04943536967039108,0.11428499966859818,null],\"y\":[0.04042082652449608,0.06138763949275017,null],\"type\":\"scatter\"},{\"hoverinfo\":\"none\",\"line\":{\"color\":\"#b15928\",\"width\":1},\"mode\":\"lines\",\"x\":[0.04943536967039108,0.0996846929192543,null],\"y\":[0.04042082652449608,0.04730414226651192,null],\"type\":\"scatter\"},{\"hoverinfo\":\"none\",\"line\":{\"color\":\"#b15928\",\"width\":1},\"mode\":\"lines\",\"x\":[0.04943536967039108,-0.019428802654147148,null],\"y\":[0.04042082652449608,0.08623397350311279,null],\"type\":\"scatter\"},{\"hoverinfo\":\"none\",\"line\":{\"color\":\"#b15928\",\"width\":1},\"mode\":\"lines\",\"x\":[0.04943536967039108,0.10692398995161057,null],\"y\":[0.04042082652449608,0.0274745412170887,null],\"type\":\"scatter\"},{\"hoverinfo\":\"none\",\"line\":{\"color\":\"#b15928\",\"width\":1},\"mode\":\"lines\",\"x\":[0.04943536967039108,0.07621454447507858,null],\"y\":[0.04042082652449608,0.03477798402309418,null],\"type\":\"scatter\"},{\"hoverinfo\":\"none\",\"line\":{\"color\":\"#b15928\",\"width\":1},\"mode\":\"lines\",\"x\":[0.04943536967039108,0.05179174989461899,null],\"y\":[0.04042082652449608,0.07654814422130585,null],\"type\":\"scatter\"},{\"hoverinfo\":\"none\",\"line\":{\"color\":\"#b15928\",\"width\":1},\"mode\":\"lines\",\"x\":[0.04943536967039108,0.06340015679597855,null],\"y\":[0.04042082652449608,0.07013100385665894,null],\"type\":\"scatter\"},{\"hoverinfo\":\"none\",\"line\":{\"color\":\"#b15928\",\"width\":1},\"mode\":\"lines\",\"x\":[0.04943536967039108,0.04943536967039108,null],\"y\":[0.04042082652449608,0.04042082652449608,null],\"type\":\"scatter\"},{\"hoverinfo\":\"none\",\"line\":{\"color\":\"#b15928\",\"width\":1},\"mode\":\"lines\",\"x\":[0.04943536967039108,0.010802186094224453,null],\"y\":[0.04042082652449608,0.08239195495843887,null],\"type\":\"scatter\"},{\"hoverinfo\":\"none\",\"line\":{\"color\":\"#b15928\",\"width\":1},\"mode\":\"lines\",\"x\":[0.04943536967039108,0.06611188501119614,null],\"y\":[0.04042082652449608,0.011177261359989643,null],\"type\":\"scatter\"},{\"hoverinfo\":\"none\",\"line\":{\"color\":\"#b15928\",\"width\":1},\"mode\":\"lines\",\"x\":[0.04943536967039108,0.0351778008043766,null],\"y\":[0.04042082652449608,-0.023107055574655533,null],\"type\":\"scatter\"},{\"hoverinfo\":\"none\",\"line\":{\"color\":\"#b15928\",\"width\":1},\"mode\":\"lines\",\"x\":[0.04943536967039108,0.014455022290349007,null],\"y\":[0.04042082652449608,0.08197908103466034,null],\"type\":\"scatter\"},{\"hoverinfo\":\"none\",\"line\":{\"color\":\"#b15928\",\"width\":1},\"mode\":\"lines\",\"x\":[0.04943536967039108,0.13636277616024017,null],\"y\":[0.04042082652449608,0.06254596263170242,null],\"type\":\"scatter\"},{\"hoverinfo\":\"none\",\"line\":{\"color\":\"#b15928\",\"width\":1},\"mode\":\"lines\",\"x\":[0.04943536967039108,0.10514023900032043,null],\"y\":[0.04042082652449608,0.016685698181390762,null],\"type\":\"scatter\"},{\"hoverinfo\":\"none\",\"line\":{\"color\":\"#b15928\",\"width\":1},\"mode\":\"lines\",\"x\":[0.04943536967039108,0.11710836738348007,null],\"y\":[0.04042082652449608,0.0009321760153397918,null],\"type\":\"scatter\"},{\"hoverinfo\":\"none\",\"line\":{\"color\":\"#b15928\",\"width\":1},\"mode\":\"lines\",\"x\":[-0.002867500064894557,-0.009411833249032497,null],\"y\":[-0.054818153381347656,-0.09530764818191528,null],\"type\":\"scatter\"},{\"hoverinfo\":\"none\",\"line\":{\"color\":\"#b15928\",\"width\":1},\"mode\":\"lines\",\"x\":[-0.002867500064894557,-0.0010009079705923796,null],\"y\":[-0.054818153381347656,-0.05243607237935066,null],\"type\":\"scatter\"},{\"hoverinfo\":\"none\",\"line\":{\"color\":\"#b15928\",\"width\":1},\"mode\":\"lines\",\"x\":[-0.002867500064894557,-0.0012278436915948987,null],\"y\":[-0.054818153381347656,-0.06282893568277359,null],\"type\":\"scatter\"},{\"hoverinfo\":\"none\",\"line\":{\"color\":\"#b15928\",\"width\":1},\"mode\":\"lines\",\"x\":[0.011239961721003056,-0.009411833249032497,null],\"y\":[0.023881617933511734,-0.09530764818191528,null],\"type\":\"scatter\"},{\"hoverinfo\":\"none\",\"line\":{\"color\":\"#b15928\",\"width\":1},\"mode\":\"lines\",\"x\":[-0.05761899799108505,-0.009411833249032497,null],\"y\":[-0.006080626975744963,-0.09530764818191528,null],\"type\":\"scatter\"},{\"hoverinfo\":\"none\",\"line\":{\"color\":\"#b15928\",\"width\":1},\"mode\":\"lines\",\"x\":[-0.05761899799108505,-0.12612184882164001,null],\"y\":[-0.006080626975744963,-0.007653168868273497,null],\"type\":\"scatter\"},{\"hoverinfo\":\"none\",\"line\":{\"color\":\"#b15928\",\"width\":1},\"mode\":\"lines\",\"x\":[0.0225176103413105,-0.009411833249032497,null],\"y\":[0.01783517189323902,-0.09530764818191528,null],\"type\":\"scatter\"},{\"hoverinfo\":\"none\",\"line\":{\"color\":\"#b15928\",\"width\":1},\"mode\":\"lines\",\"x\":[0.0062402402982115746,-0.009411833249032497,null],\"y\":[0.019644493237137794,-0.09530764818191528,null],\"type\":\"scatter\"},{\"hoverinfo\":\"none\",\"line\":{\"color\":\"#b15928\",\"width\":1},\"mode\":\"lines\",\"x\":[-0.0010009079705923796,0.006899488158524036,null],\"y\":[-0.05243607237935066,-0.05337626859545708,null],\"type\":\"scatter\"},{\"hoverinfo\":\"none\",\"line\":{\"color\":\"#fdbf6f\",\"width\":1},\"mode\":\"lines\",\"x\":[-0.0010009079705923796,-0.009411833249032497,null],\"y\":[-0.05243607237935066,-0.09530764818191528,null],\"type\":\"scatter\"},{\"hoverinfo\":\"none\",\"line\":{\"color\":\"#b15928\",\"width\":1},\"mode\":\"lines\",\"x\":[-0.0010009079705923796,0.0069460817612707615,null],\"y\":[-0.05243607237935066,-0.09216734021902084,null],\"type\":\"scatter\"},{\"hoverinfo\":\"none\",\"line\":{\"color\":\"#b15928\",\"width\":1},\"mode\":\"lines\",\"x\":[-0.0010009079705923796,0.006448971573263407,null],\"y\":[-0.05243607237935066,-0.020283810794353485,null],\"type\":\"scatter\"},{\"hoverinfo\":\"none\",\"line\":{\"color\":\"#b15928\",\"width\":1},\"mode\":\"lines\",\"x\":[-0.0010009079705923796,-0.0012278436915948987,null],\"y\":[-0.05243607237935066,-0.06282893568277359,null],\"type\":\"scatter\"},{\"hoverinfo\":\"none\",\"line\":{\"color\":\"#b15928\",\"width\":1},\"mode\":\"lines\",\"x\":[-0.0010009079705923796,0.10263369977474213,null],\"y\":[-0.05243607237935066,-0.016170984134078026,null],\"type\":\"scatter\"},{\"hoverinfo\":\"none\",\"line\":{\"color\":\"#b15928\",\"width\":1},\"mode\":\"lines\",\"x\":[-0.0010009079705923796,0.11428499966859818,null],\"y\":[-0.05243607237935066,0.06138763949275017,null],\"type\":\"scatter\"},{\"hoverinfo\":\"none\",\"line\":{\"color\":\"#b15928\",\"width\":1},\"mode\":\"lines\",\"x\":[-0.0010009079705923796,0.0996846929192543,null],\"y\":[-0.05243607237935066,0.04730414226651192,null],\"type\":\"scatter\"},{\"hoverinfo\":\"none\",\"line\":{\"color\":\"#b15928\",\"width\":1},\"mode\":\"lines\",\"x\":[-0.0010009079705923796,-0.0011214675614610314,null],\"y\":[-0.05243607237935066,-0.0858834981918335,null],\"type\":\"scatter\"},{\"hoverinfo\":\"none\",\"line\":{\"color\":\"#b15928\",\"width\":1},\"mode\":\"lines\",\"x\":[-0.0010009079705923796,-0.0060384152457118034,null],\"y\":[-0.05243607237935066,-0.0675717145204544,null],\"type\":\"scatter\"},{\"hoverinfo\":\"none\",\"line\":{\"color\":\"#b15928\",\"width\":1},\"mode\":\"lines\",\"x\":[-0.0010009079705923796,0.03503832593560219,null],\"y\":[-0.05243607237935066,-0.060259267687797546,null],\"type\":\"scatter\"},{\"hoverinfo\":\"none\",\"line\":{\"color\":\"#b15928\",\"width\":1},\"mode\":\"lines\",\"x\":[-0.0010009079705923796,-0.010698355734348297,null],\"y\":[-0.05243607237935066,0.0028660467360168695,null],\"type\":\"scatter\"},{\"hoverinfo\":\"none\",\"line\":{\"color\":\"#b15928\",\"width\":1},\"mode\":\"lines\",\"x\":[-0.0010009079705923796,0.06611188501119614,null],\"y\":[-0.05243607237935066,0.011177261359989643,null],\"type\":\"scatter\"},{\"hoverinfo\":\"none\",\"line\":{\"color\":\"#b15928\",\"width\":1},\"mode\":\"lines\",\"x\":[-0.0010009079705923796,-0.036398015916347504,null],\"y\":[-0.05243607237935066,-0.0778149962425232,null],\"type\":\"scatter\"},{\"hoverinfo\":\"none\",\"line\":{\"color\":\"#b15928\",\"width\":1},\"mode\":\"lines\",\"x\":[-0.0010009079705923796,-0.028231751173734665,null],\"y\":[-0.05243607237935066,-0.06372730433940887,null],\"type\":\"scatter\"},{\"hoverinfo\":\"none\",\"line\":{\"color\":\"#b15928\",\"width\":1},\"mode\":\"lines\",\"x\":[-0.0010009079705923796,-0.029779694974422455,null],\"y\":[-0.05243607237935066,-0.08563791960477829,null],\"type\":\"scatter\"},{\"hoverinfo\":\"none\",\"line\":{\"color\":\"#b15928\",\"width\":1},\"mode\":\"lines\",\"x\":[-0.0010009079705923796,-0.049093008041381836,null],\"y\":[-0.05243607237935066,-0.08523024618625641,null],\"type\":\"scatter\"},{\"hoverinfo\":\"none\",\"line\":{\"color\":\"#b15928\",\"width\":1},\"mode\":\"lines\",\"x\":[-0.0010009079705923796,-0.09380093216896057,null],\"y\":[-0.05243607237935066,-0.05341467633843422,null],\"type\":\"scatter\"},{\"hoverinfo\":\"none\",\"line\":{\"color\":\"#b15928\",\"width\":1},\"mode\":\"lines\",\"x\":[-0.0010009079705923796,-0.033822622150182724,null],\"y\":[-0.05243607237935066,-0.09629584103822708,null],\"type\":\"scatter\"},{\"hoverinfo\":\"none\",\"line\":{\"color\":\"#b15928\",\"width\":1},\"mode\":\"lines\",\"x\":[-0.0010009079705923796,0.009927541017532349,null],\"y\":[-0.05243607237935066,-0.045905955135822296,null],\"type\":\"scatter\"},{\"hoverinfo\":\"none\",\"line\":{\"color\":\"#b15928\",\"width\":1},\"mode\":\"lines\",\"x\":[-0.0010009079705923796,-0.010500005446374416,null],\"y\":[-0.05243607237935066,-0.05525897815823555,null],\"type\":\"scatter\"},{\"hoverinfo\":\"none\",\"line\":{\"color\":\"#b15928\",\"width\":1},\"mode\":\"lines\",\"x\":[-0.0010009079705923796,-0.08313187211751938,null],\"y\":[-0.05243607237935066,-0.07381266355514526,null],\"type\":\"scatter\"},{\"hoverinfo\":\"none\",\"line\":{\"color\":\"#b15928\",\"width\":1},\"mode\":\"lines\",\"x\":[-0.0010009079705923796,-0.01676364056766033,null],\"y\":[-0.05243607237935066,-0.08809787034988403,null],\"type\":\"scatter\"},{\"hoverinfo\":\"none\",\"line\":{\"color\":\"#b15928\",\"width\":1},\"mode\":\"lines\",\"x\":[-0.0010009079705923796,0.012288347817957401,null],\"y\":[-0.05243607237935066,-0.0999157503247261,null],\"type\":\"scatter\"},{\"hoverinfo\":\"none\",\"line\":{\"color\":\"#b15928\",\"width\":1},\"mode\":\"lines\",\"x\":[0.011151745915412903,-0.009411833249032497,null],\"y\":[0.01310962438583374,-0.09530764818191528,null],\"type\":\"scatter\"},{\"hoverinfo\":\"none\",\"line\":{\"color\":\"#b15928\",\"width\":1},\"mode\":\"lines\",\"x\":[0.0008833205793052912,-0.009411833249032497,null],\"y\":[0.02273876592516899,-0.09530764818191528,null],\"type\":\"scatter\"},{\"hoverinfo\":\"none\",\"line\":{\"color\":\"#b15928\",\"width\":1},\"mode\":\"lines\",\"x\":[-0.0013983951648697257,-0.009411833249032497,null],\"y\":[-0.024562468752264977,-0.09530764818191528,null],\"type\":\"scatter\"},{\"hoverinfo\":\"none\",\"line\":{\"color\":\"#b15928\",\"width\":1},\"mode\":\"lines\",\"x\":[0.021972890943288803,-0.053003836423158646,null],\"y\":[0.051031600683927536,0.06294642388820648,null],\"type\":\"scatter\"},{\"hoverinfo\":\"none\",\"line\":{\"color\":\"#b15928\",\"width\":1},\"mode\":\"lines\",\"x\":[0.021972890943288803,0.07621454447507858,null],\"y\":[0.051031600683927536,0.03477798402309418,null],\"type\":\"scatter\"},{\"hoverinfo\":\"none\",\"line\":{\"color\":\"#b15928\",\"width\":1},\"mode\":\"lines\",\"x\":[0.021972890943288803,0.06611188501119614,null],\"y\":[0.051031600683927536,0.011177261359989643,null],\"type\":\"scatter\"},{\"hoverinfo\":\"none\",\"line\":{\"color\":\"#b15928\",\"width\":1},\"mode\":\"lines\",\"x\":[0.023071149364113808,-0.009411833249032497,null],\"y\":[-0.03504331782460213,-0.09530764818191528,null],\"type\":\"scatter\"},{\"hoverinfo\":\"none\",\"line\":{\"color\":\"#b15928\",\"width\":1},\"mode\":\"lines\",\"x\":[-0.006648545619100332,-0.009411833249032497,null],\"y\":[-0.005295836832374334,-0.09530764818191528,null],\"type\":\"scatter\"},{\"hoverinfo\":\"none\",\"line\":{\"color\":\"#b15928\",\"width\":1},\"mode\":\"lines\",\"x\":[0.05179174989461899,0.06340015679597855,null],\"y\":[0.07654814422130585,0.07013100385665894,null],\"type\":\"scatter\"},{\"hoverinfo\":\"none\",\"line\":{\"color\":\"#b15928\",\"width\":1},\"mode\":\"lines\",\"x\":[0.05179174989461899,0.009246340952813625,null],\"y\":[0.07654814422130585,0.09573113918304443,null],\"type\":\"scatter\"},{\"hoverinfo\":\"none\",\"line\":{\"color\":\"#b15928\",\"width\":1},\"mode\":\"lines\",\"x\":[0.01881464011967182,-0.009411833249032497,null],\"y\":[0.02632642164826393,-0.09530764818191528,null],\"type\":\"scatter\"},{\"hoverinfo\":\"none\",\"line\":{\"color\":\"#b15928\",\"width\":1},\"mode\":\"lines\",\"x\":[0.006448971573263407,-0.009411833249032497,null],\"y\":[-0.020283810794353485,-0.09530764818191528,null],\"type\":\"scatter\"},{\"hoverinfo\":\"none\",\"line\":{\"color\":\"#b15928\",\"width\":1},\"mode\":\"lines\",\"x\":[0.0025751106441020966,-0.009411833249032497,null],\"y\":[0.002779153874143958,-0.09530764818191528,null],\"type\":\"scatter\"},{\"hoverinfo\":\"none\",\"line\":{\"color\":\"#b15928\",\"width\":1},\"mode\":\"lines\",\"x\":[0.06340015679597855,0.009246340952813625,null],\"y\":[0.07013100385665894,0.09573113918304443,null],\"type\":\"scatter\"},{\"hoverinfo\":\"none\",\"line\":{\"color\":\"#b15928\",\"width\":1},\"mode\":\"lines\",\"x\":[0.06340015679597855,0.1145307794213295,null],\"y\":[0.07013100385665894,0.07584137469530106,null],\"type\":\"scatter\"},{\"hoverinfo\":\"none\",\"line\":{\"color\":\"#b15928\",\"width\":1},\"mode\":\"lines\",\"x\":[0.06340015679597855,0.13661688566207886,null],\"y\":[0.07013100385665894,0.08691762387752533,null],\"type\":\"scatter\"},{\"hoverinfo\":\"none\",\"line\":{\"color\":\"#b15928\",\"width\":1},\"mode\":\"lines\",\"x\":[0.009246340952813625,-0.0534922257065773,null],\"y\":[0.09573113918304443,0.18021942675113678,null],\"type\":\"scatter\"},{\"hoverinfo\":\"none\",\"line\":{\"color\":\"#b15928\",\"width\":1},\"mode\":\"lines\",\"x\":[0.0351778008043766,-0.009411833249032497,null],\"y\":[-0.023107055574655533,-0.09530764818191528,null],\"type\":\"scatter\"},{\"hoverinfo\":\"none\",\"line\":{\"color\":\"#b15928\",\"width\":1},\"mode\":\"lines\",\"x\":[0.0351778008043766,0.11710836738348007,null],\"y\":[-0.023107055574655533,0.0009321760153397918,null],\"type\":\"scatter\"},{\"hoverinfo\":\"none\",\"line\":{\"color\":\"#b15928\",\"width\":1},\"mode\":\"lines\",\"x\":[0.017320621758699417,-0.009411833249032497,null],\"y\":[-0.024066025391221046,-0.09530764818191528,null],\"type\":\"scatter\"},{\"hoverinfo\":\"none\",\"line\":{\"color\":\"#b15928\",\"width\":1},\"mode\":\"lines\",\"x\":[-0.01800730638206005,-0.009411833249032497,null],\"y\":[-0.02022998407483101,-0.09530764818191528,null],\"type\":\"scatter\"},{\"hoverinfo\":\"none\",\"line\":{\"color\":\"#cab2d6\",\"width\":1},\"mode\":\"lines\",\"x\":[-0.0012278436915948987,-0.009411833249032497,null],\"y\":[-0.06282893568277359,-0.09530764818191528,null],\"type\":\"scatter\"},{\"hoverinfo\":\"none\",\"line\":{\"color\":\"#b15928\",\"width\":1},\"mode\":\"lines\",\"x\":[-0.0012278436915948987,0.0069460817612707615,null],\"y\":[-0.06282893568277359,-0.09216734021902084,null],\"type\":\"scatter\"},{\"hoverinfo\":\"none\",\"line\":{\"color\":\"#b15928\",\"width\":1},\"mode\":\"lines\",\"x\":[-0.0012278436915948987,-0.0012278436915948987,null],\"y\":[-0.06282893568277359,-0.06282893568277359,null],\"type\":\"scatter\"},{\"hoverinfo\":\"none\",\"line\":{\"color\":\"#b15928\",\"width\":1},\"mode\":\"lines\",\"x\":[-0.0012278436915948987,-0.0011214675614610314,null],\"y\":[-0.06282893568277359,-0.0858834981918335,null],\"type\":\"scatter\"},{\"hoverinfo\":\"none\",\"line\":{\"color\":\"#b15928\",\"width\":1},\"mode\":\"lines\",\"x\":[-0.0012278436915948987,-0.010500005446374416,null],\"y\":[-0.06282893568277359,-0.05525897815823555,null],\"type\":\"scatter\"},{\"hoverinfo\":\"none\",\"line\":{\"color\":\"#b15928\",\"width\":1},\"mode\":\"lines\",\"x\":[-0.0012278436915948987,-0.013646400533616543,null],\"y\":[-0.06282893568277359,-0.10872131586074829,null],\"type\":\"scatter\"},{\"hoverinfo\":\"none\",\"line\":{\"color\":\"#b15928\",\"width\":1},\"mode\":\"lines\",\"x\":[-0.0012278436915948987,0.0031067070085555315,null],\"y\":[-0.06282893568277359,-0.11121534556150436,null],\"type\":\"scatter\"},{\"hoverinfo\":\"none\",\"line\":{\"color\":\"#b15928\",\"width\":1},\"mode\":\"lines\",\"x\":[-0.0012278436915948987,-0.0060384152457118034,null],\"y\":[-0.06282893568277359,-0.0675717145204544,null],\"type\":\"scatter\"},{\"hoverinfo\":\"none\",\"line\":{\"color\":\"#b15928\",\"width\":1},\"mode\":\"lines\",\"x\":[-0.0012278436915948987,-0.01676364056766033,null],\"y\":[-0.06282893568277359,-0.08809787034988403,null],\"type\":\"scatter\"},{\"hoverinfo\":\"none\",\"line\":{\"color\":\"#b15928\",\"width\":1},\"mode\":\"lines\",\"x\":[-0.0012278436915948987,0.01627599447965622,null],\"y\":[-0.06282893568277359,-0.10823146253824234,null],\"type\":\"scatter\"},{\"hoverinfo\":\"none\",\"line\":{\"color\":\"#b15928\",\"width\":1},\"mode\":\"lines\",\"x\":[-0.0012278436915948987,-0.028231751173734665,null],\"y\":[-0.06282893568277359,-0.06372730433940887,null],\"type\":\"scatter\"},{\"hoverinfo\":\"none\",\"line\":{\"color\":\"#b15928\",\"width\":1},\"mode\":\"lines\",\"x\":[0.09869018942117691,0.06611188501119614,null],\"y\":[0.05548538640141487,0.011177261359989643,null],\"type\":\"scatter\"},{\"hoverinfo\":\"none\",\"line\":{\"color\":\"#b15928\",\"width\":1},\"mode\":\"lines\",\"x\":[0.05031382665038109,-0.009411833249032497,null],\"y\":[0.02585100196301937,-0.09530764818191528,null],\"type\":\"scatter\"},{\"hoverinfo\":\"none\",\"line\":{\"color\":\"#b15928\",\"width\":1},\"mode\":\"lines\",\"x\":[0.05031382665038109,0.08647139370441437,null],\"y\":[0.02585100196301937,0.012992375530302525,null],\"type\":\"scatter\"},{\"hoverinfo\":\"none\",\"line\":{\"color\":\"#b15928\",\"width\":1},\"mode\":\"lines\",\"x\":[0.05031382665038109,0.05031382665038109,null],\"y\":[0.02585100196301937,0.02585100196301937,null],\"type\":\"scatter\"},{\"hoverinfo\":\"none\",\"line\":{\"color\":\"#b15928\",\"width\":1},\"mode\":\"lines\",\"x\":[0.05031382665038109,0.11297459155321121,null],\"y\":[0.02585100196301937,0.021347735077142715,null],\"type\":\"scatter\"},{\"hoverinfo\":\"none\",\"line\":{\"color\":\"#b15928\",\"width\":1},\"mode\":\"lines\",\"x\":[0.05031382665038109,0.08190315216779709,null],\"y\":[0.02585100196301937,0.03527268022298813,null],\"type\":\"scatter\"},{\"hoverinfo\":\"none\",\"line\":{\"color\":\"#b15928\",\"width\":1},\"mode\":\"lines\",\"x\":[0.05031382665038109,0.08428648114204407,null],\"y\":[0.02585100196301937,0.026960067451000214,null],\"type\":\"scatter\"},{\"hoverinfo\":\"none\",\"line\":{\"color\":\"#b15928\",\"width\":1},\"mode\":\"lines\",\"x\":[0.05031382665038109,0.014455022290349007,null],\"y\":[0.02585100196301937,0.08197908103466034,null],\"type\":\"scatter\"},{\"hoverinfo\":\"none\",\"line\":{\"color\":\"#b15928\",\"width\":1},\"mode\":\"lines\",\"x\":[0.06611188501119614,-0.009411833249032497,null],\"y\":[0.011177261359989643,-0.09530764818191528,null],\"type\":\"scatter\"},{\"hoverinfo\":\"none\",\"line\":{\"color\":\"#b15928\",\"width\":1},\"mode\":\"lines\",\"x\":[0.06611188501119614,0.11428499966859818,null],\"y\":[0.011177261359989643,0.06138763949275017,null],\"type\":\"scatter\"},{\"hoverinfo\":\"none\",\"line\":{\"color\":\"#b15928\",\"width\":1},\"mode\":\"lines\",\"x\":[0.06611188501119614,0.08647139370441437,null],\"y\":[0.011177261359989643,0.012992375530302525,null],\"type\":\"scatter\"},{\"hoverinfo\":\"none\",\"line\":{\"color\":\"#b15928\",\"width\":1},\"mode\":\"lines\",\"x\":[0.06611188501119614,0.11297459155321121,null],\"y\":[0.011177261359989643,0.021347735077142715,null],\"type\":\"scatter\"},{\"hoverinfo\":\"none\",\"line\":{\"color\":\"#b15928\",\"width\":1},\"mode\":\"lines\",\"x\":[0.06611188501119614,0.07621454447507858,null],\"y\":[0.011177261359989643,0.03477798402309418,null],\"type\":\"scatter\"},{\"hoverinfo\":\"none\",\"line\":{\"color\":\"#b15928\",\"width\":1},\"mode\":\"lines\",\"x\":[0.06611188501119614,0.0279057826846838,null],\"y\":[0.011177261359989643,0.040724098682403564,null],\"type\":\"scatter\"},{\"hoverinfo\":\"none\",\"line\":{\"color\":\"#b15928\",\"width\":1},\"mode\":\"lines\",\"x\":[0.06611188501119614,-0.010732710361480713,null],\"y\":[0.011177261359989643,0.03986933082342148,null],\"type\":\"scatter\"},{\"hoverinfo\":\"none\",\"line\":{\"color\":\"#b15928\",\"width\":1},\"mode\":\"lines\",\"x\":[0.06611188501119614,-0.010698355734348297,null],\"y\":[0.011177261359989643,0.0028660467360168695,null],\"type\":\"scatter\"},{\"hoverinfo\":\"none\",\"line\":{\"color\":\"#b15928\",\"width\":1},\"mode\":\"lines\",\"x\":[0.06611188501119614,0.1549825221300125,null],\"y\":[0.011177261359989643,0.04248245805501938,null],\"type\":\"scatter\"},{\"hoverinfo\":\"none\",\"line\":{\"color\":\"#b15928\",\"width\":1},\"mode\":\"lines\",\"x\":[0.06611188501119614,0.07436678558588028,null],\"y\":[0.011177261359989643,0.013922978192567825,null],\"type\":\"scatter\"},{\"hoverinfo\":\"none\",\"line\":{\"color\":\"#b15928\",\"width\":1},\"mode\":\"lines\",\"x\":[0.06611188501119614,0.06611188501119614,null],\"y\":[0.011177261359989643,0.011177261359989643,null],\"type\":\"scatter\"},{\"hoverinfo\":\"none\",\"line\":{\"color\":\"#b15928\",\"width\":1},\"mode\":\"lines\",\"x\":[0.06611188501119614,0.08428648114204407,null],\"y\":[0.011177261359989643,0.026960067451000214,null],\"type\":\"scatter\"},{\"hoverinfo\":\"none\",\"line\":{\"color\":\"#b15928\",\"width\":1},\"mode\":\"lines\",\"x\":[0.06611188501119614,0.14341601729393005,null],\"y\":[0.011177261359989643,-0.030219033360481262,null],\"type\":\"scatter\"},{\"hoverinfo\":\"none\",\"line\":{\"color\":\"#b15928\",\"width\":1},\"mode\":\"lines\",\"x\":[0.06611188501119614,0.040209438651800156,null],\"y\":[0.011177261359989643,-0.03278698772192001,null],\"type\":\"scatter\"},{\"hoverinfo\":\"none\",\"line\":{\"color\":\"#b15928\",\"width\":1},\"mode\":\"lines\",\"x\":[0.06611188501119614,0.088345967233181,null],\"y\":[0.011177261359989643,-0.02072688564658165,null],\"type\":\"scatter\"},{\"hoverinfo\":\"none\",\"line\":{\"color\":\"#b15928\",\"width\":1},\"mode\":\"lines\",\"x\":[0.06611188501119614,0.04966125637292862,null],\"y\":[0.011177261359989643,0.0526713989675045,null],\"type\":\"scatter\"},{\"hoverinfo\":\"none\",\"line\":{\"color\":\"#b15928\",\"width\":1},\"mode\":\"lines\",\"x\":[0.06611188501119614,0.13052675127983093,null],\"y\":[0.011177261359989643,-0.02317466214299202,null],\"type\":\"scatter\"},{\"hoverinfo\":\"none\",\"line\":{\"color\":\"#b15928\",\"width\":1},\"mode\":\"lines\",\"x\":[0.06611188501119614,0.11547510325908661,null],\"y\":[0.011177261359989643,0.011578048579394817,null],\"type\":\"scatter\"},{\"hoverinfo\":\"none\",\"line\":{\"color\":\"#b15928\",\"width\":1},\"mode\":\"lines\",\"x\":[0.06611188501119614,0.09952220320701599,null],\"y\":[0.011177261359989643,0.002265270333737135,null],\"type\":\"scatter\"},{\"hoverinfo\":\"none\",\"line\":{\"color\":\"#b15928\",\"width\":1},\"mode\":\"lines\",\"x\":[0.06611188501119614,0.08163558691740036,null],\"y\":[0.011177261359989643,0.002645733067765832,null],\"type\":\"scatter\"},{\"hoverinfo\":\"none\",\"line\":{\"color\":\"#b15928\",\"width\":1},\"mode\":\"lines\",\"x\":[0.06611188501119614,0.06977780163288116,null],\"y\":[0.011177261359989643,0.04905867576599121,null],\"type\":\"scatter\"},{\"hoverinfo\":\"none\",\"line\":{\"color\":\"#b15928\",\"width\":1},\"mode\":\"lines\",\"x\":[0.06611188501119614,0.1300722062587738,null],\"y\":[0.011177261359989643,0.018686966970562935,null],\"type\":\"scatter\"},{\"hoverinfo\":\"none\",\"line\":{\"color\":\"#b15928\",\"width\":1},\"mode\":\"lines\",\"x\":[0.06611188501119614,0.13576294481754303,null],\"y\":[0.011177261359989643,-0.0008830911247059703,null],\"type\":\"scatter\"},{\"hoverinfo\":\"none\",\"line\":{\"color\":\"#b15928\",\"width\":1},\"mode\":\"lines\",\"x\":[0.06611188501119614,0.13038703799247742,null],\"y\":[0.011177261359989643,-0.01461169682443142,null],\"type\":\"scatter\"},{\"hoverinfo\":\"none\",\"line\":{\"color\":\"#b15928\",\"width\":1},\"mode\":\"lines\",\"x\":[0.06611188501119614,0.12678906321525574,null],\"y\":[0.011177261359989643,0.011829417198896408,null],\"type\":\"scatter\"},{\"hoverinfo\":\"none\",\"line\":{\"color\":\"#b15928\",\"width\":1},\"mode\":\"lines\",\"x\":[0.06611188501119614,0.15570880472660065,null],\"y\":[0.011177261359989643,0.014825956895947456,null],\"type\":\"scatter\"},{\"hoverinfo\":\"none\",\"line\":{\"color\":\"#b15928\",\"width\":1},\"mode\":\"lines\",\"x\":[0.06611188501119614,0.18406370282173157,null],\"y\":[0.011177261359989643,-0.03254811838269234,null],\"type\":\"scatter\"},{\"hoverinfo\":\"none\",\"line\":{\"color\":\"#b15928\",\"width\":1},\"mode\":\"lines\",\"x\":[0.06611188501119614,0.16605694591999054,null],\"y\":[0.011177261359989643,-0.025780269876122475,null],\"type\":\"scatter\"},{\"hoverinfo\":\"none\",\"line\":{\"color\":\"#b15928\",\"width\":1},\"mode\":\"lines\",\"x\":[0.06611188501119614,0.19028663635253906,null],\"y\":[0.011177261359989643,0.009158683009445667,null],\"type\":\"scatter\"},{\"hoverinfo\":\"none\",\"line\":{\"color\":\"#b15928\",\"width\":1},\"mode\":\"lines\",\"x\":[0.057536497712135315,0.07621454447507858,null],\"y\":[0.03414888679981232,0.03477798402309418,null],\"type\":\"scatter\"},{\"hoverinfo\":\"none\",\"line\":{\"color\":\"#b15928\",\"width\":1},\"mode\":\"lines\",\"x\":[0.057536497712135315,0.036452848464250565,null],\"y\":[0.03414888679981232,-0.011518123559653759,null],\"type\":\"scatter\"},{\"hoverinfo\":\"none\",\"line\":{\"color\":\"#b15928\",\"width\":1},\"mode\":\"lines\",\"x\":[0.036452848464250565,-0.009411833249032497,null],\"y\":[-0.011518123559653759,-0.09530764818191528,null],\"type\":\"scatter\"},{\"hoverinfo\":\"none\",\"line\":{\"color\":\"#b15928\",\"width\":1},\"mode\":\"lines\",\"x\":[0.036452848464250565,0.07621454447507858,null],\"y\":[-0.011518123559653759,0.03477798402309418,null],\"type\":\"scatter\"},{\"hoverinfo\":\"none\",\"line\":{\"color\":\"#b15928\",\"width\":1},\"mode\":\"lines\",\"x\":[0.036452848464250565,0.03503832593560219,null],\"y\":[-0.011518123559653759,-0.060259267687797546,null],\"type\":\"scatter\"},{\"hoverinfo\":\"none\",\"line\":{\"color\":\"#b15928\",\"width\":1},\"mode\":\"lines\",\"x\":[0.036452848464250565,0.036452848464250565,null],\"y\":[-0.011518123559653759,-0.011518123559653759,null],\"type\":\"scatter\"},{\"hoverinfo\":\"none\",\"line\":{\"color\":\"#b15928\",\"width\":1},\"mode\":\"lines\",\"x\":[0.036452848464250565,0.129190132021904,null],\"y\":[-0.011518123559653759,-0.06272358447313309,null],\"type\":\"scatter\"},{\"hoverinfo\":\"none\",\"line\":{\"color\":\"#b15928\",\"width\":1},\"mode\":\"lines\",\"x\":[0.036452848464250565,0.03576474264264107,null],\"y\":[-0.011518123559653759,-0.046536825597286224,null],\"type\":\"scatter\"},{\"hoverinfo\":\"none\",\"line\":{\"color\":\"#b15928\",\"width\":1},\"mode\":\"lines\",\"x\":[-0.028187397867441177,-0.009411833249032497,null],\"y\":[0.01833406277000904,-0.09530764818191528,null],\"type\":\"scatter\"},{\"hoverinfo\":\"none\",\"line\":{\"color\":\"#b15928\",\"width\":1},\"mode\":\"lines\",\"x\":[-0.028187397867441177,-0.013280787505209446,null],\"y\":[0.01833406277000904,0.06461293250322342,null],\"type\":\"scatter\"},{\"hoverinfo\":\"none\",\"line\":{\"color\":\"#b15928\",\"width\":1},\"mode\":\"lines\",\"x\":[0.009626398794353008,-0.009411833249032497,null],\"y\":[0.0010951877338811755,-0.09530764818191528,null],\"type\":\"scatter\"},{\"hoverinfo\":\"none\",\"line\":{\"color\":\"#b15928\",\"width\":1},\"mode\":\"lines\",\"x\":[-0.0060384152457118034,-0.009411833249032497,null],\"y\":[-0.0675717145204544,-0.09530764818191528,null],\"type\":\"scatter\"},{\"hoverinfo\":\"none\",\"line\":{\"color\":\"#b15928\",\"width\":1},\"mode\":\"lines\",\"x\":[-0.01735714077949524,-0.009411833249032497,null],\"y\":[-0.007083676755428314,-0.09530764818191528,null],\"type\":\"scatter\"},{\"hoverinfo\":\"none\",\"line\":{\"color\":\"#b15928\",\"width\":1},\"mode\":\"lines\",\"x\":[-0.029671821743249893,-0.009411833249032497,null],\"y\":[-0.022692063823342323,-0.09530764818191528,null],\"type\":\"scatter\"},{\"hoverinfo\":\"none\",\"line\":{\"color\":\"#b15928\",\"width\":1},\"mode\":\"lines\",\"x\":[0.01397229265421629,-0.009411833249032497,null],\"y\":[-0.0034447722136974335,-0.09530764818191528,null],\"type\":\"scatter\"},{\"hoverinfo\":\"none\",\"line\":{\"color\":\"#b15928\",\"width\":1},\"mode\":\"lines\",\"x\":[0.012168542481958866,-0.009411833249032497,null],\"y\":[-0.014375898987054825,-0.09530764818191528,null],\"type\":\"scatter\"},{\"hoverinfo\":\"none\",\"line\":{\"color\":\"#b15928\",\"width\":1},\"mode\":\"lines\",\"x\":[0.023454157635569572,-0.009411833249032497,null],\"y\":[-0.010296453721821308,-0.09530764818191528,null],\"type\":\"scatter\"},{\"hoverinfo\":\"none\",\"line\":{\"color\":\"#b15928\",\"width\":1},\"mode\":\"lines\",\"x\":[0.08447082340717316,0.11557093262672424,null],\"y\":[0.053595248609781265,0.03998411074280739,null],\"type\":\"scatter\"},{\"hoverinfo\":\"none\",\"line\":{\"color\":\"#b15928\",\"width\":1},\"mode\":\"lines\",\"x\":[0.08447082340717316,0.12972775101661682,null],\"y\":[0.053595248609781265,0.041766684502363205,null],\"type\":\"scatter\"},{\"hoverinfo\":\"none\",\"line\":{\"color\":\"#b15928\",\"width\":1},\"mode\":\"lines\",\"x\":[-0.003736877581104636,-0.009411833249032497,null],\"y\":[0.004882264882326126,-0.09530764818191528,null],\"type\":\"scatter\"},{\"hoverinfo\":\"none\",\"line\":{\"color\":\"#b15928\",\"width\":1},\"mode\":\"lines\",\"x\":[-0.010500005446374416,-0.009411833249032497,null],\"y\":[-0.05525897815823555,-0.09530764818191528,null],\"type\":\"scatter\"},{\"hoverinfo\":\"none\",\"line\":{\"color\":\"#b15928\",\"width\":1},\"mode\":\"lines\",\"x\":[0.009927541017532349,-0.009411833249032497,null],\"y\":[-0.045905955135822296,-0.09530764818191528,null],\"type\":\"scatter\"},{\"hoverinfo\":\"none\",\"line\":{\"color\":\"#b15928\",\"width\":1},\"mode\":\"lines\",\"x\":[0.028283098712563515,-0.009411833249032497,null],\"y\":[0.0005642577889375389,-0.09530764818191528,null],\"type\":\"scatter\"},{\"hoverinfo\":\"none\",\"line\":{\"color\":\"#b15928\",\"width\":1},\"mode\":\"lines\",\"x\":[-0.023312082514166832,-0.009411833249032497,null],\"y\":[0.016025826334953308,-0.09530764818191528,null],\"type\":\"scatter\"},{\"hoverinfo\":\"none\",\"line\":{\"color\":\"#b15928\",\"width\":1},\"mode\":\"lines\",\"x\":[-0.023312082514166832,-0.053003836423158646,null],\"y\":[0.016025826334953308,0.06294642388820648,null],\"type\":\"scatter\"},{\"hoverinfo\":\"none\",\"line\":{\"color\":\"#b15928\",\"width\":1},\"mode\":\"lines\",\"x\":[0.05321650207042694,-0.009411833249032497,null],\"y\":[-0.02806856483221054,-0.09530764818191528,null],\"type\":\"scatter\"},{\"hoverinfo\":\"none\",\"line\":{\"color\":\"#b15928\",\"width\":1},\"mode\":\"lines\",\"x\":[0.006899488158524036,-0.009411833249032497,null],\"y\":[-0.05337626859545708,-0.09530764818191528,null],\"type\":\"scatter\"},{\"hoverinfo\":\"none\",\"line\":{\"color\":\"#b15928\",\"width\":1},\"mode\":\"lines\",\"x\":[-0.017336739227175713,-0.009411833249032497,null],\"y\":[0.002871772740036249,-0.09530764818191528,null],\"type\":\"scatter\"},{\"hoverinfo\":\"none\",\"line\":{\"color\":\"#b15928\",\"width\":1},\"mode\":\"lines\",\"x\":[-0.017336739227175713,-0.053003836423158646,null],\"y\":[0.002871772740036249,0.06294642388820648,null],\"type\":\"scatter\"},{\"hoverinfo\":\"none\",\"line\":{\"color\":\"#b15928\",\"width\":1},\"mode\":\"lines\",\"x\":[0.026237595826387405,-0.009411833249032497,null],\"y\":[-0.041808512061834335,-0.09530764818191528,null],\"type\":\"scatter\"},{\"hoverinfo\":\"none\",\"line\":{\"color\":\"#b15928\",\"width\":1},\"mode\":\"lines\",\"x\":[-0.009411833249032497,0.0069460817612707615,null],\"y\":[-0.09530764818191528,-0.09216734021902084,null],\"type\":\"scatter\"},{\"hoverinfo\":\"none\",\"line\":{\"color\":\"#a6cee3\",\"width\":1},\"mode\":\"lines\",\"x\":[-0.009411833249032497,-0.009411833249032497,null],\"y\":[-0.09530764818191528,-0.09530764818191528,null],\"type\":\"scatter\"},{\"hoverinfo\":\"none\",\"line\":{\"color\":\"#b15928\",\"width\":1},\"mode\":\"lines\",\"x\":[-0.009411833249032497,-0.02051335759460926,null],\"y\":[-0.09530764818191528,-0.16254153847694397,null],\"type\":\"scatter\"},{\"hoverinfo\":\"none\",\"line\":{\"color\":\"#b15928\",\"width\":1},\"mode\":\"lines\",\"x\":[-0.009411833249032497,-0.05083012580871582,null],\"y\":[-0.09530764818191528,-0.20744521915912628,null],\"type\":\"scatter\"},{\"hoverinfo\":\"none\",\"line\":{\"color\":\"#b15928\",\"width\":1},\"mode\":\"lines\",\"x\":[-0.009411833249032497,-0.07416068762540817,null],\"y\":[-0.09530764818191528,-0.03424610570073128,null],\"type\":\"scatter\"},{\"hoverinfo\":\"none\",\"line\":{\"color\":\"#b15928\",\"width\":1},\"mode\":\"lines\",\"x\":[-0.009411833249032497,-0.07008860260248184,null],\"y\":[-0.09530764818191528,-0.1510704606771469,null],\"type\":\"scatter\"},{\"hoverinfo\":\"none\",\"line\":{\"color\":\"#b15928\",\"width\":1},\"mode\":\"lines\",\"x\":[-0.009411833249032497,0.018564408645033836,null],\"y\":[-0.09530764818191528,-0.20327068865299225,null],\"type\":\"scatter\"},{\"hoverinfo\":\"none\",\"line\":{\"color\":\"#b15928\",\"width\":1},\"mode\":\"lines\",\"x\":[-0.009411833249032497,-0.007273951545357704,null],\"y\":[-0.09530764818191528,-0.1431572586297989,null],\"type\":\"scatter\"},{\"hoverinfo\":\"none\",\"line\":{\"color\":\"#b15928\",\"width\":1},\"mode\":\"lines\",\"x\":[-0.009411833249032497,-0.1105809137225151,null],\"y\":[-0.09530764818191528,-0.11434967815876007,null],\"type\":\"scatter\"},{\"hoverinfo\":\"none\",\"line\":{\"color\":\"#b15928\",\"width\":1},\"mode\":\"lines\",\"x\":[-0.009411833249032497,0.08468523621559143,null],\"y\":[-0.09530764818191528,-0.14156432449817657,null],\"type\":\"scatter\"},{\"hoverinfo\":\"none\",\"line\":{\"color\":\"#b15928\",\"width\":1},\"mode\":\"lines\",\"x\":[-0.009411833249032497,0.06314156949520111,null],\"y\":[-0.09530764818191528,-0.141541987657547,null],\"type\":\"scatter\"},{\"hoverinfo\":\"none\",\"line\":{\"color\":\"#b15928\",\"width\":1},\"mode\":\"lines\",\"x\":[-0.009411833249032497,-0.042018990963697433,null],\"y\":[-0.09530764818191528,-0.16083256900310516,null],\"type\":\"scatter\"},{\"hoverinfo\":\"none\",\"line\":{\"color\":\"#b15928\",\"width\":1},\"mode\":\"lines\",\"x\":[-0.009411833249032497,0.06653253734111786,null],\"y\":[-0.09530764818191528,-0.12372168153524399,null],\"type\":\"scatter\"},{\"hoverinfo\":\"none\",\"line\":{\"color\":\"#b15928\",\"width\":1},\"mode\":\"lines\",\"x\":[-0.009411833249032497,0.061029545962810516,null],\"y\":[-0.09530764818191528,-0.21518263220787048,null],\"type\":\"scatter\"},{\"hoverinfo\":\"none\",\"line\":{\"color\":\"#b15928\",\"width\":1},\"mode\":\"lines\",\"x\":[-0.009411833249032497,-0.10617833584547043,null],\"y\":[-0.09530764818191528,-0.19944235682487488,null],\"type\":\"scatter\"},{\"hoverinfo\":\"none\",\"line\":{\"color\":\"#b15928\",\"width\":1},\"mode\":\"lines\",\"x\":[-0.009411833249032497,-0.12160012871026993,null],\"y\":[-0.09530764818191528,-0.10755869746208191,null],\"type\":\"scatter\"},{\"hoverinfo\":\"none\",\"line\":{\"color\":\"#b15928\",\"width\":1},\"mode\":\"lines\",\"x\":[-0.009411833249032497,-0.0011214675614610314,null],\"y\":[-0.09530764818191528,-0.0858834981918335,null],\"type\":\"scatter\"},{\"hoverinfo\":\"none\",\"line\":{\"color\":\"#b15928\",\"width\":1},\"mode\":\"lines\",\"x\":[-0.009411833249032497,0.03503832593560219,null],\"y\":[-0.09530764818191528,-0.060259267687797546,null],\"type\":\"scatter\"},{\"hoverinfo\":\"none\",\"line\":{\"color\":\"#b15928\",\"width\":1},\"mode\":\"lines\",\"x\":[-0.009411833249032497,-0.0961696058511734,null],\"y\":[-0.09530764818191528,-0.20845456421375275,null],\"type\":\"scatter\"},{\"hoverinfo\":\"none\",\"line\":{\"color\":\"#b15928\",\"width\":1},\"mode\":\"lines\",\"x\":[-0.009411833249032497,-0.049322862178087234,null],\"y\":[-0.09530764818191528,-0.11264659464359283,null],\"type\":\"scatter\"},{\"hoverinfo\":\"none\",\"line\":{\"color\":\"#b15928\",\"width\":1},\"mode\":\"lines\",\"x\":[-0.009411833249032497,-0.11989399790763855,null],\"y\":[-0.09530764818191528,-0.12069611996412277,null],\"type\":\"scatter\"},{\"hoverinfo\":\"none\",\"line\":{\"color\":\"#b15928\",\"width\":1},\"mode\":\"lines\",\"x\":[-0.009411833249032497,-0.017883894965052605,null],\"y\":[-0.09530764818191528,-0.23957549035549164,null],\"type\":\"scatter\"},{\"hoverinfo\":\"none\",\"line\":{\"color\":\"#b15928\",\"width\":1},\"mode\":\"lines\",\"x\":[-0.009411833249032497,-0.020311718806624413,null],\"y\":[-0.09530764818191528,-0.12898626923561096,null],\"type\":\"scatter\"},{\"hoverinfo\":\"none\",\"line\":{\"color\":\"#b15928\",\"width\":1},\"mode\":\"lines\",\"x\":[-0.009411833249032497,-0.055475421249866486,null],\"y\":[-0.09530764818191528,-0.1371343433856964,null],\"type\":\"scatter\"},{\"hoverinfo\":\"none\",\"line\":{\"color\":\"#b15928\",\"width\":1},\"mode\":\"lines\",\"x\":[-0.009411833249032497,0.050253529101610184,null],\"y\":[-0.09530764818191528,-0.22245649993419647,null],\"type\":\"scatter\"},{\"hoverinfo\":\"none\",\"line\":{\"color\":\"#b15928\",\"width\":1},\"mode\":\"lines\",\"x\":[-0.009411833249032497,0.038413163274526596,null],\"y\":[-0.09530764818191528,-0.2291441410779953,null],\"type\":\"scatter\"},{\"hoverinfo\":\"none\",\"line\":{\"color\":\"#b15928\",\"width\":1},\"mode\":\"lines\",\"x\":[-0.009411833249032497,-0.05767255276441574,null],\"y\":[-0.09530764818191528,-0.22945930063724518,null],\"type\":\"scatter\"},{\"hoverinfo\":\"none\",\"line\":{\"color\":\"#b15928\",\"width\":1},\"mode\":\"lines\",\"x\":[-0.009411833249032497,0.09138484299182892,null],\"y\":[-0.09530764818191528,-0.18895816802978516,null],\"type\":\"scatter\"},{\"hoverinfo\":\"none\",\"line\":{\"color\":\"#b15928\",\"width\":1},\"mode\":\"lines\",\"x\":[-0.009411833249032497,0.019443750381469727,null],\"y\":[-0.09530764818191528,-0.14228762686252594,null],\"type\":\"scatter\"},{\"hoverinfo\":\"none\",\"line\":{\"color\":\"#b15928\",\"width\":1},\"mode\":\"lines\",\"x\":[-0.009411833249032497,-0.043755725026130676,null],\"y\":[-0.09530764818191528,-0.12201527506113052,null],\"type\":\"scatter\"},{\"hoverinfo\":\"none\",\"line\":{\"color\":\"#b15928\",\"width\":1},\"mode\":\"lines\",\"x\":[-0.009411833249032497,-0.08326706290245056,null],\"y\":[-0.09530764818191528,-0.13238847255706787,null],\"type\":\"scatter\"},{\"hoverinfo\":\"none\",\"line\":{\"color\":\"#b15928\",\"width\":1},\"mode\":\"lines\",\"x\":[-0.009411833249032497,-0.1397274285554886,null],\"y\":[-0.09530764818191528,-0.13627099990844727,null],\"type\":\"scatter\"},{\"hoverinfo\":\"none\",\"line\":{\"color\":\"#b15928\",\"width\":1},\"mode\":\"lines\",\"x\":[-0.009411833249032497,-0.020242134109139442,null],\"y\":[-0.09530764818191528,-0.17186875641345978,null],\"type\":\"scatter\"},{\"hoverinfo\":\"none\",\"line\":{\"color\":\"#b15928\",\"width\":1},\"mode\":\"lines\",\"x\":[-0.009411833249032497,-0.036398015916347504,null],\"y\":[-0.09530764818191528,-0.0778149962425232,null],\"type\":\"scatter\"},{\"hoverinfo\":\"none\",\"line\":{\"color\":\"#b15928\",\"width\":1},\"mode\":\"lines\",\"x\":[-0.009411833249032497,-0.02444026991724968,null],\"y\":[-0.09530764818191528,-0.1428903192281723,null],\"type\":\"scatter\"},{\"hoverinfo\":\"none\",\"line\":{\"color\":\"#b15928\",\"width\":1},\"mode\":\"lines\",\"x\":[-0.009411833249032497,-0.06883612275123596,null],\"y\":[-0.09530764818191528,-0.09523183107376099,null],\"type\":\"scatter\"},{\"hoverinfo\":\"none\",\"line\":{\"color\":\"#b15928\",\"width\":1},\"mode\":\"lines\",\"x\":[-0.009411833249032497,-0.07242286205291748,null],\"y\":[-0.09530764818191528,-0.22505055367946625,null],\"type\":\"scatter\"},{\"hoverinfo\":\"none\",\"line\":{\"color\":\"#b15928\",\"width\":1},\"mode\":\"lines\",\"x\":[-0.009411833249032497,0.022998034954071045,null],\"y\":[-0.09530764818191528,-0.23558488488197327,null],\"type\":\"scatter\"},{\"hoverinfo\":\"none\",\"line\":{\"color\":\"#b15928\",\"width\":1},\"mode\":\"lines\",\"x\":[-0.009411833249032497,-0.028231751173734665,null],\"y\":[-0.09530764818191528,-0.06372730433940887,null],\"type\":\"scatter\"},{\"hoverinfo\":\"none\",\"line\":{\"color\":\"#b15928\",\"width\":1},\"mode\":\"lines\",\"x\":[-0.009411833249032497,-0.03015127405524254,null],\"y\":[-0.09530764818191528,-0.15725117921829224,null],\"type\":\"scatter\"},{\"hoverinfo\":\"none\",\"line\":{\"color\":\"#b15928\",\"width\":1},\"mode\":\"lines\",\"x\":[-0.009411833249032497,-0.029779694974422455,null],\"y\":[-0.09530764818191528,-0.08563791960477829,null],\"type\":\"scatter\"},{\"hoverinfo\":\"none\",\"line\":{\"color\":\"#b15928\",\"width\":1},\"mode\":\"lines\",\"x\":[-0.009411833249032497,0.08058281987905502,null],\"y\":[-0.09530764818191528,-0.19937506318092346,null],\"type\":\"scatter\"},{\"hoverinfo\":\"none\",\"line\":{\"color\":\"#b15928\",\"width\":1},\"mode\":\"lines\",\"x\":[-0.009411833249032497,-0.04101648926734924,null],\"y\":[-0.09530764818191528,-0.22217817604541779,null],\"type\":\"scatter\"},{\"hoverinfo\":\"none\",\"line\":{\"color\":\"#b15928\",\"width\":1},\"mode\":\"lines\",\"x\":[-0.009411833249032497,0.08237699419260025,null],\"y\":[-0.09530764818191528,-0.16152411699295044,null],\"type\":\"scatter\"},{\"hoverinfo\":\"none\",\"line\":{\"color\":\"#b15928\",\"width\":1},\"mode\":\"lines\",\"x\":[-0.009411833249032497,-0.13555046916007996,null],\"y\":[-0.09530764818191528,-0.1535041332244873,null],\"type\":\"scatter\"},{\"hoverinfo\":\"none\",\"line\":{\"color\":\"#b15928\",\"width\":1},\"mode\":\"lines\",\"x\":[-0.009411833249032497,-0.08519002050161362,null],\"y\":[-0.09530764818191528,-0.2172580361366272,null],\"type\":\"scatter\"},{\"hoverinfo\":\"none\",\"line\":{\"color\":\"#b15928\",\"width\":1},\"mode\":\"lines\",\"x\":[-0.009411833249032497,-0.049093008041381836,null],\"y\":[-0.09530764818191528,-0.08523024618625641,null],\"type\":\"scatter\"},{\"hoverinfo\":\"none\",\"line\":{\"color\":\"#b15928\",\"width\":1},\"mode\":\"lines\",\"x\":[-0.009411833249032497,-0.06223158910870552,null],\"y\":[-0.09530764818191528,-0.16330331563949585,null],\"type\":\"scatter\"},{\"hoverinfo\":\"none\",\"line\":{\"color\":\"#b15928\",\"width\":1},\"mode\":\"lines\",\"x\":[-0.009411833249032497,-0.10378210991621017,null],\"y\":[-0.09530764818191528,-0.1422654092311859,null],\"type\":\"scatter\"},{\"hoverinfo\":\"none\",\"line\":{\"color\":\"#b15928\",\"width\":1},\"mode\":\"lines\",\"x\":[-0.009411833249032497,0.05601879954338074,null],\"y\":[-0.09530764818191528,-0.18294304609298706,null],\"type\":\"scatter\"},{\"hoverinfo\":\"none\",\"line\":{\"color\":\"#b15928\",\"width\":1},\"mode\":\"lines\",\"x\":[-0.009411833249032497,0.03704700246453285,null],\"y\":[-0.09530764818191528,-0.16325652599334717,null],\"type\":\"scatter\"},{\"hoverinfo\":\"none\",\"line\":{\"color\":\"#b15928\",\"width\":1},\"mode\":\"lines\",\"x\":[-0.009411833249032497,-0.033822622150182724,null],\"y\":[-0.09530764818191528,-0.09629584103822708,null],\"type\":\"scatter\"},{\"hoverinfo\":\"none\",\"line\":{\"color\":\"#b15928\",\"width\":1},\"mode\":\"lines\",\"x\":[-0.009411833249032497,-0.12459582835435867,null],\"y\":[-0.09530764818191528,-0.14356978237628937,null],\"type\":\"scatter\"},{\"hoverinfo\":\"none\",\"line\":{\"color\":\"#b15928\",\"width\":1},\"mode\":\"lines\",\"x\":[-0.009411833249032497,-0.008871680125594139,null],\"y\":[-0.09530764818191528,-0.021061770617961884,null],\"type\":\"scatter\"},{\"hoverinfo\":\"none\",\"line\":{\"color\":\"#b15928\",\"width\":1},\"mode\":\"lines\",\"x\":[-0.009411833249032497,-0.1179274320602417,null],\"y\":[-0.09530764818191528,-0.15779967606067657,null],\"type\":\"scatter\"},{\"hoverinfo\":\"none\",\"line\":{\"color\":\"#b15928\",\"width\":1},\"mode\":\"lines\",\"x\":[-0.009411833249032497,0.004039844498038292,null],\"y\":[-0.09530764818191528,-0.132720947265625,null],\"type\":\"scatter\"},{\"hoverinfo\":\"none\",\"line\":{\"color\":\"#b15928\",\"width\":1},\"mode\":\"lines\",\"x\":[-0.009411833249032497,0.09083793312311172,null],\"y\":[-0.09530764818191528,-0.08146306127309799,null],\"type\":\"scatter\"},{\"hoverinfo\":\"none\",\"line\":{\"color\":\"#b15928\",\"width\":1},\"mode\":\"lines\",\"x\":[-0.009411833249032497,0.042051367461681366,null],\"y\":[-0.09530764818191528,-0.1922193169593811,null],\"type\":\"scatter\"},{\"hoverinfo\":\"none\",\"line\":{\"color\":\"#b15928\",\"width\":1},\"mode\":\"lines\",\"x\":[-0.009411833249032497,0.06601673364639282,null],\"y\":[-0.09530764818191528,-0.1715506613254547,null],\"type\":\"scatter\"},{\"hoverinfo\":\"none\",\"line\":{\"color\":\"#b15928\",\"width\":1},\"mode\":\"lines\",\"x\":[-0.009411833249032497,-0.055281978100538254,null],\"y\":[-0.09530764818191528,-0.19485962390899658,null],\"type\":\"scatter\"},{\"hoverinfo\":\"none\",\"line\":{\"color\":\"#b15928\",\"width\":1},\"mode\":\"lines\",\"x\":[-0.009411833249032497,0.07945340871810913,null],\"y\":[-0.09530764818191528,-0.0784756988286972,null],\"type\":\"scatter\"},{\"hoverinfo\":\"none\",\"line\":{\"color\":\"#b15928\",\"width\":1},\"mode\":\"lines\",\"x\":[-0.009411833249032497,-0.08303123712539673,null],\"y\":[-0.09530764818191528,-0.174422487616539,null],\"type\":\"scatter\"},{\"hoverinfo\":\"none\",\"line\":{\"color\":\"#b15928\",\"width\":1},\"mode\":\"lines\",\"x\":[-0.009411833249032497,-0.013646400533616543,null],\"y\":[-0.09530764818191528,-0.10872131586074829,null],\"type\":\"scatter\"},{\"hoverinfo\":\"none\",\"line\":{\"color\":\"#b15928\",\"width\":1},\"mode\":\"lines\",\"x\":[-0.009411833249032497,0.0031067070085555315,null],\"y\":[-0.09530764818191528,-0.11121534556150436,null],\"type\":\"scatter\"},{\"hoverinfo\":\"none\",\"line\":{\"color\":\"#b15928\",\"width\":1},\"mode\":\"lines\",\"x\":[-0.009411833249032497,-0.030763862654566765,null],\"y\":[-0.09530764818191528,-0.13457554578781128,null],\"type\":\"scatter\"},{\"hoverinfo\":\"none\",\"line\":{\"color\":\"#b15928\",\"width\":1},\"mode\":\"lines\",\"x\":[-0.009411833249032497,0.002414688700810075,null],\"y\":[-0.09530764818191528,-0.18576927483081818,null],\"type\":\"scatter\"},{\"hoverinfo\":\"none\",\"line\":{\"color\":\"#b15928\",\"width\":1},\"mode\":\"lines\",\"x\":[-0.009411833249032497,-0.011360706761479378,null],\"y\":[-0.09530764818191528,-0.18653103709220886,null],\"type\":\"scatter\"},{\"hoverinfo\":\"none\",\"line\":{\"color\":\"#b15928\",\"width\":1},\"mode\":\"lines\",\"x\":[-0.009411833249032497,0.07367266714572906,null],\"y\":[-0.09530764818191528,-0.13645324110984802,null],\"type\":\"scatter\"},{\"hoverinfo\":\"none\",\"line\":{\"color\":\"#b15928\",\"width\":1},\"mode\":\"lines\",\"x\":[-0.009411833249032497,0.02853022702038288,null],\"y\":[-0.09530764818191528,-0.1805053949356079,null],\"type\":\"scatter\"},{\"hoverinfo\":\"none\",\"line\":{\"color\":\"#b15928\",\"width\":1},\"mode\":\"lines\",\"x\":[-0.009411833249032497,-0.11673180758953094,null],\"y\":[-0.09530764818191528,-0.1339920461177826,null],\"type\":\"scatter\"},{\"hoverinfo\":\"none\",\"line\":{\"color\":\"#b15928\",\"width\":1},\"mode\":\"lines\",\"x\":[-0.009411833249032497,-0.003614274552091956,null],\"y\":[-0.09530764818191528,-0.23863950371742249,null],\"type\":\"scatter\"},{\"hoverinfo\":\"none\",\"line\":{\"color\":\"#b15928\",\"width\":1},\"mode\":\"lines\",\"x\":[-0.009411833249032497,0.024645285680890083,null],\"y\":[-0.09530764818191528,-0.12113534659147263,null],\"type\":\"scatter\"},{\"hoverinfo\":\"none\",\"line\":{\"color\":\"#b15928\",\"width\":1},\"mode\":\"lines\",\"x\":[-0.009411833249032497,0.0706697478890419,null],\"y\":[-0.09530764818191528,-0.20794938504695892,null],\"type\":\"scatter\"},{\"hoverinfo\":\"none\",\"line\":{\"color\":\"#b15928\",\"width\":1},\"mode\":\"lines\",\"x\":[-0.009411833249032497,0.040209438651800156,null],\"y\":[-0.09530764818191528,-0.03278698772192001,null],\"type\":\"scatter\"},{\"hoverinfo\":\"none\",\"line\":{\"color\":\"#b15928\",\"width\":1},\"mode\":\"lines\",\"x\":[-0.009411833249032497,0.04660002514719963,null],\"y\":[-0.09530764818191528,-0.11289871484041214,null],\"type\":\"scatter\"},{\"hoverinfo\":\"none\",\"line\":{\"color\":\"#b15928\",\"width\":1},\"mode\":\"lines\",\"x\":[-0.009411833249032497,-0.01676364056766033,null],\"y\":[-0.09530764818191528,-0.08809787034988403,null],\"type\":\"scatter\"},{\"hoverinfo\":\"none\",\"line\":{\"color\":\"#b15928\",\"width\":1},\"mode\":\"lines\",\"x\":[-0.009411833249032497,0.01627599447965622,null],\"y\":[-0.09530764818191528,-0.10823146253824234,null],\"type\":\"scatter\"},{\"hoverinfo\":\"none\",\"line\":{\"color\":\"#b15928\",\"width\":1},\"mode\":\"lines\",\"x\":[-0.009411833249032497,0.026418767869472504,null],\"y\":[-0.09530764818191528,-0.15912464261054993,null],\"type\":\"scatter\"},{\"hoverinfo\":\"none\",\"line\":{\"color\":\"#b15928\",\"width\":1},\"mode\":\"lines\",\"x\":[-0.009411833249032497,0.006113069597631693,null],\"y\":[-0.09530764818191528,-0.16746565699577332,null],\"type\":\"scatter\"},{\"hoverinfo\":\"none\",\"line\":{\"color\":\"#b15928\",\"width\":1},\"mode\":\"lines\",\"x\":[-0.009411833249032497,0.05046531930565834,null],\"y\":[-0.09530764818191528,-0.13582098484039307,null],\"type\":\"scatter\"},{\"hoverinfo\":\"none\",\"line\":{\"color\":\"#b15928\",\"width\":1},\"mode\":\"lines\",\"x\":[-0.009411833249032497,0.013839024119079113,null],\"y\":[-0.09530764818191528,-0.16140715777873993,null],\"type\":\"scatter\"},{\"hoverinfo\":\"none\",\"line\":{\"color\":\"#b15928\",\"width\":1},\"mode\":\"lines\",\"x\":[-0.009411833249032497,-0.00019117104238830507,null],\"y\":[-0.09530764818191528,-0.1601690948009491,null],\"type\":\"scatter\"},{\"hoverinfo\":\"none\",\"line\":{\"color\":\"#b15928\",\"width\":1},\"mode\":\"lines\",\"x\":[-0.009411833249032497,-0.07051463425159454,null],\"y\":[-0.09530764818191528,-0.10773690044879913,null],\"type\":\"scatter\"},{\"hoverinfo\":\"none\",\"line\":{\"color\":\"#b15928\",\"width\":1},\"mode\":\"lines\",\"x\":[-0.009411833249032497,0.058496251702308655,null],\"y\":[-0.09530764818191528,-0.11564211547374725,null],\"type\":\"scatter\"},{\"hoverinfo\":\"none\",\"line\":{\"color\":\"#b15928\",\"width\":1},\"mode\":\"lines\",\"x\":[-0.009411833249032497,0.041928745806217194,null],\"y\":[-0.09530764818191528,-0.14282119274139404,null],\"type\":\"scatter\"},{\"hoverinfo\":\"none\",\"line\":{\"color\":\"#b15928\",\"width\":1},\"mode\":\"lines\",\"x\":[-0.009411833249032497,0.04083801433444023,null],\"y\":[-0.09530764818191528,-0.13016220927238464,null],\"type\":\"scatter\"},{\"hoverinfo\":\"none\",\"line\":{\"color\":\"#b15928\",\"width\":1},\"mode\":\"lines\",\"x\":[-0.009411833249032497,0.046101879328489304,null],\"y\":[-0.09530764818191528,-0.20265571773052216,null],\"type\":\"scatter\"},{\"hoverinfo\":\"none\",\"line\":{\"color\":\"#b15928\",\"width\":1},\"mode\":\"lines\",\"x\":[-0.009411833249032497,-0.0004452608118299395,null],\"y\":[-0.09530764818191528,-0.22412161529064178,null],\"type\":\"scatter\"},{\"hoverinfo\":\"none\",\"line\":{\"color\":\"#b15928\",\"width\":1},\"mode\":\"lines\",\"x\":[-0.009411833249032497,0.05797155201435089,null],\"y\":[-0.09530764818191528,-0.15153618156909943,null],\"type\":\"scatter\"},{\"hoverinfo\":\"none\",\"line\":{\"color\":\"#b15928\",\"width\":1},\"mode\":\"lines\",\"x\":[-0.009411833249032497,-0.12264390289783478,null],\"y\":[-0.09530764818191528,-0.1785971075296402,null],\"type\":\"scatter\"},{\"hoverinfo\":\"none\",\"line\":{\"color\":\"#b15928\",\"width\":1},\"mode\":\"lines\",\"x\":[-0.009411833249032497,0.01685335300862789,null],\"y\":[-0.09530764818191528,-0.13235555589199066,null],\"type\":\"scatter\"},{\"hoverinfo\":\"none\",\"line\":{\"color\":\"#b15928\",\"width\":1},\"mode\":\"lines\",\"x\":[-0.009411833249032497,-0.08313187211751938,null],\"y\":[-0.09530764818191528,-0.07381266355514526,null],\"type\":\"scatter\"},{\"hoverinfo\":\"none\",\"line\":{\"color\":\"#b15928\",\"width\":1},\"mode\":\"lines\",\"x\":[-0.009411833249032497,0.09082993865013123,null],\"y\":[-0.09530764818191528,-0.17014144361019135,null],\"type\":\"scatter\"},{\"hoverinfo\":\"none\",\"line\":{\"color\":\"#b15928\",\"width\":1},\"mode\":\"lines\",\"x\":[-0.009411833249032497,0.09697768092155457,null],\"y\":[-0.09530764818191528,-0.15705688297748566,null],\"type\":\"scatter\"},{\"hoverinfo\":\"none\",\"line\":{\"color\":\"#b15928\",\"width\":1},\"mode\":\"lines\",\"x\":[-0.009411833249032497,-0.015678266063332558,null],\"y\":[-0.09530764818191528,-0.2247139811515808,null],\"type\":\"scatter\"},{\"hoverinfo\":\"none\",\"line\":{\"color\":\"#b15928\",\"width\":1},\"mode\":\"lines\",\"x\":[-0.009411833249032497,-0.08616886287927628,null],\"y\":[-0.09530764818191528,-0.02789970673620701,null],\"type\":\"scatter\"},{\"hoverinfo\":\"none\",\"line\":{\"color\":\"#b15928\",\"width\":1},\"mode\":\"lines\",\"x\":[-0.009411833249032497,-0.021887483075261116,null],\"y\":[-0.09530764818191528,-0.2141694873571396,null],\"type\":\"scatter\"},{\"hoverinfo\":\"none\",\"line\":{\"color\":\"#b15928\",\"width\":1},\"mode\":\"lines\",\"x\":[-0.009411833249032497,0.04815489798784256,null],\"y\":[-0.09530764818191528,-0.15129871666431427,null],\"type\":\"scatter\"},{\"hoverinfo\":\"none\",\"line\":{\"color\":\"#b15928\",\"width\":1},\"mode\":\"lines\",\"x\":[-0.009411833249032497,0.005269775632768869,null],\"y\":[-0.09530764818191528,-0.14488738775253296,null],\"type\":\"scatter\"},{\"hoverinfo\":\"none\",\"line\":{\"color\":\"#b15928\",\"width\":1},\"mode\":\"lines\",\"x\":[-0.009411833249032497,-0.03607095405459404,null],\"y\":[-0.09530764818191528,-0.16860052943229675,null],\"type\":\"scatter\"},{\"hoverinfo\":\"none\",\"line\":{\"color\":\"#b15928\",\"width\":1},\"mode\":\"lines\",\"x\":[-0.009411833249032497,-0.06573154777288437,null],\"y\":[-0.09530764818191528,-0.1368352472782135,null],\"type\":\"scatter\"},{\"hoverinfo\":\"none\",\"line\":{\"color\":\"#b15928\",\"width\":1},\"mode\":\"lines\",\"x\":[-0.009411833249032497,-0.05634373053908348,null],\"y\":[-0.09530764818191528,-0.1476527452468872,null],\"type\":\"scatter\"},{\"hoverinfo\":\"none\",\"line\":{\"color\":\"#b15928\",\"width\":1},\"mode\":\"lines\",\"x\":[-0.009411833249032497,0.03715435415506363,null],\"y\":[-0.09530764818191528,-0.15386515855789185,null],\"type\":\"scatter\"},{\"hoverinfo\":\"none\",\"line\":{\"color\":\"#b15928\",\"width\":1},\"mode\":\"lines\",\"x\":[-0.009411833249032497,-0.08006516098976135,null],\"y\":[-0.09530764818191528,-0.09318128228187561,null],\"type\":\"scatter\"},{\"hoverinfo\":\"none\",\"line\":{\"color\":\"#b15928\",\"width\":1},\"mode\":\"lines\",\"x\":[-0.009411833249032497,-0.07226599007844925,null],\"y\":[-0.09530764818191528,-0.12607383728027344,null],\"type\":\"scatter\"},{\"hoverinfo\":\"none\",\"line\":{\"color\":\"#b15928\",\"width\":1},\"mode\":\"lines\",\"x\":[-0.009411833249032497,0.058695413172245026,null],\"y\":[-0.09530764818191528,-0.12950773537158966,null],\"type\":\"scatter\"},{\"hoverinfo\":\"none\",\"line\":{\"color\":\"#b15928\",\"width\":1},\"mode\":\"lines\",\"x\":[-0.009411833249032497,-0.0772019550204277,null],\"y\":[-0.09530764818191528,-0.11644241213798523,null],\"type\":\"scatter\"},{\"hoverinfo\":\"none\",\"line\":{\"color\":\"#b15928\",\"width\":1},\"mode\":\"lines\",\"x\":[-0.009411833249032497,-0.002785371383652091,null],\"y\":[-0.09530764818191528,-0.1746968775987625,null],\"type\":\"scatter\"},{\"hoverinfo\":\"none\",\"line\":{\"color\":\"#b15928\",\"width\":1},\"mode\":\"lines\",\"x\":[-0.009411833249032497,-0.08157110959291458,null],\"y\":[-0.09530764818191528,-0.10588812828063965,null],\"type\":\"scatter\"},{\"hoverinfo\":\"none\",\"line\":{\"color\":\"#b15928\",\"width\":1},\"mode\":\"lines\",\"x\":[-0.009411833249032497,-0.012781809084117413,null],\"y\":[-0.09530764818191528,-0.1521519124507904,null],\"type\":\"scatter\"},{\"hoverinfo\":\"none\",\"line\":{\"color\":\"#b15928\",\"width\":1},\"mode\":\"lines\",\"x\":[-0.009411833249032497,-0.009850133210420609,null],\"y\":[-0.09530764818191528,-0.16781306266784668,null],\"type\":\"scatter\"},{\"hoverinfo\":\"none\",\"line\":{\"color\":\"#b15928\",\"width\":1},\"mode\":\"lines\",\"x\":[-0.009411833249032497,-0.05115584284067154,null],\"y\":[-0.09530764818191528,-0.15729179978370667,null],\"type\":\"scatter\"},{\"hoverinfo\":\"none\",\"line\":{\"color\":\"#b15928\",\"width\":1},\"mode\":\"lines\",\"x\":[-0.009411833249032497,-0.023633887991309166,null],\"y\":[-0.09530764818191528,-0.1849294900894165,null],\"type\":\"scatter\"},{\"hoverinfo\":\"none\",\"line\":{\"color\":\"#b15928\",\"width\":1},\"mode\":\"lines\",\"x\":[-0.009411833249032497,-0.06192021071910858,null],\"y\":[-0.09530764818191528,-0.12290821969509125,null],\"type\":\"scatter\"},{\"hoverinfo\":\"none\",\"line\":{\"color\":\"#b15928\",\"width\":1},\"mode\":\"lines\",\"x\":[-0.009411833249032497,-0.03220731019973755,null],\"y\":[-0.09530764818191528,-0.12116318941116333,null],\"type\":\"scatter\"},{\"hoverinfo\":\"none\",\"line\":{\"color\":\"#b15928\",\"width\":1},\"mode\":\"lines\",\"x\":[-0.009411833249032497,0.037204157561063766,null],\"y\":[-0.09530764818191528,-0.17482708394527435,null],\"type\":\"scatter\"},{\"hoverinfo\":\"none\",\"line\":{\"color\":\"#b15928\",\"width\":1},\"mode\":\"lines\",\"x\":[-0.009411833249032497,0.015545959584414959,null],\"y\":[-0.09530764818191528,-0.18378764390945435,null],\"type\":\"scatter\"},{\"hoverinfo\":\"none\",\"line\":{\"color\":\"#b15928\",\"width\":1},\"mode\":\"lines\",\"x\":[-0.009411833249032497,0.012288347817957401,null],\"y\":[-0.09530764818191528,-0.0999157503247261,null],\"type\":\"scatter\"},{\"hoverinfo\":\"none\",\"line\":{\"color\":\"#b15928\",\"width\":1},\"mode\":\"lines\",\"x\":[-0.009411833249032497,-0.06325887888669968,null],\"y\":[-0.09530764818191528,-0.17490723729133606,null],\"type\":\"scatter\"},{\"hoverinfo\":\"none\",\"line\":{\"color\":\"#b15928\",\"width\":1},\"mode\":\"lines\",\"x\":[-0.009411833249032497,-0.026702765375375748,null],\"y\":[-0.09530764818191528,-0.1969018280506134,null],\"type\":\"scatter\"},{\"hoverinfo\":\"none\",\"line\":{\"color\":\"#b15928\",\"width\":1},\"mode\":\"lines\",\"x\":[-0.009411833249032497,-0.041111018508672714,null],\"y\":[-0.09530764818191528,-0.14788410067558289,null],\"type\":\"scatter\"},{\"hoverinfo\":\"none\",\"line\":{\"color\":\"#b15928\",\"width\":1},\"mode\":\"lines\",\"x\":[-0.009411833249032497,-0.09087056666612625,null],\"y\":[-0.09530764818191528,-0.1471146196126938,null],\"type\":\"scatter\"},{\"hoverinfo\":\"none\",\"line\":{\"color\":\"#b15928\",\"width\":1},\"mode\":\"lines\",\"x\":[-0.009411833249032497,-0.09475169330835342,null],\"y\":[-0.09530764818191528,-0.1365654617547989,null],\"type\":\"scatter\"},{\"hoverinfo\":\"none\",\"line\":{\"color\":\"#b15928\",\"width\":1},\"mode\":\"lines\",\"x\":[-0.009411833249032497,-0.02189420349895954,null],\"y\":[-0.09530764818191528,-0.04232972860336304,null],\"type\":\"scatter\"},{\"hoverinfo\":\"none\",\"line\":{\"color\":\"#b15928\",\"width\":1},\"mode\":\"lines\",\"x\":[-0.009411833249032497,0.0016426285728812218,null],\"y\":[-0.09530764818191528,-0.1986050009727478,null],\"type\":\"scatter\"},{\"hoverinfo\":\"none\",\"line\":{\"color\":\"#b15928\",\"width\":1},\"mode\":\"lines\",\"x\":[-0.009411833249032497,0.042723674327135086,null],\"y\":[-0.09530764818191528,-0.12175153195858002,null],\"type\":\"scatter\"},{\"hoverinfo\":\"none\",\"line\":{\"color\":\"#b15928\",\"width\":1},\"mode\":\"lines\",\"x\":[-0.009411833249032497,-0.03599900007247925,null],\"y\":[-0.09530764818191528,-0.2112967073917389,null],\"type\":\"scatter\"},{\"hoverinfo\":\"none\",\"line\":{\"color\":\"#b15928\",\"width\":1},\"mode\":\"lines\",\"x\":[-0.009411833249032497,0.0644703209400177,null],\"y\":[-0.09530764818191528,-0.18888619542121887,null],\"type\":\"scatter\"},{\"hoverinfo\":\"none\",\"line\":{\"color\":\"#b15928\",\"width\":1},\"mode\":\"lines\",\"x\":[-0.009411833249032497,-0.009677691385149956,null],\"y\":[-0.09530764818191528,-0.13366514444351196,null],\"type\":\"scatter\"},{\"hoverinfo\":\"none\",\"line\":{\"color\":\"#b15928\",\"width\":1},\"mode\":\"lines\",\"x\":[-0.009411833249032497,-0.04282502457499504,null],\"y\":[-0.09530764818191528,-0.1334989070892334,null],\"type\":\"scatter\"},{\"hoverinfo\":\"none\",\"line\":{\"color\":\"#b15928\",\"width\":1},\"mode\":\"lines\",\"x\":[-0.009411833249032497,0.026454806327819824,null],\"y\":[-0.09530764818191528,-0.22034122049808502,null],\"type\":\"scatter\"},{\"hoverinfo\":\"none\",\"line\":{\"color\":\"#b15928\",\"width\":1},\"mode\":\"lines\",\"x\":[-0.009411833249032497,-0.1324034035205841,null],\"y\":[-0.09530764818191528,-0.1177966296672821,null],\"type\":\"scatter\"},{\"hoverinfo\":\"none\",\"line\":{\"color\":\"#b15928\",\"width\":1},\"mode\":\"lines\",\"x\":[-0.009411833249032497,-0.06272512674331665,null],\"y\":[-0.09530764818191528,-0.21411390602588654,null],\"type\":\"scatter\"},{\"hoverinfo\":\"none\",\"line\":{\"color\":\"#b15928\",\"width\":1},\"mode\":\"lines\",\"x\":[-0.009411833249032497,-0.10233794152736664,null],\"y\":[-0.09530764818191528,-0.0898524597287178,null],\"type\":\"scatter\"},{\"hoverinfo\":\"none\",\"line\":{\"color\":\"#b15928\",\"width\":1},\"mode\":\"lines\",\"x\":[-0.009411833249032497,-0.07201999425888062,null],\"y\":[-0.09530764818191528,0.011762149631977081,null],\"type\":\"scatter\"},{\"hoverinfo\":\"none\",\"line\":{\"color\":\"#b15928\",\"width\":1},\"mode\":\"lines\",\"x\":[-0.009411833249032497,-0.08677688986063004,null],\"y\":[-0.09530764818191528,-0.19566379487514496,null],\"type\":\"scatter\"},{\"hoverinfo\":\"none\",\"line\":{\"color\":\"#b15928\",\"width\":1},\"mode\":\"lines\",\"x\":[-0.009411833249032497,-0.007137012202292681,null],\"y\":[-0.09530764818191528,-0.19995342195034027,null],\"type\":\"scatter\"},{\"hoverinfo\":\"none\",\"line\":{\"color\":\"#b15928\",\"width\":1},\"mode\":\"lines\",\"x\":[-0.009411833249032497,-0.08168629556894302,null],\"y\":[-0.09530764818191528,-0.1462520956993103,null],\"type\":\"scatter\"},{\"hoverinfo\":\"none\",\"line\":{\"color\":\"#b15928\",\"width\":1},\"mode\":\"lines\",\"x\":[-0.009411833249032497,-0.09446302801370621,null],\"y\":[-0.09530764818191528,-0.12376344949007034,null],\"type\":\"scatter\"},{\"hoverinfo\":\"none\",\"line\":{\"color\":\"#b15928\",\"width\":1},\"mode\":\"lines\",\"x\":[-0.009411833249032497,-0.050269778817892075,null],\"y\":[-0.09530764818191528,-0.17880462110042572,null],\"type\":\"scatter\"},{\"hoverinfo\":\"none\",\"line\":{\"color\":\"#b15928\",\"width\":1},\"mode\":\"lines\",\"x\":[-0.009411833249032497,-0.07598503679037094,null],\"y\":[-0.09530764818191528,-0.1628349870443344,null],\"type\":\"scatter\"},{\"hoverinfo\":\"none\",\"line\":{\"color\":\"#b15928\",\"width\":1},\"mode\":\"lines\",\"x\":[-0.009411833249032497,0.046639759093523026,null],\"y\":[-0.09530764818191528,-0.17916984856128693,null],\"type\":\"scatter\"},{\"hoverinfo\":\"none\",\"line\":{\"color\":\"#b15928\",\"width\":1},\"mode\":\"lines\",\"x\":[-0.009411833249032497,0.019666763022542,null],\"y\":[-0.09530764818191528,-0.17081686854362488,null],\"type\":\"scatter\"},{\"hoverinfo\":\"none\",\"line\":{\"color\":\"#b15928\",\"width\":1},\"mode\":\"lines\",\"x\":[-0.009411833249032497,-0.08446138352155685,null],\"y\":[-0.09530764818191528,-0.15707992017269135,null],\"type\":\"scatter\"},{\"hoverinfo\":\"none\",\"line\":{\"color\":\"#b15928\",\"width\":1},\"mode\":\"lines\",\"x\":[-0.009411833249032497,0.07105803489685059,null],\"y\":[-0.09530764818191528,-0.1542021632194519,null],\"type\":\"scatter\"},{\"hoverinfo\":\"none\",\"line\":{\"color\":\"#b15928\",\"width\":1},\"mode\":\"lines\",\"x\":[-0.009411833249032497,0.01138535887002945,null],\"y\":[-0.09530764818191528,-0.19455116987228394,null],\"type\":\"scatter\"},{\"hoverinfo\":\"none\",\"line\":{\"color\":\"#b15928\",\"width\":1},\"mode\":\"lines\",\"x\":[-0.009411833249032497,-0.07237471640110016,null],\"y\":[-0.09530764818191528,-0.17372636497020721,null],\"type\":\"scatter\"},{\"hoverinfo\":\"none\",\"line\":{\"color\":\"#b15928\",\"width\":1},\"mode\":\"lines\",\"x\":[-0.009411833249032497,0.02646477147936821,null],\"y\":[-0.09530764818191528,-0.1913507729768753,null],\"type\":\"scatter\"},{\"hoverinfo\":\"none\",\"line\":{\"color\":\"#b15928\",\"width\":1},\"mode\":\"lines\",\"x\":[-0.009411833249032497,-0.10224819928407669,null],\"y\":[-0.09530764818191528,-0.102286696434021,null],\"type\":\"scatter\"},{\"hoverinfo\":\"none\",\"line\":{\"color\":\"#b15928\",\"width\":1},\"mode\":\"lines\",\"x\":[-0.009411833249032497,-0.016895880922675133,null],\"y\":[-0.09530764818191528,-0.19983990490436554,null],\"type\":\"scatter\"},{\"hoverinfo\":\"none\",\"line\":{\"color\":\"#b15928\",\"width\":1},\"mode\":\"lines\",\"x\":[-0.009411833249032497,-0.043950457125902176,null],\"y\":[-0.09530764818191528,-0.1872154325246811,null],\"type\":\"scatter\"},{\"hoverinfo\":\"none\",\"line\":{\"color\":\"#b15928\",\"width\":1},\"mode\":\"lines\",\"x\":[-0.009411833249032497,-0.03725804015994072,null],\"y\":[-0.09530764818191528,-0.19443388283252716,null],\"type\":\"scatter\"},{\"hoverinfo\":\"none\",\"line\":{\"color\":\"#b15928\",\"width\":1},\"mode\":\"lines\",\"x\":[-0.009411833249032497,-0.0592944510281086,null],\"y\":[-0.09530764818191528,-0.182828888297081,null],\"type\":\"scatter\"},{\"hoverinfo\":\"none\",\"line\":{\"color\":\"#b15928\",\"width\":1},\"mode\":\"lines\",\"x\":[-0.009411833249032497,-0.09865590929985046,null],\"y\":[-0.09530764818191528,-0.11268015950918198,null],\"type\":\"scatter\"},{\"hoverinfo\":\"none\",\"line\":{\"color\":\"#b15928\",\"width\":1},\"mode\":\"lines\",\"x\":[-0.009411833249032497,-0.1051170602440834,null],\"y\":[-0.09530764818191528,-0.15753524005413055,null],\"type\":\"scatter\"},{\"hoverinfo\":\"none\",\"line\":{\"color\":\"#b15928\",\"width\":1},\"mode\":\"lines\",\"x\":[-0.009411833249032497,-0.11900606006383896,null],\"y\":[-0.09530764818191528,-0.09544380009174347,null],\"type\":\"scatter\"},{\"hoverinfo\":\"none\",\"line\":{\"color\":\"#b15928\",\"width\":1},\"mode\":\"lines\",\"x\":[-0.009411833249032497,-0.09617679566144943,null],\"y\":[-0.09530764818191528,-0.16950154304504395,null],\"type\":\"scatter\"},{\"hoverinfo\":\"none\",\"line\":{\"color\":\"#b15928\",\"width\":1},\"mode\":\"lines\",\"x\":[-0.009411833249032497,0.07582700252532959,null],\"y\":[-0.09530764818191528,-0.17608550190925598,null],\"type\":\"scatter\"},{\"hoverinfo\":\"none\",\"line\":{\"color\":\"#b15928\",\"width\":1},\"mode\":\"lines\",\"x\":[-0.009411833249032497,0.010353701189160347,null],\"y\":[-0.09530764818191528,-0.21334019303321838,null],\"type\":\"scatter\"},{\"hoverinfo\":\"none\",\"line\":{\"color\":\"#b15928\",\"width\":1},\"mode\":\"lines\",\"x\":[-0.009411833249032497,-0.05905875191092491,null],\"y\":[-0.09530764818191528,-0.10577757656574249,null],\"type\":\"scatter\"},{\"hoverinfo\":\"none\",\"line\":{\"color\":\"#b15928\",\"width\":1},\"mode\":\"lines\",\"x\":[-0.009411833249032497,0.01973399892449379,null],\"y\":[-0.09530764818191528,-0.15241889655590057,null],\"type\":\"scatter\"},{\"hoverinfo\":\"none\",\"line\":{\"color\":\"#b15928\",\"width\":1},\"mode\":\"lines\",\"x\":[-0.009411833249032497,0.009899928234517574,null],\"y\":[-0.09530764818191528,-0.23676495254039764,null],\"type\":\"scatter\"},{\"hoverinfo\":\"none\",\"line\":{\"color\":\"#b15928\",\"width\":1},\"mode\":\"lines\",\"x\":[-0.009411833249032497,0.032708823680877686,null],\"y\":[-0.09530764818191528,-0.20688125491142273,null],\"type\":\"scatter\"},{\"hoverinfo\":\"none\",\"line\":{\"color\":\"#b15928\",\"width\":1},\"mode\":\"lines\",\"x\":[-0.009411833249032497,-0.07060511410236359,null],\"y\":[-0.09530764818191528,-0.1943531334400177,null],\"type\":\"scatter\"},{\"hoverinfo\":\"none\",\"line\":{\"color\":\"#b15928\",\"width\":1},\"mode\":\"lines\",\"x\":[-0.009411833249032497,0.03126632794737816,null],\"y\":[-0.09530764818191528,-0.13708654046058655,null],\"type\":\"scatter\"},{\"hoverinfo\":\"none\",\"line\":{\"color\":\"#b15928\",\"width\":1},\"mode\":\"lines\",\"x\":[-0.009411833249032497,-0.10765960067510605,null],\"y\":[-0.09530764818191528,-0.17479555308818817,null],\"type\":\"scatter\"},{\"hoverinfo\":\"none\",\"line\":{\"color\":\"#b15928\",\"width\":1},\"mode\":\"lines\",\"x\":[-0.009411833249032497,-0.09631620347499847,null],\"y\":[-0.09530764818191528,-0.18674077093601227,null],\"type\":\"scatter\"},{\"hoverinfo\":\"none\",\"line\":{\"color\":\"#b15928\",\"width\":1},\"mode\":\"lines\",\"x\":[-0.009411833249032497,-0.07617155462503433,null],\"y\":[-0.09530764818191528,-0.20543934404850006,null],\"type\":\"scatter\"},{\"hoverinfo\":\"none\",\"line\":{\"color\":\"#b15928\",\"width\":1},\"mode\":\"lines\",\"x\":[-0.009411833249032497,-0.031070850789546967,null],\"y\":[-0.09530764818191528,-0.23783840239048004,null],\"type\":\"scatter\"},{\"hoverinfo\":\"none\",\"line\":{\"color\":\"#b15928\",\"width\":1},\"mode\":\"lines\",\"x\":[-0.009411833249032497,-0.044892098754644394,null],\"y\":[-0.09530764818191528,-0.2355106621980667,null],\"type\":\"scatter\"},{\"hoverinfo\":\"none\",\"line\":{\"color\":\"#b15928\",\"width\":1},\"mode\":\"lines\",\"x\":[-0.009411833249032497,-0.1293841004371643,null],\"y\":[-0.09530764818191528,-0.16722574830055237,null],\"type\":\"scatter\"},{\"hoverinfo\":\"none\",\"line\":{\"color\":\"#b15928\",\"width\":1},\"mode\":\"lines\",\"x\":[-0.009411833249032497,-0.11482149362564087,null],\"y\":[-0.09530764818191528,-0.18957093358039856,null],\"type\":\"scatter\"},{\"hoverinfo\":\"none\",\"line\":{\"color\":\"#b15928\",\"width\":1},\"mode\":\"lines\",\"x\":[-0.009411833249032497,-0.10606811940670013,null],\"y\":[-0.09530764818191528,-0.1268279105424881,null],\"type\":\"scatter\"},{\"hoverinfo\":\"none\",\"line\":{\"color\":\"#b15928\",\"width\":1},\"mode\":\"lines\",\"x\":[-0.009411833249032497,0.05359857901930809,null],\"y\":[-0.09530764818191528,-0.1648792177438736,null],\"type\":\"scatter\"},{\"hoverinfo\":\"none\",\"line\":{\"color\":\"#b15928\",\"width\":1},\"mode\":\"lines\",\"x\":[-0.009411833249032497,-0.033680129796266556,null],\"y\":[-0.09530764818191528,-0.1786169856786728,null],\"type\":\"scatter\"},{\"hoverinfo\":\"none\",\"line\":{\"color\":\"#b15928\",\"width\":1},\"mode\":\"lines\",\"x\":[-0.009411833249032497,-0.09200797230005264,null],\"y\":[-0.09530764818191528,-0.09302757680416107,null],\"type\":\"scatter\"},{\"hoverinfo\":\"none\",\"line\":{\"color\":\"#b15928\",\"width\":1},\"mode\":\"lines\",\"x\":[-0.053003836423158646,-0.07416068762540817,null],\"y\":[0.06294642388820648,-0.03424610570073128,null],\"type\":\"scatter\"},{\"hoverinfo\":\"none\",\"line\":{\"color\":\"#b15928\",\"width\":1},\"mode\":\"lines\",\"x\":[-0.053003836423158646,-0.167112797498703,null],\"y\":[0.06294642388820648,0.10325218737125397,null],\"type\":\"scatter\"},{\"hoverinfo\":\"none\",\"line\":{\"color\":\"#b15928\",\"width\":1},\"mode\":\"lines\",\"x\":[-0.053003836423158646,-0.053003836423158646,null],\"y\":[0.06294642388820648,0.06294642388820648,null],\"type\":\"scatter\"},{\"hoverinfo\":\"none\",\"line\":{\"color\":\"#b15928\",\"width\":1},\"mode\":\"lines\",\"x\":[-0.053003836423158646,-0.09629089385271072,null],\"y\":[0.06294642388820648,0.08682266622781754,null],\"type\":\"scatter\"},{\"hoverinfo\":\"none\",\"line\":{\"color\":\"#b15928\",\"width\":1},\"mode\":\"lines\",\"x\":[-0.053003836423158646,0.0279057826846838,null],\"y\":[0.06294642388820648,0.040724098682403564,null],\"type\":\"scatter\"},{\"hoverinfo\":\"none\",\"line\":{\"color\":\"#b15928\",\"width\":1},\"mode\":\"lines\",\"x\":[-0.053003836423158646,-0.14403702318668365,null],\"y\":[0.06294642388820648,0.0885884091258049,null],\"type\":\"scatter\"},{\"hoverinfo\":\"none\",\"line\":{\"color\":\"#b15928\",\"width\":1},\"mode\":\"lines\",\"x\":[-0.053003836423158646,-0.12950193881988525,null],\"y\":[0.06294642388820648,0.10802889615297318,null],\"type\":\"scatter\"},{\"hoverinfo\":\"none\",\"line\":{\"color\":\"#b15928\",\"width\":1},\"mode\":\"lines\",\"x\":[-0.053003836423158646,-0.1332263946533203,null],\"y\":[0.06294642388820648,0.09484009444713593,null],\"type\":\"scatter\"},{\"hoverinfo\":\"none\",\"line\":{\"color\":\"#b15928\",\"width\":1},\"mode\":\"lines\",\"x\":[-0.053003836423158646,-0.1597297191619873,null],\"y\":[0.06294642388820648,0.11458896100521088,null],\"type\":\"scatter\"},{\"hoverinfo\":\"none\",\"line\":{\"color\":\"#b15928\",\"width\":1},\"mode\":\"lines\",\"x\":[-0.053003836423158646,-0.08616886287927628,null],\"y\":[0.06294642388820648,-0.02789970673620701,null],\"type\":\"scatter\"},{\"hoverinfo\":\"none\",\"line\":{\"color\":\"#b15928\",\"width\":1},\"mode\":\"lines\",\"x\":[-0.053003836423158646,-0.15170389413833618,null],\"y\":[0.06294642388820648,0.12491253018379211,null],\"type\":\"scatter\"},{\"hoverinfo\":\"none\",\"line\":{\"color\":\"#b15928\",\"width\":1},\"mode\":\"lines\",\"x\":[-0.053003836423158646,-0.14953646063804626,null],\"y\":[0.06294642388820648,0.1371440887451172,null],\"type\":\"scatter\"},{\"hoverinfo\":\"none\",\"line\":{\"color\":\"#b15928\",\"width\":1},\"mode\":\"lines\",\"x\":[0.07621454447507858,0.07621454447507858,null],\"y\":[0.03477798402309418,0.03477798402309418,null],\"type\":\"scatter\"},{\"hoverinfo\":\"none\",\"line\":{\"color\":\"#b15928\",\"width\":1},\"mode\":\"lines\",\"x\":[0.07621454447507858,0.17658548057079315,null],\"y\":[0.03477798402309418,0.04319130256772041,null],\"type\":\"scatter\"},{\"hoverinfo\":\"none\",\"line\":{\"color\":\"#b15928\",\"width\":1},\"mode\":\"lines\",\"x\":[0.07621454447507858,0.188980370759964,null],\"y\":[0.03477798402309418,0.10884635895490646,null],\"type\":\"scatter\"},{\"hoverinfo\":\"none\",\"line\":{\"color\":\"#b15928\",\"width\":1},\"mode\":\"lines\",\"x\":[0.07621454447507858,-0.010698355734348297,null],\"y\":[0.03477798402309418,0.0028660467360168695,null],\"type\":\"scatter\"},{\"hoverinfo\":\"none\",\"line\":{\"color\":\"#b15928\",\"width\":1},\"mode\":\"lines\",\"x\":[0.07621454447507858,0.0279057826846838,null],\"y\":[0.03477798402309418,0.040724098682403564,null],\"type\":\"scatter\"},{\"hoverinfo\":\"none\",\"line\":{\"color\":\"#b15928\",\"width\":1},\"mode\":\"lines\",\"x\":[0.07621454447507858,0.09952220320701599,null],\"y\":[0.03477798402309418,0.002265270333737135,null],\"type\":\"scatter\"},{\"hoverinfo\":\"none\",\"line\":{\"color\":\"#b15928\",\"width\":1},\"mode\":\"lines\",\"x\":[0.07621454447507858,0.15570880472660065,null],\"y\":[0.03477798402309418,0.014825956895947456,null],\"type\":\"scatter\"},{\"hoverinfo\":\"none\",\"line\":{\"color\":\"#b15928\",\"width\":1},\"mode\":\"lines\",\"x\":[0.07621454447507858,0.12678906321525574,null],\"y\":[0.03477798402309418,0.011829417198896408,null],\"type\":\"scatter\"},{\"hoverinfo\":\"none\",\"line\":{\"color\":\"#b15928\",\"width\":1},\"mode\":\"lines\",\"x\":[0.07621454447507858,0.13661688566207886,null],\"y\":[0.03477798402309418,0.08691762387752533,null],\"type\":\"scatter\"},{\"hoverinfo\":\"none\",\"line\":{\"color\":\"#b15928\",\"width\":1},\"mode\":\"lines\",\"x\":[0.07621454447507858,0.10514023900032043,null],\"y\":[0.03477798402309418,0.016685698181390762,null],\"type\":\"scatter\"},{\"hoverinfo\":\"none\",\"line\":{\"color\":\"#b15928\",\"width\":1},\"mode\":\"lines\",\"x\":[0.07621454447507858,0.11710836738348007,null],\"y\":[0.03477798402309418,0.0009321760153397918,null],\"type\":\"scatter\"},{\"hoverinfo\":\"none\",\"line\":{\"color\":\"#b15928\",\"width\":1},\"mode\":\"lines\",\"x\":[0.07621454447507858,0.1300722062587738,null],\"y\":[0.03477798402309418,0.018686966970562935,null],\"type\":\"scatter\"},{\"hoverinfo\":\"none\",\"line\":{\"color\":\"#b15928\",\"width\":1},\"mode\":\"lines\",\"x\":[0.07621454447507858,0.11547510325908661,null],\"y\":[0.03477798402309418,0.011578048579394817,null],\"type\":\"scatter\"},{\"hoverinfo\":\"none\",\"line\":{\"color\":\"#b15928\",\"width\":1},\"mode\":\"lines\",\"x\":[0.07621454447507858,0.07436678558588028,null],\"y\":[0.03477798402309418,0.013922978192567825,null],\"type\":\"scatter\"},{\"hoverinfo\":\"none\",\"line\":{\"color\":\"#b15928\",\"width\":1},\"mode\":\"lines\",\"x\":[0.0279057826846838,0.0279057826846838,null],\"y\":[0.040724098682403564,0.040724098682403564,null],\"type\":\"scatter\"},{\"hoverinfo\":\"none\",\"line\":{\"color\":\"#b15928\",\"width\":1},\"mode\":\"lines\",\"x\":[0.014455022290349007,0.014455022290349007,null],\"y\":[0.08197908103466034,0.08197908103466034,null],\"type\":\"scatter\"},{\"hoverinfo\":\"none\",\"line\":{\"color\":\"#b15928\",\"width\":1},\"mode\":\"lines\",\"x\":[-0.11404864490032196,-0.056218210607767105,null],\"y\":[0.0793866515159607,0.06314311176538467,null],\"type\":\"scatter\"},{\"hoverinfo\":\"none\",\"line\":{\"color\":\"#b15928\",\"width\":1},\"mode\":\"lines\",\"x\":[-0.11404864490032196,-0.2154925912618637,null],\"y\":[0.0793866515159607,0.10920758545398712,null],\"type\":\"scatter\"},{\"hoverinfo\":\"none\",\"line\":{\"color\":\"#b15928\",\"width\":1},\"mode\":\"lines\",\"x\":[-0.11404864490032196,-0.19645020365715027,null],\"y\":[0.0793866515159607,0.09805351495742798,null],\"type\":\"scatter\"},{\"hoverinfo\":\"none\",\"line\":{\"color\":\"#b15928\",\"width\":1},\"mode\":\"lines\",\"x\":[-0.11404864490032196,0.017801733687520027,null],\"y\":[0.0793866515159607,0.07078025490045547,null],\"type\":\"scatter\"},{\"hoverinfo\":\"none\",\"line\":{\"color\":\"#b15928\",\"width\":1},\"mode\":\"lines\",\"x\":[-0.11404864490032196,-0.21747839450836182,null],\"y\":[0.0793866515159607,0.09683854132890701,null],\"type\":\"scatter\"},{\"hoverinfo\":\"none\",\"line\":{\"color\":\"#b15928\",\"width\":1},\"mode\":\"lines\",\"x\":[-0.11404864490032196,-0.11404864490032196,null],\"y\":[0.0793866515159607,0.0793866515159607,null],\"type\":\"scatter\"},{\"hoverinfo\":\"none\",\"line\":{\"color\":\"#b15928\",\"width\":1},\"mode\":\"lines\",\"x\":[-0.11404864490032196,-0.21179255843162537,null],\"y\":[0.0793866515159607,0.11942533403635025,null],\"type\":\"scatter\"},{\"hoverinfo\":\"none\",\"line\":{\"color\":\"#b15928\",\"width\":1},\"mode\":\"lines\",\"x\":[0.11428499966859818,0.1542145162820816,null],\"y\":[0.06138763949275017,0.06641965359449387,null],\"type\":\"scatter\"},{\"hoverinfo\":\"none\",\"line\":{\"color\":\"#b15928\",\"width\":1},\"mode\":\"lines\",\"x\":[0.11428499966859818,0.0996846929192543,null],\"y\":[0.06138763949275017,0.04730414226651192,null],\"type\":\"scatter\"},{\"hoverinfo\":\"none\",\"line\":{\"color\":\"#b15928\",\"width\":1},\"mode\":\"lines\",\"x\":[0.11428499966859818,0.10263369977474213,null],\"y\":[0.06138763949275017,-0.016170984134078026,null],\"type\":\"scatter\"},{\"hoverinfo\":\"none\",\"line\":{\"color\":\"#b15928\",\"width\":1},\"mode\":\"lines\",\"x\":[0.11428499966859818,0.22457194328308105,null],\"y\":[0.06138763949275017,0.07447654753923416,null],\"type\":\"scatter\"},{\"hoverinfo\":\"none\",\"line\":{\"color\":\"#b15928\",\"width\":1},\"mode\":\"lines\",\"x\":[0.11428499966859818,0.22043377161026,null],\"y\":[0.06138763949275017,0.0873732641339302,null],\"type\":\"scatter\"},{\"hoverinfo\":\"none\",\"line\":{\"color\":\"#b15928\",\"width\":1},\"mode\":\"lines\",\"x\":[0.11428499966859818,0.11428499966859818,null],\"y\":[0.06138763949275017,0.06138763949275017,null],\"type\":\"scatter\"},{\"hoverinfo\":\"none\",\"line\":{\"color\":\"#b15928\",\"width\":1},\"mode\":\"lines\",\"x\":[0.11428499966859818,0.10667697340250015,null],\"y\":[0.06138763949275017,0.0880923643708229,null],\"type\":\"scatter\"},{\"hoverinfo\":\"none\",\"line\":{\"color\":\"#b15928\",\"width\":1},\"mode\":\"lines\",\"x\":[0.11428499966859818,0.18386556208133698,null],\"y\":[0.06138763949275017,0.07405702769756317,null],\"type\":\"scatter\"},{\"hoverinfo\":\"none\",\"line\":{\"color\":\"#b15928\",\"width\":1},\"mode\":\"lines\",\"x\":[0.11428499966859818,0.22258442640304565,null],\"y\":[0.06138763949275017,0.109991654753685,null],\"type\":\"scatter\"},{\"hoverinfo\":\"none\",\"line\":{\"color\":\"#b15928\",\"width\":1},\"mode\":\"lines\",\"x\":[0.11428499966859818,0.23591583967208862,null],\"y\":[0.06138763949275017,0.08762778341770172,null],\"type\":\"scatter\"},{\"hoverinfo\":\"none\",\"line\":{\"color\":\"#b15928\",\"width\":1},\"mode\":\"lines\",\"x\":[0.11428499966859818,0.2230285406112671,null],\"y\":[0.06138763949275017,0.12036607414484024,null],\"type\":\"scatter\"},{\"hoverinfo\":\"none\",\"line\":{\"color\":\"#b15928\",\"width\":1},\"mode\":\"lines\",\"x\":[0.11428499966859818,0.23096369206905365,null],\"y\":[0.06138763949275017,0.10170610249042511,null],\"type\":\"scatter\"},{\"hoverinfo\":\"none\",\"line\":{\"color\":\"#b15928\",\"width\":1},\"mode\":\"lines\",\"x\":[0.11428499966859818,-0.03722376003861427,null],\"y\":[0.06138763949275017,0.05838426202535629,null],\"type\":\"scatter\"},{\"hoverinfo\":\"none\",\"line\":{\"color\":\"#b15928\",\"width\":1},\"mode\":\"lines\",\"x\":[0.11428499966859818,0.19100482761859894,null],\"y\":[0.06138763949275017,0.08115316182374954,null],\"type\":\"scatter\"},{\"hoverinfo\":\"none\",\"line\":{\"color\":\"#b15928\",\"width\":1},\"mode\":\"lines\",\"x\":[0.11428499966859818,0.18162041902542114,null],\"y\":[0.06138763949275017,0.09892310202121735,null],\"type\":\"scatter\"},{\"hoverinfo\":\"none\",\"line\":{\"color\":\"#b15928\",\"width\":1},\"mode\":\"lines\",\"x\":[0.11428499966859818,0.18282820284366608,null],\"y\":[0.06138763949275017,0.09034259617328644,null],\"type\":\"scatter\"},{\"hoverinfo\":\"none\",\"line\":{\"color\":\"#b15928\",\"width\":1},\"mode\":\"lines\",\"x\":[0.11428499966859818,0.19026321172714233,null],\"y\":[0.06138763949275017,0.09024424850940704,null],\"type\":\"scatter\"},{\"hoverinfo\":\"none\",\"line\":{\"color\":\"#b15928\",\"width\":1},\"mode\":\"lines\",\"x\":[0.11428499966859818,-0.008871680125594139,null],\"y\":[0.06138763949275017,-0.021061770617961884,null],\"type\":\"scatter\"},{\"hoverinfo\":\"none\",\"line\":{\"color\":\"#b15928\",\"width\":1},\"mode\":\"lines\",\"x\":[0.11428499966859818,0.13636277616024017,null],\"y\":[0.06138763949275017,0.06254596263170242,null],\"type\":\"scatter\"},{\"hoverinfo\":\"none\",\"line\":{\"color\":\"#b15928\",\"width\":1},\"mode\":\"lines\",\"x\":[0.11428499966859818,0.017801733687520027,null],\"y\":[0.06138763949275017,0.07078025490045547,null],\"type\":\"scatter\"},{\"hoverinfo\":\"none\",\"line\":{\"color\":\"#b15928\",\"width\":1},\"mode\":\"lines\",\"x\":[0.11428499966859818,0.21208222210407257,null],\"y\":[0.06138763949275017,0.13075964152812958,null],\"type\":\"scatter\"},{\"hoverinfo\":\"none\",\"line\":{\"color\":\"#b15928\",\"width\":1},\"mode\":\"lines\",\"x\":[0.03503832593560219,0.08562422543764114,null],\"y\":[-0.060259267687797546,-0.03937424346804619,null],\"type\":\"scatter\"},{\"hoverinfo\":\"none\",\"line\":{\"color\":\"#b15928\",\"width\":1},\"mode\":\"lines\",\"x\":[-0.028231751173734665,-0.07118373364210129,null],\"y\":[-0.06372730433940887,0.005395886022597551,null],\"type\":\"scatter\"},{\"hoverinfo\":\"none\",\"line\":{\"color\":\"#b15928\",\"width\":1},\"mode\":\"lines\",\"x\":[-0.028231751173734665,-0.010698355734348297,null],\"y\":[-0.06372730433940887,0.0028660467360168695,null],\"type\":\"scatter\"},{\"hoverinfo\":\"none\",\"line\":{\"color\":\"#b15928\",\"width\":1},\"mode\":\"lines\",\"x\":[-0.008871680125594139,-0.010698355734348297,null],\"y\":[-0.021061770617961884,0.0028660467360168695,null],\"type\":\"scatter\"},{\"hoverinfo\":\"none\",\"line\":{\"color\":\"#b15928\",\"width\":1},\"mode\":\"lines\",\"x\":[-0.008871680125594139,-0.10001189261674881,null],\"y\":[-0.021061770617961884,-0.019882017746567726,null],\"type\":\"scatter\"},{\"hoverinfo\":\"none\",\"line\":{\"color\":\"#b15928\",\"width\":1},\"mode\":\"lines\",\"x\":[0.09083793312311172,0.11710836738348007,null],\"y\":[-0.08146306127309799,0.0009321760153397918,null],\"type\":\"scatter\"},{\"hoverinfo\":\"none\",\"line\":{\"color\":\"#b15928\",\"width\":1},\"mode\":\"lines\",\"x\":[0.07945340871810913,0.11710836738348007,null],\"y\":[-0.0784756988286972,0.0009321760153397918,null],\"type\":\"scatter\"},{\"hoverinfo\":\"none\",\"line\":{\"color\":\"#b15928\",\"width\":1},\"mode\":\"lines\",\"x\":[0.040209438651800156,0.088345967233181,null],\"y\":[-0.03278698772192001,-0.02072688564658165,null],\"type\":\"scatter\"},{\"hoverinfo\":\"none\",\"line\":{\"color\":\"#b15928\",\"width\":1},\"mode\":\"lines\",\"x\":[-0.08313187211751938,-0.19386236369609833,null],\"y\":[-0.07381266355514526,-0.09740345925092697,null],\"type\":\"scatter\"},{\"hoverinfo\":\"none\",\"line\":{\"color\":\"#b15928\",\"width\":1},\"mode\":\"lines\",\"x\":[-0.07201999425888062,-0.10266517847776413,null],\"y\":[0.011762149631977081,0.0938301831483841,null],\"type\":\"scatter\"},{\"hoverinfo\":\"none\",\"line\":{\"color\":\"#b15928\",\"width\":1},\"mode\":\"lines\",\"x\":[0.10263369977474213,0.0996846929192543,null],\"y\":[-0.016170984134078026,0.04730414226651192,null],\"type\":\"scatter\"},{\"hoverinfo\":\"none\",\"line\":{\"color\":\"#b15928\",\"width\":1},\"mode\":\"lines\",\"x\":[0.0996846929192543,0.1542145162820816,null],\"y\":[0.04730414226651192,0.06641965359449387,null],\"type\":\"scatter\"},{\"hoverinfo\":\"none\",\"line\":{\"color\":\"#b15928\",\"width\":1},\"mode\":\"lines\",\"x\":[0.0996846929192543,0.10667697340250015,null],\"y\":[0.04730414226651192,0.0880923643708229,null],\"type\":\"scatter\"},{\"hoverinfo\":\"none\",\"line\":{\"color\":\"#b15928\",\"width\":1},\"mode\":\"lines\",\"x\":[0.0996846929192543,0.18386556208133698,null],\"y\":[0.04730414226651192,0.07405702769756317,null],\"type\":\"scatter\"},{\"hoverinfo\":\"none\",\"line\":{\"color\":\"#b15928\",\"width\":1},\"mode\":\"lines\",\"x\":[0.0996846929192543,0.13636277616024017,null],\"y\":[0.04730414226651192,0.06254596263170242,null],\"type\":\"scatter\"},{\"hoverinfo\":\"none\",\"line\":{\"color\":\"#b15928\",\"width\":1},\"mode\":\"lines\",\"x\":[0.0996846929192543,0.017801733687520027,null],\"y\":[0.04730414226651192,0.07078025490045547,null],\"type\":\"scatter\"},{\"hoverinfo\":\"none\",\"line\":{\"color\":\"#b15928\",\"width\":1},\"mode\":\"lines\",\"x\":[-0.010698355734348297,-0.07118373364210129,null],\"y\":[0.0028660467360168695,0.005395886022597551,null],\"type\":\"scatter\"},{\"hoverinfo\":\"none\",\"line\":{\"color\":\"#b15928\",\"width\":1},\"mode\":\"lines\",\"x\":[-0.010698355734348297,-0.03722376003861427,null],\"y\":[0.0028660467360168695,0.05838426202535629,null],\"type\":\"scatter\"},{\"hoverinfo\":\"none\",\"line\":{\"color\":\"#b15928\",\"width\":1},\"mode\":\"lines\",\"x\":[-0.010698355734348297,-0.010698355734348297,null],\"y\":[0.0028660467360168695,0.0028660467360168695,null],\"type\":\"scatter\"},{\"hoverinfo\":\"none\",\"line\":{\"color\":\"#b15928\",\"width\":1},\"mode\":\"lines\",\"x\":[-0.010698355734348297,-0.10088273882865906,null],\"y\":[0.0028660467360168695,0.012627232819795609,null],\"type\":\"scatter\"},{\"hoverinfo\":\"none\",\"line\":{\"color\":\"#b15928\",\"width\":1},\"mode\":\"lines\",\"x\":[-0.2412836253643036,-0.2412836253643036,null],\"y\":[0.9972501993179321,0.9972501993179321,null],\"type\":\"scatter\"},{\"hoverinfo\":\"none\",\"line\":{\"color\":\"#b15928\",\"width\":1},\"mode\":\"lines\",\"x\":[-0.2412836253643036,-0.25913628935813904,null],\"y\":[0.9972501993179321,1.0,null],\"type\":\"scatter\"},{\"hoverinfo\":\"none\",\"line\":{\"color\":\"#b15928\",\"width\":1},\"mode\":\"lines\",\"x\":[-0.04963849484920502,0.0012960839085280895,null],\"y\":[0.11058349162340164,0.08289168030023575,null],\"type\":\"scatter\"},{\"hoverinfo\":\"none\",\"line\":{\"color\":\"#b15928\",\"width\":1},\"mode\":\"lines\",\"x\":[0.0012960839085280895,-0.04246462509036064,null],\"y\":[0.08289168030023575,0.1201380044221878,null],\"type\":\"scatter\"},{\"hoverinfo\":\"none\",\"line\":{\"color\":\"#b15928\",\"width\":1},\"mode\":\"lines\",\"x\":[0.0012960839085280895,0.0012960839085280895,null],\"y\":[0.08289168030023575,0.08289168030023575,null],\"type\":\"scatter\"},{\"hoverinfo\":\"none\",\"line\":{\"color\":\"#b15928\",\"width\":1},\"mode\":\"lines\",\"x\":[0.0012960839085280895,-0.031684599816799164,null],\"y\":[0.08289168030023575,0.12396955490112305,null],\"type\":\"scatter\"},{\"hoverinfo\":\"none\",\"line\":{\"color\":\"#b15928\",\"width\":1},\"mode\":\"lines\",\"x\":[0.0012960839085280895,0.054449569433927536,null],\"y\":[0.08289168030023575,0.08344356715679169,null],\"type\":\"scatter\"},{\"hoverinfo\":\"none\",\"line\":{\"color\":\"#b15928\",\"width\":1},\"mode\":\"lines\",\"x\":[0.0012960839085280895,0.04966125637292862,null],\"y\":[0.08289168030023575,0.0526713989675045,null],\"type\":\"scatter\"},{\"hoverinfo\":\"none\",\"line\":{\"color\":\"#b15928\",\"width\":1},\"mode\":\"lines\",\"x\":[0.0012960839085280895,-0.0404651015996933,null],\"y\":[0.08289168030023575,0.10763387382030487,null],\"type\":\"scatter\"},{\"hoverinfo\":\"none\",\"line\":{\"color\":\"#b15928\",\"width\":1},\"mode\":\"lines\",\"x\":[0.054449569433927536,0.04966125637292862,null],\"y\":[0.08344356715679169,0.0526713989675045,null],\"type\":\"scatter\"},{\"hoverinfo\":\"none\",\"line\":{\"color\":\"#b15928\",\"width\":1},\"mode\":\"lines\",\"x\":[0.04966125637292862,0.04966125637292862,null],\"y\":[0.0526713989675045,0.0526713989675045,null],\"type\":\"scatter\"},{\"hoverinfo\":\"none\",\"line\":{\"color\":\"#b15928\",\"width\":1},\"mode\":\"lines\",\"x\":[0.04966125637292862,0.07775337994098663,null],\"y\":[0.0526713989675045,0.059363096952438354,null],\"type\":\"scatter\"},{\"hoverinfo\":\"none\",\"line\":{\"color\":\"#b15928\",\"width\":1},\"mode\":\"lines\",\"x\":[0.04966125637292862,0.10364402830600739,null],\"y\":[0.0526713989675045,0.06440386921167374,null],\"type\":\"scatter\"},{\"hoverinfo\":\"none\",\"line\":{\"color\":\"#b15928\",\"width\":1},\"mode\":\"lines\",\"x\":[0.08428648114204407,0.08190315216779709,null],\"y\":[0.026960067451000214,0.03527268022298813,null],\"type\":\"scatter\"},{\"hoverinfo\":\"none\",\"line\":{\"color\":\"#b15928\",\"width\":1},\"mode\":\"lines\",\"x\":[0.08428648114204407,0.07436678558588028,null],\"y\":[0.026960067451000214,0.013922978192567825,null],\"type\":\"scatter\"},{\"hoverinfo\":\"none\",\"line\":{\"color\":\"#b15928\",\"width\":1},\"mode\":\"lines\",\"x\":[0.08190315216779709,0.08647139370441437,null],\"y\":[0.03527268022298813,0.012992375530302525,null],\"type\":\"scatter\"},{\"hoverinfo\":\"none\",\"line\":{\"color\":\"#b15928\",\"width\":1},\"mode\":\"lines\",\"x\":[0.07775337994098663,0.10364402830600739,null],\"y\":[0.059363096952438354,0.06440386921167374,null],\"type\":\"scatter\"},{\"hoverinfo\":\"none\",\"line\":{\"color\":\"#b15928\",\"width\":1},\"mode\":\"lines\",\"x\":[-0.06082925945520401,-0.06082925945520401,null],\"y\":[0.05018354207277298,0.05018354207277298,null],\"type\":\"scatter\"},{\"hoverinfo\":\"none\",\"line\":{\"color\":\"#b15928\",\"width\":1},\"mode\":\"lines\",\"x\":[-0.06082925945520401,-0.09098842740058899,null],\"y\":[0.05018354207277298,0.05503544956445694,null],\"type\":\"scatter\"},{\"hoverinfo\":\"none\",\"line\":{\"color\":\"#b15928\",\"width\":1},\"mode\":\"lines\",\"x\":[0.07436678558588028,0.08647139370441437,null],\"y\":[0.013922978192567825,0.012992375530302525,null],\"type\":\"scatter\"},{\"hoverinfo\":\"none\",\"line\":{\"color\":\"#b15928\",\"width\":1},\"mode\":\"lines\",\"x\":[0.07436678558588028,0.07436678558588028,null],\"y\":[0.013922978192567825,0.013922978192567825,null],\"type\":\"scatter\"},{\"hoverinfo\":\"none\",\"line\":{\"color\":\"#b15928\",\"width\":1},\"mode\":\"lines\",\"x\":[0.07436678558588028,0.08163558691740036,null],\"y\":[0.013922978192567825,0.002645733067765832,null],\"type\":\"scatter\"},{\"hoverinfo\":\"none\",\"line\":{\"color\":\"#b15928\",\"width\":1},\"mode\":\"lines\",\"x\":[0.1145307794213295,0.13661688566207886,null],\"y\":[0.07584137469530106,0.08691762387752533,null],\"type\":\"scatter\"},{\"hoverinfo\":\"none\",\"line\":{\"color\":\"#b15928\",\"width\":1},\"mode\":\"lines\",\"x\":[-0.06262879073619843,-0.13710127770900726,null],\"y\":[0.06851179152727127,0.13895681500434875,null],\"type\":\"scatter\"},{\"hoverinfo\":\"none\",\"line\":{\"color\":\"#b15928\",\"width\":1},\"mode\":\"lines\",\"x\":[-0.06262879073619843,-0.03971003368496895,null],\"y\":[0.06851179152727127,0.03288314491510391,null],\"type\":\"scatter\"},{\"hoverinfo\":\"none\",\"line\":{\"color\":\"#b15928\",\"width\":1},\"mode\":\"lines\",\"x\":[-0.06262879073619843,-0.15084664523601532,null],\"y\":[0.06851179152727127,0.1547297090291977,null],\"type\":\"scatter\"},{\"hoverinfo\":\"none\",\"line\":{\"color\":\"#b15928\",\"width\":1},\"mode\":\"lines\",\"x\":[-0.03971003368496895,-0.03971003368496895,null],\"y\":[0.03288314491510391,0.03288314491510391,null],\"type\":\"scatter\"},{\"hoverinfo\":\"none\",\"line\":{\"color\":\"#b15928\",\"width\":1},\"mode\":\"lines\",\"x\":[-0.056218210607767105,0.017801733687520027,null],\"y\":[0.06314311176538467,0.07078025490045547,null],\"type\":\"scatter\"},{\"hoverinfo\":\"none\",\"line\":{\"color\":\"#b15928\",\"width\":1},\"mode\":\"lines\",\"x\":[0.08647139370441437,0.08163558691740036,null],\"y\":[0.012992375530302525,0.002645733067765832,null],\"type\":\"scatter\"},{\"hoverinfo\":\"none\",\"line\":{\"color\":\"#b15928\",\"width\":1},\"mode\":\"lines\",\"x\":[0.13661688566207886,0.13661688566207886,null],\"y\":[0.08691762387752533,0.08691762387752533,null],\"type\":\"scatter\"},{\"hoverinfo\":\"none\",\"line\":{\"color\":\"#b15928\",\"width\":1},\"mode\":\"lines\",\"x\":[0.13661688566207886,0.22669784724712372,null],\"y\":[0.08691762387752533,0.14204207062721252,null],\"type\":\"scatter\"},{\"hoverinfo\":\"none\",\"line\":{\"color\":\"#b15928\",\"width\":1},\"mode\":\"lines\",\"x\":[0.1544070839881897,0.23815709352493286,null],\"y\":[0.10449688136577606,0.17460483312606812,null],\"type\":\"scatter\"},{\"hoverinfo\":\"none\",\"line\":{\"color\":\"#b15928\",\"width\":1},\"mode\":\"lines\",\"x\":[0.09952220320701599,0.13052675127983093,null],\"y\":[0.002265270333737135,-0.02317466214299202,null],\"type\":\"scatter\"},{\"hoverinfo\":\"none\",\"line\":{\"color\":\"#b15928\",\"width\":1},\"mode\":\"lines\",\"x\":[0.09952220320701599,0.1300722062587738,null],\"y\":[0.002265270333737135,0.018686966970562935,null],\"type\":\"scatter\"},{\"hoverinfo\":\"none\",\"line\":{\"color\":\"#b15928\",\"width\":1},\"mode\":\"lines\",\"x\":[0.10514023900032043,0.10692398995161057,null],\"y\":[0.016685698181390762,0.0274745412170887,null],\"type\":\"scatter\"},{\"hoverinfo\":\"none\",\"line\":{\"color\":\"#b15928\",\"width\":1},\"mode\":\"lines\",\"x\":[0.10514023900032043,0.1943674236536026,null],\"y\":[0.016685698181390762,-0.0010695743840187788,null],\"type\":\"scatter\"},{\"hoverinfo\":\"none\",\"line\":{\"color\":\"#b15928\",\"width\":1},\"mode\":\"lines\",\"x\":[0.10514023900032043,0.19367459416389465,null],\"y\":[0.016685698181390762,-0.010401660576462746,null],\"type\":\"scatter\"},{\"hoverinfo\":\"none\",\"line\":{\"color\":\"#b15928\",\"width\":1},\"mode\":\"lines\",\"x\":[0.10514023900032043,0.10514023900032043,null],\"y\":[0.016685698181390762,0.016685698181390762,null],\"type\":\"scatter\"},{\"hoverinfo\":\"none\",\"line\":{\"color\":\"#b15928\",\"width\":1},\"mode\":\"lines\",\"x\":[0.10514023900032043,0.11710836738348007,null],\"y\":[0.016685698181390762,0.0009321760153397918,null],\"type\":\"scatter\"},{\"hoverinfo\":\"none\",\"line\":{\"color\":\"#b15928\",\"width\":1},\"mode\":\"lines\",\"x\":[0.11710836738348007,0.10692398995161057,null],\"y\":[0.0009321760153397918,0.0274745412170887,null],\"type\":\"scatter\"},{\"hoverinfo\":\"none\",\"line\":{\"color\":\"#b15928\",\"width\":1},\"mode\":\"lines\",\"x\":[0.11710836738348007,0.19367459416389465,null],\"y\":[0.0009321760153397918,-0.010401660576462746,null],\"type\":\"scatter\"},{\"hoverinfo\":\"none\",\"line\":{\"color\":\"#b15928\",\"width\":1},\"mode\":\"lines\",\"x\":[0.11710836738348007,0.1943674236536026,null],\"y\":[0.0009321760153397918,-0.0010695743840187788,null],\"type\":\"scatter\"},{\"hoverinfo\":\"none\",\"line\":{\"color\":\"#b15928\",\"width\":1},\"mode\":\"lines\",\"x\":[0.11710836738348007,0.22897735238075256,null],\"y\":[0.0009321760153397918,-0.01250187586992979,null],\"type\":\"scatter\"},{\"hoverinfo\":\"none\",\"line\":{\"color\":\"#b15928\",\"width\":1},\"mode\":\"lines\",\"x\":[0.11710836738348007,0.2221136838197708,null],\"y\":[0.0009321760153397918,-0.03457752615213394,null],\"type\":\"scatter\"},{\"hoverinfo\":\"none\",\"line\":{\"color\":\"#b15928\",\"width\":1},\"mode\":\"lines\",\"x\":[0.11710836738348007,0.2307119220495224,null],\"y\":[0.0009321760153397918,-0.0007844405481591821,null],\"type\":\"scatter\"},{\"hoverinfo\":\"none\",\"line\":{\"color\":\"#b15928\",\"width\":1},\"mode\":\"lines\",\"x\":[0.11710836738348007,0.11710836738348007,null],\"y\":[0.0009321760153397918,0.0009321760153397918,null],\"type\":\"scatter\"},{\"hoverinfo\":\"none\",\"line\":{\"color\":\"#b15928\",\"width\":1},\"mode\":\"lines\",\"x\":[0.11710836738348007,0.2270628660917282,null],\"y\":[0.0009321760153397918,-0.023438958451151848,null],\"type\":\"scatter\"},{\"hoverinfo\":\"none\",\"line\":{\"color\":\"#b15928\",\"width\":1},\"mode\":\"lines\",\"x\":[0.12972775101661682,0.11557093262672424,null],\"y\":[0.041766684502363205,0.03998411074280739,null],\"type\":\"scatter\"},{\"hoverinfo\":\"none\",\"line\":{\"color\":\"#b15928\",\"width\":1},\"mode\":\"lines\",\"x\":[0.22457194328308105,0.22043377161026,null],\"y\":[0.07447654753923416,0.0873732641339302,null],\"type\":\"scatter\"},{\"hoverinfo\":\"none\",\"line\":{\"color\":\"#b15928\",\"width\":1},\"mode\":\"lines\",\"x\":[0.18386556208133698,0.28565847873687744,null],\"y\":[0.07405702769756317,0.1023608148097992,null],\"type\":\"scatter\"},{\"hoverinfo\":\"none\",\"line\":{\"color\":\"#b15928\",\"width\":1},\"mode\":\"lines\",\"x\":[-0.03722376003861427,-0.07118373364210129,null],\"y\":[0.05838426202535629,0.005395886022597551,null],\"type\":\"scatter\"},{\"hoverinfo\":\"none\",\"line\":{\"color\":\"#b15928\",\"width\":1},\"mode\":\"lines\",\"x\":[-0.03722376003861427,-0.03722376003861427,null],\"y\":[0.05838426202535629,0.05838426202535629,null],\"type\":\"scatter\"},{\"hoverinfo\":\"none\",\"line\":{\"color\":\"#b15928\",\"width\":1},\"mode\":\"lines\",\"x\":[-0.03722376003861427,-0.15636083483695984,null],\"y\":[0.05838426202535629,0.07669050246477127,null],\"type\":\"scatter\"},{\"hoverinfo\":\"none\",\"line\":{\"color\":\"#b15928\",\"width\":1},\"mode\":\"lines\",\"x\":[-0.03722376003861427,-0.15735390782356262,null],\"y\":[0.05838426202535629,0.09071147441864014,null],\"type\":\"scatter\"},{\"hoverinfo\":\"none\",\"line\":{\"color\":\"#b15928\",\"width\":1},\"mode\":\"lines\",\"x\":[0.19100482761859894,0.19026321172714233,null],\"y\":[0.08115316182374954,0.09024424850940704,null],\"type\":\"scatter\"},{\"hoverinfo\":\"none\",\"line\":{\"color\":\"#b15928\",\"width\":1},\"mode\":\"lines\",\"x\":[0.19100482761859894,0.18162041902542114,null],\"y\":[0.08115316182374954,0.09892310202121735,null],\"type\":\"scatter\"},{\"hoverinfo\":\"none\",\"line\":{\"color\":\"#b15928\",\"width\":1},\"mode\":\"lines\",\"x\":[0.19100482761859894,0.18282820284366608,null],\"y\":[0.08115316182374954,0.09034259617328644,null],\"type\":\"scatter\"},{\"hoverinfo\":\"none\",\"line\":{\"color\":\"#b15928\",\"width\":1},\"mode\":\"lines\",\"x\":[0.18162041902542114,0.19026321172714233,null],\"y\":[0.09892310202121735,0.09024424850940704,null],\"type\":\"scatter\"},{\"hoverinfo\":\"none\",\"line\":{\"color\":\"#b15928\",\"width\":1},\"mode\":\"lines\",\"x\":[0.18162041902542114,0.18282820284366608,null],\"y\":[0.09892310202121735,0.09034259617328644,null],\"type\":\"scatter\"},{\"hoverinfo\":\"none\",\"line\":{\"color\":\"#b15928\",\"width\":1},\"mode\":\"lines\",\"x\":[0.18282820284366608,0.19026321172714233,null],\"y\":[0.09034259617328644,0.09024424850940704,null],\"type\":\"scatter\"},{\"hoverinfo\":\"none\",\"line\":{\"color\":\"#b15928\",\"width\":1},\"mode\":\"lines\",\"x\":[-0.6157602667808533,-0.6611995100975037,null],\"y\":[0.7196921706199646,0.764758288860321,null],\"type\":\"scatter\"},{\"hoverinfo\":\"none\",\"line\":{\"color\":\"#b15928\",\"width\":1},\"mode\":\"lines\",\"x\":[0.11015378683805466,0.1549825221300125,null],\"y\":[0.0816793292760849,0.04248245805501938,null],\"type\":\"scatter\"},{\"hoverinfo\":\"none\",\"line\":{\"color\":\"#b15928\",\"width\":1},\"mode\":\"lines\",\"x\":[-0.10266517847776413,-0.10266517847776413,null],\"y\":[0.0938301831483841,0.0938301831483841,null],\"type\":\"scatter\"},{\"hoverinfo\":\"none\",\"line\":{\"color\":\"#b15928\",\"width\":1},\"mode\":\"lines\",\"x\":[0.06443779915571213,0.1684415340423584,null],\"y\":[-0.07851499319076538,-0.14385761320590973,null],\"type\":\"scatter\"},{\"hoverinfo\":\"none\",\"line\":{\"color\":\"#b15928\",\"width\":1},\"mode\":\"lines\",\"x\":[0.11787058413028717,0.2843692898750305,null],\"y\":[-0.007035181857645512,-0.07377682626247406,null],\"type\":\"scatter\"},{\"hoverinfo\":\"none\",\"line\":{\"color\":\"#b15928\",\"width\":1},\"mode\":\"lines\",\"x\":[0.2843692898750305,0.37729206681251526,null],\"y\":[-0.07377682626247406,-0.11134472489356995,null],\"type\":\"scatter\"},{\"hoverinfo\":\"none\",\"line\":{\"color\":\"#b15928\",\"width\":1},\"mode\":\"lines\",\"x\":[0.2843692898750305,0.3606981039047241,null],\"y\":[-0.07377682626247406,-0.10492190718650818,null],\"type\":\"scatter\"},{\"hoverinfo\":\"none\",\"line\":{\"color\":\"#b15928\",\"width\":1},\"mode\":\"lines\",\"x\":[0.188980370759964,0.2838531732559204,null],\"y\":[0.10884635895490646,0.16735787689685822,null],\"type\":\"scatter\"},{\"hoverinfo\":\"none\",\"line\":{\"color\":\"#b15928\",\"width\":1},\"mode\":\"lines\",\"x\":[-0.5990849137306213,-0.5724332928657532,null],\"y\":[0.8111663460731506,0.7774255275726318,null],\"type\":\"scatter\"},{\"hoverinfo\":\"none\",\"line\":{\"color\":\"#b15928\",\"width\":1},\"mode\":\"lines\",\"x\":[-0.5724332928657532,-0.551712691783905,null],\"y\":[0.7774255275726318,0.7807251214981079,null],\"type\":\"scatter\"},{\"hoverinfo\":\"none\",\"line\":{\"color\":\"#b15928\",\"width\":1},\"mode\":\"lines\",\"x\":[-0.8452550172805786,-0.861274778842926,null],\"y\":[-0.3163203299045563,-0.30761003494262695,null],\"type\":\"scatter\"},{\"hoverinfo\":\"none\",\"line\":{\"color\":\"#b15928\",\"width\":1},\"mode\":\"lines\",\"x\":[-0.861274778842926,-0.861274778842926,null],\"y\":[-0.30761003494262695,-0.30761003494262695,null],\"type\":\"scatter\"},{\"hoverinfo\":\"none\",\"line\":{\"color\":\"#b15928\",\"width\":1},\"mode\":\"lines\",\"x\":[-0.2154925912618637,-0.21179255843162537,null],\"y\":[0.10920758545398712,0.11942533403635025,null],\"type\":\"scatter\"},{\"hoverinfo\":\"none\",\"line\":{\"color\":\"#b15928\",\"width\":1},\"mode\":\"lines\",\"x\":[-0.15084664523601532,-0.15084664523601532,null],\"y\":[0.1547297090291977,0.1547297090291977,null],\"type\":\"scatter\"},{\"hoverinfo\":\"none\",\"line\":{\"color\":\"#b15928\",\"width\":1},\"mode\":\"lines\",\"x\":[0.37729206681251526,0.3606981039047241,null],\"y\":[-0.11134472489356995,-0.10492190718650818,null],\"type\":\"scatter\"},{\"hoverinfo\":\"none\",\"line\":{\"color\":\"#b15928\",\"width\":1},\"mode\":\"lines\",\"x\":[-0.1742209494113922,-0.1862599402666092,null],\"y\":[-0.8781073093414307,-0.931341290473938,null],\"type\":\"scatter\"},{\"hoverinfo\":\"none\",\"line\":{\"color\":\"#b15928\",\"width\":1},\"mode\":\"lines\",\"x\":[-0.1742209494113922,-0.15861186385154724,null],\"y\":[-0.8781073093414307,-0.8915202617645264,null],\"type\":\"scatter\"},{\"hoverinfo\":\"none\",\"line\":{\"color\":\"#b15928\",\"width\":1},\"mode\":\"lines\",\"x\":[-0.1742209494113922,-0.1742209494113922,null],\"y\":[-0.8781073093414307,-0.8781073093414307,null],\"type\":\"scatter\"},{\"hoverinfo\":\"text\",\"marker\":{\"color\":[2.4849066497880004,5.117993812416755,3.5553480614894135,3.295836866004329,3.2188758248682006,2.5649493574615367,4.248495242049359,1.0986122886681098,3.091042453358316,2.6390573296152584,1.6094379124341003,2.0794415416798357,1.3862943611198906,2.0794415416798357,3.5263605246161616,1.9459101490553132,1.3862943611198906,2.70805020110221,1.6094379124341003,2.1972245773362196,0.6931471805599453,1.791759469228055,1.791759469228055,0.6931471805599453,1.6094379124341003,2.302585092994046,1.3862943611198906,2.0794415416798357,1.9459101490553132,3.4011973816621555,3.2188758248682006,0.6931471805599453,0.6931471805599453,0.6931471805599453,1.6094379124341003,1.6094379124341003,1.6094379124341003,1.0986122886681098,1.6094379124341003,3.4965075614664802,0.6931471805599453,1.3862943611198906,1.6094379124341003,1.0986122886681098,0.6931471805599453,0.6931471805599453,2.0794415416798357,0.6931471805599453,0.6931471805599453,0.6931471805599453,0.6931471805599453,1.0986122886681098,0.6931471805599453,1.0986122886681098,0.6931471805599453,1.791759469228055,1.3862943611198906,0.6931471805599453,1.3862943611198906,0.6931471805599453,0.6931471805599453,0.6931471805599453,0.6931471805599453,0.6931471805599453,1.0986122886681098,0.6931471805599453,0.6931471805599453,0.6931471805599453,0.6931471805599453,2.1972245773362196,2.0794415416798357,0.6931471805599453,1.6094379124341003,1.0986122886681098,0.6931471805599453,1.0986122886681098,1.0986122886681098,2.995732273553991,0.6931471805599453,0.6931471805599453,0.6931471805599453,1.0986122886681098,0.6931471805599453,0.6931471805599453,2.4849066497880004,1.0986122886681098,1.0986122886681098,3.6888794541139363,1.3862943611198906,2.4849066497880004,0.6931471805599453,1.6094379124341003,1.6094379124341003,1.3862943611198906,0.6931471805599453,0.6931471805599453,0.6931471805599453,0.6931471805599453,0.6931471805599453,0.6931471805599453,1.6094379124341003,0.6931471805599453,1.3862943611198906,1.0986122886681098,0.6931471805599453,0.6931471805599453,1.0986122886681098,0.6931471805599453,1.3862943611198906,0.6931471805599453,0.6931471805599453,0.6931471805599453,1.0986122886681098,1.0986122886681098,1.0986122886681098,1.0986122886681098,0.6931471805599453,0.6931471805599453,1.3862943611198906,1.6094379124341003,1.3862943611198906,0.6931471805599453,1.0986122886681098,0.6931471805599453,0.6931471805599453,0.6931471805599453,0.6931471805599453,1.6094379124341003,0.6931471805599453,1.3862943611198906,1.0986122886681098,0.6931471805599453,0.6931471805599453,0.6931471805599453,1.0986122886681098,0.6931471805599453,0.6931471805599453,0.6931471805599453,1.3862943611198906,0.6931471805599453,0.6931471805599453,0.6931471805599453,1.0986122886681098,0.6931471805599453,0.6931471805599453,1.3862943611198906,0.6931471805599453,0.6931471805599453,0.6931471805599453,0.6931471805599453,1.0986122886681098,0.6931471805599453,1.791759469228055,0.6931471805599453,0.6931471805599453,0.6931471805599453,0.6931471805599453,0.6931471805599453,0.6931471805599453,0.6931471805599453,0.6931471805599453,1.0986122886681098,0.6931471805599453,0.6931471805599453,0.6931471805599453,0.6931471805599453,0.6931471805599453,0.6931471805599453,0.6931471805599453,5.424950017481403,1.0986122886681098,3.091042453358316,0.6931471805599453,3.2188758248682006,1.0986122886681098,0.6931471805599453,2.302585092994046,1.3862943611198906,0.6931471805599453,0.6931471805599453,2.0794415416798357,2.3978952727983707,3.4011973816621555,1.3862943611198906,0.6931471805599453,0.6931471805599453,1.0986122886681098,0.6931471805599453,0.6931471805599453,0.6931471805599453,0.6931471805599453,0.6931471805599453,0.6931471805599453,0.6931471805599453,0.6931471805599453,0.6931471805599453,0.6931471805599453,0.6931471805599453,1.3862943611198906,1.791759469228055,0.6931471805599453,0.6931471805599453,0.6931471805599453,0.6931471805599453,0.6931471805599453,0.6931471805599453,0.6931471805599453,0.6931471805599453,0.6931471805599453,0.6931471805599453,0.6931471805599453,0.6931471805599453,0.6931471805599453,0.6931471805599453,0.6931471805599453,1.0986122886681098,0.6931471805599453,0.6931471805599453,0.6931471805599453,0.6931471805599453,1.791759469228055,0.6931471805599453,1.0986122886681098,0.6931471805599453,0.6931471805599453,0.6931471805599453,0.6931471805599453,0.6931471805599453,1.0986122886681098,0.6931471805599453,0.6931471805599453,0.6931471805599453,0.6931471805599453,1.0986122886681098,0.6931471805599453,1.9459101490553132,0.6931471805599453,0.6931471805599453,1.0986122886681098,0.6931471805599453,0.6931471805599453,0.6931471805599453,1.0986122886681098,0.6931471805599453,1.0986122886681098,1.0986122886681098,0.6931471805599453,0.6931471805599453,0.6931471805599453,0.6931471805599453,0.6931471805599453,0.6931471805599453,0.6931471805599453,0.6931471805599453,0.6931471805599453,1.6094379124341003,0.6931471805599453,1.3862943611198906,1.0986122886681098,0.6931471805599453,0.6931471805599453,0.6931471805599453,0.6931471805599453,0.6931471805599453,0.6931471805599453,0.6931471805599453,0.6931471805599453,0.6931471805599453,0.6931471805599453,0.6931471805599453,0.6931471805599453,0.6931471805599453,0.6931471805599453,1.3862943611198906,0.6931471805599453,0.6931471805599453,0.6931471805599453,1.0986122886681098,0.6931471805599453,0.6931471805599453,0.6931471805599453,0.6931471805599453,0.6931471805599453,0.6931471805599453,0.6931471805599453,0.6931471805599453,0.6931471805599453,0.6931471805599453,0.6931471805599453,0.6931471805599453,0.6931471805599453,0.6931471805599453,0.6931471805599453,0.6931471805599453,0.6931471805599453,0.6931471805599453,0.6931471805599453,0.6931471805599453,0.6931471805599453,1.0986122886681098,0.6931471805599453,0.6931471805599453,0.6931471805599453,0.6931471805599453,0.6931471805599453,1.0986122886681098,0.6931471805599453,0.6931471805599453,0.6931471805599453,0.6931471805599453,0.6931471805599453,0.6931471805599453,0.6931471805599453,0.6931471805599453,0.6931471805599453,0.6931471805599453,1.3862943611198906,0.6931471805599453,0.6931471805599453,0.6931471805599453,0.6931471805599453,0.6931471805599453,0.6931471805599453,0.6931471805599453,0.6931471805599453,0.6931471805599453,0.6931471805599453,0.6931471805599453,0.6931471805599453,0.6931471805599453,0.6931471805599453,0.6931471805599453,0.6931471805599453,0.6931471805599453,0.6931471805599453,0.6931471805599453,0.6931471805599453,0.6931471805599453,0.6931471805599453,0.6931471805599453,0.6931471805599453,0.6931471805599453,0.6931471805599453,0.6931471805599453,0.6931471805599453,0.6931471805599453,0.6931471805599453,0.6931471805599453,0.6931471805599453,0.6931471805599453,0.6931471805599453,0.6931471805599453,0.6931471805599453,0.6931471805599453,0.6931471805599453,0.6931471805599453,0.6931471805599453,0.6931471805599453,1.3862943611198906,2.3978952727983707,2.3978952727983707,0.6931471805599453,1.3862943611198906,0.6931471805599453,1.0986122886681098,1.0986122886681098,2.5649493574615367,1.0986122886681098,1.0986122886681098,1.6094379124341003,2.3978952727983707,1.0986122886681098,1.9459101490553132,1.6094379124341003,1.3862943611198906,1.0986122886681098,1.6094379124341003,0.6931471805599453,1.9459101490553132,2.1972245773362196,1.3862943611198906,1.0986122886681098,1.0986122886681098,1.3862943611198906,1.791759469228055,1.3862943611198906,1.791759469228055,0.6931471805599453,1.3862943611198906,0.6931471805599453,1.9459101490553132,1.6094379124341003,0.6931471805599453,2.0794415416798357,1.0986122886681098,0.6931471805599453,1.0986122886681098,1.0986122886681098,1.791759469228055,2.302585092994046,2.833213344056216,1.6094379124341003,1.3862943611198906,1.3862943611198906,0.6931471805599453,0.6931471805599453,1.3862943611198906,1.3862943611198906,1.0986122886681098,1.0986122886681098,1.0986122886681098,1.3862943611198906,0.6931471805599453,0.6931471805599453,0.6931471805599453,0.6931471805599453,2.0794415416798357,1.6094379124341003,1.6094379124341003,1.6094379124341003,1.6094379124341003,1.3862943611198906,1.6094379124341003,0.6931471805599453,0.6931471805599453,0.6931471805599453,0.6931471805599453,1.0986122886681098,1.0986122886681098,0.6931471805599453,1.0986122886681098,1.0986122886681098,0.6931471805599453,0.6931471805599453,1.0986122886681098,1.0986122886681098,1.6094379124341003,0.6931471805599453,1.0986122886681098,0.6931471805599453,0.6931471805599453,1.0986122886681098,0.6931471805599453,1.0986122886681098,0.6931471805599453,1.3862943611198906,0.6931471805599453,0.6931471805599453,0.6931471805599453,0.6931471805599453,0.6931471805599453,0.6931471805599453,0.6931471805599453,0.6931471805599453,0.6931471805599453,1.0986122886681098,1.3862943611198906,0.6931471805599453,1.0986122886681098,1.0986122886681098,1.0986122886681098,1.3862943611198906,0.6931471805599453,0.6931471805599453,0.6931471805599453,0.6931471805599453,1.0986122886681098,1.0986122886681098,1.0986122886681098,0.6931471805599453,1.0986122886681098,0.6931471805599453,0.6931471805599453,1.0986122886681098,0.6931471805599453,0.6931471805599453,0.6931471805599453,0.6931471805599453,0.6931471805599453,1.3862943611198906,1.0986122886681098,1.0986122886681098,0.6931471805599453,0.6931471805599453,0.6931471805599453,0.6931471805599453,0.6931471805599453,0.6931471805599453,1.3862943611198906,0.6931471805599453,0.6931471805599453,0.6931471805599453,1.0986122886681098,1.0986122886681098,0.6931471805599453,0.6931471805599453,1.6094379124341003,0.6931471805599453,0.6931471805599453,0.6931471805599453,0.6931471805599453,0.6931471805599453,0.6931471805599453],\"colorbar\":{\"thickness\":15,\"ticktext\":[\"1\",\"46\",\"91\",\"136\",\"181\",\"226\"],\"tickvals\":[0.6931471805599453,3.8501476017100584,4.5217885770490405,4.919980925828125,5.204006687076795,5.424950017481403],\"title\":{\"text\":\"Node Connections\"},\"x\":1.02,\"xanchor\":\"left\"},\"colorscale\":[[0.0,\"rgb(255,255,217)\"],[0.125,\"rgb(237,248,177)\"],[0.25,\"rgb(199,233,180)\"],[0.375,\"rgb(127,205,187)\"],[0.5,\"rgb(65,182,196)\"],[0.625,\"rgb(29,145,192)\"],[0.75,\"rgb(34,94,168)\"],[0.875,\"rgb(37,52,148)\"],[1.0,\"rgb(8,29,88)\"]],\"showscale\":true,\"size\":10},\"mode\":\"markers\",\"text\":[\"London (England)\\u003cbr\\u003eConnections: 11\",\"Fiction\\u003cbr\\u003eConnections: 166\",\"PR\\u003cbr\\u003eConnections: 34\",\"England\\u003cbr\\u003eConnections: 26\",\"Social life and customs\\u003cbr\\u003eConnections: 24\",\"DA\\u003cbr\\u003eConnections: 12\",\"History\\u003cbr\\u003eConnections: 69\",\"London\\u003cbr\\u003eConnections: 2\",\"Description and travel\\u003cbr\\u003eConnections: 21\",\"Early works to 1800\\u003cbr\\u003eConnections: 13\",\"Love stories\\u003cbr\\u003eConnections: 4\",\"Adventure stories\\u003cbr\\u003eConnections: 7\",\"Short stories, American\\u003cbr\\u003eConnections: 3\",\"New England\\u003cbr\\u003eConnections: 7\",\"PS\\u003cbr\\u003eConnections: 33\",\"Egypt\\u003cbr\\u003eConnections: 6\",\"German fiction\\u003cbr\\u003eConnections: 3\",\"Translations into English\\u003cbr\\u003eConnections: 14\",\"PT\\u003cbr\\u003eConnections: 4\",\"Science fiction\\u003cbr\\u003eConnections: 8\",\"Time travel\\u003cbr\\u003eConnections: 1\",\"Extraterrestrial beings\\u003cbr\\u003eConnections: 5\",\"Human-alien encounters\\u003cbr\\u003eConnections: 5\",\"City and town life\\u003cbr\\u003eConnections: 1\",\"Christian life\\u003cbr\\u003eConnections: 4\",\"20th century\\u003cbr\\u003eConnections: 9\",\"Soldiers\\u003cbr\\u003eConnections: 3\",\"Short stories\\u003cbr\\u003eConnections: 7\",\"Man-woman relationships\\u003cbr\\u003eConnections: 6\",\"Great Britain\\u003cbr\\u003eConnections: 29\",\"19th century\\u003cbr\\u003eConnections: 24\",\"Married people\\u003cbr\\u003eConnections: 1\",\"Miners\\u003cbr\\u003eConnections: 1\",\"Asteroids\\u003cbr\\u003eConnections: 1\",\"Children\\u003cbr\\u003eConnections: 4\",\"Families\\u003cbr\\u003eConnections: 4\",\"Canada\\u003cbr\\u003eConnections: 4\",\"Social classes\\u003cbr\\u003eConnections: 2\",\"Detective and mystery stories\\u003cbr\\u003eConnections: 4\",\"PZ\\u003cbr\\u003eConnections: 32\",\"Turkey\\u003cbr\\u003eConnections: 1\",\"Young women\\u003cbr\\u003eConnections: 3\",\"Domestic fiction\\u003cbr\\u003eConnections: 4\",\"Bildungsromans\\u003cbr\\u003eConnections: 2\",\"Feminist fiction\\u003cbr\\u003eConnections: 1\",\"Children of clergy\\u003cbr\\u003eConnections: 1\",\"Women\\u003cbr\\u003eConnections: 7\",\"Employment\\u003cbr\\u003eConnections: 1\",\"Grandparents\\u003cbr\\u003eConnections: 1\",\"Mars (Planet)\\u003cbr\\u003eConnections: 1\",\"Fathers and sons\\u003cbr\\u003eConnections: 1\",\"Ship captains\\u003cbr\\u003eConnections: 2\",\"Missionaries\\u003cbr\\u003eConnections: 1\",\"Seafaring life\\u003cbr\\u003eConnections: 2\",\"Whaling ships\\u003cbr\\u003eConnections: 1\",\"Paris (France)\\u003cbr\\u003eConnections: 5\",\"Western stories\\u003cbr\\u003eConnections: 3\",\"Africa\\u003cbr\\u003eConnections: 1\",\"Fantasy fiction\\u003cbr\\u003eConnections: 3\",\"Immortalism\\u003cbr\\u003eConnections: 1\",\"Reincarnation\\u003cbr\\u003eConnections: 1\",\"Prehistoric peoples\\u003cbr\\u003eConnections: 1\",\"Americans\\u003cbr\\u003eConnections: 1\",\"Stone age\\u003cbr\\u003eConnections: 1\",\"Marriage\\u003cbr\\u003eConnections: 2\",\"Villages\\u003cbr\\u003eConnections: 1\",\"Life on other planets\\u003cbr\\u003eConnections: 1\",\"Mountain life\\u003cbr\\u003eConnections: 1\",\"Rocky Mountains\\u003cbr\\u003eConnections: 1\",\"France\\u003cbr\\u003eConnections: 8\",\"PQ\\u003cbr\\u003eConnections: 7\",\"Triangles (Interpersonal relations)\\u003cbr\\u003eConnections: 1\",\"Gold mines and mining\\u003cbr\\u003eConnections: 4\",\"Spain\\u003cbr\\u003eConnections: 2\",\"California\\u003cbr\\u003eConnections: 1\",\"Sisters\\u003cbr\\u003eConnections: 2\",\"Poets\\u003cbr\\u003eConnections: 2\",\"Conduct of life\\u003cbr\\u003eConnections: 19\",\"Journalists\\u003cbr\\u003eConnections: 1\",\"Seduction\\u003cbr\\u003eConnections: 1\",\"1870-1940\\u003cbr\\u003eConnections: 1\",\"Politics and government\\u003cbr\\u003eConnections: 2\",\"Space colonies\\u003cbr\\u003eConnections: 1\",\"Interstellar travel\\u003cbr\\u003eConnections: 1\",\"World War, 1914-1918\\u003cbr\\u003eConnections: 11\",\"Scotland\\u003cbr\\u003eConnections: 2\",\"Humorous stories\\u003cbr\\u003eConnections: 2\",\"United States\\u003cbr\\u003eConnections: 39\",\"Frontier and pioneer life\\u003cbr\\u003eConnections: 3\",\"West (U.S.)\\u003cbr\\u003eConnections: 11\",\"Psychic ability\\u003cbr\\u003eConnections: 1\",\"India\\u003cbr\\u003eConnections: 4\",\"British\\u003cbr\\u003eConnections: 4\",\"New York (N.Y.)\\u003cbr\\u003eConnections: 3\",\"Single women\\u003cbr\\u003eConnections: 1\",\"Working class women\\u003cbr\\u003eConnections: 1\",\"Women dancers\\u003cbr\\u003eConnections: 1\",\"Nightlife\\u003cbr\\u003eConnections: 1\",\"Philanthropists\\u003cbr\\u003eConnections: 1\",\"Sea stories\\u003cbr\\u003eConnections: 1\",\"Friendship\\u003cbr\\u003eConnections: 4\",\"Pastoral fiction\\u003cbr\\u003eConnections: 1\",\"Country life\\u003cbr\\u003eConnections: 3\",\"River life\\u003cbr\\u003eConnections: 2\",\"Mate selection\\u003cbr\\u003eConnections: 1\",\"First loves\\u003cbr\\u003eConnections: 1\",\"Dime novels\\u003cbr\\u003eConnections: 2\",\"Romances\\u003cbr\\u003eConnections: 1\",\"War stories\\u003cbr\\u003eConnections: 3\",\"Psychological fiction\\u003cbr\\u003eConnections: 1\",\"Outer space\\u003cbr\\u003eConnections: 1\",\"Exploration\\u003cbr\\u003eConnections: 1\",\"Inheritance and succession\\u003cbr\\u003eConnections: 2\",\"Mystery fiction\\u003cbr\\u003eConnections: 2\",\"Middle class\\u003cbr\\u003eConnections: 2\",\"Household employees\\u003cbr\\u003eConnections: 2\",\"Middle West\\u003cbr\\u003eConnections: 1\",\"Earth (Planet)\\u003cbr\\u003eConnections: 1\",\"Colonial period, ca. 1600-1775\\u003cbr\\u003eConnections: 3\",\"Massachusetts\\u003cbr\\u003eConnections: 4\",\"Space ships\\u003cbr\\u003eConnections: 3\",\"Mutiny\\u003cbr\\u003eConnections: 1\",\"Clergy\\u003cbr\\u003eConnections: 2\",\"Inventors\\u003cbr\\u003eConnections: 1\",\"Husband and wife\\u003cbr\\u003eConnections: 1\",\"Biographical fiction\\u003cbr\\u003eConnections: 1\",\"Christian fiction\\u003cbr\\u003eConnections: 1\",\"Boys\\u003cbr\\u003eConnections: 4\",\"Historical fiction\\u003cbr\\u003eConnections: 1\",\"Adventure and adventurers\\u003cbr\\u003eConnections: 3\",\"Courtship\\u003cbr\\u003eConnections: 2\",\"Misers\\u003cbr\\u003eConnections: 1\",\"Booksellers and bookselling\\u003cbr\\u003eConnections: 1\",\"Clerkenwell (London, England)\\u003cbr\\u003eConnections: 1\",\"Murder\\u003cbr\\u003eConnections: 2\",\"Cyborgs\\u003cbr\\u003eConnections: 1\",\"Criminals\\u003cbr\\u003eConnections: 1\",\"Telepathy\\u003cbr\\u003eConnections: 1\",\"Fathers and daughters\\u003cbr\\u003eConnections: 3\",\"Spouses\\u003cbr\\u003eConnections: 1\",\"Autobiographical fiction\\u003cbr\\u003eConnections: 1\",\"Space travelers\\u003cbr\\u003eConnections: 1\",\"Poor families\\u003cbr\\u003eConnections: 2\",\"Prisoners\\u003cbr\\u003eConnections: 1\",\"Abduction\\u003cbr\\u003eConnections: 1\",\"Orphans\\u003cbr\\u003eConnections: 3\",\"Books and reading\\u003cbr\\u003eConnections: 1\",\"Castaways\\u003cbr\\u003eConnections: 1\",\"Inventions\\u003cbr\\u003eConnections: 1\",\"Manners and customs\\u003cbr\\u003eConnections: 1\",\"PG\\u003cbr\\u003eConnections: 2\",\"Russia\\u003cbr\\u003eConnections: 1\",\"Kings and rulers\\u003cbr\\u003eConnections: 5\",\"Health resorts\\u003cbr\\u003eConnections: 1\",\"Blind\\u003cbr\\u003eConnections: 1\",\"Novelists\\u003cbr\\u003eConnections: 1\",\"Community life\\u003cbr\\u003eConnections: 1\",\"San Francisco (Calif.)\\u003cbr\\u003eConnections: 1\",\"Survival\\u003cbr\\u003eConnections: 1\",\"Investigation\\u003cbr\\u003eConnections: 1\",\"Married women\\u003cbr\\u003eConnections: 1\",\"Artists\\u003cbr\\u003eConnections: 2\",\"Private investigators\\u003cbr\\u003eConnections: 1\",\"People with disabilities\\u003cbr\\u003eConnections: 1\",\"Depression, Mental\\u003cbr\\u003eConnections: 1\",\"Design and construction\\u003cbr\\u003eConnections: 1\",\"Painters\\u003cbr\\u003eConnections: 1\",\"Aristocracy (Social class)\\u003cbr\\u003eConnections: 1\",\"Forsyte family (Fictitious characters)\\u003cbr\\u003eConnections: 1\",\"Juvenile fiction\\u003cbr\\u003eConnections: 226\",\"English poetry\\u003cbr\\u003eConnections: 2\",\"Drama\\u003cbr\\u003eConnections: 21\",\"Short stories, English\\u003cbr\\u003eConnections: 1\",\"Biography\\u003cbr\\u003eConnections: 24\",\"Comedies\\u003cbr\\u003eConnections: 2\",\"English drama\\u003cbr\\u003eConnections: 1\",\"18th century\\u003cbr\\u003eConnections: 9\",\"English fiction\\u003cbr\\u003eConnections: 3\",\"English essays\\u003cbr\\u003eConnections: 1\",\"Texts\\u003cbr\\u003eConnections: 1\",\"Poetry\\u003cbr\\u003eConnections: 7\",\"History and criticism\\u003cbr\\u003eConnections: 10\",\"Periodicals\\u003cbr\\u003eConnections: 29\",\"Siblings\\u003cbr\\u003eConnections: 3\",\"Circus performers\\u003cbr\\u003eConnections: 1\",\"Circus animals\\u003cbr\\u003eConnections: 1\",\"Islands\\u003cbr\\u003eConnections: 2\",\"Death\\u003cbr\\u003eConnections: 1\",\"Giants\\u003cbr\\u003eConnections: 1\",\"War\\u003cbr\\u003eConnections: 1\",\"Tailors\\u003cbr\\u003eConnections: 1\",\"Arctic regions\\u003cbr\\u003eConnections: 1\",\"Whaling\\u003cbr\\u003eConnections: 1\",\"Teenage boys\\u003cbr\\u003eConnections: 1\",\"Fatherless families\\u003cbr\\u003eConnections: 1\",\"Debt\\u003cbr\\u003eConnections: 1\",\"Clerks\\u003cbr\\u003eConnections: 1\",\"Loyalty\\u003cbr\\u003eConnections: 1\",\"Girls\\u003cbr\\u003eConnections: 3\",\"Indians of North America\\u003cbr\\u003eConnections: 5\",\"Boardinghouses\\u003cbr\\u003eConnections: 1\",\"Ambition\\u003cbr\\u003eConnections: 1\",\"Arizona\\u003cbr\\u003eConnections: 1\",\"Ranch life\\u003cbr\\u003eConnections: 1\",\"Farm life\\u003cbr\\u003eConnections: 1\",\"Sailing\\u003cbr\\u003eConnections: 1\",\"Yachts\\u003cbr\\u003eConnections: 1\",\"Yachting\\u003cbr\\u003eConnections: 1\",\"Sailing ships\\u003cbr\\u003eConnections: 1\",\"Florida\\u003cbr\\u003eConnections: 1\",\"Honesty\\u003cbr\\u003eConnections: 1\",\"Kindness\\u003cbr\\u003eConnections: 1\",\"Poverty\\u003cbr\\u003eConnections: 1\",\"Religious life\\u003cbr\\u003eConnections: 1\",\"Theft\\u003cbr\\u003eConnections: 1\",\"Children's stories\\u003cbr\\u003eConnections: 2\",\"Cousins\\u003cbr\\u003eConnections: 1\",\"Wills\\u003cbr\\u003eConnections: 1\",\"Sailors\\u003cbr\\u003eConnections: 1\",\"Shipwrecks\\u003cbr\\u003eConnections: 1\",\"Animals\\u003cbr\\u003eConnections: 5\",\"Swine\\u003cbr\\u003eConnections: 1\",\"Schools\\u003cbr\\u003eConnections: 2\",\"Canoes and canoeing\\u003cbr\\u003eConnections: 1\",\"Camps\\u003cbr\\u003eConnections: 1\",\"Maine\\u003cbr\\u003eConnections: 1\",\"Railroad travel\\u003cbr\\u003eConnections: 1\",\"Songs\\u003cbr\\u003eConnections: 1\",\"Boarding schools\\u003cbr\\u003eConnections: 2\",\"Toys\\u003cbr\\u003eConnections: 1\",\"Military education\\u003cbr\\u003eConnections: 1\",\"Conversion\\u003cbr\\u003eConnections: 1\",\"Obedience\\u003cbr\\u003eConnections: 1\",\"Mystery and detective stories\\u003cbr\\u003eConnections: 2\",\"Romanies\\u003cbr\\u003eConnections: 1\",\"Natural history\\u003cbr\\u003eConnections: 6\",\"Automobiles\\u003cbr\\u003eConnections: 1\",\"Automobile travel\\u003cbr\\u003eConnections: 1\",\"Gold miners\\u003cbr\\u003eConnections: 2\",\"Swindlers and swindling\\u003cbr\\u003eConnections: 1\",\"British Columbia\\u003cbr\\u003eConnections: 1\",\"Cariboo (B.C. : Regional district)\\u003cbr\\u003eConnections: 1\",\"Gold discoveries\\u003cbr\\u003eConnections: 2\",\"Gold dredging\\u003cbr\\u003eConnections: 1\",\"Diligence\\u003cbr\\u003eConnections: 2\",\"Success\\u003cbr\\u003eConnections: 2\",\"Mothers and sons\\u003cbr\\u003eConnections: 1\",\"Messengers\\u003cbr\\u003eConnections: 1\",\"Robbery\\u003cbr\\u003eConnections: 1\",\"Alcoholism\\u003cbr\\u003eConnections: 1\",\"Ferries\\u003cbr\\u003eConnections: 1\",\"Airplanes\\u003cbr\\u003eConnections: 1\",\"Holidays\\u003cbr\\u003eConnections: 1\",\"Aunts\\u003cbr\\u003eConnections: 1\",\"Alaska\\u003cbr\\u003eConnections: 1\",\"Revolution, 1775-1783\\u003cbr\\u003eConnections: 4\",\"Voyages and travels\\u003cbr\\u003eConnections: 1\",\"Youth\\u003cbr\\u003eConnections: 3\",\"Courage\\u003cbr\\u003eConnections: 2\",\"Afghan Wars\\u003cbr\\u003eConnections: 1\",\"Leadership\\u003cbr\\u003eConnections: 1\",\"Youth and death\\u003cbr\\u003eConnections: 1\",\"Massacres\\u003cbr\\u003eConnections: 1\",\"Afghanistan\\u003cbr\\u003eConnections: 1\",\"Confidence\\u003cbr\\u003eConnections: 1\",\"Diplomacy\\u003cbr\\u003eConnections: 1\",\"Hunger\\u003cbr\\u003eConnections: 1\",\"Spies\\u003cbr\\u003eConnections: 1\",\"Circus\\u003cbr\\u003eConnections: 1\",\"Dogs\\u003cbr\\u003eConnections: 1\",\"Adopted children\\u003cbr\\u003eConnections: 1\",\"Human-animal relationships\\u003cbr\\u003eConnections: 1\",\"Thieves\\u003cbr\\u003eConnections: 1\",\"Fairy tales\\u003cbr\\u003eConnections: 3\",\"Magic\\u003cbr\\u003eConnections: 1\",\"Princesses\\u003cbr\\u003eConnections: 1\",\"Owls\\u003cbr\\u003eConnections: 1\",\"Magicians\\u003cbr\\u003eConnections: 2\",\"Didactic fiction\\u003cbr\\u003eConnections: 1\",\"Humorous stories, American\\u003cbr\\u003eConnections: 1\",\"Rabbits\\u003cbr\\u003eConnections: 1\",\"Foxes\\u003cbr\\u003eConnections: 1\",\"Muskrat\\u003cbr\\u003eConnections: 1\",\"Geese\\u003cbr\\u003eConnections: 1\",\"Alligators\\u003cbr\\u003eConnections: 1\",\"Wolves\\u003cbr\\u003eConnections: 1\",\"Uncle Wiggily (Fictitious character)\\u003cbr\\u003eConnections: 1\",\"Gardening\\u003cbr\\u003eConnections: 1\",\"Snow\\u003cbr\\u003eConnections: 1\",\"Tricksters\\u003cbr\\u003eConnections: 1\",\"Vacations\\u003cbr\\u003eConnections: 1\",\"Young men\\u003cbr\\u003eConnections: 1\",\"Baseball stories\\u003cbr\\u003eConnections: 1\",\"Baseball players\\u003cbr\\u003eConnections: 1\",\"Revenge\\u003cbr\\u003eConnections: 1\",\"Treasure troves\\u003cbr\\u003eConnections: 1\",\"Students\\u003cbr\\u003eConnections: 1\",\"Fires\\u003cbr\\u003eConnections: 1\",\"United States Military Academy\\u003cbr\\u003eConnections: 1\",\"Family\\u003cbr\\u003eConnections: 2\",\"Best friends\\u003cbr\\u003eConnections: 1\",\"Farmers\\u003cbr\\u003eConnections: 1\",\"Runaway teenagers\\u003cbr\\u003eConnections: 1\",\"Business\\u003cbr\\u003eConnections: 1\",\"Stepfathers\\u003cbr\\u003eConnections: 1\",\"Theater\\u003cbr\\u003eConnections: 2\",\"Boy Scouts of America\\u003cbr\\u003eConnections: 1\",\"Christmas\\u003cbr\\u003eConnections: 1\",\"Storms\\u003cbr\\u003eConnections: 1\",\"Intergenerational relations\\u003cbr\\u003eConnections: 1\",\"Runaway children\\u003cbr\\u003eConnections: 1\",\"Rescues\\u003cbr\\u003eConnections: 1\",\"Motion picture industry\\u003cbr\\u003eConnections: 1\",\"California, Southern\\u003cbr\\u003eConnections: 1\",\"Competition\\u003cbr\\u003eConnections: 1\",\"Trials\\u003cbr\\u003eConnections: 1\",\"North Carolina\\u003cbr\\u003eConnections: 3\",\"New York Giants (Baseball team)\\u003cbr\\u003eConnections: 1\",\"Wealth\\u003cbr\\u003eConnections: 1\",\"Despair\\u003cbr\\u003eConnections: 1\",\"Happiness\\u003cbr\\u003eConnections: 1\",\"Teasing\\u003cbr\\u003eConnections: 1\",\"Suicide\\u003cbr\\u003eConnections: 1\",\"Dwarfs\\u003cbr\\u003eConnections: 1\",\"Camping\\u003cbr\\u003eConnections: 1\",\"Teenage girls\\u003cbr\\u003eConnections: 1\",\"Ocean travel\\u003cbr\\u003eConnections: 1\",\"Mexico\\u003cbr\\u003eConnections: 1\",\"Revolution, 1910-1920\\u003cbr\\u003eConnections: 1\",\"Steamboats\\u003cbr\\u003eConnections: 1\",\"Ransom\\u003cbr\\u003eConnections: 1\",\"Germans\\u003cbr\\u003eConnections: 1\",\"Foreign countries\\u003cbr\\u003eConnections: 1\",\"Nicaragua\\u003cbr\\u003eConnections: 1\",\"Panama Canal (Panama)\\u003cbr\\u003eConnections: 1\",\"Revolutionaries\\u003cbr\\u003eConnections: 1\",\"Houseboats\\u003cbr\\u003eConnections: 1\",\"Brigands and robbers\\u003cbr\\u003eConnections: 1\",\"Canal-boats\\u003cbr\\u003eConnections: 1\",\"Reunions\\u003cbr\\u003eConnections: 1\",\"Elves\\u003cbr\\u003eConnections: 1\",\"Dreams\\u003cbr\\u003eConnections: 1\",\"World's Columbian Exposition (1893 : Chicago, Ill.)\\u003cbr\\u003eConnections: 1\",\"Temperance\\u003cbr\\u003eConnections: 1\",\"Fishing\\u003cbr\\u003eConnections: 1\",\"Uncles\\u003cbr\\u003eConnections: 1\",\"Outdoor life\\u003cbr\\u003eConnections: 1\",\"Mothers and daughters\\u003cbr\\u003eConnections: 1\",\"Body schema in children\\u003cbr\\u003eConnections: 1\",\"Glory of God\\u003cbr\\u003eConnections: 1\",\"Nurses\\u003cbr\\u003eConnections: 1\",\"Play\\u003cbr\\u003eConnections: 1\",\"Seaside resorts\\u003cbr\\u003eConnections: 1\",\"Children's accidents\\u003cbr\\u003eConnections: 1\",\"Children of military personnel\\u003cbr\\u003eConnections: 1\",\"Twins\\u003cbr\\u003eConnections: 1\",\"Altruism\\u003cbr\\u003eConnections: 1\",\"Consolation\\u003cbr\\u003eConnections: 1\",\"Children's literature\\u003cbr\\u003eConnections: 3\",\"AP\\u003cbr\\u003eConnections: 10\",\"Juvenile literature\\u003cbr\\u003eConnections: 10\",\"Children's poetry\\u003cbr\\u003eConnections: 1\",\"Guidebooks\\u003cbr\\u003eConnections: 3\",\"Death Valley National Park (Calif. and Nev.)\\u003cbr\\u003eConnections: 1\",\"Foreign relations\\u003cbr\\u003eConnections: 2\",\"Pepys, Samuel, 1633-1703\\u003cbr\\u003eConnections: 2\",\"Diaries\\u003cbr\\u003eConnections: 12\",\"Cabinet officers\\u003cbr\\u003eConnections: 2\",\"Diarists\\u003cbr\\u003eConnections: 2\",\"17th century\\u003cbr\\u003eConnections: 4\",\"Sources\\u003cbr\\u003eConnections: 10\",\"Charles II, 1660-1685\\u003cbr\\u003eConnections: 2\",\"Regimental histories\\u003cbr\\u003eConnections: 6\",\"D501\\u003cbr\\u003eConnections: 4\",\"Popular literature\\u003cbr\\u003eConnections: 3\",\"History, Naval\\u003cbr\\u003eConnections: 2\",\"America\\u003cbr\\u003eConnections: 4\",\"Ireland\\u003cbr\\u003eConnections: 1\",\"Wiltshire\\u003cbr\\u003eConnections: 6\",\"Civil War, 1861-1865\\u003cbr\\u003eConnections: 8\",\"DC\\u003cbr\\u003eConnections: 3\",\"Italy\\u003cbr\\u003eConnections: 2\",\"E011\\u003cbr\\u003eConnections: 2\",\"E201\\u003cbr\\u003eConnections: 3\",\"DS\\u003cbr\\u003eConnections: 5\",\"Campaigns\\u003cbr\\u003eConnections: 3\",\"Middle East\\u003cbr\\u003eConnections: 5\",\"History, Ancient\\u003cbr\\u003eConnections: 1\",\"PN\\u003cbr\\u003eConnections: 3\",\"F001\\u003cbr\\u003eConnections: 1\",\"Personal narratives\\u003cbr\\u003eConnections: 6\",\"E456\\u003cbr\\u003eConnections: 4\",\"Georgia\\u003cbr\\u003eConnections: 1\",\"Napoleon I, Emperor of the French, 1769-1821\\u003cbr\\u003eConnections: 7\",\"D\\u003cbr\\u003eConnections: 2\",\"16th century\\u003cbr\\u003eConnections: 1\",\"1801-1809\\u003cbr\\u003eConnections: 2\",\"1809-1817\\u003cbr\\u003eConnections: 2\",\"E300\\u003cbr\\u003eConnections: 5\",\"Australia\\u003cbr\\u003eConnections: 9\",\"Ballarat (Vic.)\\u003cbr\\u003eConnections: 16\",\"Social conditions\\u003cbr\\u003eConnections: 4\",\"Maryland\\u003cbr\\u003eConnections: 3\",\"Salem (Mass.)\\u003cbr\\u003eConnections: 3\",\"War of 1812\\u003cbr\\u003eConnections: 1\",\"Confederate States of America\\u003cbr\\u003eConnections: 1\",\"Colonies\\u003cbr\\u003eConnections: 3\",\"Salem\\u003cbr\\u003eConnections: 3\",\"English wit and humor\\u003cbr\\u003eConnections: 2\",\"Questions and answers\\u003cbr\\u003eConnections: 2\",\"AG\\u003cbr\\u003eConnections: 2\",\"Science\\u003cbr\\u003eConnections: 3\",\"Northern Nut Growers Association\\u003cbr\\u003eConnections: 1\",\"Nut trees\\u003cbr\\u003eConnections: 1\",\"Nuts\\u003cbr\\u003eConnections: 1\",\"SB\\u003cbr\\u003eConnections: 1\",\"Birds\\u003cbr\\u003eConnections: 7\",\"Congregational churches\\u003cbr\\u003eConnections: 4\",\"Missions\\u003cbr\\u003eConnections: 4\",\"Home missions\\u003cbr\\u003eConnections: 4\",\"BV\\u003cbr\\u003eConnections: 4\",\"Literature, Modern\\u003cbr\\u003eConnections: 3\",\"Literature\\u003cbr\\u003eConnections: 4\",\"Art\\u003cbr\\u003eConnections: 1\",\"Cooking, American\\u003cbr\\u003eConnections: 1\",\"TX\\u003cbr\\u003eConnections: 1\",\"Hawthorne, Nathaniel, 1804-1864\\u003cbr\\u003eConnections: 1\",\"Homes and haunts\\u003cbr\\u003eConnections: 2\",\"American poetry\\u003cbr\\u003eConnections: 2\",\"American fiction\\u003cbr\\u003eConnections: 1\",\"Catalogs\\u003cbr\\u003eConnections: 2\",\"Wiltshire (England)\\u003cbr\\u003eConnections: 2\",\"Ethiopia\\u003cbr\\u003eConnections: 1\",\"Plants\\u003cbr\\u003eConnections: 1\",\"French fiction\\u003cbr\\u003eConnections: 2\",\"PA\\u003cbr\\u003eConnections: 2\",\"Manuscripts\\u003cbr\\u003eConnections: 4\",\"PK\\u003cbr\\u003eConnections: 1\",\"F1001\\u003cbr\\u003eConnections: 2\",\"South America\\u003cbr\\u003eConnections: 1\",\"DT\\u003cbr\\u003eConnections: 1\",\"F590.3\\u003cbr\\u003eConnections: 2\",\"Angola\\u003cbr\\u003eConnections: 1\",\"Travel\\u003cbr\\u003eConnections: 2\",\"North America\\u003cbr\\u003eConnections: 1\",\"QL\\u003cbr\\u003eConnections: 3\",\"Coal miners\\u003cbr\\u003eConnections: 1\",\"Tragedies\\u003cbr\\u003eConnections: 1\",\"Historical drama\\u003cbr\\u003eConnections: 1\",\"Tragicomedy\\u003cbr\\u003eConnections: 1\",\"Shipwreck victims\\u003cbr\\u003eConnections: 1\",\"Political refugees\\u003cbr\\u003eConnections: 1\",\"Spirits\\u003cbr\\u003eConnections: 1\",\"Oceania\\u003cbr\\u003eConnections: 1\",\"G\\u003cbr\\u003eConnections: 1\",\"BX\\u003cbr\\u003eConnections: 2\",\"Catholic Church\\u003cbr\\u003eConnections: 3\",\"CT\\u003cbr\\u003eConnections: 1\",\"Rome\\u003cbr\\u003eConnections: 2\",\"Generals\\u003cbr\\u003eConnections: 2\",\"Presidents\\u003cbr\\u003eConnections: 2\",\"African Americans\\u003cbr\\u003eConnections: 3\",\"Eggs\\u003cbr\\u003eConnections: 1\",\"Nests\\u003cbr\\u003eConnections: 1\",\"To 1848\\u003cbr\\u003eConnections: 1\",\"China\\u003cbr\\u003eConnections: 1\",\"Z\\u003cbr\\u003eConnections: 2\",\"DU\\u003cbr\\u003eConnections: 2\",\"Victoria\\u003cbr\\u003eConnections: 2\",\"Commentaries\\u003cbr\\u003eConnections: 1\",\"BS\\u003cbr\\u003eConnections: 2\",\"Criticism, interpretation, etc.\\u003cbr\\u003eConnections: 1\",\"E151\\u003cbr\\u003eConnections: 1\",\"Slavery\\u003cbr\\u003eConnections: 2\",\"J\\u003cbr\\u003eConnections: 1\",\"Civilization\\u003cbr\\u003eConnections: 1\",\"Style manuals\\u003cbr\\u003eConnections: 1\",\"Folklore\\u003cbr\\u003eConnections: 1\",\"Relations\\u003cbr\\u003eConnections: 1\",\"Christianity\\u003cbr\\u003eConnections: 3\",\"ML\\u003cbr\\u003eConnections: 2\",\"Music\\u003cbr\\u003eConnections: 2\",\"Southern States\\u003cbr\\u003eConnections: 1\",\"English literature\\u003cbr\\u003eConnections: 1\",\"Europe\\u003cbr\\u003eConnections: 1\",\"DG\\u003cbr\\u003eConnections: 1\",\"Q\\u003cbr\\u003eConnections: 1\",\"Philippines\\u003cbr\\u003eConnections: 1\",\"Japan\\u003cbr\\u003eConnections: 3\",\"God\\u003cbr\\u003eConnections: 1\",\"Voyages around the world\\u003cbr\\u003eConnections: 1\",\"Beer\\u003cbr\\u003eConnections: 1\",\"Christian saints\\u003cbr\\u003eConnections: 2\",\"Prayers and devotions\\u003cbr\\u003eConnections: 2\",\"QH\\u003cbr\\u003eConnections: 1\",\"Revolutions\\u003cbr\\u003eConnections: 1\",\"Anecdotes\\u003cbr\\u003eConnections: 4\",\"Great Britain. Army\\u003cbr\\u003eConnections: 1\",\"Great Britain. Royal Navy\\u003cbr\\u003eConnections: 1\",\"Contemporaries\\u003cbr\\u003eConnections: 1\",\"Eureka Stockade (Ballarat, Vic.)\\u003cbr\\u003eConnections: 1\",\"Carboni, Raffaello, 1817-1875\\u003cbr\\u003eConnections: 1\",\"Italians\\u003cbr\\u003eConnections: 1\"],\"x\":[-0.0168882105499506,0.021653084084391594,2.5307354007964022e-05,-0.004239080008119345,0.017234154045581818,-0.00674491235986352,0.04043589532375336,-0.06624762713909149,-0.037273623049259186,-0.07729380577802658,0.00866764783859253,0.0031600536312907934,0.04377574473619461,-0.02157602645456791,0.022681519389152527,-0.061359044164419174,-0.029632965102791786,-0.0361969992518425,-0.00552947074174881,0.02953876182436943,-0.013944110833108425,0.03641176223754883,0.035520367324352264,0.028674356639385223,0.0011573305819183588,-0.003515766002237797,-0.006279632914811373,0.02563965879380703,0.0028257581871002913,0.025569748133420944,0.04943536967039108,0.04422885179519653,-0.01699463091790676,-0.005909824278205633,-0.002867500064894557,0.011239961721003056,-0.05761899799108505,0.0225176103413105,0.0062402402982115746,-0.0010009079705923796,0.094096839427948,0.011151745915412903,0.0008833205793052912,-0.0013983951648697257,0.0590246245265007,0.021003475412726402,0.021972890943288803,0.06620999425649643,0.09673109650611877,-0.02253291942179203,0.05535706877708435,0.023071149364113808,0.06513742357492447,-0.006648545619100332,0.12849096953868866,0.05179174989461899,0.01881464011967182,0.041951362043619156,0.006448971573263407,0.07770968973636627,0.013790824450552464,-0.06387481093406677,0.014381504617631435,0.038513801991939545,0.0025751106441020966,0.0904674381017685,0.0017238613218069077,0.1122872531414032,-0.016090603545308113,0.06340015679597855,0.009246340952813625,0.0753597766160965,0.0351778008043766,-0.014625443145632744,-0.03900004178285599,0.017320621758699417,-0.01800730638206005,-0.0012278436915948987,0.04205527901649475,-0.021060362458229065,-0.00489343237131834,0.09869018942117691,-0.05321260914206505,0.12189725041389465,0.05031382665038109,-0.009177794679999352,0.02399957738816738,0.06611188501119614,0.057536497712135315,0.036452848464250565,0.08564112335443497,-0.028187397867441177,-0.013280787505209446,0.009626398794353008,0.10001307725906372,-0.02735120616853237,0.06880080699920654,0.10912542790174484,0.015559826046228409,0.04902796074748039,-0.0060384152457118034,0.004102249629795551,-0.01735714077949524,-0.029671821743249893,0.015573604963719845,-0.0029857978224754333,0.08337628841400146,0.12034773081541061,0.06364957988262177,0.03171106427907944,0.03639078140258789,-0.010308495722711086,0.01397229265421629,0.012168542481958866,-0.040370188653469086,0.023454157635569572,0.05407603457570076,-0.011981403455138206,0.06977780163288116,0.08447082340717316,0.05710279569029808,0.08719430863857269,-0.003736877581104636,0.025168217718601227,0.032215092331171036,0.006287303753197193,0.06683623045682907,-0.010500005446374416,0.06780579686164856,0.009927541017532349,0.028283098712563515,-0.04614865779876709,0.04816058278083801,0.028408236801624298,0.0453244112432003,0.03297693282365799,0.012980639934539795,0.04054402932524681,-0.023312082514166832,0.029043344780802727,0.07780714333057404,0.11517702788114548,0.05321650207042694,0.022403957322239876,0.004988039843738079,0.006899488158524036,0.05852070823311806,-0.037056129425764084,0.06870272010564804,0.10819666087627411,-0.033430203795433044,-0.004070440772920847,-0.017336739227175713,0.08463793992996216,0.09258591383695602,0.12313637137413025,-0.02715115062892437,0.0577680878341198,0.10190749913454056,-0.04203881323337555,0.052648965269327164,0.026237595826387405,0.044583916664123535,0.019106177613139153,0.10286802053451538,0.005565596278756857,-0.05774930492043495,-0.04784736409783363,0.0773555189371109,-0.009411833249032497,-0.019428802654147148,-0.053003836423158646,-0.0950717031955719,0.07621454447507858,-0.09629089385271072,-0.08174864202737808,0.0279057826846838,0.010802186094224453,-0.08707798272371292,-0.07964703440666199,0.014455022290349007,-0.11404864490032196,0.11428499966859818,0.0069460817612707615,-0.02051335759460926,-0.05083012580871582,-0.07416068762540817,-0.07008860260248184,0.018564408645033836,-0.007273951545357704,-0.1105809137225151,0.08468523621559143,0.06314156949520111,-0.042018990963697433,0.06653253734111786,0.061029545962810516,-0.10617833584547043,-0.12160012871026993,-0.0011214675614610314,0.03503832593560219,-0.0961696058511734,-0.049322862178087234,-0.11989399790763855,-0.017883894965052605,-0.020311718806624413,-0.055475421249866486,0.050253529101610184,0.038413163274526596,-0.05767255276441574,0.09138484299182892,0.019443750381469727,-0.043755725026130676,-0.08326706290245056,-0.1397274285554886,-0.020242134109139442,-0.036398015916347504,-0.02444026991724968,-0.06883612275123596,-0.07242286205291748,0.022998034954071045,-0.028231751173734665,-0.03015127405524254,-0.029779694974422455,0.08058281987905502,-0.04101648926734924,0.08237699419260025,-0.13555046916007996,-0.08519002050161362,-0.049093008041381836,-0.06223158910870552,-0.10378210991621017,0.05601879954338074,0.03704700246453285,-0.033822622150182724,-0.12459582835435867,-0.008871680125594139,-0.1179274320602417,0.004039844498038292,0.09083793312311172,0.042051367461681366,0.06601673364639282,-0.055281978100538254,0.07945340871810913,-0.08303123712539673,-0.013646400533616543,0.0031067070085555315,-0.030763862654566765,0.002414688700810075,-0.011360706761479378,0.07367266714572906,0.02853022702038288,-0.11673180758953094,-0.003614274552091956,0.024645285680890083,0.0706697478890419,0.040209438651800156,0.04660002514719963,-0.01676364056766033,0.01627599447965622,0.026418767869472504,0.006113069597631693,0.05046531930565834,0.013839024119079113,-0.00019117104238830507,-0.07051463425159454,0.058496251702308655,0.041928745806217194,0.04083801433444023,0.046101879328489304,-0.0004452608118299395,0.05797155201435089,-0.12264390289783478,0.01685335300862789,-0.08313187211751938,0.09082993865013123,0.09697768092155457,-0.015678266063332558,-0.08616886287927628,-0.021887483075261116,0.04815489798784256,0.005269775632768869,-0.03607095405459404,-0.06573154777288437,-0.05634373053908348,0.03715435415506363,-0.08006516098976135,-0.07226599007844925,0.058695413172245026,-0.0772019550204277,-0.002785371383652091,-0.08157110959291458,-0.012781809084117413,-0.009850133210420609,-0.05115584284067154,-0.023633887991309166,-0.06192021071910858,-0.03220731019973755,0.037204157561063766,0.015545959584414959,0.012288347817957401,-0.06325887888669968,-0.026702765375375748,-0.041111018508672714,-0.09087056666612625,-0.09475169330835342,-0.02189420349895954,0.0016426285728812218,0.042723674327135086,-0.03599900007247925,0.0644703209400177,-0.009677691385149956,-0.04282502457499504,0.026454806327819824,-0.1324034035205841,-0.06272512674331665,-0.10233794152736664,-0.07201999425888062,-0.08677688986063004,-0.007137012202292681,-0.08168629556894302,-0.09446302801370621,-0.050269778817892075,-0.07598503679037094,0.046639759093523026,0.019666763022542,-0.08446138352155685,0.07105803489685059,0.01138535887002945,-0.07237471640110016,0.02646477147936821,-0.10224819928407669,-0.016895880922675133,-0.043950457125902176,-0.03725804015994072,-0.0592944510281086,-0.09865590929985046,-0.1051170602440834,-0.11900606006383896,-0.09617679566144943,0.07582700252532959,0.010353701189160347,-0.05905875191092491,0.01973399892449379,0.009899928234517574,0.032708823680877686,-0.07060511410236359,0.03126632794737816,-0.10765960067510605,-0.09631620347499847,-0.07617155462503433,-0.031070850789546967,-0.044892098754644394,-0.1293841004371643,-0.11482149362564087,-0.10606811940670013,0.05359857901930809,-0.033680129796266556,-0.09200797230005264,0.10263369977474213,0.0996846929192543,-0.010698355734348297,-0.09380093216896057,-0.2412836253643036,-0.25913628935813904,-0.010732710361480713,-0.04963849484920502,0.0012960839085280895,-0.04246462509036064,-0.031684599816799164,0.054449569433927536,0.04966125637292862,-0.0404651015996933,0.08428648114204407,0.08190315216779709,0.10667697340250015,0.09255033731460571,0.07775337994098663,-0.06687567383050919,-0.06082925945520401,0.07436678558588028,0.1145307794213295,-0.058793503791093826,0.08562422543764114,0.088345967233181,-0.06262879073619843,0.11297459155321121,-0.03971003368496895,0.14911679923534393,-0.056218210607767105,0.14759588241577148,0.08647139370441437,0.08163558691740036,0.16442517936229706,0.13661688566207886,0.1544070839881897,-0.04362308979034424,0.13576294481754303,0.13038703799247742,0.09952220320701599,0.10514023900032043,0.11710836738348007,0.10692398995161057,0.11547510325908661,0.12972775101661682,0.14372405409812927,0.1685396134853363,0.10364402830600739,0.11557093262672424,0.1542145162820816,0.22457194328308105,0.22043377161026,0.18386556208133698,0.22258442640304565,0.23591583967208862,0.2230285406112671,0.23096369206905365,-0.03722376003861427,0.19100482761859894,0.18162041902542114,0.18282820284366608,0.19026321172714233,0.13636277616024017,0.017801733687520027,0.21208222210407257,-0.6157602667808533,-0.6611995100975037,-0.08883845061063766,-0.07235895097255707,-0.027735646814107895,0.12387529015541077,0.11015378683805466,-0.09098842740058899,-0.18260520696640015,-0.1803845316171646,-0.0534922257065773,-0.1046290323138237,-0.10266517847776413,-0.08852294832468033,-0.12612184882164001,-0.16107352077960968,-0.15863202512264252,0.03576474264264107,-0.15907633304595947,0.06443779915571213,-0.14673297107219696,-0.07118373364210129,-0.167112797498703,-0.14403702318668365,-0.12950193881988525,-0.1332263946533203,-0.1597297191619873,-0.15170389413833618,-0.14953646063804626,0.1684415340423584,-0.17882700264453888,0.11787058413028717,0.2843692898750305,0.17658548057079315,0.188980370759964,0.15570880472660065,0.12678906321525574,0.1300722062587738,-0.15636083483695984,-0.15735390782356262,0.129190132021904,-0.10088273882865906,0.1549825221300125,0.1943674236536026,0.19367459416389465,-0.5990849137306213,-0.5724332928657532,-0.551712691783905,0.14341601729393005,0.13052675127983093,0.18406370282173157,0.16605694591999054,0.19028663635253906,-0.19386236369609833,-0.8452550172805786,-0.861274778842926,-0.2154925912618637,-0.21179255843162537,-0.19645020365715027,-0.21747839450836182,0.23815709352493286,0.2838531732559204,0.28565847873687744,-0.13710127770900726,-0.15084664523601532,-0.16999445855617523,-0.17197921872138977,-0.18739506602287292,0.37729206681251526,0.3606981039047241,-0.10001189261674881,0.22897735238075256,-0.1742209494113922,-0.1862599402666092,-0.15861186385154724,0.22669784724712372,0.2221136838197708,0.2307119220495224,0.2270628660917282],\"y\":[0.055182792246341705,0.07488710433244705,0.05855804681777954,0.037790849804878235,0.04543225094676018,0.045609381049871445,0.022377535700798035,0.05385256186127663,-0.0166777316480875,0.08059502393007278,0.07544486969709396,-0.017133142799139023,0.07973743975162506,0.0981064885854721,0.049327507615089417,0.011634476482868195,0.14325150847434998,0.11395077407360077,0.11045962572097778,0.06267217546701431,0.13554392755031586,0.09430315345525742,0.07883207499980927,0.14854109287261963,-0.037062641233205795,0.0711095780134201,-0.04403284937143326,0.06867792457342148,0.07217016816139221,0.05717584490776062,0.04042082652449608,0.12692323327064514,0.21106354892253876,0.16580462455749512,-0.054818153381347656,0.023881617933511734,-0.006080626975744963,0.01783517189323902,0.019644493237137794,-0.05243607237935066,0.17036554217338562,0.01310962438583374,0.02273876592516899,-0.024562468752264977,0.16521517932415009,0.1352868378162384,0.051031600683927536,0.20782865583896637,0.19194041192531586,0.13980980217456818,0.11502445489168167,-0.03504331782460213,0.13510732352733612,-0.005295836832374334,0.15669827163219452,0.07654814422130585,0.02632642164826393,0.11815120279788971,-0.020283810794353485,0.1822940707206726,0.2033398151397705,0.15818002820014954,0.14172640442848206,0.19796937704086304,0.002779153874143958,0.13820138573646545,0.14174416661262512,0.17931142449378967,0.1665445864200592,0.07013100385665894,0.09573113918304443,0.11813537776470184,-0.023107055574655533,0.10928528010845184,0.1406976729631424,-0.024066025391221046,-0.02022998407483101,-0.06282893568277359,0.1460830271244049,0.19476468861103058,0.1354905664920807,0.05548538640141487,0.15128187835216522,0.1279020458459854,0.02585100196301937,0.10478756576776505,0.10601919144392014,0.011177261359989643,0.03414888679981232,-0.011518123559653759,0.14770297706127167,0.01833406277000904,0.06461293250322342,0.0010951877338811755,0.1613435298204422,0.1604587435722351,0.18903841078281403,0.15866488218307495,0.17838703095912933,0.1605806201696396,-0.0675717145204544,0.16805937886238098,-0.007083676755428314,-0.022692063823342323,0.11988814175128937,0.18348848819732666,0.1041904166340828,0.16902606189250946,0.09079373627901077,0.13059236109256744,0.15977177023887634,0.15263107419013977,-0.0034447722136974335,-0.014375898987054825,0.093656525015831,-0.010296453721821308,0.21155129373073578,0.19246962666511536,0.04905867576599121,0.053595248609781265,0.09787439554929733,0.19723191857337952,0.004882264882326126,0.21615482866764069,0.11567206680774689,0.15128359198570251,0.1488601714372635,-0.05525897815823555,0.1266535073518753,-0.045905955135822296,0.0005642577889375389,0.17294743657112122,0.19603411853313446,0.20008818805217743,0.10418864339590073,0.18428556621074677,0.1643255203962326,0.21459001302719116,0.016025826334953308,0.1691380888223648,0.15579207241535187,0.14798413217067719,-0.02806856483221054,0.15988971292972565,0.2151622474193573,-0.05337626859545708,0.1782151609659195,0.1857951283454895,0.1633482128381729,0.13092924654483795,0.17339883744716644,0.20035752654075623,0.002871772740036249,0.17459870874881744,0.12561416625976562,0.1391933262348175,0.1885957270860672,0.19219496846199036,0.1430470198392868,0.16134047508239746,0.13834339380264282,-0.041808512061834335,0.17375479638576508,0.19517891108989716,0.18343062698841095,0.1958310902118683,0.16860274970531464,0.19531641900539398,0.20300719141960144,-0.09530764818191528,0.08623397350311279,0.06294642388820648,0.12136244028806686,0.03477798402309418,0.08682266622781754,0.11179433763027191,0.040724098682403564,0.08239195495843887,0.13171596825122833,0.1483251303434372,0.08197908103466034,0.0793866515159607,0.06138763949275017,-0.09216734021902084,-0.16254153847694397,-0.20744521915912628,-0.03424610570073128,-0.1510704606771469,-0.20327068865299225,-0.1431572586297989,-0.11434967815876007,-0.14156432449817657,-0.141541987657547,-0.16083256900310516,-0.12372168153524399,-0.21518263220787048,-0.19944235682487488,-0.10755869746208191,-0.0858834981918335,-0.060259267687797546,-0.20845456421375275,-0.11264659464359283,-0.12069611996412277,-0.23957549035549164,-0.12898626923561096,-0.1371343433856964,-0.22245649993419647,-0.2291441410779953,-0.22945930063724518,-0.18895816802978516,-0.14228762686252594,-0.12201527506113052,-0.13238847255706787,-0.13627099990844727,-0.17186875641345978,-0.0778149962425232,-0.1428903192281723,-0.09523183107376099,-0.22505055367946625,-0.23558488488197327,-0.06372730433940887,-0.15725117921829224,-0.08563791960477829,-0.19937506318092346,-0.22217817604541779,-0.16152411699295044,-0.1535041332244873,-0.2172580361366272,-0.08523024618625641,-0.16330331563949585,-0.1422654092311859,-0.18294304609298706,-0.16325652599334717,-0.09629584103822708,-0.14356978237628937,-0.021061770617961884,-0.15779967606067657,-0.132720947265625,-0.08146306127309799,-0.1922193169593811,-0.1715506613254547,-0.19485962390899658,-0.0784756988286972,-0.174422487616539,-0.10872131586074829,-0.11121534556150436,-0.13457554578781128,-0.18576927483081818,-0.18653103709220886,-0.13645324110984802,-0.1805053949356079,-0.1339920461177826,-0.23863950371742249,-0.12113534659147263,-0.20794938504695892,-0.03278698772192001,-0.11289871484041214,-0.08809787034988403,-0.10823146253824234,-0.15912464261054993,-0.16746565699577332,-0.13582098484039307,-0.16140715777873993,-0.1601690948009491,-0.10773690044879913,-0.11564211547374725,-0.14282119274139404,-0.13016220927238464,-0.20265571773052216,-0.22412161529064178,-0.15153618156909943,-0.1785971075296402,-0.13235555589199066,-0.07381266355514526,-0.17014144361019135,-0.15705688297748566,-0.2247139811515808,-0.02789970673620701,-0.2141694873571396,-0.15129871666431427,-0.14488738775253296,-0.16860052943229675,-0.1368352472782135,-0.1476527452468872,-0.15386515855789185,-0.09318128228187561,-0.12607383728027344,-0.12950773537158966,-0.11644241213798523,-0.1746968775987625,-0.10588812828063965,-0.1521519124507904,-0.16781306266784668,-0.15729179978370667,-0.1849294900894165,-0.12290821969509125,-0.12116318941116333,-0.17482708394527435,-0.18378764390945435,-0.0999157503247261,-0.17490723729133606,-0.1969018280506134,-0.14788410067558289,-0.1471146196126938,-0.1365654617547989,-0.04232972860336304,-0.1986050009727478,-0.12175153195858002,-0.2112967073917389,-0.18888619542121887,-0.13366514444351196,-0.1334989070892334,-0.22034122049808502,-0.1177966296672821,-0.21411390602588654,-0.0898524597287178,0.011762149631977081,-0.19566379487514496,-0.19995342195034027,-0.1462520956993103,-0.12376344949007034,-0.17880462110042572,-0.1628349870443344,-0.17916984856128693,-0.17081686854362488,-0.15707992017269135,-0.1542021632194519,-0.19455116987228394,-0.17372636497020721,-0.1913507729768753,-0.102286696434021,-0.19983990490436554,-0.1872154325246811,-0.19443388283252716,-0.182828888297081,-0.11268015950918198,-0.15753524005413055,-0.09544380009174347,-0.16950154304504395,-0.17608550190925598,-0.21334019303321838,-0.10577757656574249,-0.15241889655590057,-0.23676495254039764,-0.20688125491142273,-0.1943531334400177,-0.13708654046058655,-0.17479555308818817,-0.18674077093601227,-0.20543934404850006,-0.23783840239048004,-0.2355106621980667,-0.16722574830055237,-0.18957093358039856,-0.1268279105424881,-0.1648792177438736,-0.1786169856786728,-0.09302757680416107,-0.016170984134078026,0.04730414226651192,0.0028660467360168695,-0.05341467633843422,0.9972501993179321,1.0,0.03986933082342148,0.11058349162340164,0.08289168030023575,0.1201380044221878,0.12396955490112305,0.08344356715679169,0.0526713989675045,0.10763387382030487,0.026960067451000214,0.03527268022298813,0.0880923643708229,0.07413111627101898,0.059363096952438354,0.0765421986579895,0.05018354207277298,0.013922978192567825,0.07584137469530106,0.023034455254673958,-0.03937424346804619,-0.02072688564658165,0.06851179152727127,0.021347735077142715,0.03288314491510391,0.00134780234657228,0.06314311176538467,0.02502519078552723,0.012992375530302525,0.002645733067765832,0.04209135100245476,0.08691762387752533,0.10449688136577606,0.07191333174705505,-0.0008830911247059703,-0.01461169682443142,0.002265270333737135,0.016685698181390762,0.0009321760153397918,0.0274745412170887,0.011578048579394817,0.041766684502363205,-0.012503602541983128,0.01607196219265461,0.06440386921167374,0.03998411074280739,0.06641965359449387,0.07447654753923416,0.0873732641339302,0.07405702769756317,0.109991654753685,0.08762778341770172,0.12036607414484024,0.10170610249042511,0.05838426202535629,0.08115316182374954,0.09892310202121735,0.09034259617328644,0.09024424850940704,0.06254596263170242,0.07078025490045547,0.13075964152812958,0.7196921706199646,0.764758288860321,0.1859537959098816,0.0988973081111908,0.08011826872825623,0.07619510591030121,0.0816793292760849,0.05503544956445694,0.01746845431625843,0.02991228550672531,0.18021942675113678,0.14931252598762512,0.0938301831483841,0.22850975394248962,-0.007653168868273497,-0.01799088343977928,-0.005432776175439358,-0.046536825597286224,-0.030668260529637337,-0.07851499319076538,-0.01877940073609352,0.005395886022597551,0.10325218737125397,0.0885884091258049,0.10802889615297318,0.09484009444713593,0.11458896100521088,0.12491253018379211,0.1371440887451172,-0.14385761320590973,0.14893774688243866,-0.007035181857645512,-0.07377682626247406,0.04319130256772041,0.10884635895490646,0.014825956895947456,0.011829417198896408,0.018686966970562935,0.07669050246477127,0.09071147441864014,-0.06272358447313309,0.012627232819795609,0.04248245805501938,-0.0010695743840187788,-0.010401660576462746,0.8111663460731506,0.7774255275726318,0.7807251214981079,-0.030219033360481262,-0.02317466214299202,-0.03254811838269234,-0.025780269876122475,0.009158683009445667,-0.09740345925092697,-0.3163203299045563,-0.30761003494262695,0.10920758545398712,0.11942533403635025,0.09805351495742798,0.09683854132890701,0.17460483312606812,0.16735787689685822,0.1023608148097992,0.13895681500434875,0.1547297090291977,0.12968073785305023,0.16033320128917694,0.13721121847629547,-0.11134472489356995,-0.10492190718650818,-0.019882017746567726,-0.01250187586992979,-0.8781073093414307,-0.931341290473938,-0.8915202617645264,0.14204207062721252,-0.03457752615213394,-0.0007844405481591821,-0.023438958451151848],\"type\":\"scatter\"}],                        {\"hovermode\":\"closest\",\"margin\":{\"b\":0,\"l\":100,\"r\":100,\"t\":40},\"showlegend\":false,\"title\":{\"font\":{\"size\":16},\"text\":\"\\u0110\\u1ed3 th\\u1ecb bi\\u1ec3u di\\u1ec5n li\\u00ean k\\u1ebft gi\\u1eefa c\\u00e1c th\\u1ebb\"},\"xaxis\":{\"showgrid\":false,\"zeroline\":false},\"yaxis\":{\"showgrid\":false,\"zeroline\":false},\"template\":{\"data\":{\"histogram2dcontour\":[{\"type\":\"histogram2dcontour\",\"colorbar\":{\"outlinewidth\":0,\"ticks\":\"\"},\"colorscale\":[[0.0,\"#0d0887\"],[0.1111111111111111,\"#46039f\"],[0.2222222222222222,\"#7201a8\"],[0.3333333333333333,\"#9c179e\"],[0.4444444444444444,\"#bd3786\"],[0.5555555555555556,\"#d8576b\"],[0.6666666666666666,\"#ed7953\"],[0.7777777777777778,\"#fb9f3a\"],[0.8888888888888888,\"#fdca26\"],[1.0,\"#f0f921\"]]}],\"choropleth\":[{\"type\":\"choropleth\",\"colorbar\":{\"outlinewidth\":0,\"ticks\":\"\"}}],\"histogram2d\":[{\"type\":\"histogram2d\",\"colorbar\":{\"outlinewidth\":0,\"ticks\":\"\"},\"colorscale\":[[0.0,\"#0d0887\"],[0.1111111111111111,\"#46039f\"],[0.2222222222222222,\"#7201a8\"],[0.3333333333333333,\"#9c179e\"],[0.4444444444444444,\"#bd3786\"],[0.5555555555555556,\"#d8576b\"],[0.6666666666666666,\"#ed7953\"],[0.7777777777777778,\"#fb9f3a\"],[0.8888888888888888,\"#fdca26\"],[1.0,\"#f0f921\"]]}],\"heatmap\":[{\"type\":\"heatmap\",\"colorbar\":{\"outlinewidth\":0,\"ticks\":\"\"},\"colorscale\":[[0.0,\"#0d0887\"],[0.1111111111111111,\"#46039f\"],[0.2222222222222222,\"#7201a8\"],[0.3333333333333333,\"#9c179e\"],[0.4444444444444444,\"#bd3786\"],[0.5555555555555556,\"#d8576b\"],[0.6666666666666666,\"#ed7953\"],[0.7777777777777778,\"#fb9f3a\"],[0.8888888888888888,\"#fdca26\"],[1.0,\"#f0f921\"]]}],\"heatmapgl\":[{\"type\":\"heatmapgl\",\"colorbar\":{\"outlinewidth\":0,\"ticks\":\"\"},\"colorscale\":[[0.0,\"#0d0887\"],[0.1111111111111111,\"#46039f\"],[0.2222222222222222,\"#7201a8\"],[0.3333333333333333,\"#9c179e\"],[0.4444444444444444,\"#bd3786\"],[0.5555555555555556,\"#d8576b\"],[0.6666666666666666,\"#ed7953\"],[0.7777777777777778,\"#fb9f3a\"],[0.8888888888888888,\"#fdca26\"],[1.0,\"#f0f921\"]]}],\"contourcarpet\":[{\"type\":\"contourcarpet\",\"colorbar\":{\"outlinewidth\":0,\"ticks\":\"\"}}],\"contour\":[{\"type\":\"contour\",\"colorbar\":{\"outlinewidth\":0,\"ticks\":\"\"},\"colorscale\":[[0.0,\"#0d0887\"],[0.1111111111111111,\"#46039f\"],[0.2222222222222222,\"#7201a8\"],[0.3333333333333333,\"#9c179e\"],[0.4444444444444444,\"#bd3786\"],[0.5555555555555556,\"#d8576b\"],[0.6666666666666666,\"#ed7953\"],[0.7777777777777778,\"#fb9f3a\"],[0.8888888888888888,\"#fdca26\"],[1.0,\"#f0f921\"]]}],\"surface\":[{\"type\":\"surface\",\"colorbar\":{\"outlinewidth\":0,\"ticks\":\"\"},\"colorscale\":[[0.0,\"#0d0887\"],[0.1111111111111111,\"#46039f\"],[0.2222222222222222,\"#7201a8\"],[0.3333333333333333,\"#9c179e\"],[0.4444444444444444,\"#bd3786\"],[0.5555555555555556,\"#d8576b\"],[0.6666666666666666,\"#ed7953\"],[0.7777777777777778,\"#fb9f3a\"],[0.8888888888888888,\"#fdca26\"],[1.0,\"#f0f921\"]]}],\"mesh3d\":[{\"type\":\"mesh3d\",\"colorbar\":{\"outlinewidth\":0,\"ticks\":\"\"}}],\"scatter\":[{\"fillpattern\":{\"fillmode\":\"overlay\",\"size\":10,\"solidity\":0.2},\"type\":\"scatter\"}],\"parcoords\":[{\"type\":\"parcoords\",\"line\":{\"colorbar\":{\"outlinewidth\":0,\"ticks\":\"\"}}}],\"scatterpolargl\":[{\"type\":\"scatterpolargl\",\"marker\":{\"colorbar\":{\"outlinewidth\":0,\"ticks\":\"\"}}}],\"bar\":[{\"error_x\":{\"color\":\"#2a3f5f\"},\"error_y\":{\"color\":\"#2a3f5f\"},\"marker\":{\"line\":{\"color\":\"#E5ECF6\",\"width\":0.5},\"pattern\":{\"fillmode\":\"overlay\",\"size\":10,\"solidity\":0.2}},\"type\":\"bar\"}],\"scattergeo\":[{\"type\":\"scattergeo\",\"marker\":{\"colorbar\":{\"outlinewidth\":0,\"ticks\":\"\"}}}],\"scatterpolar\":[{\"type\":\"scatterpolar\",\"marker\":{\"colorbar\":{\"outlinewidth\":0,\"ticks\":\"\"}}}],\"histogram\":[{\"marker\":{\"pattern\":{\"fillmode\":\"overlay\",\"size\":10,\"solidity\":0.2}},\"type\":\"histogram\"}],\"scattergl\":[{\"type\":\"scattergl\",\"marker\":{\"colorbar\":{\"outlinewidth\":0,\"ticks\":\"\"}}}],\"scatter3d\":[{\"type\":\"scatter3d\",\"line\":{\"colorbar\":{\"outlinewidth\":0,\"ticks\":\"\"}},\"marker\":{\"colorbar\":{\"outlinewidth\":0,\"ticks\":\"\"}}}],\"scattermapbox\":[{\"type\":\"scattermapbox\",\"marker\":{\"colorbar\":{\"outlinewidth\":0,\"ticks\":\"\"}}}],\"scatterternary\":[{\"type\":\"scatterternary\",\"marker\":{\"colorbar\":{\"outlinewidth\":0,\"ticks\":\"\"}}}],\"scattercarpet\":[{\"type\":\"scattercarpet\",\"marker\":{\"colorbar\":{\"outlinewidth\":0,\"ticks\":\"\"}}}],\"carpet\":[{\"aaxis\":{\"endlinecolor\":\"#2a3f5f\",\"gridcolor\":\"white\",\"linecolor\":\"white\",\"minorgridcolor\":\"white\",\"startlinecolor\":\"#2a3f5f\"},\"baxis\":{\"endlinecolor\":\"#2a3f5f\",\"gridcolor\":\"white\",\"linecolor\":\"white\",\"minorgridcolor\":\"white\",\"startlinecolor\":\"#2a3f5f\"},\"type\":\"carpet\"}],\"table\":[{\"cells\":{\"fill\":{\"color\":\"#EBF0F8\"},\"line\":{\"color\":\"white\"}},\"header\":{\"fill\":{\"color\":\"#C8D4E3\"},\"line\":{\"color\":\"white\"}},\"type\":\"table\"}],\"barpolar\":[{\"marker\":{\"line\":{\"color\":\"#E5ECF6\",\"width\":0.5},\"pattern\":{\"fillmode\":\"overlay\",\"size\":10,\"solidity\":0.2}},\"type\":\"barpolar\"}],\"pie\":[{\"automargin\":true,\"type\":\"pie\"}]},\"layout\":{\"autotypenumbers\":\"strict\",\"colorway\":[\"#636efa\",\"#EF553B\",\"#00cc96\",\"#ab63fa\",\"#FFA15A\",\"#19d3f3\",\"#FF6692\",\"#B6E880\",\"#FF97FF\",\"#FECB52\"],\"font\":{\"color\":\"#2a3f5f\"},\"hovermode\":\"closest\",\"hoverlabel\":{\"align\":\"left\"},\"paper_bgcolor\":\"white\",\"plot_bgcolor\":\"#E5ECF6\",\"polar\":{\"bgcolor\":\"#E5ECF6\",\"angularaxis\":{\"gridcolor\":\"white\",\"linecolor\":\"white\",\"ticks\":\"\"},\"radialaxis\":{\"gridcolor\":\"white\",\"linecolor\":\"white\",\"ticks\":\"\"}},\"ternary\":{\"bgcolor\":\"#E5ECF6\",\"aaxis\":{\"gridcolor\":\"white\",\"linecolor\":\"white\",\"ticks\":\"\"},\"baxis\":{\"gridcolor\":\"white\",\"linecolor\":\"white\",\"ticks\":\"\"},\"caxis\":{\"gridcolor\":\"white\",\"linecolor\":\"white\",\"ticks\":\"\"}},\"coloraxis\":{\"colorbar\":{\"outlinewidth\":0,\"ticks\":\"\"}},\"colorscale\":{\"sequential\":[[0.0,\"#0d0887\"],[0.1111111111111111,\"#46039f\"],[0.2222222222222222,\"#7201a8\"],[0.3333333333333333,\"#9c179e\"],[0.4444444444444444,\"#bd3786\"],[0.5555555555555556,\"#d8576b\"],[0.6666666666666666,\"#ed7953\"],[0.7777777777777778,\"#fb9f3a\"],[0.8888888888888888,\"#fdca26\"],[1.0,\"#f0f921\"]],\"sequentialminus\":[[0.0,\"#0d0887\"],[0.1111111111111111,\"#46039f\"],[0.2222222222222222,\"#7201a8\"],[0.3333333333333333,\"#9c179e\"],[0.4444444444444444,\"#bd3786\"],[0.5555555555555556,\"#d8576b\"],[0.6666666666666666,\"#ed7953\"],[0.7777777777777778,\"#fb9f3a\"],[0.8888888888888888,\"#fdca26\"],[1.0,\"#f0f921\"]],\"diverging\":[[0,\"#8e0152\"],[0.1,\"#c51b7d\"],[0.2,\"#de77ae\"],[0.3,\"#f1b6da\"],[0.4,\"#fde0ef\"],[0.5,\"#f7f7f7\"],[0.6,\"#e6f5d0\"],[0.7,\"#b8e186\"],[0.8,\"#7fbc41\"],[0.9,\"#4d9221\"],[1,\"#276419\"]]},\"xaxis\":{\"gridcolor\":\"white\",\"linecolor\":\"white\",\"ticks\":\"\",\"title\":{\"standoff\":15},\"zerolinecolor\":\"white\",\"automargin\":true,\"zerolinewidth\":2},\"yaxis\":{\"gridcolor\":\"white\",\"linecolor\":\"white\",\"ticks\":\"\",\"title\":{\"standoff\":15},\"zerolinecolor\":\"white\",\"automargin\":true,\"zerolinewidth\":2},\"scene\":{\"xaxis\":{\"backgroundcolor\":\"#E5ECF6\",\"gridcolor\":\"white\",\"linecolor\":\"white\",\"showbackground\":true,\"ticks\":\"\",\"zerolinecolor\":\"white\",\"gridwidth\":2},\"yaxis\":{\"backgroundcolor\":\"#E5ECF6\",\"gridcolor\":\"white\",\"linecolor\":\"white\",\"showbackground\":true,\"ticks\":\"\",\"zerolinecolor\":\"white\",\"gridwidth\":2},\"zaxis\":{\"backgroundcolor\":\"#E5ECF6\",\"gridcolor\":\"white\",\"linecolor\":\"white\",\"showbackground\":true,\"ticks\":\"\",\"zerolinecolor\":\"white\",\"gridwidth\":2}},\"shapedefaults\":{\"line\":{\"color\":\"#2a3f5f\"}},\"annotationdefaults\":{\"arrowcolor\":\"#2a3f5f\",\"arrowhead\":0,\"arrowwidth\":1},\"geo\":{\"bgcolor\":\"white\",\"landcolor\":\"#E5ECF6\",\"subunitcolor\":\"white\",\"showland\":true,\"showlakes\":true,\"lakecolor\":\"white\"},\"title\":{\"x\":0.05},\"mapbox\":{\"style\":\"light\"}}}},                        {\"responsive\": true}                    ).then(function(){\n",
       "                            \n",
       "var gd = document.getElementById('0ba693b8-2980-4ca6-853b-d830e5898304');\n",
       "var x = new MutationObserver(function (mutations, observer) {{\n",
       "        var display = window.getComputedStyle(gd).display;\n",
       "        if (!display || display === 'none') {{\n",
       "            console.log([gd, 'removed!']);\n",
       "            Plotly.purge(gd);\n",
       "            observer.disconnect();\n",
       "        }}\n",
       "}});\n",
       "\n",
       "// Listen for the removal of the full notebook cells\n",
       "var notebookContainer = gd.closest('#notebook-container');\n",
       "if (notebookContainer) {{\n",
       "    x.observe(notebookContainer, {childList: true});\n",
       "}}\n",
       "\n",
       "// Listen for the clearing of the current output cell\n",
       "var outputEl = gd.closest('.output');\n",
       "if (outputEl) {{\n",
       "    x.observe(outputEl, {childList: true});\n",
       "}}\n",
       "\n",
       "                        })                };                });            </script>        </div>"
      ]
     },
     "metadata": {},
     "output_type": "display_data"
    }
   ],
   "source": [
    "fig = go.Figure(\n",
    "    data=[*edge_traces, node_trace],\n",
    "    layout=go.Layout(\n",
    "        title='Đồ thị biểu diễn liên kết giữa các thẻ',\n",
    "        titlefont_size=16,\n",
    "        showlegend=False,\n",
    "        hovermode='closest',\n",
    "        margin=dict(b=0, l=100, r=100, t=40),\n",
    "        xaxis=dict(showgrid=False, zeroline=False),\n",
    "        yaxis=dict(showgrid=False, zeroline=False)\n",
    "    )\n",
    ")\n",
    "\n",
    "fig.show()"
   ]
  },
  {
   "cell_type": "markdown",
   "id": "410c5da5",
   "metadata": {},
   "source": [
    "## Nhận xét"
   ]
  },
  {
   "cell_type": "markdown",
   "id": "c4311271",
   "metadata": {},
   "source": [
    "* ***Cụm các thẻ lớn nhất***\n",
    "    - *Các thẻ trung tâm:* Hai thẻ có số liên kết lớn nhất là **Juvenile Fiction** (Viễn tưởng thanh thiếu niên, 226 kết nối) và **Fiction** (Viễn tưởng, 166 kết nối), làm trọng tâm của cụm thẻ lớn nhất\n",
    "        + Những chủ đề thường đi chung với ***Fiction***: Khoa học (Spaceship, Science Fictions, Cyborgs), Trinh thám (Nightlife, Prisoner, Criminal)\n",
    "        + Những chủ đề thường đi chung với **Juvenile Fiction**: Trẻ em/trẻ vị thành niên (Adopted children, Young man, Teenage boys), Thực trạng cuộc sống (Alcoholism, Hunger, Robbery), Phiêu lưu (Treasure Trove, Sailing, Circus)\n",
    "    - *Các thẻ trọng điểm:* Những thẻ có số lượng liên kết ở tầm trung (20 - 70 kết nối) bao gồm:\n",
    "        + [Văn học ở các nước/ văn học viễn tưởng](https://www.loc.gov/aba/cataloging/classification/lcco/lcco_p.pdf), điểm hình là **PS** (Văn học Mĩ, 33 kết nối), **PR** (Văn học Anh, 34 kết nối), và **PZ** (Văn học viễn tưởng, 32 kết nối)\n",
    "        + Về Vương quốc Anh: **England** (Nước Anh, 26 kết nối), **Great England** (Vương quốc Anh, 29 kết nối), **London** (Luân Đôn, 11 kết nối)\n",
    "        + Văn học về đời sống: **History** (Lịch sử, 69 kết nối), **Description and Travel** (Mô tả và Du lịch, 21 kết nối), **Social life and Customs** (Đời sống xã hội và Phong tục, 24 kết nối)\n",
    "        + Các thể loại văn học: **Drama** (Bi kịch, 21 kết nối), **Diaries** (Nhật ký, 12 kết nối), **Translation into English** (Dịch thuật qua tiếng Anh, 14 kết nối)\n",
    "    - *Các thẻ vệ tinh:* Những thẻ có số lượng liên kết dưới trung bình (5 - 20 kết nối) bao gồm:\n",
    "        + Các vùng đất: **Africa**, **Canada**, **Middle East**\n",
    "        + Các thời kỳ: **20th Century**, **Early Works to 1800s**, **19th Century**\n",
    "        + Chiến tranh: **Civil War 1861-1865**, **World War, 1914-1918**\n",
    "    - *Các thẻ ngoại vi:* Những thẻ có số lượng liên kết thấp (dưới 5 kết nối) bao hàm một lượng lớn các chủ đề, bao gồm các chủ đề nói trên.\n",
    "\n",
    "* ***Những nhóm cụm nhỏ hơn*** tồn tại với ít hoặc không có liên quan đến cụm lớn:\n",
    "    - Châm biết đời sống (Social Commentary)\n",
    "    - Tôn giáo (Kitô giáo & Thiên Chúa Giáo) (Catholism & Christianity)\n",
    "    - Hướng dẫn tham quan Thung Lũng Tử Thần tại Mỹ\n",
    "\n",
    "* ***Thông tin đúc kết được***\n",
    "    - Viễn tưởng (tính luôn cả viễn tưởng thanh thiếu niên) thể hiện được vai trò quan trọng trong việc liên kết các thể loại văn học khác với nhau, đồng thời cũng cho thấy được sự linh hoạt, đa dạng, và sáng tạo trong các chủ đề của nó.\n",
    "    - Do bộ dữ liệu chỉ lấy thông tin về các cuốn sách viết bằng tiếng Anh, nên sự thiên vị cho những chủ đề liên quan đến các nước nói tiếng Anh là không thể tránh khỏi (Những địa điểm như US, UK, Luân Đôn có số liên kết cao; tương tự với các sự kiện lịch sử như Nội chiến Mỹ hay Thể chiến I). Tuy nhiên bộ dữ liệu cũng cho thấy sự đa dạng với một loạt các chủ đề khác (Vùng Trung Đông, Ý).\n",
    "    - Các cụm nhỏ hơn thể hiện sự tập trung chuyên biệt hoặc không theo truyền thống của nhiều chủ đề, chẳng hạn như các hướng dẫn du lịch hoặc tôn giáo, cho thấy sự phong phú trong phạm vi của bộ dữ liệu."
   ]
  }
 ],
 "metadata": {
  "kernelspec": {
   "display_name": "min_ds-env",
   "language": "python",
   "name": "python3"
  },
  "language_info": {
   "codemirror_mode": {
    "name": "ipython",
    "version": 3
   },
   "file_extension": ".py",
   "mimetype": "text/x-python",
   "name": "python",
   "nbconvert_exporter": "python",
   "pygments_lexer": "ipython3",
   "version": "3.10.15"
  }
 },
 "nbformat": 4,
 "nbformat_minor": 5
}
